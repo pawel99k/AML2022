{
 "cells": [
  {
   "cell_type": "code",
   "execution_count": 1,
   "id": "heated-situation",
   "metadata": {},
   "outputs": [],
   "source": [
    "%load_ext autoreload\n",
    "%autoreload 2"
   ]
  },
  {
   "cell_type": "code",
   "execution_count": 39,
   "id": "little-pension",
   "metadata": {},
   "outputs": [],
   "source": [
    "import pandas as pd\n",
    "import numpy as np\n",
    "import matplotlib.pyplot as plt\n",
    "import seaborn as sns\n",
    "from sklearn.preprocessing import OneHotEncoder \n",
    "from sklearn.model_selection import train_test_split \n",
    "from sklearn.linear_model import LogisticRegression\n",
    "from sklearn.discriminant_analysis import LinearDiscriminantAnalysis, QuadraticDiscriminantAnalysis\n",
    "from sklearn.neighbors import KNeighborsClassifier\n",
    "from sklearn.base import BaseEstimator, TransformerMixin\n",
    "from sklearn.impute import SimpleImputer\n",
    "from sklearn.preprocessing import StandardScaler\n",
    "from statsmodels.stats.outliers_influence import variance_inflation_factor\n",
    "from scipy.special import expit\n",
    "\n",
    "import measures\n",
    "from model import LogReg\n",
    "from preprocessing import Preprocessor"
   ]
  },
  {
   "cell_type": "code",
   "execution_count": 5,
   "id": "stone-tsunami",
   "metadata": {},
   "outputs": [],
   "source": [
    "prep = Preprocessor()"
   ]
  },
  {
   "cell_type": "markdown",
   "id": "stuck-deployment",
   "metadata": {},
   "source": [
    "# 1. Bank data\n",
    "\n",
    "Missing values: Categorical with 'unknown'. Will be treated as a separate class"
   ]
  },
  {
   "cell_type": "code",
   "execution_count": 6,
   "id": "documented-limitation",
   "metadata": {
    "scrolled": true
   },
   "outputs": [
    {
     "data": {
      "text/html": [
       "<div>\n",
       "<style scoped>\n",
       "    .dataframe tbody tr th:only-of-type {\n",
       "        vertical-align: middle;\n",
       "    }\n",
       "\n",
       "    .dataframe tbody tr th {\n",
       "        vertical-align: top;\n",
       "    }\n",
       "\n",
       "    .dataframe thead th {\n",
       "        text-align: right;\n",
       "    }\n",
       "</style>\n",
       "<table border=\"1\" class=\"dataframe\">\n",
       "  <thead>\n",
       "    <tr style=\"text-align: right;\">\n",
       "      <th></th>\n",
       "      <th>age</th>\n",
       "      <th>job</th>\n",
       "      <th>marital</th>\n",
       "      <th>education</th>\n",
       "      <th>default</th>\n",
       "      <th>housing</th>\n",
       "      <th>loan</th>\n",
       "      <th>contact</th>\n",
       "      <th>month</th>\n",
       "      <th>day_of_week</th>\n",
       "      <th>duration</th>\n",
       "      <th>campaign</th>\n",
       "      <th>pdays</th>\n",
       "      <th>previous</th>\n",
       "      <th>poutcome</th>\n",
       "      <th>emp.var.rate</th>\n",
       "      <th>cons.price.idx</th>\n",
       "      <th>cons.conf.idx</th>\n",
       "      <th>euribor3m</th>\n",
       "      <th>nr.employed</th>\n",
       "    </tr>\n",
       "  </thead>\n",
       "  <tbody>\n",
       "    <tr>\n",
       "      <th>0</th>\n",
       "      <td>56</td>\n",
       "      <td>housemaid</td>\n",
       "      <td>married</td>\n",
       "      <td>basic.4y</td>\n",
       "      <td>no</td>\n",
       "      <td>no</td>\n",
       "      <td>no</td>\n",
       "      <td>telephone</td>\n",
       "      <td>may</td>\n",
       "      <td>mon</td>\n",
       "      <td>261</td>\n",
       "      <td>1</td>\n",
       "      <td>999</td>\n",
       "      <td>0</td>\n",
       "      <td>nonexistent</td>\n",
       "      <td>1.1</td>\n",
       "      <td>93.994</td>\n",
       "      <td>-36.4</td>\n",
       "      <td>4.857</td>\n",
       "      <td>5191.0</td>\n",
       "    </tr>\n",
       "    <tr>\n",
       "      <th>1</th>\n",
       "      <td>57</td>\n",
       "      <td>services</td>\n",
       "      <td>married</td>\n",
       "      <td>high.school</td>\n",
       "      <td>unknown</td>\n",
       "      <td>no</td>\n",
       "      <td>no</td>\n",
       "      <td>telephone</td>\n",
       "      <td>may</td>\n",
       "      <td>mon</td>\n",
       "      <td>149</td>\n",
       "      <td>1</td>\n",
       "      <td>999</td>\n",
       "      <td>0</td>\n",
       "      <td>nonexistent</td>\n",
       "      <td>1.1</td>\n",
       "      <td>93.994</td>\n",
       "      <td>-36.4</td>\n",
       "      <td>4.857</td>\n",
       "      <td>5191.0</td>\n",
       "    </tr>\n",
       "    <tr>\n",
       "      <th>2</th>\n",
       "      <td>37</td>\n",
       "      <td>services</td>\n",
       "      <td>married</td>\n",
       "      <td>high.school</td>\n",
       "      <td>no</td>\n",
       "      <td>yes</td>\n",
       "      <td>no</td>\n",
       "      <td>telephone</td>\n",
       "      <td>may</td>\n",
       "      <td>mon</td>\n",
       "      <td>226</td>\n",
       "      <td>1</td>\n",
       "      <td>999</td>\n",
       "      <td>0</td>\n",
       "      <td>nonexistent</td>\n",
       "      <td>1.1</td>\n",
       "      <td>93.994</td>\n",
       "      <td>-36.4</td>\n",
       "      <td>4.857</td>\n",
       "      <td>5191.0</td>\n",
       "    </tr>\n",
       "    <tr>\n",
       "      <th>3</th>\n",
       "      <td>40</td>\n",
       "      <td>admin.</td>\n",
       "      <td>married</td>\n",
       "      <td>basic.6y</td>\n",
       "      <td>no</td>\n",
       "      <td>no</td>\n",
       "      <td>no</td>\n",
       "      <td>telephone</td>\n",
       "      <td>may</td>\n",
       "      <td>mon</td>\n",
       "      <td>151</td>\n",
       "      <td>1</td>\n",
       "      <td>999</td>\n",
       "      <td>0</td>\n",
       "      <td>nonexistent</td>\n",
       "      <td>1.1</td>\n",
       "      <td>93.994</td>\n",
       "      <td>-36.4</td>\n",
       "      <td>4.857</td>\n",
       "      <td>5191.0</td>\n",
       "    </tr>\n",
       "    <tr>\n",
       "      <th>4</th>\n",
       "      <td>56</td>\n",
       "      <td>services</td>\n",
       "      <td>married</td>\n",
       "      <td>high.school</td>\n",
       "      <td>no</td>\n",
       "      <td>no</td>\n",
       "      <td>yes</td>\n",
       "      <td>telephone</td>\n",
       "      <td>may</td>\n",
       "      <td>mon</td>\n",
       "      <td>307</td>\n",
       "      <td>1</td>\n",
       "      <td>999</td>\n",
       "      <td>0</td>\n",
       "      <td>nonexistent</td>\n",
       "      <td>1.1</td>\n",
       "      <td>93.994</td>\n",
       "      <td>-36.4</td>\n",
       "      <td>4.857</td>\n",
       "      <td>5191.0</td>\n",
       "    </tr>\n",
       "  </tbody>\n",
       "</table>\n",
       "</div>"
      ],
      "text/plain": [
       "   age        job  marital    education  default housing loan    contact  \\\n",
       "0   56  housemaid  married     basic.4y       no      no   no  telephone   \n",
       "1   57   services  married  high.school  unknown      no   no  telephone   \n",
       "2   37   services  married  high.school       no     yes   no  telephone   \n",
       "3   40     admin.  married     basic.6y       no      no   no  telephone   \n",
       "4   56   services  married  high.school       no      no  yes  telephone   \n",
       "\n",
       "  month day_of_week  duration  campaign  pdays  previous     poutcome  \\\n",
       "0   may         mon       261         1    999         0  nonexistent   \n",
       "1   may         mon       149         1    999         0  nonexistent   \n",
       "2   may         mon       226         1    999         0  nonexistent   \n",
       "3   may         mon       151         1    999         0  nonexistent   \n",
       "4   may         mon       307         1    999         0  nonexistent   \n",
       "\n",
       "   emp.var.rate  cons.price.idx  cons.conf.idx  euribor3m  nr.employed  \n",
       "0           1.1          93.994          -36.4      4.857       5191.0  \n",
       "1           1.1          93.994          -36.4      4.857       5191.0  \n",
       "2           1.1          93.994          -36.4      4.857       5191.0  \n",
       "3           1.1          93.994          -36.4      4.857       5191.0  \n",
       "4           1.1          93.994          -36.4      4.857       5191.0  "
      ]
     },
     "execution_count": 6,
     "metadata": {},
     "output_type": "execute_result"
    }
   ],
   "source": [
    "bank_df = pd.read_csv('data/bank-additional-full.csv', sep=';')\n",
    "bank_target = (bank_df['y'] == 'yes').astype(int)\n",
    "bank_df = bank_df.drop('y', axis=1)\n",
    "bank_df.head()"
   ]
  },
  {
   "cell_type": "markdown",
   "id": "blessed-cache",
   "metadata": {},
   "source": [
    "#### Train test division"
   ]
  },
  {
   "cell_type": "code",
   "execution_count": 7,
   "id": "fewer-carroll",
   "metadata": {},
   "outputs": [
    {
     "name": "stdout",
     "output_type": "stream",
     "text": [
      "(30891, 20) (10297, 20)\n"
     ]
    }
   ],
   "source": [
    "bank_prep = Preprocessor()\n",
    "bank_df_train, bank_df_test, bank_y_train, bank_y_test = bank_prep.train_test_split(bank_df, bank_target)\n",
    "print(bank_df_train.shape, bank_df_test.shape)"
   ]
  },
  {
   "cell_type": "markdown",
   "id": "excess-receipt",
   "metadata": {},
   "source": [
    "#### One Hot Encoding"
   ]
  },
  {
   "cell_type": "code",
   "execution_count": 8,
   "id": "alien-holocaust",
   "metadata": {},
   "outputs": [],
   "source": [
    "bank_df_train_ohe = bank_prep.one_hot_encoding_fit_transform(bank_df_train)"
   ]
  },
  {
   "cell_type": "code",
   "execution_count": 9,
   "id": "polar-heavy",
   "metadata": {},
   "outputs": [
    {
     "data": {
      "text/html": [
       "<div>\n",
       "<style scoped>\n",
       "    .dataframe tbody tr th:only-of-type {\n",
       "        vertical-align: middle;\n",
       "    }\n",
       "\n",
       "    .dataframe tbody tr th {\n",
       "        vertical-align: top;\n",
       "    }\n",
       "\n",
       "    .dataframe thead th {\n",
       "        text-align: right;\n",
       "    }\n",
       "</style>\n",
       "<table border=\"1\" class=\"dataframe\">\n",
       "  <thead>\n",
       "    <tr style=\"text-align: right;\">\n",
       "      <th></th>\n",
       "      <th>age</th>\n",
       "      <th>duration</th>\n",
       "      <th>campaign</th>\n",
       "      <th>pdays</th>\n",
       "      <th>previous</th>\n",
       "      <th>emp.var.rate</th>\n",
       "      <th>cons.price.idx</th>\n",
       "      <th>cons.conf.idx</th>\n",
       "      <th>euribor3m</th>\n",
       "      <th>nr.employed</th>\n",
       "      <th>...</th>\n",
       "      <th>month_apr</th>\n",
       "      <th>month_aug</th>\n",
       "      <th>month_sep</th>\n",
       "      <th>month_may</th>\n",
       "      <th>day_of_week_fri</th>\n",
       "      <th>day_of_week_mon</th>\n",
       "      <th>day_of_week_tue</th>\n",
       "      <th>day_of_week_wed</th>\n",
       "      <th>poutcome_nonexistent</th>\n",
       "      <th>poutcome_success</th>\n",
       "    </tr>\n",
       "  </thead>\n",
       "  <tbody>\n",
       "    <tr>\n",
       "      <th>27767</th>\n",
       "      <td>34</td>\n",
       "      <td>301</td>\n",
       "      <td>3</td>\n",
       "      <td>999</td>\n",
       "      <td>0</td>\n",
       "      <td>-1.8</td>\n",
       "      <td>92.843</td>\n",
       "      <td>-50.0</td>\n",
       "      <td>1.726</td>\n",
       "      <td>5099.1</td>\n",
       "      <td>...</td>\n",
       "      <td>0</td>\n",
       "      <td>0</td>\n",
       "      <td>0</td>\n",
       "      <td>0</td>\n",
       "      <td>1</td>\n",
       "      <td>0</td>\n",
       "      <td>0</td>\n",
       "      <td>0</td>\n",
       "      <td>1</td>\n",
       "      <td>0</td>\n",
       "    </tr>\n",
       "    <tr>\n",
       "      <th>24985</th>\n",
       "      <td>54</td>\n",
       "      <td>1855</td>\n",
       "      <td>1</td>\n",
       "      <td>999</td>\n",
       "      <td>0</td>\n",
       "      <td>-0.1</td>\n",
       "      <td>93.200</td>\n",
       "      <td>-42.0</td>\n",
       "      <td>4.153</td>\n",
       "      <td>5195.8</td>\n",
       "      <td>...</td>\n",
       "      <td>0</td>\n",
       "      <td>0</td>\n",
       "      <td>0</td>\n",
       "      <td>0</td>\n",
       "      <td>0</td>\n",
       "      <td>0</td>\n",
       "      <td>1</td>\n",
       "      <td>0</td>\n",
       "      <td>1</td>\n",
       "      <td>0</td>\n",
       "    </tr>\n",
       "    <tr>\n",
       "      <th>20529</th>\n",
       "      <td>32</td>\n",
       "      <td>1092</td>\n",
       "      <td>4</td>\n",
       "      <td>999</td>\n",
       "      <td>0</td>\n",
       "      <td>1.4</td>\n",
       "      <td>93.444</td>\n",
       "      <td>-36.1</td>\n",
       "      <td>4.966</td>\n",
       "      <td>5228.1</td>\n",
       "      <td>...</td>\n",
       "      <td>0</td>\n",
       "      <td>1</td>\n",
       "      <td>0</td>\n",
       "      <td>0</td>\n",
       "      <td>0</td>\n",
       "      <td>0</td>\n",
       "      <td>1</td>\n",
       "      <td>0</td>\n",
       "      <td>1</td>\n",
       "      <td>0</td>\n",
       "    </tr>\n",
       "    <tr>\n",
       "      <th>1442</th>\n",
       "      <td>51</td>\n",
       "      <td>1178</td>\n",
       "      <td>2</td>\n",
       "      <td>999</td>\n",
       "      <td>0</td>\n",
       "      <td>1.1</td>\n",
       "      <td>93.994</td>\n",
       "      <td>-36.4</td>\n",
       "      <td>4.855</td>\n",
       "      <td>5191.0</td>\n",
       "      <td>...</td>\n",
       "      <td>0</td>\n",
       "      <td>0</td>\n",
       "      <td>0</td>\n",
       "      <td>1</td>\n",
       "      <td>0</td>\n",
       "      <td>0</td>\n",
       "      <td>0</td>\n",
       "      <td>0</td>\n",
       "      <td>1</td>\n",
       "      <td>0</td>\n",
       "    </tr>\n",
       "    <tr>\n",
       "      <th>38949</th>\n",
       "      <td>44</td>\n",
       "      <td>1628</td>\n",
       "      <td>2</td>\n",
       "      <td>6</td>\n",
       "      <td>1</td>\n",
       "      <td>-3.4</td>\n",
       "      <td>92.649</td>\n",
       "      <td>-30.1</td>\n",
       "      <td>0.719</td>\n",
       "      <td>5017.5</td>\n",
       "      <td>...</td>\n",
       "      <td>0</td>\n",
       "      <td>0</td>\n",
       "      <td>0</td>\n",
       "      <td>0</td>\n",
       "      <td>0</td>\n",
       "      <td>1</td>\n",
       "      <td>0</td>\n",
       "      <td>0</td>\n",
       "      <td>0</td>\n",
       "      <td>1</td>\n",
       "    </tr>\n",
       "    <tr>\n",
       "      <th>...</th>\n",
       "      <td>...</td>\n",
       "      <td>...</td>\n",
       "      <td>...</td>\n",
       "      <td>...</td>\n",
       "      <td>...</td>\n",
       "      <td>...</td>\n",
       "      <td>...</td>\n",
       "      <td>...</td>\n",
       "      <td>...</td>\n",
       "      <td>...</td>\n",
       "      <td>...</td>\n",
       "      <td>...</td>\n",
       "      <td>...</td>\n",
       "      <td>...</td>\n",
       "      <td>...</td>\n",
       "      <td>...</td>\n",
       "      <td>...</td>\n",
       "      <td>...</td>\n",
       "      <td>...</td>\n",
       "      <td>...</td>\n",
       "      <td>...</td>\n",
       "    </tr>\n",
       "    <tr>\n",
       "      <th>22571</th>\n",
       "      <td>47</td>\n",
       "      <td>27</td>\n",
       "      <td>11</td>\n",
       "      <td>999</td>\n",
       "      <td>0</td>\n",
       "      <td>1.4</td>\n",
       "      <td>93.444</td>\n",
       "      <td>-36.1</td>\n",
       "      <td>4.964</td>\n",
       "      <td>5228.1</td>\n",
       "      <td>...</td>\n",
       "      <td>0</td>\n",
       "      <td>1</td>\n",
       "      <td>0</td>\n",
       "      <td>0</td>\n",
       "      <td>1</td>\n",
       "      <td>0</td>\n",
       "      <td>0</td>\n",
       "      <td>0</td>\n",
       "      <td>1</td>\n",
       "      <td>0</td>\n",
       "    </tr>\n",
       "    <tr>\n",
       "      <th>6065</th>\n",
       "      <td>45</td>\n",
       "      <td>643</td>\n",
       "      <td>2</td>\n",
       "      <td>999</td>\n",
       "      <td>0</td>\n",
       "      <td>1.1</td>\n",
       "      <td>93.994</td>\n",
       "      <td>-36.4</td>\n",
       "      <td>4.857</td>\n",
       "      <td>5191.0</td>\n",
       "      <td>...</td>\n",
       "      <td>0</td>\n",
       "      <td>0</td>\n",
       "      <td>0</td>\n",
       "      <td>1</td>\n",
       "      <td>0</td>\n",
       "      <td>0</td>\n",
       "      <td>1</td>\n",
       "      <td>0</td>\n",
       "      <td>1</td>\n",
       "      <td>0</td>\n",
       "    </tr>\n",
       "    <tr>\n",
       "      <th>12207</th>\n",
       "      <td>30</td>\n",
       "      <td>71</td>\n",
       "      <td>1</td>\n",
       "      <td>999</td>\n",
       "      <td>0</td>\n",
       "      <td>1.4</td>\n",
       "      <td>93.918</td>\n",
       "      <td>-42.7</td>\n",
       "      <td>4.956</td>\n",
       "      <td>5228.1</td>\n",
       "      <td>...</td>\n",
       "      <td>0</td>\n",
       "      <td>0</td>\n",
       "      <td>0</td>\n",
       "      <td>0</td>\n",
       "      <td>0</td>\n",
       "      <td>0</td>\n",
       "      <td>0</td>\n",
       "      <td>1</td>\n",
       "      <td>1</td>\n",
       "      <td>0</td>\n",
       "    </tr>\n",
       "    <tr>\n",
       "      <th>15811</th>\n",
       "      <td>22</td>\n",
       "      <td>228</td>\n",
       "      <td>3</td>\n",
       "      <td>999</td>\n",
       "      <td>0</td>\n",
       "      <td>1.4</td>\n",
       "      <td>93.918</td>\n",
       "      <td>-42.7</td>\n",
       "      <td>4.960</td>\n",
       "      <td>5228.1</td>\n",
       "      <td>...</td>\n",
       "      <td>0</td>\n",
       "      <td>0</td>\n",
       "      <td>0</td>\n",
       "      <td>0</td>\n",
       "      <td>0</td>\n",
       "      <td>1</td>\n",
       "      <td>0</td>\n",
       "      <td>0</td>\n",
       "      <td>1</td>\n",
       "      <td>0</td>\n",
       "    </tr>\n",
       "    <tr>\n",
       "      <th>33283</th>\n",
       "      <td>31</td>\n",
       "      <td>365</td>\n",
       "      <td>2</td>\n",
       "      <td>999</td>\n",
       "      <td>0</td>\n",
       "      <td>-1.8</td>\n",
       "      <td>92.893</td>\n",
       "      <td>-46.2</td>\n",
       "      <td>1.291</td>\n",
       "      <td>5099.1</td>\n",
       "      <td>...</td>\n",
       "      <td>0</td>\n",
       "      <td>0</td>\n",
       "      <td>0</td>\n",
       "      <td>1</td>\n",
       "      <td>0</td>\n",
       "      <td>0</td>\n",
       "      <td>1</td>\n",
       "      <td>0</td>\n",
       "      <td>1</td>\n",
       "      <td>0</td>\n",
       "    </tr>\n",
       "  </tbody>\n",
       "</table>\n",
       "<p>30891 rows × 53 columns</p>\n",
       "</div>"
      ],
      "text/plain": [
       "       age  duration  campaign  pdays  previous  emp.var.rate  cons.price.idx  \\\n",
       "27767   34       301         3    999         0          -1.8          92.843   \n",
       "24985   54      1855         1    999         0          -0.1          93.200   \n",
       "20529   32      1092         4    999         0           1.4          93.444   \n",
       "1442    51      1178         2    999         0           1.1          93.994   \n",
       "38949   44      1628         2      6         1          -3.4          92.649   \n",
       "...    ...       ...       ...    ...       ...           ...             ...   \n",
       "22571   47        27        11    999         0           1.4          93.444   \n",
       "6065    45       643         2    999         0           1.1          93.994   \n",
       "12207   30        71         1    999         0           1.4          93.918   \n",
       "15811   22       228         3    999         0           1.4          93.918   \n",
       "33283   31       365         2    999         0          -1.8          92.893   \n",
       "\n",
       "       cons.conf.idx  euribor3m  nr.employed  ...  month_apr  month_aug  \\\n",
       "27767          -50.0      1.726       5099.1  ...          0          0   \n",
       "24985          -42.0      4.153       5195.8  ...          0          0   \n",
       "20529          -36.1      4.966       5228.1  ...          0          1   \n",
       "1442           -36.4      4.855       5191.0  ...          0          0   \n",
       "38949          -30.1      0.719       5017.5  ...          0          0   \n",
       "...              ...        ...          ...  ...        ...        ...   \n",
       "22571          -36.1      4.964       5228.1  ...          0          1   \n",
       "6065           -36.4      4.857       5191.0  ...          0          0   \n",
       "12207          -42.7      4.956       5228.1  ...          0          0   \n",
       "15811          -42.7      4.960       5228.1  ...          0          0   \n",
       "33283          -46.2      1.291       5099.1  ...          0          0   \n",
       "\n",
       "       month_sep  month_may  day_of_week_fri  day_of_week_mon  \\\n",
       "27767          0          0                1                0   \n",
       "24985          0          0                0                0   \n",
       "20529          0          0                0                0   \n",
       "1442           0          1                0                0   \n",
       "38949          0          0                0                1   \n",
       "...          ...        ...              ...              ...   \n",
       "22571          0          0                1                0   \n",
       "6065           0          1                0                0   \n",
       "12207          0          0                0                0   \n",
       "15811          0          0                0                1   \n",
       "33283          0          1                0                0   \n",
       "\n",
       "       day_of_week_tue  day_of_week_wed  poutcome_nonexistent  \\\n",
       "27767                0                0                     1   \n",
       "24985                1                0                     1   \n",
       "20529                1                0                     1   \n",
       "1442                 0                0                     1   \n",
       "38949                0                0                     0   \n",
       "...                ...              ...                   ...   \n",
       "22571                0                0                     1   \n",
       "6065                 1                0                     1   \n",
       "12207                0                1                     1   \n",
       "15811                0                0                     1   \n",
       "33283                1                0                     1   \n",
       "\n",
       "       poutcome_success  \n",
       "27767                 0  \n",
       "24985                 0  \n",
       "20529                 0  \n",
       "1442                  0  \n",
       "38949                 1  \n",
       "...                 ...  \n",
       "22571                 0  \n",
       "6065                  0  \n",
       "12207                 0  \n",
       "15811                 0  \n",
       "33283                 0  \n",
       "\n",
       "[30891 rows x 53 columns]"
      ]
     },
     "execution_count": 9,
     "metadata": {},
     "output_type": "execute_result"
    }
   ],
   "source": [
    "bank_df_train_ohe"
   ]
  },
  {
   "cell_type": "code",
   "execution_count": 10,
   "id": "planned-samuel",
   "metadata": {},
   "outputs": [],
   "source": [
    "bank_df_test_ohe = bank_prep.one_hot_encoding_transform(bank_df_test)"
   ]
  },
  {
   "cell_type": "markdown",
   "id": "vital-joseph",
   "metadata": {},
   "source": [
    "#### Removing almost collinear columns"
   ]
  },
  {
   "cell_type": "code",
   "execution_count": 11,
   "id": "hydraulic-albert",
   "metadata": {},
   "outputs": [
    {
     "name": "stderr",
     "output_type": "stream",
     "text": [
      "/home/pawel/.local/lib/python3.6/site-packages/statsmodels/stats/outliers_influence.py:193: RuntimeWarning: divide by zero encountered in double_scalars\n",
      "  vif = 1. / (1. - r_squared_i)\n"
     ]
    },
    {
     "name": "stdout",
     "output_type": "stream",
     "text": [
      "Dropping housing_yes with vif=inf\n",
      "Dropping nr.employed with vif=82516.52961837639\n",
      "Dropping cons.price.idx with vif=1719.882735340235\n",
      "Dropping pdays with vif=266.41573196068794\n",
      "Dropping marital_married with vif=214.81503148828068\n",
      "Dropping euribor3m with vif=111.94847058330095\n",
      "Dropping cons.conf.idx with vif=100.72717255892398\n",
      "Dropping loan_no with vif=31.05172201240312\n",
      "Dropping poutcome_nonexistent with vif=28.560973378926086\n",
      "Dropping age with vif=21.39855153248021\n",
      "Dropping job_admin. with vif=10.31676086192472\n",
      "42 numerical features left in dataset  0  categorical\n"
     ]
    }
   ],
   "source": [
    "bank_df_train_ohe_rc = bank_prep.remove_multicollinearity_fit_transform(bank_df_train_ohe)"
   ]
  },
  {
   "cell_type": "code",
   "execution_count": 12,
   "id": "personal-antibody",
   "metadata": {},
   "outputs": [],
   "source": [
    "bank_df_test_ohe_rc = bank_prep.remove_multicollinearity_transform(bank_df_test_ohe)"
   ]
  },
  {
   "cell_type": "code",
   "execution_count": 13,
   "id": "reported-shame",
   "metadata": {},
   "outputs": [
    {
     "data": {
      "text/plain": [
       "(10297, 42)"
      ]
     },
     "execution_count": 13,
     "metadata": {},
     "output_type": "execute_result"
    }
   ],
   "source": [
    "bank_df_test_ohe_rc.shape"
   ]
  },
  {
   "cell_type": "markdown",
   "id": "powerful-representative",
   "metadata": {},
   "source": [
    "## Bank data models"
   ]
  },
  {
   "cell_type": "code",
   "execution_count": 14,
   "id": "conditional-honolulu",
   "metadata": {},
   "outputs": [],
   "source": [
    "lr=0.01\n",
    "n_epochs=200\n",
    "lr_models = {\n",
    "    'GD': LogReg(optimization='Gradient Descent', learning_rate=lr, epochs=n_epochs, batch_size=32),\n",
    "    'SGD': LogReg(optimization='Stochastic Gradient Descent', learning_rate=lr, epochs=n_epochs),\n",
    "    'IRLS': LogReg(optimization='Iterative Reweighted Least Squares', epochs=n_epochs),\n",
    "    'ADAM': LogReg(optimization='Adaptive Moment Estimation', epochs=n_epochs, learning_rate=0.01, beta_1=0.9,\n",
    "                   beta_2=0.99, epsilon=1e-8)\n",
    "}"
   ]
  },
  {
   "cell_type": "code",
   "execution_count": 147,
   "id": "designed-conservation",
   "metadata": {},
   "outputs": [],
   "source": [
    "def test_model_approaches(df_train_rc, df_train_no_rc, df_test_rc, df_test_no_rc, y_train, y_test):\n",
    "    for after_rc in [True, False]:\n",
    "        if after_rc:\n",
    "            d_train = df_train_rc.copy()\n",
    "            d_test = df_test_rc.copy()\n",
    "        else:\n",
    "            d_train = df_train_no_rc.copy()\n",
    "            d_test = df_test_no_rc.copy()\n",
    "        for balance_target in [True, False]:\n",
    "            if balance_target:\n",
    "                pos_classes_n = (y_train==1).sum()\n",
    "                neg_classes_n = (y_train==0).sum()\n",
    "                c_n = min(pos_classes_n, neg_classes_n)\n",
    "                pos_c = np.random.choice((y_train==1).index, size=c_n, replace=False)\n",
    "                neg_c = np.random.choice((y_train==0).index, size=c_n, replace=False)\n",
    "                d_train_bt = d_train.loc[np.concatenate((pos_c, neg_c)), :].sample(frac=1).copy()\n",
    "                train_target = y_train.loc[np.concatenate((pos_c, neg_c))].copy()\n",
    "            else:\n",
    "                d_train_bt = d_train.copy()\n",
    "                train_target = y_train.copy()\n",
    "            for after_scaling in [True, False]:\n",
    "                if after_scaling:\n",
    "                    s = StandardScaler()\n",
    "                    d_train_model = s.fit_transform(d_train_bt)\n",
    "                    d_test_model = s.transform(d_test)\n",
    "                else:\n",
    "                    d_train_model = d_train_bt.copy()\n",
    "                    d_test_model = d_test.copy()\n",
    "                if isinstance(d_train_model, pd.DataFrame):\n",
    "                    d_train_model = d_train_model.to_numpy()\n",
    "                if isinstance(d_test_model, pd.DataFrame):\n",
    "                    d_test_model = d_test_model.to_numpy()\n",
    "                print()\n",
    "                print(f'After collinearity cleaning? {after_rc}. After scaling? {after_scaling}. After target balancing? {balance_target}')\n",
    "                for model_name, lr in lr_models.items():\n",
    "                    print(model_name)\n",
    "                    try:\n",
    "                        lr.train(d_train_model, train_target.to_numpy())\n",
    "                        print('Any non-zero predictions on train data?', (lr.predict(d_train_model)==1).any())\n",
    "                        print('Test accuracy:', round(measures.accuracy(lr.predict(d_test_model), y_test), 2))\n",
    "                    except Exception as e:\n",
    "                        print(e)\n",
    "\n"
   ]
  },
  {
   "cell_type": "code",
   "execution_count": 151,
   "id": "sharing-anaheim",
   "metadata": {},
   "outputs": [
    {
     "data": {
      "text/plain": [
       "0.11265417111780131"
      ]
     },
     "execution_count": 151,
     "metadata": {},
     "output_type": "execute_result"
    }
   ],
   "source": [
    "bank_y_test.mean()"
   ]
  },
  {
   "cell_type": "code",
   "execution_count": 150,
   "id": "digital-japanese",
   "metadata": {
    "scrolled": false
   },
   "outputs": [
    {
     "name": "stdout",
     "output_type": "stream",
     "text": [
      "\n",
      "After collinearity cleaning? True. After scaling? True. After target balancing? True\n",
      "GD\n"
     ]
    },
    {
     "data": {
      "application/vnd.jupyter.widget-view+json": {
       "model_id": "9fa4ca42aaa643a0b37359258173a2a7",
       "version_major": 2,
       "version_minor": 0
      },
      "text/plain": [
       "HBox(children=(FloatProgress(value=0.0, max=200.0), HTML(value='')))"
      ]
     },
     "metadata": {},
     "output_type": "display_data"
    },
    {
     "name": "stdout",
     "output_type": "stream",
     "text": [
      "\n",
      "Any non-zero predictions on train data? False\n",
      "Test accuracy: 0.89\n",
      "SGD\n"
     ]
    },
    {
     "data": {
      "application/vnd.jupyter.widget-view+json": {
       "model_id": "c9c3be97c6c344cf8a104a06aec0d538",
       "version_major": 2,
       "version_minor": 0
      },
      "text/plain": [
       "HBox(children=(FloatProgress(value=0.0, max=200.0), HTML(value='')))"
      ]
     },
     "metadata": {},
     "output_type": "display_data"
    },
    {
     "name": "stdout",
     "output_type": "stream",
     "text": [
      "\n",
      "Any non-zero predictions on train data? False\n",
      "Test accuracy: 0.89\n",
      "IRLS\n"
     ]
    },
    {
     "data": {
      "application/vnd.jupyter.widget-view+json": {
       "model_id": "c1b2dc5587b2470a814ea362446ed0d9",
       "version_major": 2,
       "version_minor": 0
      },
      "text/plain": [
       "HBox(children=(FloatProgress(value=0.0, max=200.0), HTML(value='')))"
      ]
     },
     "metadata": {},
     "output_type": "display_data"
    },
    {
     "name": "stdout",
     "output_type": "stream",
     "text": [
      "\n",
      "Any non-zero predictions on train data? False\n",
      "Test accuracy: 0.89\n",
      "ADAM\n"
     ]
    },
    {
     "data": {
      "application/vnd.jupyter.widget-view+json": {
       "model_id": "b91ef91c7bd9453ab1b2e2300afd594c",
       "version_major": 2,
       "version_minor": 0
      },
      "text/plain": [
       "HBox(children=(FloatProgress(value=0.0, max=200.0), HTML(value='')))"
      ]
     },
     "metadata": {},
     "output_type": "display_data"
    },
    {
     "name": "stdout",
     "output_type": "stream",
     "text": [
      "\n",
      "Any non-zero predictions on train data? True\n",
      "Test accuracy: 0.89\n",
      "\n",
      "After collinearity cleaning? True. After scaling? False. After target balancing? True\n",
      "GD\n"
     ]
    },
    {
     "data": {
      "application/vnd.jupyter.widget-view+json": {
       "model_id": "d6bfda524ed04d0a96070883d6f95ac4",
       "version_major": 2,
       "version_minor": 0
      },
      "text/plain": [
       "HBox(children=(FloatProgress(value=0.0, max=200.0), HTML(value='')))"
      ]
     },
     "metadata": {},
     "output_type": "display_data"
    },
    {
     "name": "stdout",
     "output_type": "stream",
     "text": [
      "\n",
      "Any non-zero predictions on train data? False\n",
      "Test accuracy: 0.89\n",
      "SGD\n"
     ]
    },
    {
     "data": {
      "application/vnd.jupyter.widget-view+json": {
       "model_id": "68f6695d2df54896aa2194743aafb317",
       "version_major": 2,
       "version_minor": 0
      },
      "text/plain": [
       "HBox(children=(FloatProgress(value=0.0, max=200.0), HTML(value='')))"
      ]
     },
     "metadata": {},
     "output_type": "display_data"
    },
    {
     "name": "stdout",
     "output_type": "stream",
     "text": [
      "\n",
      "Any non-zero predictions on train data? True\n",
      "Test accuracy: 0.79\n",
      "IRLS\n"
     ]
    },
    {
     "data": {
      "application/vnd.jupyter.widget-view+json": {
       "model_id": "ed786ba041b34a5ab44dbace0883abf6",
       "version_major": 2,
       "version_minor": 0
      },
      "text/plain": [
       "HBox(children=(FloatProgress(value=0.0, max=200.0), HTML(value='')))"
      ]
     },
     "metadata": {},
     "output_type": "display_data"
    },
    {
     "name": "stdout",
     "output_type": "stream",
     "text": [
      "\n",
      "Any non-zero predictions on train data? False\n",
      "Test accuracy: 0.89\n",
      "ADAM\n"
     ]
    },
    {
     "data": {
      "application/vnd.jupyter.widget-view+json": {
       "model_id": "e6b79a588c6a4f45bbeaae7604af33ac",
       "version_major": 2,
       "version_minor": 0
      },
      "text/plain": [
       "HBox(children=(FloatProgress(value=0.0, max=200.0), HTML(value='')))"
      ]
     },
     "metadata": {},
     "output_type": "display_data"
    },
    {
     "name": "stdout",
     "output_type": "stream",
     "text": [
      "\n",
      "Any non-zero predictions on train data? False\n",
      "Test accuracy: 0.89\n",
      "\n",
      "After collinearity cleaning? True. After scaling? True. After target balancing? False\n",
      "GD\n"
     ]
    },
    {
     "data": {
      "application/vnd.jupyter.widget-view+json": {
       "model_id": "081ab47ebd7343e28ea410f6918fe6d6",
       "version_major": 2,
       "version_minor": 0
      },
      "text/plain": [
       "HBox(children=(FloatProgress(value=0.0, max=200.0), HTML(value='')))"
      ]
     },
     "metadata": {},
     "output_type": "display_data"
    },
    {
     "name": "stdout",
     "output_type": "stream",
     "text": [
      "\n",
      "Any non-zero predictions on train data? False\n",
      "Test accuracy: 0.89\n",
      "SGD\n"
     ]
    },
    {
     "data": {
      "application/vnd.jupyter.widget-view+json": {
       "model_id": "b8c5f1c4c1d5474dbd44e08fe97e23d2",
       "version_major": 2,
       "version_minor": 0
      },
      "text/plain": [
       "HBox(children=(FloatProgress(value=0.0, max=200.0), HTML(value='')))"
      ]
     },
     "metadata": {},
     "output_type": "display_data"
    },
    {
     "name": "stdout",
     "output_type": "stream",
     "text": [
      "\n",
      "Any non-zero predictions on train data? True\n",
      "Test accuracy: 0.89\n",
      "IRLS\n"
     ]
    },
    {
     "data": {
      "application/vnd.jupyter.widget-view+json": {
       "model_id": "0df71f33196b4ad6823fdd6a36c6e2d2",
       "version_major": 2,
       "version_minor": 0
      },
      "text/plain": [
       "HBox(children=(FloatProgress(value=0.0, max=200.0), HTML(value='')))"
      ]
     },
     "metadata": {},
     "output_type": "display_data"
    },
    {
     "name": "stdout",
     "output_type": "stream",
     "text": [
      "\n",
      "Any non-zero predictions on train data? True\n",
      "Test accuracy: 0.9\n",
      "ADAM\n"
     ]
    },
    {
     "data": {
      "application/vnd.jupyter.widget-view+json": {
       "model_id": "ebf00249123a4df3a2704b39c9394648",
       "version_major": 2,
       "version_minor": 0
      },
      "text/plain": [
       "HBox(children=(FloatProgress(value=0.0, max=200.0), HTML(value='')))"
      ]
     },
     "metadata": {},
     "output_type": "display_data"
    },
    {
     "name": "stdout",
     "output_type": "stream",
     "text": [
      "\n",
      "Any non-zero predictions on train data? True\n",
      "Test accuracy: 0.86\n",
      "\n",
      "After collinearity cleaning? True. After scaling? False. After target balancing? False\n",
      "GD\n"
     ]
    },
    {
     "data": {
      "application/vnd.jupyter.widget-view+json": {
       "model_id": "c0d58987f20944aa9c83ce391dacc038",
       "version_major": 2,
       "version_minor": 0
      },
      "text/plain": [
       "HBox(children=(FloatProgress(value=0.0, max=200.0), HTML(value='')))"
      ]
     },
     "metadata": {},
     "output_type": "display_data"
    },
    {
     "name": "stdout",
     "output_type": "stream",
     "text": [
      "\n",
      "Any non-zero predictions on train data? False\n",
      "Test accuracy: 0.89\n",
      "SGD\n"
     ]
    },
    {
     "data": {
      "application/vnd.jupyter.widget-view+json": {
       "model_id": "a63d95cf51d545f3b0b6900034d030cd",
       "version_major": 2,
       "version_minor": 0
      },
      "text/plain": [
       "HBox(children=(FloatProgress(value=0.0, max=200.0), HTML(value='')))"
      ]
     },
     "metadata": {},
     "output_type": "display_data"
    },
    {
     "name": "stdout",
     "output_type": "stream",
     "text": [
      "\n",
      "Any non-zero predictions on train data? False\n",
      "Test accuracy: 0.89\n",
      "IRLS\n"
     ]
    },
    {
     "data": {
      "application/vnd.jupyter.widget-view+json": {
       "model_id": "3f145f5a17f340a4867052dd232dc3a9",
       "version_major": 2,
       "version_minor": 0
      },
      "text/plain": [
       "HBox(children=(FloatProgress(value=0.0, max=200.0), HTML(value='')))"
      ]
     },
     "metadata": {},
     "output_type": "display_data"
    },
    {
     "name": "stdout",
     "output_type": "stream",
     "text": [
      "\n",
      "Any non-zero predictions on train data? True\n",
      "Test accuracy: 0.9\n",
      "ADAM\n"
     ]
    },
    {
     "data": {
      "application/vnd.jupyter.widget-view+json": {
       "model_id": "c1a4f89a9f3a4f0c81b2881c8fe97d8c",
       "version_major": 2,
       "version_minor": 0
      },
      "text/plain": [
       "HBox(children=(FloatProgress(value=0.0, max=200.0), HTML(value='')))"
      ]
     },
     "metadata": {},
     "output_type": "display_data"
    },
    {
     "name": "stdout",
     "output_type": "stream",
     "text": [
      "\n",
      "Any non-zero predictions on train data? True\n",
      "Test accuracy: 0.89\n",
      "\n",
      "After collinearity cleaning? False. After scaling? True. After target balancing? True\n",
      "GD\n"
     ]
    },
    {
     "data": {
      "application/vnd.jupyter.widget-view+json": {
       "model_id": "c4be5af2e3d548d2bc80222abd12514e",
       "version_major": 2,
       "version_minor": 0
      },
      "text/plain": [
       "HBox(children=(FloatProgress(value=0.0, max=200.0), HTML(value='')))"
      ]
     },
     "metadata": {},
     "output_type": "display_data"
    },
    {
     "name": "stdout",
     "output_type": "stream",
     "text": [
      "\n",
      "Any non-zero predictions on train data? False\n",
      "Test accuracy: 0.89\n",
      "SGD\n"
     ]
    },
    {
     "data": {
      "application/vnd.jupyter.widget-view+json": {
       "model_id": "03871acf3f8f4bd980a02d4f0cb18799",
       "version_major": 2,
       "version_minor": 0
      },
      "text/plain": [
       "HBox(children=(FloatProgress(value=0.0, max=200.0), HTML(value='')))"
      ]
     },
     "metadata": {},
     "output_type": "display_data"
    },
    {
     "name": "stdout",
     "output_type": "stream",
     "text": [
      "\n",
      "Any non-zero predictions on train data? False\n",
      "Test accuracy: 0.89\n",
      "IRLS\n"
     ]
    },
    {
     "data": {
      "application/vnd.jupyter.widget-view+json": {
       "model_id": "35e62348409a4289912bcb355498a695",
       "version_major": 2,
       "version_minor": 0
      },
      "text/plain": [
       "HBox(children=(FloatProgress(value=0.0, max=200.0), HTML(value='')))"
      ]
     },
     "metadata": {},
     "output_type": "display_data"
    },
    {
     "name": "stdout",
     "output_type": "stream",
     "text": [
      "\n",
      "Singular matrix\n",
      "ADAM\n"
     ]
    },
    {
     "data": {
      "application/vnd.jupyter.widget-view+json": {
       "model_id": "df070e3ce1c24106a69dc027fb386204",
       "version_major": 2,
       "version_minor": 0
      },
      "text/plain": [
       "HBox(children=(FloatProgress(value=0.0, max=200.0), HTML(value='')))"
      ]
     },
     "metadata": {},
     "output_type": "display_data"
    },
    {
     "name": "stdout",
     "output_type": "stream",
     "text": [
      "\n",
      "Any non-zero predictions on train data? True\n",
      "Test accuracy: 0.88\n",
      "\n",
      "After collinearity cleaning? False. After scaling? False. After target balancing? True\n",
      "GD\n"
     ]
    },
    {
     "data": {
      "application/vnd.jupyter.widget-view+json": {
       "model_id": "19f74844c10549459d310263b4dfc471",
       "version_major": 2,
       "version_minor": 0
      },
      "text/plain": [
       "HBox(children=(FloatProgress(value=0.0, max=200.0), HTML(value='')))"
      ]
     },
     "metadata": {},
     "output_type": "display_data"
    },
    {
     "name": "stdout",
     "output_type": "stream",
     "text": [
      "Early stopping\n",
      "\n",
      "Any non-zero predictions on train data? False\n",
      "Test accuracy: 0.89\n",
      "SGD\n"
     ]
    },
    {
     "data": {
      "application/vnd.jupyter.widget-view+json": {
       "model_id": "675a13ca6a2443ef8adb824858836ad6",
       "version_major": 2,
       "version_minor": 0
      },
      "text/plain": [
       "HBox(children=(FloatProgress(value=0.0, max=200.0), HTML(value='')))"
      ]
     },
     "metadata": {},
     "output_type": "display_data"
    },
    {
     "name": "stdout",
     "output_type": "stream",
     "text": [
      "Early stopping\n",
      "\n",
      "Any non-zero predictions on train data? False\n",
      "Test accuracy: 0.89\n",
      "IRLS\n"
     ]
    },
    {
     "data": {
      "application/vnd.jupyter.widget-view+json": {
       "model_id": "93288260763d49a38e66f048cb034180",
       "version_major": 2,
       "version_minor": 0
      },
      "text/plain": [
       "HBox(children=(FloatProgress(value=0.0, max=200.0), HTML(value='')))"
      ]
     },
     "metadata": {},
     "output_type": "display_data"
    },
    {
     "name": "stdout",
     "output_type": "stream",
     "text": [
      "\n",
      "Singular matrix\n",
      "ADAM\n"
     ]
    },
    {
     "data": {
      "application/vnd.jupyter.widget-view+json": {
       "model_id": "706600bb3eb14b63b56e5afbfd032e02",
       "version_major": 2,
       "version_minor": 0
      },
      "text/plain": [
       "HBox(children=(FloatProgress(value=0.0, max=200.0), HTML(value='')))"
      ]
     },
     "metadata": {},
     "output_type": "display_data"
    },
    {
     "name": "stdout",
     "output_type": "stream",
     "text": [
      "\n",
      "Any non-zero predictions on train data? False\n",
      "Test accuracy: 0.89\n",
      "\n",
      "After collinearity cleaning? False. After scaling? True. After target balancing? False\n",
      "GD\n"
     ]
    },
    {
     "data": {
      "application/vnd.jupyter.widget-view+json": {
       "model_id": "1e81f4e2ec4b40358a6e6e82e580875c",
       "version_major": 2,
       "version_minor": 0
      },
      "text/plain": [
       "HBox(children=(FloatProgress(value=0.0, max=200.0), HTML(value='')))"
      ]
     },
     "metadata": {},
     "output_type": "display_data"
    },
    {
     "name": "stdout",
     "output_type": "stream",
     "text": [
      "\n",
      "Any non-zero predictions on train data? False\n",
      "Test accuracy: 0.89\n",
      "SGD\n"
     ]
    },
    {
     "data": {
      "application/vnd.jupyter.widget-view+json": {
       "model_id": "474424b242d142178326652ef672eb59",
       "version_major": 2,
       "version_minor": 0
      },
      "text/plain": [
       "HBox(children=(FloatProgress(value=0.0, max=200.0), HTML(value='')))"
      ]
     },
     "metadata": {},
     "output_type": "display_data"
    },
    {
     "name": "stdout",
     "output_type": "stream",
     "text": [
      "\n",
      "Any non-zero predictions on train data? False\n",
      "Test accuracy: 0.89\n",
      "IRLS\n"
     ]
    },
    {
     "data": {
      "application/vnd.jupyter.widget-view+json": {
       "model_id": "76e11714a9e945a2aacd2d44bf6f55ca",
       "version_major": 2,
       "version_minor": 0
      },
      "text/plain": [
       "HBox(children=(FloatProgress(value=0.0, max=200.0), HTML(value='')))"
      ]
     },
     "metadata": {},
     "output_type": "display_data"
    },
    {
     "name": "stdout",
     "output_type": "stream",
     "text": [
      "\n",
      "Singular matrix\n",
      "ADAM\n"
     ]
    },
    {
     "data": {
      "application/vnd.jupyter.widget-view+json": {
       "model_id": "cec1ed4af0cf4db2a4b1f6a252a0a043",
       "version_major": 2,
       "version_minor": 0
      },
      "text/plain": [
       "HBox(children=(FloatProgress(value=0.0, max=200.0), HTML(value='')))"
      ]
     },
     "metadata": {},
     "output_type": "display_data"
    },
    {
     "name": "stdout",
     "output_type": "stream",
     "text": [
      "\n",
      "Any non-zero predictions on train data? True\n",
      "Test accuracy: 0.86\n",
      "\n",
      "After collinearity cleaning? False. After scaling? False. After target balancing? False\n",
      "GD\n"
     ]
    },
    {
     "data": {
      "application/vnd.jupyter.widget-view+json": {
       "model_id": "0ca4fa2a719a475f9c892d16fd2fbd0b",
       "version_major": 2,
       "version_minor": 0
      },
      "text/plain": [
       "HBox(children=(FloatProgress(value=0.0, max=200.0), HTML(value='')))"
      ]
     },
     "metadata": {},
     "output_type": "display_data"
    },
    {
     "name": "stdout",
     "output_type": "stream",
     "text": [
      "Early stopping\n",
      "\n",
      "Any non-zero predictions on train data? False\n",
      "Test accuracy: 0.89\n",
      "SGD\n"
     ]
    },
    {
     "data": {
      "application/vnd.jupyter.widget-view+json": {
       "model_id": "209298ee8b5347f983714b7a6dbf5be2",
       "version_major": 2,
       "version_minor": 0
      },
      "text/plain": [
       "HBox(children=(FloatProgress(value=0.0, max=200.0), HTML(value='')))"
      ]
     },
     "metadata": {},
     "output_type": "display_data"
    },
    {
     "name": "stdout",
     "output_type": "stream",
     "text": [
      "Early stopping\n",
      "\n",
      "Any non-zero predictions on train data? False\n",
      "Test accuracy: 0.89\n",
      "IRLS\n"
     ]
    },
    {
     "data": {
      "application/vnd.jupyter.widget-view+json": {
       "model_id": "6b7cb6ab3f0946bf83b12bc84378a56c",
       "version_major": 2,
       "version_minor": 0
      },
      "text/plain": [
       "HBox(children=(FloatProgress(value=0.0, max=200.0), HTML(value='')))"
      ]
     },
     "metadata": {},
     "output_type": "display_data"
    },
    {
     "name": "stdout",
     "output_type": "stream",
     "text": [
      "\n",
      "Singular matrix\n",
      "ADAM\n"
     ]
    },
    {
     "data": {
      "application/vnd.jupyter.widget-view+json": {
       "model_id": "69086c4824e14acabba54d48cede4dc4",
       "version_major": 2,
       "version_minor": 0
      },
      "text/plain": [
       "HBox(children=(FloatProgress(value=0.0, max=200.0), HTML(value='')))"
      ]
     },
     "metadata": {},
     "output_type": "display_data"
    },
    {
     "name": "stdout",
     "output_type": "stream",
     "text": [
      "\n",
      "Any non-zero predictions on train data? True\n",
      "Test accuracy: 0.9\n"
     ]
    }
   ],
   "source": [
    "test_model_approaches(bank_df_train_ohe_rc, bank_df_train_ohe, bank_df_test_ohe_rc, bank_df_test_ohe,\n",
    "                      bank_y_train, bank_y_test)"
   ]
  },
  {
   "cell_type": "code",
   "execution_count": 67,
   "id": "upset-herald",
   "metadata": {},
   "outputs": [],
   "source": [
    "sklearn_models = {\n",
    "    'LDA': LinearDiscriminantAnalysis(),\n",
    "    'QDA': QuadraticDiscriminantAnalysis(),\n",
    "    'LR': LogisticRegression(max_iter=1000),\n",
    "    'kNN': KNeighborsClassifier()\n",
    "}"
   ]
  },
  {
   "cell_type": "code",
   "execution_count": 47,
   "id": "educational-coordination",
   "metadata": {},
   "outputs": [
    {
     "data": {
      "text/plain": [
       "4.999514188862935"
      ]
     },
     "execution_count": 47,
     "metadata": {},
     "output_type": "execute_result"
    }
   ],
   "source": [
    "from statsmodels.stats.outliers_influence import variance_inflation_factor\n",
    "max([variance_inflation_factor(bank_df_train_ohe_rc.values, bank_df_train_ohe_rc.columns.get_loc(var)) for var in bank_df_train_ohe_rc.columns])"
   ]
  },
  {
   "cell_type": "code",
   "execution_count": 68,
   "id": "automatic-underground",
   "metadata": {},
   "outputs": [
    {
     "name": "stdout",
     "output_type": "stream",
     "text": [
      "LDA\n",
      "Any non-zero predictions on train data? True\n",
      "Test acc 0.9023016412547344\n",
      "Test F1-score 0.5044334975369459\n",
      "QDA\n",
      "Any non-zero predictions on train data? True\n",
      "Test acc 0.13003787510925513\n",
      "Test F1-score 0.20556935083362893\n"
     ]
    },
    {
     "name": "stderr",
     "output_type": "stream",
     "text": [
      "/home/pawel/.local/lib/python3.6/site-packages/sklearn/discriminant_analysis.py:808: UserWarning: Variables are collinear\n",
      "  warnings.warn(\"Variables are collinear\")\n"
     ]
    },
    {
     "name": "stdout",
     "output_type": "stream",
     "text": [
      "LR\n",
      "Any non-zero predictions on train data? True\n",
      "Test acc 0.906671846168787\n",
      "Test F1-score 0.48471849865951744\n",
      "kNN\n",
      "Any non-zero predictions on train data? True\n",
      "Test acc 0.8944352724094397\n",
      "Test F1-score 0.430591932949188\n"
     ]
    }
   ],
   "source": [
    "for m_name, m in sklearn_models.items():\n",
    "    m.fit(bank_df_train_ohe_rc.to_numpy(), bank_y_train.to_numpy())\n",
    "    print(m_name)\n",
    "    print('Any non-zero predictions on train data?', (m.predict(bank_df_train_ohe_rc.to_numpy())==1).any())\n",
    "    print('Test acc', (measures.accuracy(m.predict(bank_df_test_ohe_rc.to_numpy()), bank_y_test)))\n",
    "    print('Test F1-score', (measures.f_measure(m.predict(bank_df_test_ohe_rc.to_numpy()), bank_y_test)))"
   ]
  },
  {
   "cell_type": "markdown",
   "id": "d094019b",
   "metadata": {},
   "source": [
    "# 2. Diabetic Retinopathy\n",
    "No missing values"
   ]
  },
  {
   "cell_type": "code",
   "execution_count": 50,
   "id": "b67eb22d",
   "metadata": {
    "scrolled": true
   },
   "outputs": [
    {
     "data": {
      "text/html": [
       "<div>\n",
       "<style scoped>\n",
       "    .dataframe tbody tr th:only-of-type {\n",
       "        vertical-align: middle;\n",
       "    }\n",
       "\n",
       "    .dataframe tbody tr th {\n",
       "        vertical-align: top;\n",
       "    }\n",
       "\n",
       "    .dataframe thead th {\n",
       "        text-align: right;\n",
       "    }\n",
       "</style>\n",
       "<table border=\"1\" class=\"dataframe\">\n",
       "  <thead>\n",
       "    <tr style=\"text-align: right;\">\n",
       "      <th></th>\n",
       "      <th>0</th>\n",
       "      <th>1</th>\n",
       "      <th>2</th>\n",
       "      <th>3</th>\n",
       "      <th>4</th>\n",
       "      <th>5</th>\n",
       "      <th>6</th>\n",
       "      <th>7</th>\n",
       "      <th>8</th>\n",
       "      <th>9</th>\n",
       "      <th>10</th>\n",
       "      <th>11</th>\n",
       "      <th>12</th>\n",
       "      <th>13</th>\n",
       "      <th>14</th>\n",
       "      <th>15</th>\n",
       "      <th>16</th>\n",
       "      <th>17</th>\n",
       "      <th>18</th>\n",
       "      <th>Class</th>\n",
       "    </tr>\n",
       "  </thead>\n",
       "  <tbody>\n",
       "    <tr>\n",
       "      <th>0</th>\n",
       "      <td>1.0</td>\n",
       "      <td>1.0</td>\n",
       "      <td>22.0</td>\n",
       "      <td>22.0</td>\n",
       "      <td>22.0</td>\n",
       "      <td>19.0</td>\n",
       "      <td>18.0</td>\n",
       "      <td>14.0</td>\n",
       "      <td>49.895756</td>\n",
       "      <td>17.775994</td>\n",
       "      <td>5.270920</td>\n",
       "      <td>0.771761</td>\n",
       "      <td>0.018632</td>\n",
       "      <td>0.006864</td>\n",
       "      <td>0.003923</td>\n",
       "      <td>0.003923</td>\n",
       "      <td>0.486903</td>\n",
       "      <td>0.100025</td>\n",
       "      <td>1.0</td>\n",
       "      <td>b'0'</td>\n",
       "    </tr>\n",
       "    <tr>\n",
       "      <th>1</th>\n",
       "      <td>1.0</td>\n",
       "      <td>1.0</td>\n",
       "      <td>24.0</td>\n",
       "      <td>24.0</td>\n",
       "      <td>22.0</td>\n",
       "      <td>18.0</td>\n",
       "      <td>16.0</td>\n",
       "      <td>13.0</td>\n",
       "      <td>57.709936</td>\n",
       "      <td>23.799994</td>\n",
       "      <td>3.325423</td>\n",
       "      <td>0.234185</td>\n",
       "      <td>0.003903</td>\n",
       "      <td>0.003903</td>\n",
       "      <td>0.003903</td>\n",
       "      <td>0.003903</td>\n",
       "      <td>0.520908</td>\n",
       "      <td>0.144414</td>\n",
       "      <td>0.0</td>\n",
       "      <td>b'0'</td>\n",
       "    </tr>\n",
       "    <tr>\n",
       "      <th>2</th>\n",
       "      <td>1.0</td>\n",
       "      <td>1.0</td>\n",
       "      <td>62.0</td>\n",
       "      <td>60.0</td>\n",
       "      <td>59.0</td>\n",
       "      <td>54.0</td>\n",
       "      <td>47.0</td>\n",
       "      <td>33.0</td>\n",
       "      <td>55.831441</td>\n",
       "      <td>27.993933</td>\n",
       "      <td>12.687485</td>\n",
       "      <td>4.852282</td>\n",
       "      <td>1.393889</td>\n",
       "      <td>0.373252</td>\n",
       "      <td>0.041817</td>\n",
       "      <td>0.007744</td>\n",
       "      <td>0.530904</td>\n",
       "      <td>0.128548</td>\n",
       "      <td>0.0</td>\n",
       "      <td>b'1'</td>\n",
       "    </tr>\n",
       "    <tr>\n",
       "      <th>3</th>\n",
       "      <td>1.0</td>\n",
       "      <td>1.0</td>\n",
       "      <td>55.0</td>\n",
       "      <td>53.0</td>\n",
       "      <td>53.0</td>\n",
       "      <td>50.0</td>\n",
       "      <td>43.0</td>\n",
       "      <td>31.0</td>\n",
       "      <td>40.467228</td>\n",
       "      <td>18.445954</td>\n",
       "      <td>9.118901</td>\n",
       "      <td>3.079428</td>\n",
       "      <td>0.840261</td>\n",
       "      <td>0.272434</td>\n",
       "      <td>0.007653</td>\n",
       "      <td>0.001531</td>\n",
       "      <td>0.483284</td>\n",
       "      <td>0.114790</td>\n",
       "      <td>0.0</td>\n",
       "      <td>b'0'</td>\n",
       "    </tr>\n",
       "    <tr>\n",
       "      <th>4</th>\n",
       "      <td>1.0</td>\n",
       "      <td>1.0</td>\n",
       "      <td>44.0</td>\n",
       "      <td>44.0</td>\n",
       "      <td>44.0</td>\n",
       "      <td>41.0</td>\n",
       "      <td>39.0</td>\n",
       "      <td>27.0</td>\n",
       "      <td>18.026254</td>\n",
       "      <td>8.570709</td>\n",
       "      <td>0.410381</td>\n",
       "      <td>0.000000</td>\n",
       "      <td>0.000000</td>\n",
       "      <td>0.000000</td>\n",
       "      <td>0.000000</td>\n",
       "      <td>0.000000</td>\n",
       "      <td>0.475935</td>\n",
       "      <td>0.123572</td>\n",
       "      <td>0.0</td>\n",
       "      <td>b'1'</td>\n",
       "    </tr>\n",
       "  </tbody>\n",
       "</table>\n",
       "</div>"
      ],
      "text/plain": [
       "     0    1     2     3     4     5     6     7          8          9  \\\n",
       "0  1.0  1.0  22.0  22.0  22.0  19.0  18.0  14.0  49.895756  17.775994   \n",
       "1  1.0  1.0  24.0  24.0  22.0  18.0  16.0  13.0  57.709936  23.799994   \n",
       "2  1.0  1.0  62.0  60.0  59.0  54.0  47.0  33.0  55.831441  27.993933   \n",
       "3  1.0  1.0  55.0  53.0  53.0  50.0  43.0  31.0  40.467228  18.445954   \n",
       "4  1.0  1.0  44.0  44.0  44.0  41.0  39.0  27.0  18.026254   8.570709   \n",
       "\n",
       "          10        11        12        13        14        15        16  \\\n",
       "0   5.270920  0.771761  0.018632  0.006864  0.003923  0.003923  0.486903   \n",
       "1   3.325423  0.234185  0.003903  0.003903  0.003903  0.003903  0.520908   \n",
       "2  12.687485  4.852282  1.393889  0.373252  0.041817  0.007744  0.530904   \n",
       "3   9.118901  3.079428  0.840261  0.272434  0.007653  0.001531  0.483284   \n",
       "4   0.410381  0.000000  0.000000  0.000000  0.000000  0.000000  0.475935   \n",
       "\n",
       "         17   18 Class  \n",
       "0  0.100025  1.0  b'0'  \n",
       "1  0.144414  0.0  b'0'  \n",
       "2  0.128548  0.0  b'1'  \n",
       "3  0.114790  0.0  b'0'  \n",
       "4  0.123572  0.0  b'1'  "
      ]
     },
     "execution_count": 50,
     "metadata": {},
     "output_type": "execute_result"
    }
   ],
   "source": [
    "from scipy.io import arff\n",
    "import pandas as pd\n",
    "data = arff.loadarff('data/messidor_features.arff')\n",
    "retinopathy_df = pd.DataFrame(data[0])\n",
    "retinopathy_df.head()"
   ]
  },
  {
   "cell_type": "code",
   "execution_count": 51,
   "id": "b16c1c60",
   "metadata": {},
   "outputs": [
    {
     "name": "stdout",
     "output_type": "stream",
     "text": [
      "<class 'pandas.core.frame.DataFrame'>\n",
      "RangeIndex: 1151 entries, 0 to 1150\n",
      "Data columns (total 20 columns):\n",
      " #   Column  Non-Null Count  Dtype  \n",
      "---  ------  --------------  -----  \n",
      " 0   0       1151 non-null   float64\n",
      " 1   1       1151 non-null   float64\n",
      " 2   2       1151 non-null   float64\n",
      " 3   3       1151 non-null   float64\n",
      " 4   4       1151 non-null   float64\n",
      " 5   5       1151 non-null   float64\n",
      " 6   6       1151 non-null   float64\n",
      " 7   7       1151 non-null   float64\n",
      " 8   8       1151 non-null   float64\n",
      " 9   9       1151 non-null   float64\n",
      " 10  10      1151 non-null   float64\n",
      " 11  11      1151 non-null   float64\n",
      " 12  12      1151 non-null   float64\n",
      " 13  13      1151 non-null   float64\n",
      " 14  14      1151 non-null   float64\n",
      " 15  15      1151 non-null   float64\n",
      " 16  16      1151 non-null   float64\n",
      " 17  17      1151 non-null   float64\n",
      " 18  18      1151 non-null   float64\n",
      " 19  Class   1151 non-null   object \n",
      "dtypes: float64(19), object(1)\n",
      "memory usage: 180.0+ KB\n"
     ]
    }
   ],
   "source": [
    "retinopathy_df.info()"
   ]
  },
  {
   "cell_type": "code",
   "execution_count": 52,
   "id": "07b94b3a",
   "metadata": {
    "scrolled": false
   },
   "outputs": [
    {
     "name": "stdout",
     "output_type": "stream",
     "text": [
      "column name:  0 number of unique values:  2 Number of nulls 0\n",
      "column name:  1 number of unique values:  2 Number of nulls 0\n",
      "column name:  2 number of unique values:  110 Number of nulls 0\n",
      "column name:  3 number of unique values:  104 Number of nulls 0\n",
      "column name:  4 number of unique values:  99 Number of nulls 0\n",
      "column name:  5 number of unique values:  91 Number of nulls 0\n",
      "column name:  6 number of unique values:  84 Number of nulls 0\n",
      "column name:  7 number of unique values:  69 Number of nulls 0\n",
      "column name:  8 number of unique values:  1141 Number of nulls 0\n",
      "column name:  9 number of unique values:  1141 Number of nulls 0\n",
      "column name:  10 number of unique values:  1130 Number of nulls 0\n",
      "column name:  11 number of unique values:  1032 Number of nulls 0\n",
      "column name:  12 number of unique values:  795 Number of nulls 0\n",
      "column name:  13 number of unique values:  579 Number of nulls 0\n",
      "column name:  14 number of unique values:  415 Number of nulls 0\n",
      "column name:  15 number of unique values:  351 Number of nulls 0\n",
      "column name:  16 number of unique values:  1132 Number of nulls 0\n",
      "column name:  17 number of unique values:  1110 Number of nulls 0\n",
      "column name:  18 number of unique values:  2 Number of nulls 0\n",
      "column name:  Class number of unique values:  2 Number of nulls 0\n"
     ]
    }
   ],
   "source": [
    "for c in retinopathy_df.columns:\n",
    "    print(\"column name: \",c,\"number of unique values: \",len(retinopathy_df[c].unique()),\"Number of nulls\",retinopathy_df.isna().sum().sum())"
   ]
  },
  {
   "cell_type": "markdown",
   "id": "5e2ad9c0",
   "metadata": {},
   "source": [
    "description of the dataset can be found [here](https://archive.ics.uci.edu/ml/datasets/Diabetic+Retinopathy+Debrecen+Data+Set#)\n",
    "\n",
    "Target: `Class`"
   ]
  },
  {
   "cell_type": "code",
   "execution_count": 53,
   "id": "aa2fb21d",
   "metadata": {},
   "outputs": [],
   "source": [
    "X_retinopathy=retinopathy_df.drop(columns='Class')\n",
    "y_retinopathy=(retinopathy_df['Class'] == b'1').astype(int)"
   ]
  },
  {
   "cell_type": "markdown",
   "id": "equal-treasury",
   "metadata": {},
   "source": [
    "There are no categorical variables.\n",
    "\n",
    "#### Train test split"
   ]
  },
  {
   "cell_type": "code",
   "execution_count": 54,
   "id": "distributed-george",
   "metadata": {},
   "outputs": [],
   "source": [
    "ret_prep = Preprocessor()\n",
    "ret_df_train, ret_df_test, ret_y_train, ret_y_test = ret_prep.train_test_split(X_retinopathy, y_retinopathy)"
   ]
  },
  {
   "cell_type": "markdown",
   "id": "fallen-pointer",
   "metadata": {},
   "source": [
    "#### Collinearity detection\n",
    "\n",
    "Pair correlations insight:"
   ]
  },
  {
   "cell_type": "code",
   "execution_count": 55,
   "id": "783bae49",
   "metadata": {
    "scrolled": false
   },
   "outputs": [
    {
     "data": {
      "image/png": "[encoded data removed]",
      "text/plain": [
       "<matplotlib.figure.Figure at 0x7ff2bfe867b8>"
      ]
     },
     "metadata": {
      "needs_background": "light"
     },
     "output_type": "display_data"
    }
   ],
   "source": [
    "ret_prep.plot_corr(ret_df_train)"
   ]
  },
  {
   "cell_type": "code",
   "execution_count": 56,
   "id": "27b6a06d",
   "metadata": {
    "scrolled": false
   },
   "outputs": [
    {
     "name": "stdout",
     "output_type": "stream",
     "text": [
      "Dropping 3 with vif=1820.4142825045192\n",
      "Dropping 4 with vif=1035.668246196822\n",
      "Dropping 5 with vif=522.3518531731354\n",
      "Dropping 0 with vif=182.205311611162\n",
      "Dropping 6 with vif=163.605588635566\n",
      "Dropping 16 with vif=47.57288659966959\n",
      "Dropping 10 with vif=29.199350839919433\n",
      "Dropping 14 with vif=26.250010960001045\n",
      "Dropping 13 with vif=17.801435143581465\n",
      "Dropping 2 with vif=16.146315190432645\n",
      "Dropping 17 with vif=11.76611200457926\n",
      "8 numerical features left in dataset  0  categorical\n"
     ]
    }
   ],
   "source": [
    "ret_df_train_rc = ret_prep.remove_multicollinearity_fit_transform(ret_df_train)"
   ]
  },
  {
   "cell_type": "code",
   "execution_count": 57,
   "id": "sunrise-china",
   "metadata": {},
   "outputs": [],
   "source": [
    "ret_df_test_rc = ret_prep.remove_multicollinearity_transform(ret_df_test)"
   ]
  },
  {
   "cell_type": "code",
   "execution_count": 58,
   "id": "a9b46e75",
   "metadata": {},
   "outputs": [
    {
     "data": {
      "image/png": "[encoded data removed]",
      "text/plain": [
       "<matplotlib.figure.Figure at 0x7ff2bf685dd8>"
      ]
     },
     "metadata": {
      "needs_background": "light"
     },
     "output_type": "display_data"
    }
   ],
   "source": [
    "ret_prep.plot_corr(ret_df_train_rc)"
   ]
  },
  {
   "cell_type": "markdown",
   "id": "58fb21c7",
   "metadata": {},
   "source": [
    "#### Results without VIF reduction"
   ]
  },
  {
   "cell_type": "code",
   "execution_count": 59,
   "id": "8900135b",
   "metadata": {},
   "outputs": [
    {
     "name": "stdout",
     "output_type": "stream",
     "text": [
      "(863, 19)\n",
      "Train acc 0.7601390498261877\n",
      "Test acc 0.75\n"
     ]
    }
   ],
   "source": [
    "model = LogisticRegression(max_iter=1e20)\n",
    "model.fit(ret_df_train, ret_y_train)\n",
    "print(ret_df_train.shape)\n",
    "print('Train acc', model.score(ret_df_train, ret_y_train))\n",
    "print('Test acc', model.score(ret_df_test, ret_y_test))"
   ]
  },
  {
   "cell_type": "markdown",
   "id": "e59e0ca2",
   "metadata": {},
   "source": [
    "#### Results with VIF reduction"
   ]
  },
  {
   "cell_type": "code",
   "execution_count": 60,
   "id": "92fae9d7",
   "metadata": {},
   "outputs": [
    {
     "name": "stdout",
     "output_type": "stream",
     "text": [
      "(863, 8)\n",
      "Train acc 0.6234067207415991\n",
      "Test acc 0.6458333333333334\n"
     ]
    }
   ],
   "source": [
    "model = LogisticRegression(max_iter=1e20)\n",
    "model.fit(ret_df_train_rc, ret_y_train)\n",
    "print(ret_df_train_rc.shape)\n",
    "print('Train acc', model.score(ret_df_train_rc, ret_y_train))\n",
    "print('Test acc', model.score(ret_df_test_rc, ret_y_test))"
   ]
  },
  {
   "cell_type": "markdown",
   "id": "large-scanner",
   "metadata": {},
   "source": [
    "#### Results with VIF reduction and StandardScaler"
   ]
  },
  {
   "cell_type": "code",
   "execution_count": 61,
   "id": "automotive-monthly",
   "metadata": {},
   "outputs": [
    {
     "name": "stdout",
     "output_type": "stream",
     "text": [
      "(863, 8)\n",
      "Train acc 0.6349942062572422\n",
      "Test acc 0.6458333333333334\n"
     ]
    }
   ],
   "source": [
    "st_sc = StandardScaler()\n",
    "ret_df_train_rc_scaled = st_sc.fit_transform(ret_df_train_rc)\n",
    "\n",
    "model = LogisticRegression(max_iter=1e20)\n",
    "model.fit(ret_df_train_rc_scaled, ret_y_train)\n",
    "print(ret_df_train_rc_scaled.shape)\n",
    "print('Train acc', model.score(ret_df_train_rc_scaled, ret_y_train))\n",
    "print('Test acc', model.score(st_sc.transform(ret_df_test_rc), ret_y_test))\n"
   ]
  },
  {
   "cell_type": "markdown",
   "id": "5e1842b6",
   "metadata": {},
   "source": [
    "#### Results with feature selection based on correlation matrix"
   ]
  },
  {
   "cell_type": "code",
   "execution_count": 62,
   "id": "f31c7e54",
   "metadata": {},
   "outputs": [
    {
     "name": "stdout",
     "output_type": "stream",
     "text": [
      "(863, 7)\n",
      "Train acc 0.6326767091541136\n",
      "Test acc 0.6319444444444444\n"
     ]
    }
   ],
   "source": [
    "ret_df_train_dc=ret_prep.DeleteCorrelated(ret_df_train)\n",
    "ret_df_test_dc = ret_df_test.loc[:, ret_df_train_dc.columns]\n",
    "model = LogisticRegression(max_iter=1e20)\n",
    "model.fit(ret_df_train_dc, ret_y_train)\n",
    "print(ret_df_train_dc.shape)\n",
    "print('Train acc', model.score(ret_df_train_dc, ret_y_train))\n",
    "print('Test acc', model.score(ret_df_test_dc, ret_y_test))"
   ]
  },
  {
   "cell_type": "markdown",
   "id": "automotive-croatia",
   "metadata": {},
   "source": [
    "## Retinopathy modelling"
   ]
  },
  {
   "cell_type": "code",
   "execution_count": 64,
   "id": "numerous-enforcement",
   "metadata": {
    "scrolled": false
   },
   "outputs": [
    {
     "name": "stdout",
     "output_type": "stream",
     "text": [
      "\n",
      "After collinearity cleaning? True. After scaling? True. After target balancing? True\n",
      "GD\n"
     ]
    },
    {
     "data": {
      "application/vnd.jupyter.widget-view+json": {
       "model_id": "77dcd923fc2d48a49c293334aac65651",
       "version_major": 2,
       "version_minor": 0
      },
      "text/plain": [
       "HBox(children=(FloatProgress(value=0.0, max=200.0), HTML(value='')))"
      ]
     },
     "metadata": {},
     "output_type": "display_data"
    },
    {
     "name": "stdout",
     "output_type": "stream",
     "text": [
      "\n",
      "Any non-zero predictions on train data? True\n",
      "Test accuracy: 0.51\n",
      "SGD\n"
     ]
    },
    {
     "data": {
      "application/vnd.jupyter.widget-view+json": {
       "model_id": "f52456ed6e354979ba141d1298215e2e",
       "version_major": 2,
       "version_minor": 0
      },
      "text/plain": [
       "HBox(children=(FloatProgress(value=0.0, max=200.0), HTML(value='')))"
      ]
     },
     "metadata": {},
     "output_type": "display_data"
    },
    {
     "name": "stdout",
     "output_type": "stream",
     "text": [
      "\n",
      "Any non-zero predictions on train data? True\n",
      "Test accuracy: 0.6\n",
      "IRLS\n"
     ]
    },
    {
     "data": {
      "application/vnd.jupyter.widget-view+json": {
       "model_id": "46981295e5eb4813b047ea63a61c254d",
       "version_major": 2,
       "version_minor": 0
      },
      "text/plain": [
       "HBox(children=(FloatProgress(value=0.0, max=200.0), HTML(value='')))"
      ]
     },
     "metadata": {},
     "output_type": "display_data"
    },
    {
     "name": "stdout",
     "output_type": "stream",
     "text": [
      "\n",
      "Any non-zero predictions on train data? True\n",
      "Test accuracy: 0.51\n",
      "ADAM\n"
     ]
    },
    {
     "data": {
      "application/vnd.jupyter.widget-view+json": {
       "model_id": "623ac63907604b02ae3f52352cdf8755",
       "version_major": 2,
       "version_minor": 0
      },
      "text/plain": [
       "HBox(children=(FloatProgress(value=0.0, max=200.0), HTML(value='')))"
      ]
     },
     "metadata": {},
     "output_type": "display_data"
    },
    {
     "name": "stdout",
     "output_type": "stream",
     "text": [
      "\n",
      "Any non-zero predictions on train data? True\n",
      "Test accuracy: 0.51\n",
      "\n",
      "After collinearity cleaning? True. After scaling? False. After target balancing? True\n",
      "GD\n"
     ]
    },
    {
     "data": {
      "application/vnd.jupyter.widget-view+json": {
       "model_id": "1755ade2f6b64849809ad331ebf3fa1f",
       "version_major": 2,
       "version_minor": 0
      },
      "text/plain": [
       "HBox(children=(FloatProgress(value=0.0, max=200.0), HTML(value='')))"
      ]
     },
     "metadata": {},
     "output_type": "display_data"
    },
    {
     "name": "stdout",
     "output_type": "stream",
     "text": [
      "\n",
      "Any non-zero predictions on train data? True\n",
      "Test accuracy: 0.53\n",
      "SGD\n"
     ]
    },
    {
     "data": {
      "application/vnd.jupyter.widget-view+json": {
       "model_id": "a91cc1b3d0b4491fb5dfbd143287be26",
       "version_major": 2,
       "version_minor": 0
      },
      "text/plain": [
       "HBox(children=(FloatProgress(value=0.0, max=200.0), HTML(value='')))"
      ]
     },
     "metadata": {},
     "output_type": "display_data"
    },
    {
     "name": "stdout",
     "output_type": "stream",
     "text": [
      "\n",
      "Any non-zero predictions on train data? True\n",
      "Test accuracy: 0.53\n",
      "IRLS\n"
     ]
    },
    {
     "data": {
      "application/vnd.jupyter.widget-view+json": {
       "model_id": "2784027d4cf149029aeb25c640156736",
       "version_major": 2,
       "version_minor": 0
      },
      "text/plain": [
       "HBox(children=(FloatProgress(value=0.0, max=200.0), HTML(value='')))"
      ]
     },
     "metadata": {},
     "output_type": "display_data"
    },
    {
     "name": "stdout",
     "output_type": "stream",
     "text": [
      "\n",
      "Any non-zero predictions on train data? True\n",
      "Test accuracy: 0.51\n",
      "ADAM\n"
     ]
    },
    {
     "data": {
      "application/vnd.jupyter.widget-view+json": {
       "model_id": "878605bf0dc645ff92dc4267a422e036",
       "version_major": 2,
       "version_minor": 0
      },
      "text/plain": [
       "HBox(children=(FloatProgress(value=0.0, max=200.0), HTML(value='')))"
      ]
     },
     "metadata": {},
     "output_type": "display_data"
    },
    {
     "name": "stdout",
     "output_type": "stream",
     "text": [
      "\n",
      "Any non-zero predictions on train data? True\n",
      "Test accuracy: 0.51\n",
      "\n",
      "After collinearity cleaning? True. After scaling? True. After target balancing? False\n",
      "GD\n"
     ]
    },
    {
     "data": {
      "application/vnd.jupyter.widget-view+json": {
       "model_id": "ecab0359a1cc4b769e4cf03b082b6e4f",
       "version_major": 2,
       "version_minor": 0
      },
      "text/plain": [
       "HBox(children=(FloatProgress(value=0.0, max=200.0), HTML(value='')))"
      ]
     },
     "metadata": {},
     "output_type": "display_data"
    },
    {
     "name": "stdout",
     "output_type": "stream",
     "text": [
      "\n",
      "Any non-zero predictions on train data? True\n",
      "Test accuracy: 0.52\n",
      "SGD\n"
     ]
    },
    {
     "data": {
      "application/vnd.jupyter.widget-view+json": {
       "model_id": "94022c07666c40a59d8bc8f999812142",
       "version_major": 2,
       "version_minor": 0
      },
      "text/plain": [
       "HBox(children=(FloatProgress(value=0.0, max=200.0), HTML(value='')))"
      ]
     },
     "metadata": {},
     "output_type": "display_data"
    },
    {
     "name": "stdout",
     "output_type": "stream",
     "text": [
      "\n",
      "Any non-zero predictions on train data? False\n",
      "Test accuracy: 0.47\n",
      "IRLS\n"
     ]
    },
    {
     "data": {
      "application/vnd.jupyter.widget-view+json": {
       "model_id": "07bb0aef739443c68dd7d9b3c6b4b83c",
       "version_major": 2,
       "version_minor": 0
      },
      "text/plain": [
       "HBox(children=(FloatProgress(value=0.0, max=200.0), HTML(value='')))"
      ]
     },
     "metadata": {},
     "output_type": "display_data"
    },
    {
     "name": "stdout",
     "output_type": "stream",
     "text": [
      "\n",
      "Any non-zero predictions on train data? True\n",
      "Test accuracy: 0.65\n",
      "ADAM\n"
     ]
    },
    {
     "data": {
      "application/vnd.jupyter.widget-view+json": {
       "model_id": "b4d01457e6cb4619a9df94634a9b0ae8",
       "version_major": 2,
       "version_minor": 0
      },
      "text/plain": [
       "HBox(children=(FloatProgress(value=0.0, max=200.0), HTML(value='')))"
      ]
     },
     "metadata": {},
     "output_type": "display_data"
    },
    {
     "name": "stdout",
     "output_type": "stream",
     "text": [
      "\n",
      "Any non-zero predictions on train data? True\n",
      "Test accuracy: 0.64\n",
      "\n",
      "After collinearity cleaning? True. After scaling? False. After target balancing? False\n",
      "GD\n"
     ]
    },
    {
     "data": {
      "application/vnd.jupyter.widget-view+json": {
       "model_id": "4e692170ae9d4590b6e8458205b77e6d",
       "version_major": 2,
       "version_minor": 0
      },
      "text/plain": [
       "HBox(children=(FloatProgress(value=0.0, max=200.0), HTML(value='')))"
      ]
     },
     "metadata": {},
     "output_type": "display_data"
    },
    {
     "name": "stdout",
     "output_type": "stream",
     "text": [
      "\n",
      "Any non-zero predictions on train data? False\n",
      "Test accuracy: 0.47\n",
      "SGD\n"
     ]
    },
    {
     "data": {
      "application/vnd.jupyter.widget-view+json": {
       "model_id": "50977cf8d049487eb47d059b4d2f7884",
       "version_major": 2,
       "version_minor": 0
      },
      "text/plain": [
       "HBox(children=(FloatProgress(value=0.0, max=200.0), HTML(value='')))"
      ]
     },
     "metadata": {},
     "output_type": "display_data"
    },
    {
     "name": "stdout",
     "output_type": "stream",
     "text": [
      "\n",
      "Any non-zero predictions on train data? False\n",
      "Test accuracy: 0.47\n",
      "IRLS\n"
     ]
    },
    {
     "data": {
      "application/vnd.jupyter.widget-view+json": {
       "model_id": "ae950e2d1aa5448288d1aa3db20e1944",
       "version_major": 2,
       "version_minor": 0
      },
      "text/plain": [
       "HBox(children=(FloatProgress(value=0.0, max=200.0), HTML(value='')))"
      ]
     },
     "metadata": {},
     "output_type": "display_data"
    },
    {
     "name": "stdout",
     "output_type": "stream",
     "text": [
      "\n",
      "Any non-zero predictions on train data? True\n",
      "Test accuracy: 0.65\n",
      "ADAM\n"
     ]
    },
    {
     "data": {
      "application/vnd.jupyter.widget-view+json": {
       "model_id": "bf5ca596b1e24638bbdb57e9c3c3f5d0",
       "version_major": 2,
       "version_minor": 0
      },
      "text/plain": [
       "HBox(children=(FloatProgress(value=0.0, max=200.0), HTML(value='')))"
      ]
     },
     "metadata": {},
     "output_type": "display_data"
    },
    {
     "name": "stdout",
     "output_type": "stream",
     "text": [
      "\n",
      "Any non-zero predictions on train data? True\n",
      "Test accuracy: 0.61\n",
      "\n",
      "After collinearity cleaning? False. After scaling? True. After target balancing? True\n",
      "GD\n"
     ]
    },
    {
     "data": {
      "application/vnd.jupyter.widget-view+json": {
       "model_id": "a25d5373a3fc4c00835aa0cb4b514f49",
       "version_major": 2,
       "version_minor": 0
      },
      "text/plain": [
       "HBox(children=(FloatProgress(value=0.0, max=200.0), HTML(value='')))"
      ]
     },
     "metadata": {},
     "output_type": "display_data"
    },
    {
     "name": "stdout",
     "output_type": "stream",
     "text": [
      "\n",
      "Any non-zero predictions on train data? True\n",
      "Test accuracy: 0.54\n",
      "SGD\n"
     ]
    },
    {
     "data": {
      "application/vnd.jupyter.widget-view+json": {
       "model_id": "4680cdb6eb5f451897f764e4b05d3f1d",
       "version_major": 2,
       "version_minor": 0
      },
      "text/plain": [
       "HBox(children=(FloatProgress(value=0.0, max=200.0), HTML(value='')))"
      ]
     },
     "metadata": {},
     "output_type": "display_data"
    },
    {
     "name": "stdout",
     "output_type": "stream",
     "text": [
      "\n",
      "Any non-zero predictions on train data? True\n",
      "Test accuracy: 0.56\n",
      "IRLS\n"
     ]
    },
    {
     "data": {
      "application/vnd.jupyter.widget-view+json": {
       "model_id": "a816119e932b4f4d87bb9c3edf01d65d",
       "version_major": 2,
       "version_minor": 0
      },
      "text/plain": [
       "HBox(children=(FloatProgress(value=0.0, max=200.0), HTML(value='')))"
      ]
     },
     "metadata": {},
     "output_type": "display_data"
    },
    {
     "name": "stdout",
     "output_type": "stream",
     "text": [
      "\n",
      "Any non-zero predictions on train data? True\n",
      "Test accuracy: 0.52\n",
      "ADAM\n"
     ]
    },
    {
     "data": {
      "application/vnd.jupyter.widget-view+json": {
       "model_id": "ad65df7bed4c42899b688bcdac424c9d",
       "version_major": 2,
       "version_minor": 0
      },
      "text/plain": [
       "HBox(children=(FloatProgress(value=0.0, max=200.0), HTML(value='')))"
      ]
     },
     "metadata": {},
     "output_type": "display_data"
    },
    {
     "name": "stdout",
     "output_type": "stream",
     "text": [
      "\n",
      "Any non-zero predictions on train data? True\n",
      "Test accuracy: 0.5\n",
      "\n",
      "After collinearity cleaning? False. After scaling? False. After target balancing? True\n",
      "GD\n"
     ]
    },
    {
     "data": {
      "application/vnd.jupyter.widget-view+json": {
       "model_id": "9d34f6097cd54ab7bfe6c53b296e89bb",
       "version_major": 2,
       "version_minor": 0
      },
      "text/plain": [
       "HBox(children=(FloatProgress(value=0.0, max=200.0), HTML(value='')))"
      ]
     },
     "metadata": {},
     "output_type": "display_data"
    },
    {
     "name": "stdout",
     "output_type": "stream",
     "text": [
      "\n",
      "Any non-zero predictions on train data? True\n",
      "Test accuracy: 0.57\n",
      "SGD\n"
     ]
    },
    {
     "data": {
      "application/vnd.jupyter.widget-view+json": {
       "model_id": "a7ac2105ff6f4bfca617b83ebfb7c99c",
       "version_major": 2,
       "version_minor": 0
      },
      "text/plain": [
       "HBox(children=(FloatProgress(value=0.0, max=200.0), HTML(value='')))"
      ]
     },
     "metadata": {},
     "output_type": "display_data"
    },
    {
     "name": "stdout",
     "output_type": "stream",
     "text": [
      "\n",
      "Any non-zero predictions on train data? True\n",
      "Test accuracy: 0.47\n",
      "IRLS\n"
     ]
    },
    {
     "data": {
      "application/vnd.jupyter.widget-view+json": {
       "model_id": "9e32063086eb421b9b23a00a08a62d1e",
       "version_major": 2,
       "version_minor": 0
      },
      "text/plain": [
       "HBox(children=(FloatProgress(value=0.0, max=200.0), HTML(value='')))"
      ]
     },
     "metadata": {},
     "output_type": "display_data"
    },
    {
     "name": "stdout",
     "output_type": "stream",
     "text": [
      "\n",
      "Any non-zero predictions on train data? True\n",
      "Test accuracy: 0.52\n",
      "ADAM\n"
     ]
    },
    {
     "data": {
      "application/vnd.jupyter.widget-view+json": {
       "model_id": "f7b092a1d5e2461b97cacc68d0e0a039",
       "version_major": 2,
       "version_minor": 0
      },
      "text/plain": [
       "HBox(children=(FloatProgress(value=0.0, max=200.0), HTML(value='')))"
      ]
     },
     "metadata": {},
     "output_type": "display_data"
    },
    {
     "name": "stdout",
     "output_type": "stream",
     "text": [
      "\n",
      "Any non-zero predictions on train data? True\n",
      "Test accuracy: 0.44\n",
      "\n",
      "After collinearity cleaning? False. After scaling? True. After target balancing? False\n",
      "GD\n"
     ]
    },
    {
     "data": {
      "application/vnd.jupyter.widget-view+json": {
       "model_id": "46f581c71a194959ad80b2d36cd8dcf9",
       "version_major": 2,
       "version_minor": 0
      },
      "text/plain": [
       "HBox(children=(FloatProgress(value=0.0, max=200.0), HTML(value='')))"
      ]
     },
     "metadata": {},
     "output_type": "display_data"
    },
    {
     "name": "stdout",
     "output_type": "stream",
     "text": [
      "\n",
      "Any non-zero predictions on train data? True\n",
      "Test accuracy: 0.45\n",
      "SGD\n"
     ]
    },
    {
     "data": {
      "application/vnd.jupyter.widget-view+json": {
       "model_id": "90d111b4c34e435581d9c2446dd3e306",
       "version_major": 2,
       "version_minor": 0
      },
      "text/plain": [
       "HBox(children=(FloatProgress(value=0.0, max=200.0), HTML(value='')))"
      ]
     },
     "metadata": {},
     "output_type": "display_data"
    },
    {
     "name": "stdout",
     "output_type": "stream",
     "text": [
      "\n",
      "Any non-zero predictions on train data? False\n",
      "Test accuracy: 0.47\n",
      "IRLS\n"
     ]
    },
    {
     "data": {
      "application/vnd.jupyter.widget-view+json": {
       "model_id": "34fd4e1c89d14155b916871ffd36c0e5",
       "version_major": 2,
       "version_minor": 0
      },
      "text/plain": [
       "HBox(children=(FloatProgress(value=0.0, max=200.0), HTML(value='')))"
      ]
     },
     "metadata": {},
     "output_type": "display_data"
    },
    {
     "name": "stdout",
     "output_type": "stream",
     "text": [
      "\n",
      "Any non-zero predictions on train data? True\n",
      "Test accuracy: 0.7\n",
      "ADAM\n"
     ]
    },
    {
     "data": {
      "application/vnd.jupyter.widget-view+json": {
       "model_id": "36e5c952a6094ed39452bbe4b926d829",
       "version_major": 2,
       "version_minor": 0
      },
      "text/plain": [
       "HBox(children=(FloatProgress(value=0.0, max=200.0), HTML(value='')))"
      ]
     },
     "metadata": {},
     "output_type": "display_data"
    },
    {
     "name": "stdout",
     "output_type": "stream",
     "text": [
      "\n",
      "Any non-zero predictions on train data? True\n",
      "Test accuracy: 0.66\n",
      "\n",
      "After collinearity cleaning? False. After scaling? False. After target balancing? False\n",
      "GD\n"
     ]
    },
    {
     "data": {
      "application/vnd.jupyter.widget-view+json": {
       "model_id": "a645b67dc1c34f5a9835b9bad8462707",
       "version_major": 2,
       "version_minor": 0
      },
      "text/plain": [
       "HBox(children=(FloatProgress(value=0.0, max=200.0), HTML(value='')))"
      ]
     },
     "metadata": {},
     "output_type": "display_data"
    },
    {
     "name": "stdout",
     "output_type": "stream",
     "text": [
      "\n",
      "Any non-zero predictions on train data? False\n",
      "Test accuracy: 0.47\n",
      "SGD\n"
     ]
    },
    {
     "data": {
      "application/vnd.jupyter.widget-view+json": {
       "model_id": "f58593ee83f64f3b94544026b1515c50",
       "version_major": 2,
       "version_minor": 0
      },
      "text/plain": [
       "HBox(children=(FloatProgress(value=0.0, max=200.0), HTML(value='')))"
      ]
     },
     "metadata": {},
     "output_type": "display_data"
    },
    {
     "name": "stdout",
     "output_type": "stream",
     "text": [
      "\n",
      "Any non-zero predictions on train data? False\n",
      "Test accuracy: 0.47\n",
      "IRLS\n"
     ]
    },
    {
     "data": {
      "application/vnd.jupyter.widget-view+json": {
       "model_id": "bc940487541f4119997ecc2c97b11d57",
       "version_major": 2,
       "version_minor": 0
      },
      "text/plain": [
       "HBox(children=(FloatProgress(value=0.0, max=200.0), HTML(value='')))"
      ]
     },
     "metadata": {},
     "output_type": "display_data"
    },
    {
     "name": "stdout",
     "output_type": "stream",
     "text": [
      "\n",
      "Any non-zero predictions on train data? True\n",
      "Test accuracy: 0.7\n",
      "ADAM\n"
     ]
    },
    {
     "data": {
      "application/vnd.jupyter.widget-view+json": {
       "model_id": "714e3cfa215d433abaca4af635991004",
       "version_major": 2,
       "version_minor": 0
      },
      "text/plain": [
       "HBox(children=(FloatProgress(value=0.0, max=200.0), HTML(value='')))"
      ]
     },
     "metadata": {},
     "output_type": "display_data"
    },
    {
     "name": "stdout",
     "output_type": "stream",
     "text": [
      "\n",
      "Any non-zero predictions on train data? True\n",
      "Test accuracy: 0.67\n"
     ]
    }
   ],
   "source": [
    "test_model_approaches(ret_df_train_rc, ret_df_train, ret_df_test_rc, ret_df_test, ret_y_train, ret_y_test)"
   ]
  },
  {
   "cell_type": "code",
   "execution_count": 69,
   "id": "harmful-facility",
   "metadata": {},
   "outputs": [
    {
     "name": "stdout",
     "output_type": "stream",
     "text": [
      "LDA\n",
      "Test acc 0.6493055555555556\n",
      "Test F1-score 0.6666666666666667\n",
      "QDA\n",
      "Test acc 0.5625\n",
      "Test F1-score 0.4\n",
      "LR\n",
      "Test acc 0.6458333333333334\n",
      "Test F1-score 0.6554054054054054\n",
      "kNN\n",
      "Test acc 0.5590277777777778\n",
      "Test F1-score 0.5752508361204014\n"
     ]
    }
   ],
   "source": [
    "for m_name, m in sklearn_models.items():\n",
    "    m.fit(ret_df_train_rc.to_numpy(), ret_y_train.to_numpy())\n",
    "    print(m_name)\n",
    "    print('Test acc', (measures.accuracy(m.predict(ret_df_test_rc.to_numpy()), ret_y_test)))\n",
    "    print('Test F1-score', (measures.f_measure(m.predict(ret_df_test_rc.to_numpy()), ret_y_test)))"
   ]
  },
  {
   "cell_type": "markdown",
   "id": "722ab354",
   "metadata": {},
   "source": [
    "# 3. Breast Cancer Wisconsin\n",
    "\n",
    "No missing values. Special treatment: columns `id` and `Unnamed: 32`"
   ]
  },
  {
   "cell_type": "code",
   "execution_count": 70,
   "id": "031f151b",
   "metadata": {},
   "outputs": [
    {
     "data": {
      "text/html": [
       "<div>\n",
       "<style scoped>\n",
       "    .dataframe tbody tr th:only-of-type {\n",
       "        vertical-align: middle;\n",
       "    }\n",
       "\n",
       "    .dataframe tbody tr th {\n",
       "        vertical-align: top;\n",
       "    }\n",
       "\n",
       "    .dataframe thead th {\n",
       "        text-align: right;\n",
       "    }\n",
       "</style>\n",
       "<table border=\"1\" class=\"dataframe\">\n",
       "  <thead>\n",
       "    <tr style=\"text-align: right;\">\n",
       "      <th></th>\n",
       "      <th>id</th>\n",
       "      <th>diagnosis</th>\n",
       "      <th>radius_mean</th>\n",
       "      <th>texture_mean</th>\n",
       "      <th>perimeter_mean</th>\n",
       "      <th>area_mean</th>\n",
       "      <th>smoothness_mean</th>\n",
       "      <th>compactness_mean</th>\n",
       "      <th>concavity_mean</th>\n",
       "      <th>concave points_mean</th>\n",
       "      <th>...</th>\n",
       "      <th>texture_worst</th>\n",
       "      <th>perimeter_worst</th>\n",
       "      <th>area_worst</th>\n",
       "      <th>smoothness_worst</th>\n",
       "      <th>compactness_worst</th>\n",
       "      <th>concavity_worst</th>\n",
       "      <th>concave points_worst</th>\n",
       "      <th>symmetry_worst</th>\n",
       "      <th>fractal_dimension_worst</th>\n",
       "      <th>Unnamed: 32</th>\n",
       "    </tr>\n",
       "  </thead>\n",
       "  <tbody>\n",
       "    <tr>\n",
       "      <th>0</th>\n",
       "      <td>842302</td>\n",
       "      <td>M</td>\n",
       "      <td>17.99</td>\n",
       "      <td>10.38</td>\n",
       "      <td>122.80</td>\n",
       "      <td>1001.0</td>\n",
       "      <td>0.11840</td>\n",
       "      <td>0.27760</td>\n",
       "      <td>0.3001</td>\n",
       "      <td>0.14710</td>\n",
       "      <td>...</td>\n",
       "      <td>17.33</td>\n",
       "      <td>184.60</td>\n",
       "      <td>2019.0</td>\n",
       "      <td>0.1622</td>\n",
       "      <td>0.6656</td>\n",
       "      <td>0.7119</td>\n",
       "      <td>0.2654</td>\n",
       "      <td>0.4601</td>\n",
       "      <td>0.11890</td>\n",
       "      <td>NaN</td>\n",
       "    </tr>\n",
       "    <tr>\n",
       "      <th>1</th>\n",
       "      <td>842517</td>\n",
       "      <td>M</td>\n",
       "      <td>20.57</td>\n",
       "      <td>17.77</td>\n",
       "      <td>132.90</td>\n",
       "      <td>1326.0</td>\n",
       "      <td>0.08474</td>\n",
       "      <td>0.07864</td>\n",
       "      <td>0.0869</td>\n",
       "      <td>0.07017</td>\n",
       "      <td>...</td>\n",
       "      <td>23.41</td>\n",
       "      <td>158.80</td>\n",
       "      <td>1956.0</td>\n",
       "      <td>0.1238</td>\n",
       "      <td>0.1866</td>\n",
       "      <td>0.2416</td>\n",
       "      <td>0.1860</td>\n",
       "      <td>0.2750</td>\n",
       "      <td>0.08902</td>\n",
       "      <td>NaN</td>\n",
       "    </tr>\n",
       "    <tr>\n",
       "      <th>2</th>\n",
       "      <td>84300903</td>\n",
       "      <td>M</td>\n",
       "      <td>19.69</td>\n",
       "      <td>21.25</td>\n",
       "      <td>130.00</td>\n",
       "      <td>1203.0</td>\n",
       "      <td>0.10960</td>\n",
       "      <td>0.15990</td>\n",
       "      <td>0.1974</td>\n",
       "      <td>0.12790</td>\n",
       "      <td>...</td>\n",
       "      <td>25.53</td>\n",
       "      <td>152.50</td>\n",
       "      <td>1709.0</td>\n",
       "      <td>0.1444</td>\n",
       "      <td>0.4245</td>\n",
       "      <td>0.4504</td>\n",
       "      <td>0.2430</td>\n",
       "      <td>0.3613</td>\n",
       "      <td>0.08758</td>\n",
       "      <td>NaN</td>\n",
       "    </tr>\n",
       "    <tr>\n",
       "      <th>3</th>\n",
       "      <td>84348301</td>\n",
       "      <td>M</td>\n",
       "      <td>11.42</td>\n",
       "      <td>20.38</td>\n",
       "      <td>77.58</td>\n",
       "      <td>386.1</td>\n",
       "      <td>0.14250</td>\n",
       "      <td>0.28390</td>\n",
       "      <td>0.2414</td>\n",
       "      <td>0.10520</td>\n",
       "      <td>...</td>\n",
       "      <td>26.50</td>\n",
       "      <td>98.87</td>\n",
       "      <td>567.7</td>\n",
       "      <td>0.2098</td>\n",
       "      <td>0.8663</td>\n",
       "      <td>0.6869</td>\n",
       "      <td>0.2575</td>\n",
       "      <td>0.6638</td>\n",
       "      <td>0.17300</td>\n",
       "      <td>NaN</td>\n",
       "    </tr>\n",
       "    <tr>\n",
       "      <th>4</th>\n",
       "      <td>84358402</td>\n",
       "      <td>M</td>\n",
       "      <td>20.29</td>\n",
       "      <td>14.34</td>\n",
       "      <td>135.10</td>\n",
       "      <td>1297.0</td>\n",
       "      <td>0.10030</td>\n",
       "      <td>0.13280</td>\n",
       "      <td>0.1980</td>\n",
       "      <td>0.10430</td>\n",
       "      <td>...</td>\n",
       "      <td>16.67</td>\n",
       "      <td>152.20</td>\n",
       "      <td>1575.0</td>\n",
       "      <td>0.1374</td>\n",
       "      <td>0.2050</td>\n",
       "      <td>0.4000</td>\n",
       "      <td>0.1625</td>\n",
       "      <td>0.2364</td>\n",
       "      <td>0.07678</td>\n",
       "      <td>NaN</td>\n",
       "    </tr>\n",
       "  </tbody>\n",
       "</table>\n",
       "<p>5 rows × 33 columns</p>\n",
       "</div>"
      ],
      "text/plain": [
       "         id diagnosis  radius_mean  texture_mean  perimeter_mean  area_mean  \\\n",
       "0    842302         M        17.99         10.38          122.80     1001.0   \n",
       "1    842517         M        20.57         17.77          132.90     1326.0   \n",
       "2  84300903         M        19.69         21.25          130.00     1203.0   \n",
       "3  84348301         M        11.42         20.38           77.58      386.1   \n",
       "4  84358402         M        20.29         14.34          135.10     1297.0   \n",
       "\n",
       "   smoothness_mean  compactness_mean  concavity_mean  concave points_mean  \\\n",
       "0          0.11840           0.27760          0.3001              0.14710   \n",
       "1          0.08474           0.07864          0.0869              0.07017   \n",
       "2          0.10960           0.15990          0.1974              0.12790   \n",
       "3          0.14250           0.28390          0.2414              0.10520   \n",
       "4          0.10030           0.13280          0.1980              0.10430   \n",
       "\n",
       "   ...  texture_worst  perimeter_worst  area_worst  smoothness_worst  \\\n",
       "0  ...          17.33           184.60      2019.0            0.1622   \n",
       "1  ...          23.41           158.80      1956.0            0.1238   \n",
       "2  ...          25.53           152.50      1709.0            0.1444   \n",
       "3  ...          26.50            98.87       567.7            0.2098   \n",
       "4  ...          16.67           152.20      1575.0            0.1374   \n",
       "\n",
       "   compactness_worst  concavity_worst  concave points_worst  symmetry_worst  \\\n",
       "0             0.6656           0.7119                0.2654          0.4601   \n",
       "1             0.1866           0.2416                0.1860          0.2750   \n",
       "2             0.4245           0.4504                0.2430          0.3613   \n",
       "3             0.8663           0.6869                0.2575          0.6638   \n",
       "4             0.2050           0.4000                0.1625          0.2364   \n",
       "\n",
       "   fractal_dimension_worst  Unnamed: 32  \n",
       "0                  0.11890          NaN  \n",
       "1                  0.08902          NaN  \n",
       "2                  0.08758          NaN  \n",
       "3                  0.17300          NaN  \n",
       "4                  0.07678          NaN  \n",
       "\n",
       "[5 rows x 33 columns]"
      ]
     },
     "execution_count": 70,
     "metadata": {},
     "output_type": "execute_result"
    }
   ],
   "source": [
    "wdbc_df=pd.read_csv('data/wdbc.csv')\n",
    "\n",
    "wdbc_df.head()"
   ]
  },
  {
   "cell_type": "code",
   "execution_count": 71,
   "id": "fiscal-country",
   "metadata": {},
   "outputs": [
    {
     "data": {
      "text/plain": [
       "False"
      ]
     },
     "execution_count": 71,
     "metadata": {},
     "output_type": "execute_result"
    }
   ],
   "source": [
    "wdbc_df['Unnamed: 32'].any()"
   ]
  },
  {
   "cell_type": "code",
   "execution_count": 72,
   "id": "465aa873",
   "metadata": {
    "scrolled": false
   },
   "outputs": [
    {
     "name": "stdout",
     "output_type": "stream",
     "text": [
      "<class 'pandas.core.frame.DataFrame'>\n",
      "RangeIndex: 569 entries, 0 to 568\n",
      "Data columns (total 30 columns):\n",
      " #   Column                   Non-Null Count  Dtype  \n",
      "---  ------                   --------------  -----  \n",
      " 0   radius_mean              569 non-null    float64\n",
      " 1   texture_mean             569 non-null    float64\n",
      " 2   perimeter_mean           569 non-null    float64\n",
      " 3   area_mean                569 non-null    float64\n",
      " 4   smoothness_mean          569 non-null    float64\n",
      " 5   compactness_mean         569 non-null    float64\n",
      " 6   concavity_mean           569 non-null    float64\n",
      " 7   concave points_mean      569 non-null    float64\n",
      " 8   symmetry_mean            569 non-null    float64\n",
      " 9   fractal_dimension_mean   569 non-null    float64\n",
      " 10  radius_se                569 non-null    float64\n",
      " 11  texture_se               569 non-null    float64\n",
      " 12  perimeter_se             569 non-null    float64\n",
      " 13  area_se                  569 non-null    float64\n",
      " 14  smoothness_se            569 non-null    float64\n",
      " 15  compactness_se           569 non-null    float64\n",
      " 16  concavity_se             569 non-null    float64\n",
      " 17  concave points_se        569 non-null    float64\n",
      " 18  symmetry_se              569 non-null    float64\n",
      " 19  fractal_dimension_se     569 non-null    float64\n",
      " 20  radius_worst             569 non-null    float64\n",
      " 21  texture_worst            569 non-null    float64\n",
      " 22  perimeter_worst          569 non-null    float64\n",
      " 23  area_worst               569 non-null    float64\n",
      " 24  smoothness_worst         569 non-null    float64\n",
      " 25  compactness_worst        569 non-null    float64\n",
      " 26  concavity_worst          569 non-null    float64\n",
      " 27  concave points_worst     569 non-null    float64\n",
      " 28  symmetry_worst           569 non-null    float64\n",
      " 29  fractal_dimension_worst  569 non-null    float64\n",
      "dtypes: float64(30)\n",
      "memory usage: 133.5 KB\n"
     ]
    }
   ],
   "source": [
    "y_wdbc=wdbc_df['diagnosis']==\"M\"\n",
    "X_wdbc=wdbc_df.drop(columns=[\"id\",\"diagnosis\",\"Unnamed: 32\"])\n",
    "\n",
    "X_wdbc.info()"
   ]
  },
  {
   "cell_type": "markdown",
   "id": "e67c956f",
   "metadata": {},
   "source": [
    "As we can see all features are non-null numeric type variables. Which means that in this case one-hot-encoding won't be needed. The only things left to do is to remove collinear and multicollinear ones (maybe remove some outliers? from data) and split data into training and testing sets."
   ]
  },
  {
   "cell_type": "markdown",
   "id": "75487cb6",
   "metadata": {},
   "source": [
    "Correlation matrix showing that we should probably remove a fair number of variables"
   ]
  },
  {
   "cell_type": "code",
   "execution_count": 73,
   "id": "sensitive-sailing",
   "metadata": {},
   "outputs": [],
   "source": [
    "prep_wdbc = Preprocessor()"
   ]
  },
  {
   "cell_type": "code",
   "execution_count": 74,
   "id": "rubber-trunk",
   "metadata": {},
   "outputs": [],
   "source": [
    "wdbc_train, wdbc_test, y_wdbc_train, y_wdbc_test = prep_wdbc.train_test_split(X_wdbc, y_wdbc)"
   ]
  },
  {
   "cell_type": "markdown",
   "id": "f4ffdc56",
   "metadata": {},
   "source": [
    "Removal of variables based only on correlation"
   ]
  },
  {
   "cell_type": "code",
   "execution_count": 75,
   "id": "fbb9906c",
   "metadata": {},
   "outputs": [
    {
     "data": {
      "text/plain": [
       "Index(['radius_mean', 'texture_mean', 'smoothness_mean', 'compactness_mean',\n",
       "       'symmetry_mean', 'fractal_dimension_mean', 'radius_se', 'texture_se',\n",
       "       'smoothness_se', 'compactness_se', 'concave points_se', 'symmetry_se',\n",
       "       'fractal_dimension_se', 'symmetry_worst'],\n",
       "      dtype='object')"
      ]
     },
     "execution_count": 75,
     "metadata": {},
     "output_type": "execute_result"
    }
   ],
   "source": [
    "X_wdbc_cleaned_corr = prep_wdbc.DeleteCorrelated(wdbc_train,0.8)\n",
    "X_wdbc_cleaned_corr.columns"
   ]
  },
  {
   "cell_type": "markdown",
   "id": "1a23d06a",
   "metadata": {},
   "source": [
    "Removal of variables using Variance Inflation Factor (VIF)"
   ]
  },
  {
   "cell_type": "code",
   "execution_count": 76,
   "id": "e03d092f",
   "metadata": {},
   "outputs": [
    {
     "name": "stdout",
     "output_type": "stream",
     "text": [
      "Dropping radius_mean with vif=74555.20989645366\n",
      "Dropping radius_worst with vif=8244.025275576187\n",
      "Dropping perimeter_mean with vif=4028.9209258077544\n",
      "Dropping perimeter_worst with vif=676.29164619743\n",
      "Dropping fractal_dimension_mean with vif=567.1894117256846\n",
      "Dropping smoothness_worst with vif=385.8360454611827\n",
      "Dropping texture_worst with vif=342.2920455993646\n",
      "Dropping fractal_dimension_worst with vif=205.7118428714327\n",
      "Dropping symmetry_worst with vif=167.15056911649017\n",
      "Dropping concavity_mean with vif=153.86622087758778\n",
      "Dropping radius_se with vif=126.22043082379045\n",
      "Dropping concave points_worst with vif=106.69695974494662\n",
      "Dropping compactness_mean with vif=99.45183857146893\n",
      "Dropping symmetry_mean with vif=90.104345624357\n",
      "Dropping area_mean with vif=68.68597670546382\n",
      "Dropping perimeter_se with vif=50.447729694479854\n",
      "Dropping compactness_worst with vif=49.9699704227308\n",
      "Dropping smoothness_mean with vif=35.195884933078894\n",
      "Dropping texture_mean with vif=23.56921049774407\n",
      "Dropping concave points_se with vif=18.489081706743296\n",
      "Dropping compactness_se with vif=16.47338316214547\n",
      "Dropping concave points_mean with vif=14.432243978918176\n",
      "Dropping area_worst with vif=11.376093703336219\n",
      "7 numerical features left in dataset  0  categorical\n"
     ]
    },
    {
     "data": {
      "text/html": [
       "<div>\n",
       "<style scoped>\n",
       "    .dataframe tbody tr th:only-of-type {\n",
       "        vertical-align: middle;\n",
       "    }\n",
       "\n",
       "    .dataframe tbody tr th {\n",
       "        vertical-align: top;\n",
       "    }\n",
       "\n",
       "    .dataframe thead th {\n",
       "        text-align: right;\n",
       "    }\n",
       "</style>\n",
       "<table border=\"1\" class=\"dataframe\">\n",
       "  <thead>\n",
       "    <tr style=\"text-align: right;\">\n",
       "      <th></th>\n",
       "      <th>texture_se</th>\n",
       "      <th>area_se</th>\n",
       "      <th>smoothness_se</th>\n",
       "      <th>concavity_se</th>\n",
       "      <th>symmetry_se</th>\n",
       "      <th>fractal_dimension_se</th>\n",
       "      <th>concavity_worst</th>\n",
       "    </tr>\n",
       "  </thead>\n",
       "  <tbody>\n",
       "    <tr>\n",
       "      <th>268</th>\n",
       "      <td>1.2190</td>\n",
       "      <td>18.24</td>\n",
       "      <td>0.005518</td>\n",
       "      <td>0.025890</td>\n",
       "      <td>0.02593</td>\n",
       "      <td>0.002157</td>\n",
       "      <td>0.19920</td>\n",
       "    </tr>\n",
       "    <tr>\n",
       "      <th>469</th>\n",
       "      <td>1.7400</td>\n",
       "      <td>27.85</td>\n",
       "      <td>0.014590</td>\n",
       "      <td>0.049610</td>\n",
       "      <td>0.01807</td>\n",
       "      <td>0.005217</td>\n",
       "      <td>0.31860</td>\n",
       "    </tr>\n",
       "    <tr>\n",
       "      <th>419</th>\n",
       "      <td>1.6780</td>\n",
       "      <td>18.99</td>\n",
       "      <td>0.006908</td>\n",
       "      <td>0.006972</td>\n",
       "      <td>0.02694</td>\n",
       "      <td>0.002060</td>\n",
       "      <td>0.03582</td>\n",
       "    </tr>\n",
       "    <tr>\n",
       "      <th>532</th>\n",
       "      <td>0.4801</td>\n",
       "      <td>17.25</td>\n",
       "      <td>0.003828</td>\n",
       "      <td>0.007078</td>\n",
       "      <td>0.01054</td>\n",
       "      <td>0.001697</td>\n",
       "      <td>0.12060</td>\n",
       "    </tr>\n",
       "    <tr>\n",
       "      <th>320</th>\n",
       "      <td>1.4710</td>\n",
       "      <td>22.68</td>\n",
       "      <td>0.010490</td>\n",
       "      <td>0.040040</td>\n",
       "      <td>0.02719</td>\n",
       "      <td>0.007596</td>\n",
       "      <td>0.18980</td>\n",
       "    </tr>\n",
       "  </tbody>\n",
       "</table>\n",
       "</div>"
      ],
      "text/plain": [
       "     texture_se  area_se  smoothness_se  concavity_se  symmetry_se  \\\n",
       "268      1.2190    18.24       0.005518      0.025890      0.02593   \n",
       "469      1.7400    27.85       0.014590      0.049610      0.01807   \n",
       "419      1.6780    18.99       0.006908      0.006972      0.02694   \n",
       "532      0.4801    17.25       0.003828      0.007078      0.01054   \n",
       "320      1.4710    22.68       0.010490      0.040040      0.02719   \n",
       "\n",
       "     fractal_dimension_se  concavity_worst  \n",
       "268              0.002157          0.19920  \n",
       "469              0.005217          0.31860  \n",
       "419              0.002060          0.03582  \n",
       "532              0.001697          0.12060  \n",
       "320              0.007596          0.18980  "
      ]
     },
     "execution_count": 76,
     "metadata": {},
     "output_type": "execute_result"
    }
   ],
   "source": [
    "X_wdbc_cleaned_train = prep_wdbc.remove_multicollinearity_fit_transform(wdbc_train)\n",
    "X_wdbc_cleaned_train.tail()"
   ]
  },
  {
   "cell_type": "code",
   "execution_count": 77,
   "id": "varying-basement",
   "metadata": {},
   "outputs": [],
   "source": [
    "X_wdbc_cleaned_test = prep_wdbc.remove_multicollinearity_transform(wdbc_test)"
   ]
  },
  {
   "cell_type": "code",
   "execution_count": 79,
   "id": "interim-fluid",
   "metadata": {},
   "outputs": [
    {
     "data": {
      "text/plain": [
       "0.3706293706293706"
      ]
     },
     "execution_count": 79,
     "metadata": {},
     "output_type": "execute_result"
    }
   ],
   "source": [
    "y_wdbc_test.mean()"
   ]
  },
  {
   "cell_type": "code",
   "execution_count": 78,
   "id": "lovely-mumbai",
   "metadata": {},
   "outputs": [
    {
     "name": "stdout",
     "output_type": "stream",
     "text": [
      "\n",
      "After collinearity cleaning? True. After scaling? True. After target balancing? True\n",
      "GD\n"
     ]
    },
    {
     "data": {
      "application/vnd.jupyter.widget-view+json": {
       "model_id": "50207a4b68294a4f9f4bbb66a09a1e4d",
       "version_major": 2,
       "version_minor": 0
      },
      "text/plain": [
       "HBox(children=(FloatProgress(value=0.0, max=200.0), HTML(value='')))"
      ]
     },
     "metadata": {},
     "output_type": "display_data"
    },
    {
     "name": "stdout",
     "output_type": "stream",
     "text": [
      "\n",
      "Any non-zero predictions on train data? False\n",
      "Test accuracy: 0.63\n",
      "SGD\n"
     ]
    },
    {
     "data": {
      "application/vnd.jupyter.widget-view+json": {
       "model_id": "ff653fc332a64c23b4dbaca1a7c4d101",
       "version_major": 2,
       "version_minor": 0
      },
      "text/plain": [
       "HBox(children=(FloatProgress(value=0.0, max=200.0), HTML(value='')))"
      ]
     },
     "metadata": {},
     "output_type": "display_data"
    },
    {
     "name": "stdout",
     "output_type": "stream",
     "text": [
      "\n",
      "Any non-zero predictions on train data? True\n",
      "Test accuracy: 0.59\n",
      "IRLS\n"
     ]
    },
    {
     "data": {
      "application/vnd.jupyter.widget-view+json": {
       "model_id": "2e64d9ff6ea34b27801c83019f9361ad",
       "version_major": 2,
       "version_minor": 0
      },
      "text/plain": [
       "HBox(children=(FloatProgress(value=0.0, max=200.0), HTML(value='')))"
      ]
     },
     "metadata": {},
     "output_type": "display_data"
    },
    {
     "name": "stdout",
     "output_type": "stream",
     "text": [
      "\n",
      "Any non-zero predictions on train data? True\n",
      "Test accuracy: 0.53\n",
      "ADAM\n"
     ]
    },
    {
     "data": {
      "application/vnd.jupyter.widget-view+json": {
       "model_id": "0c468d28571d43069aa29c90e4d33f8e",
       "version_major": 2,
       "version_minor": 0
      },
      "text/plain": [
       "HBox(children=(FloatProgress(value=0.0, max=200.0), HTML(value='')))"
      ]
     },
     "metadata": {},
     "output_type": "display_data"
    },
    {
     "name": "stdout",
     "output_type": "stream",
     "text": [
      "\n",
      "Any non-zero predictions on train data? True\n",
      "Test accuracy: 0.48\n",
      "\n",
      "After collinearity cleaning? True. After scaling? False. After target balancing? True\n",
      "GD\n"
     ]
    },
    {
     "data": {
      "application/vnd.jupyter.widget-view+json": {
       "model_id": "fb0dd56885674950ad4df1844e43a405",
       "version_major": 2,
       "version_minor": 0
      },
      "text/plain": [
       "HBox(children=(FloatProgress(value=0.0, max=200.0), HTML(value='')))"
      ]
     },
     "metadata": {},
     "output_type": "display_data"
    },
    {
     "name": "stdout",
     "output_type": "stream",
     "text": [
      "\n",
      "Any non-zero predictions on train data? False\n",
      "Test accuracy: 0.63\n",
      "SGD\n"
     ]
    },
    {
     "data": {
      "application/vnd.jupyter.widget-view+json": {
       "model_id": "a18aca7f07cf4aefadb921915d17ab09",
       "version_major": 2,
       "version_minor": 0
      },
      "text/plain": [
       "HBox(children=(FloatProgress(value=0.0, max=200.0), HTML(value='')))"
      ]
     },
     "metadata": {},
     "output_type": "display_data"
    },
    {
     "name": "stdout",
     "output_type": "stream",
     "text": [
      "\n",
      "Any non-zero predictions on train data? False\n",
      "Test accuracy: 0.63\n",
      "IRLS\n"
     ]
    },
    {
     "data": {
      "application/vnd.jupyter.widget-view+json": {
       "model_id": "99d51a8254d24eda98f0bfa42372587c",
       "version_major": 2,
       "version_minor": 0
      },
      "text/plain": [
       "HBox(children=(FloatProgress(value=0.0, max=200.0), HTML(value='')))"
      ]
     },
     "metadata": {},
     "output_type": "display_data"
    },
    {
     "name": "stdout",
     "output_type": "stream",
     "text": [
      "\n",
      "Any non-zero predictions on train data? True\n",
      "Test accuracy: 0.53\n",
      "ADAM\n"
     ]
    },
    {
     "data": {
      "application/vnd.jupyter.widget-view+json": {
       "model_id": "d0cf2a944086456ca0c4c509d8ac274b",
       "version_major": 2,
       "version_minor": 0
      },
      "text/plain": [
       "HBox(children=(FloatProgress(value=0.0, max=200.0), HTML(value='')))"
      ]
     },
     "metadata": {},
     "output_type": "display_data"
    },
    {
     "name": "stdout",
     "output_type": "stream",
     "text": [
      "\n",
      "Any non-zero predictions on train data? False\n",
      "Test accuracy: 0.63\n",
      "\n",
      "After collinearity cleaning? True. After scaling? True. After target balancing? False\n",
      "GD\n"
     ]
    },
    {
     "data": {
      "application/vnd.jupyter.widget-view+json": {
       "model_id": "56305fe70f5a48b292b780f6cf7ca376",
       "version_major": 2,
       "version_minor": 0
      },
      "text/plain": [
       "HBox(children=(FloatProgress(value=0.0, max=200.0), HTML(value='')))"
      ]
     },
     "metadata": {},
     "output_type": "display_data"
    },
    {
     "name": "stdout",
     "output_type": "stream",
     "text": [
      "\n",
      "Any non-zero predictions on train data? False\n",
      "Test accuracy: 0.63\n",
      "SGD\n"
     ]
    },
    {
     "data": {
      "application/vnd.jupyter.widget-view+json": {
       "model_id": "6e29fab7f27c4e2489b0f880ff124aba",
       "version_major": 2,
       "version_minor": 0
      },
      "text/plain": [
       "HBox(children=(FloatProgress(value=0.0, max=200.0), HTML(value='')))"
      ]
     },
     "metadata": {},
     "output_type": "display_data"
    },
    {
     "name": "stdout",
     "output_type": "stream",
     "text": [
      "\n",
      "Any non-zero predictions on train data? False\n",
      "Test accuracy: 0.63\n",
      "IRLS\n"
     ]
    },
    {
     "data": {
      "application/vnd.jupyter.widget-view+json": {
       "model_id": "bd36272522134c039f2a26e8f75ca5b9",
       "version_major": 2,
       "version_minor": 0
      },
      "text/plain": [
       "HBox(children=(FloatProgress(value=0.0, max=200.0), HTML(value='')))"
      ]
     },
     "metadata": {},
     "output_type": "display_data"
    },
    {
     "name": "stdout",
     "output_type": "stream",
     "text": [
      "\n",
      "Any non-zero predictions on train data? True\n",
      "Test accuracy: 0.91\n",
      "ADAM\n"
     ]
    },
    {
     "data": {
      "application/vnd.jupyter.widget-view+json": {
       "model_id": "44eac176da27459dbe2d0a3a7f93e316",
       "version_major": 2,
       "version_minor": 0
      },
      "text/plain": [
       "HBox(children=(FloatProgress(value=0.0, max=200.0), HTML(value='')))"
      ]
     },
     "metadata": {},
     "output_type": "display_data"
    },
    {
     "name": "stdout",
     "output_type": "stream",
     "text": [
      "\n",
      "Any non-zero predictions on train data? True\n",
      "Test accuracy: 0.85\n",
      "\n",
      "After collinearity cleaning? True. After scaling? False. After target balancing? False\n",
      "GD\n"
     ]
    },
    {
     "data": {
      "application/vnd.jupyter.widget-view+json": {
       "model_id": "929ae2f272ed4813b9de3cf5e8ab4aa3",
       "version_major": 2,
       "version_minor": 0
      },
      "text/plain": [
       "HBox(children=(FloatProgress(value=0.0, max=200.0), HTML(value='')))"
      ]
     },
     "metadata": {},
     "output_type": "display_data"
    },
    {
     "name": "stdout",
     "output_type": "stream",
     "text": [
      "\n",
      "Any non-zero predictions on train data? False\n",
      "Test accuracy: 0.63\n",
      "SGD\n"
     ]
    },
    {
     "data": {
      "application/vnd.jupyter.widget-view+json": {
       "model_id": "34ba7377174d4c4c859d2aff034cfe4f",
       "version_major": 2,
       "version_minor": 0
      },
      "text/plain": [
       "HBox(children=(FloatProgress(value=0.0, max=200.0), HTML(value='')))"
      ]
     },
     "metadata": {},
     "output_type": "display_data"
    },
    {
     "name": "stdout",
     "output_type": "stream",
     "text": [
      "\n",
      "Any non-zero predictions on train data? False\n",
      "Test accuracy: 0.63\n",
      "IRLS\n"
     ]
    },
    {
     "data": {
      "application/vnd.jupyter.widget-view+json": {
       "model_id": "8a7b5fa2d30142b0b286aedfe7690c4c",
       "version_major": 2,
       "version_minor": 0
      },
      "text/plain": [
       "HBox(children=(FloatProgress(value=0.0, max=200.0), HTML(value='')))"
      ]
     },
     "metadata": {},
     "output_type": "display_data"
    },
    {
     "name": "stdout",
     "output_type": "stream",
     "text": [
      "\n",
      "Any non-zero predictions on train data? True\n",
      "Test accuracy: 0.91\n",
      "ADAM\n"
     ]
    },
    {
     "data": {
      "application/vnd.jupyter.widget-view+json": {
       "model_id": "8357be7d8e9745c2a20f6fa4c0a13367",
       "version_major": 2,
       "version_minor": 0
      },
      "text/plain": [
       "HBox(children=(FloatProgress(value=0.0, max=200.0), HTML(value='')))"
      ]
     },
     "metadata": {},
     "output_type": "display_data"
    },
    {
     "name": "stdout",
     "output_type": "stream",
     "text": [
      "\n",
      "Any non-zero predictions on train data? True\n",
      "Test accuracy: 0.87\n",
      "\n",
      "After collinearity cleaning? False. After scaling? True. After target balancing? True\n",
      "GD\n"
     ]
    },
    {
     "data": {
      "application/vnd.jupyter.widget-view+json": {
       "model_id": "6bb72ea385b5441a9f96496d2b85e804",
       "version_major": 2,
       "version_minor": 0
      },
      "text/plain": [
       "HBox(children=(FloatProgress(value=0.0, max=200.0), HTML(value='')))"
      ]
     },
     "metadata": {},
     "output_type": "display_data"
    },
    {
     "name": "stdout",
     "output_type": "stream",
     "text": [
      "\n",
      "Any non-zero predictions on train data? False\n",
      "Test accuracy: 0.63\n",
      "SGD\n"
     ]
    },
    {
     "data": {
      "application/vnd.jupyter.widget-view+json": {
       "model_id": "358c76d9c41d4409a666f555eae0a15f",
       "version_major": 2,
       "version_minor": 0
      },
      "text/plain": [
       "HBox(children=(FloatProgress(value=0.0, max=200.0), HTML(value='')))"
      ]
     },
     "metadata": {},
     "output_type": "display_data"
    },
    {
     "name": "stdout",
     "output_type": "stream",
     "text": [
      "\n",
      "Any non-zero predictions on train data? True\n",
      "Test accuracy: 0.64\n",
      "IRLS\n"
     ]
    },
    {
     "data": {
      "application/vnd.jupyter.widget-view+json": {
       "model_id": "ebc28f773f0b4f4bbdd623bbf7c1f0fb",
       "version_major": 2,
       "version_minor": 0
      },
      "text/plain": [
       "HBox(children=(FloatProgress(value=0.0, max=200.0), HTML(value='')))"
      ]
     },
     "metadata": {},
     "output_type": "display_data"
    },
    {
     "name": "stdout",
     "output_type": "stream",
     "text": [
      "\n",
      "Any non-zero predictions on train data? True\n",
      "Test accuracy: 0.52\n",
      "ADAM\n"
     ]
    },
    {
     "data": {
      "application/vnd.jupyter.widget-view+json": {
       "model_id": "59bce2b434f74bd1b0813a7fbc8ac7f9",
       "version_major": 2,
       "version_minor": 0
      },
      "text/plain": [
       "HBox(children=(FloatProgress(value=0.0, max=200.0), HTML(value='')))"
      ]
     },
     "metadata": {},
     "output_type": "display_data"
    },
    {
     "name": "stdout",
     "output_type": "stream",
     "text": [
      "\n",
      "Any non-zero predictions on train data? True\n",
      "Test accuracy: 0.46\n",
      "\n",
      "After collinearity cleaning? False. After scaling? False. After target balancing? True\n",
      "GD\n"
     ]
    },
    {
     "data": {
      "application/vnd.jupyter.widget-view+json": {
       "model_id": "e3c5021d062a4eef99e276c9c701ea34",
       "version_major": 2,
       "version_minor": 0
      },
      "text/plain": [
       "HBox(children=(FloatProgress(value=0.0, max=200.0), HTML(value='')))"
      ]
     },
     "metadata": {},
     "output_type": "display_data"
    },
    {
     "name": "stdout",
     "output_type": "stream",
     "text": [
      "Early stopping\n",
      "\n",
      "Any non-zero predictions on train data? False\n",
      "Test accuracy: 0.63\n",
      "SGD\n"
     ]
    },
    {
     "data": {
      "application/vnd.jupyter.widget-view+json": {
       "model_id": "7b31909b15c44992bb4abe5bcc7fa43a",
       "version_major": 2,
       "version_minor": 0
      },
      "text/plain": [
       "HBox(children=(FloatProgress(value=0.0, max=200.0), HTML(value='')))"
      ]
     },
     "metadata": {},
     "output_type": "display_data"
    },
    {
     "name": "stdout",
     "output_type": "stream",
     "text": [
      "Early stopping\n",
      "\n",
      "Any non-zero predictions on train data? False\n",
      "Test accuracy: 0.63\n",
      "IRLS\n"
     ]
    },
    {
     "data": {
      "application/vnd.jupyter.widget-view+json": {
       "model_id": "6563838725a44d0da4624329de75c0ac",
       "version_major": 2,
       "version_minor": 0
      },
      "text/plain": [
       "HBox(children=(FloatProgress(value=0.0, max=200.0), HTML(value='')))"
      ]
     },
     "metadata": {},
     "output_type": "display_data"
    },
    {
     "name": "stdout",
     "output_type": "stream",
     "text": [
      "\n",
      "Any non-zero predictions on train data? True\n",
      "Test accuracy: 0.52\n",
      "ADAM\n"
     ]
    },
    {
     "data": {
      "application/vnd.jupyter.widget-view+json": {
       "model_id": "c78fe56cd4a348fca9f0e0e948ad33fa",
       "version_major": 2,
       "version_minor": 0
      },
      "text/plain": [
       "HBox(children=(FloatProgress(value=0.0, max=200.0), HTML(value='')))"
      ]
     },
     "metadata": {},
     "output_type": "display_data"
    },
    {
     "name": "stdout",
     "output_type": "stream",
     "text": [
      "\n",
      "Any non-zero predictions on train data? False\n",
      "Test accuracy: 0.63\n",
      "\n",
      "After collinearity cleaning? False. After scaling? True. After target balancing? False\n",
      "GD\n"
     ]
    },
    {
     "data": {
      "application/vnd.jupyter.widget-view+json": {
       "model_id": "f2c2348475804f499bc649cfcba70a07",
       "version_major": 2,
       "version_minor": 0
      },
      "text/plain": [
       "HBox(children=(FloatProgress(value=0.0, max=200.0), HTML(value='')))"
      ]
     },
     "metadata": {},
     "output_type": "display_data"
    },
    {
     "name": "stdout",
     "output_type": "stream",
     "text": [
      "\n",
      "Any non-zero predictions on train data? True\n",
      "Test accuracy: 0.64\n",
      "SGD\n"
     ]
    },
    {
     "data": {
      "application/vnd.jupyter.widget-view+json": {
       "model_id": "c3845ae313ce4e95bfe8c4d3e2621390",
       "version_major": 2,
       "version_minor": 0
      },
      "text/plain": [
       "HBox(children=(FloatProgress(value=0.0, max=200.0), HTML(value='')))"
      ]
     },
     "metadata": {},
     "output_type": "display_data"
    },
    {
     "name": "stdout",
     "output_type": "stream",
     "text": [
      "\n",
      "Any non-zero predictions on train data? True\n",
      "Test accuracy: 0.61\n",
      "IRLS\n"
     ]
    },
    {
     "data": {
      "application/vnd.jupyter.widget-view+json": {
       "model_id": "d192954b41cf4f679e7dea03f4861d6f",
       "version_major": 2,
       "version_minor": 0
      },
      "text/plain": [
       "HBox(children=(FloatProgress(value=0.0, max=200.0), HTML(value='')))"
      ]
     },
     "metadata": {},
     "output_type": "display_data"
    },
    {
     "name": "stdout",
     "output_type": "stream",
     "text": [
      "\n",
      "Any non-zero predictions on train data? True\n",
      "Test accuracy: 0.97\n",
      "ADAM\n"
     ]
    },
    {
     "data": {
      "application/vnd.jupyter.widget-view+json": {
       "model_id": "36e7952215894c3babf4e2b6690aeb70",
       "version_major": 2,
       "version_minor": 0
      },
      "text/plain": [
       "HBox(children=(FloatProgress(value=0.0, max=200.0), HTML(value='')))"
      ]
     },
     "metadata": {},
     "output_type": "display_data"
    },
    {
     "name": "stdout",
     "output_type": "stream",
     "text": [
      "\n",
      "Any non-zero predictions on train data? True\n",
      "Test accuracy: 0.95\n",
      "\n",
      "After collinearity cleaning? False. After scaling? False. After target balancing? False\n",
      "GD\n"
     ]
    },
    {
     "data": {
      "application/vnd.jupyter.widget-view+json": {
       "model_id": "4a6fb73b64e64d628b7860c5e938a9b8",
       "version_major": 2,
       "version_minor": 0
      },
      "text/plain": [
       "HBox(children=(FloatProgress(value=0.0, max=200.0), HTML(value='')))"
      ]
     },
     "metadata": {},
     "output_type": "display_data"
    },
    {
     "name": "stdout",
     "output_type": "stream",
     "text": [
      "Early stopping\n",
      "\n",
      "Any non-zero predictions on train data? False\n",
      "Test accuracy: 0.63\n",
      "SGD\n"
     ]
    },
    {
     "data": {
      "application/vnd.jupyter.widget-view+json": {
       "model_id": "b2089f5332464951976169cd170aebfe",
       "version_major": 2,
       "version_minor": 0
      },
      "text/plain": [
       "HBox(children=(FloatProgress(value=0.0, max=200.0), HTML(value='')))"
      ]
     },
     "metadata": {},
     "output_type": "display_data"
    },
    {
     "name": "stdout",
     "output_type": "stream",
     "text": [
      "Early stopping\n",
      "\n",
      "Any non-zero predictions on train data? False\n",
      "Test accuracy: 0.63\n",
      "IRLS\n"
     ]
    },
    {
     "data": {
      "application/vnd.jupyter.widget-view+json": {
       "model_id": "22e83335ef974cb69e021944ec1870e9",
       "version_major": 2,
       "version_minor": 0
      },
      "text/plain": [
       "HBox(children=(FloatProgress(value=0.0, max=200.0), HTML(value='')))"
      ]
     },
     "metadata": {},
     "output_type": "display_data"
    },
    {
     "name": "stdout",
     "output_type": "stream",
     "text": [
      "\n",
      "Any non-zero predictions on train data? True\n",
      "Test accuracy: 0.97\n",
      "ADAM\n"
     ]
    },
    {
     "data": {
      "application/vnd.jupyter.widget-view+json": {
       "model_id": "cd78795aeccc4096a05fab1283c4eaf6",
       "version_major": 2,
       "version_minor": 0
      },
      "text/plain": [
       "HBox(children=(FloatProgress(value=0.0, max=200.0), HTML(value='')))"
      ]
     },
     "metadata": {},
     "output_type": "display_data"
    },
    {
     "name": "stdout",
     "output_type": "stream",
     "text": [
      "\n",
      "Any non-zero predictions on train data? True\n",
      "Test accuracy: 0.92\n"
     ]
    }
   ],
   "source": [
    "test_model_approaches(X_wdbc_cleaned_train, wdbc_train, X_wdbc_cleaned_test, wdbc_test, y_wdbc_train, y_wdbc_test)"
   ]
  },
  {
   "cell_type": "code",
   "execution_count": 80,
   "id": "floppy-still",
   "metadata": {},
   "outputs": [
    {
     "name": "stdout",
     "output_type": "stream",
     "text": [
      "LDA\n",
      "Test acc 0.9020979020979021\n",
      "Test F1-score 0.8541666666666667\n",
      "QDA\n",
      "Test acc 0.958041958041958\n",
      "Test F1-score 0.9423076923076923\n",
      "LR\n",
      "Test acc 0.9300699300699301\n",
      "Test F1-score 0.9019607843137256\n",
      "kNN\n",
      "Test acc 0.916083916083916\n",
      "Test F1-score 0.8867924528301887\n"
     ]
    }
   ],
   "source": [
    "for m_name, m in sklearn_models.items():\n",
    "    m.fit(X_wdbc_cleaned_train.to_numpy(), y_wdbc_train.to_numpy())\n",
    "    print(m_name)\n",
    "    print('Test acc', (measures.accuracy(m.predict(X_wdbc_cleaned_test.to_numpy()), y_wdbc_test)))\n",
    "    print('Test F1-score', (measures.f_measure(m.predict(X_wdbc_cleaned_test.to_numpy()), y_wdbc_test)))"
   ]
  },
  {
   "cell_type": "markdown",
   "id": "479426d6",
   "metadata": {},
   "source": [
    "## 4. Etherneum frauds\n",
    "\n",
    "Special treatment columns `Unnamed: 0`, `Index` and `Address`."
   ]
  },
  {
   "cell_type": "code",
   "execution_count": 81,
   "id": "5a184a0f",
   "metadata": {
    "scrolled": false
   },
   "outputs": [],
   "source": [
    "eth_prep = Preprocessor()\n",
    "etherneum_df=pd.read_csv('data/transaction_dataset.csv')\n",
    "\n",
    "#etherneum_df.head(2).T"
   ]
  },
  {
   "cell_type": "code",
   "execution_count": 82,
   "id": "bc179b7a",
   "metadata": {},
   "outputs": [],
   "source": [
    "to_drop=['Unnamed: 0','Index','Address']\n",
    "etherneum_df.drop(columns=to_drop,inplace=True)"
   ]
  },
  {
   "cell_type": "markdown",
   "id": "9f9f22db",
   "metadata": {},
   "source": [
    "### Train test split"
   ]
  },
  {
   "cell_type": "code",
   "execution_count": 83,
   "id": "a3c3a63a",
   "metadata": {},
   "outputs": [],
   "source": [
    "y_eth=etherneum_df['FLAG']\n",
    "X_eth=etherneum_df.drop(columns='FLAG')\n",
    "\n",
    "X_eth_train, X_eth_test, y_eth_train, y_eth_test = eth_prep.train_test_split(X_eth, y_eth)"
   ]
  },
  {
   "cell_type": "markdown",
   "id": "e3b57e2a",
   "metadata": {},
   "source": [
    "Columns with null values"
   ]
  },
  {
   "cell_type": "code",
   "execution_count": 84,
   "id": "d9e3bbd7",
   "metadata": {
    "scrolled": false
   },
   "outputs": [
    {
     "name": "stdout",
     "output_type": "stream",
     "text": [
      " Total ERC20 tnxs\n",
      " ERC20 total Ether received\n",
      " ERC20 total ether sent\n",
      " ERC20 total Ether sent contract\n",
      " ERC20 uniq sent addr\n",
      " ERC20 uniq rec addr\n",
      " ERC20 uniq sent addr.1\n",
      " ERC20 uniq rec contract addr\n",
      " ERC20 avg time between sent tnx\n",
      " ERC20 avg time between rec tnx\n",
      " ERC20 avg time between rec 2 tnx\n",
      " ERC20 avg time between contract tnx\n",
      " ERC20 min val rec\n",
      " ERC20 max val rec\n",
      " ERC20 avg val rec\n",
      " ERC20 min val sent\n",
      " ERC20 max val sent\n",
      " ERC20 avg val sent\n",
      " ERC20 min val sent contract\n",
      " ERC20 max val sent contract\n",
      " ERC20 avg val sent contract\n",
      " ERC20 uniq sent token name\n",
      " ERC20 uniq rec token name\n",
      " ERC20 most sent token type\n",
      " ERC20_most_rec_token_type\n"
     ]
    }
   ],
   "source": [
    "for col in X_eth_train.columns:\n",
    "    if (X_eth_train[col].isna().values.sum()):\n",
    "        print(col)"
   ]
  },
  {
   "cell_type": "markdown",
   "id": "d0e8792d",
   "metadata": {},
   "source": [
    "Columns which have less than 10 unique values"
   ]
  },
  {
   "cell_type": "code",
   "execution_count": 85,
   "id": "275090bd",
   "metadata": {
    "scrolled": false
   },
   "outputs": [
    {
     "name": "stdout",
     "output_type": "stream",
     "text": [
      "min value sent to contract [0.   0.01 0.02]\n",
      "max val sent to contract [0.       0.01     0.046029 0.02    ]\n",
      "avg value sent to contract [0.       0.01     0.023014 0.02    ]\n",
      "total ether sent contracts [0.         0.01       0.04602871 0.02      ]\n",
      " ERC20 uniq sent addr.1 [ 0. nan  1.  2.  3.]\n",
      " ERC20 avg time between sent tnx [ 0. nan]\n",
      " ERC20 avg time between rec tnx [ 0. nan]\n",
      " ERC20 avg time between rec 2 tnx [ 0. nan]\n",
      " ERC20 avg time between contract tnx [ 0. nan]\n",
      " ERC20 min val sent contract [ 0. nan]\n",
      " ERC20 max val sent contract [ 0. nan]\n",
      " ERC20 avg val sent contract [ 0. nan]\n"
     ]
    }
   ],
   "source": [
    "for col in X_eth_train.columns:\n",
    "    if(len(X_eth_train[col].unique())<10):\n",
    "        print(col,X_eth_train[col].unique())"
   ]
  },
  {
   "cell_type": "markdown",
   "id": "448b59fe",
   "metadata": {},
   "source": [
    "#### Categorical columns to be One Hot Encoded later"
   ]
  },
  {
   "cell_type": "code",
   "execution_count": 86,
   "id": "49b950a6",
   "metadata": {},
   "outputs": [
    {
     "name": "stdout",
     "output_type": "stream",
     "text": [
      " ERC20 most sent token type 257\n",
      " ERC20_most_rec_token_type 404\n"
     ]
    }
   ],
   "source": [
    "for c in X_eth_train.columns:\n",
    "    if X_eth_train[c].dtype=='O':\n",
    "        print(c,len(X_eth_train[c].unique()))"
   ]
  },
  {
   "cell_type": "markdown",
   "id": "19b3b261",
   "metadata": {},
   "source": [
    "#### Dealing with missing data\n",
    "In all columns except for the ones with only 0's and NaN's we'll replace the missing values with the most frequent values in column. In the remaining ones we'll test replacing NaN's with 1 (making it a distinct class) or just dropping the column."
   ]
  },
  {
   "cell_type": "markdown",
   "id": "7a948278",
   "metadata": {},
   "source": [
    "Columns ` ERC20 avg time between sent tnx`, ` ERC20 avg time between rec tnx`, ` ERC20 avg time between rec 2 tnx`, ` ERC20 avg time between contract tnx`, ` ERC20 min val sent contract`, ` ERC20 max val sent contract` and ` ERC20 avg val sent contract` could be either dropped or could be treated as categorical where 0 and NaN are 2 distinct classes."
   ]
  },
  {
   "cell_type": "code",
   "execution_count": 87,
   "id": "2c73ca2d",
   "metadata": {},
   "outputs": [],
   "source": [
    "columns_to_binary=[' ERC20 avg time between sent tnx', ' ERC20 avg time between rec tnx',\n",
    "                 ' ERC20 avg time between rec 2 tnx', ' ERC20 avg time between contract tnx',\n",
    "                 ' ERC20 min val sent contract', ' ERC20 max val sent contract', ' ERC20 avg val sent contract']\n",
    "for col in columns_to_binary:\n",
    "    #train set\n",
    "    X_eth_train[col]=X_eth_train[col].fillna(1)\n",
    "    #test set\n",
    "    X_eth_test[col]=X_eth_test[col].fillna(1)\n",
    "#Pomimo obecności SimpleImputera w preprocessorze przy użyciu go było za dużo zabawy z dtype i faktem, że imputer \n",
    "#zwraca NumpyArray a nie DataFrame\n",
    "for col in set(X_eth_train.columns)-set(columns_to_binary):\n",
    "    #train set\n",
    "    X_eth_train[col]=X_eth_train[col].fillna(X_eth_train[col].value_counts().index[0])\n",
    "    #test set\n",
    "    X_eth_test[col]=X_eth_test[col].fillna(X_eth_train[col].value_counts().index[0])\n"
   ]
  },
  {
   "cell_type": "markdown",
   "id": "e396ee29",
   "metadata": {},
   "source": [
    "#### Collinearity detection and VIF transformation\n",
    "\n",
    "Pair correlations insight:"
   ]
  },
  {
   "cell_type": "code",
   "execution_count": 88,
   "id": "27f51df5",
   "metadata": {
    "scrolled": false
   },
   "outputs": [
    {
     "data": {
      "image/png": "[encoded data removed]",
      "text/plain": [
       "<matplotlib.figure.Figure at 0x7ff2bf331240>"
      ]
     },
     "metadata": {
      "needs_background": "light"
     },
     "output_type": "display_data"
    }
   ],
   "source": [
    "eth_prep.plot_corr(X_eth_train)"
   ]
  },
  {
   "cell_type": "code",
   "execution_count": 89,
   "id": "39aee457",
   "metadata": {
    "scrolled": false
   },
   "outputs": [
    {
     "name": "stderr",
     "output_type": "stream",
     "text": [
      "/home/pawel/.local/lib/python3.6/site-packages/statsmodels/stats/outliers_influence.py:193: RuntimeWarning: divide by zero encountered in double_scalars\n",
      "  vif = 1. / (1. - r_squared_i)\n"
     ]
    },
    {
     "name": "stdout",
     "output_type": "stream",
     "text": [
      "Dropping total Ether sent with vif=inf\n",
      "Dropping Sent tnx with vif=inf\n",
      "Dropping  ERC20 min val sent contract with vif=9007199254740992.0\n",
      "Dropping  ERC20 avg time between sent tnx with vif=inf\n",
      "Dropping  ERC20 avg time between rec tnx with vif=inf\n",
      "Dropping  ERC20 avg time between rec 2 tnx with vif=inf\n",
      "Dropping  ERC20 avg time between contract tnx with vif=inf\n",
      "Dropping max val sent to contract with vif=inf\n",
      "Dropping avg value sent to contract with vif=inf\n",
      "Dropping  ERC20 max val sent contract with vif=inf\n",
      "Dropping  ERC20 avg val sent with vif=15646.93245945334\n",
      "Dropping  ERC20 max val sent with vif=4345.109159788928\n",
      "Dropping  ERC20 uniq rec contract addr with vif=1790.2761011105974\n",
      "Dropping  ERC20 total ether sent with vif=1106.288419304409\n",
      "Dropping  ERC20 max val rec with vif=66.5613514954311\n",
      "30 numerical features left in dataset  2  categorical\n"
     ]
    }
   ],
   "source": [
    "X_eth_train_cleaned = eth_prep.remove_multicollinearity_fit_transform(X_eth_train)"
   ]
  },
  {
   "cell_type": "code",
   "execution_count": 90,
   "id": "1937600b",
   "metadata": {},
   "outputs": [],
   "source": [
    "X_eth_test_cleaned=eth_prep.remove_multicollinearity_transform(X_eth_test)"
   ]
  },
  {
   "cell_type": "markdown",
   "id": "a3c47b36",
   "metadata": {},
   "source": [
    "#### One hot encoding\n",
    "it is simply impossible to use VIF reduction after One Hot Encoding in this particular case\n",
    "\n",
    "After VIF:"
   ]
  },
  {
   "cell_type": "code",
   "execution_count": 91,
   "id": "095c1ad0",
   "metadata": {},
   "outputs": [],
   "source": [
    "X_eth_train_ohe = eth_prep.one_hot_encoding_fit_transform(X_eth_train_cleaned)"
   ]
  },
  {
   "cell_type": "code",
   "execution_count": 92,
   "id": "40cc49ad",
   "metadata": {},
   "outputs": [],
   "source": [
    "X_eth_test_ohe = eth_prep.one_hot_encoding_transform(X_eth_test_cleaned)"
   ]
  },
  {
   "cell_type": "code",
   "execution_count": 93,
   "id": "d7b80f1d",
   "metadata": {},
   "outputs": [
    {
     "data": {
      "text/plain": [
       "687"
      ]
     },
     "execution_count": 93,
     "metadata": {},
     "output_type": "execute_result"
    }
   ],
   "source": [
    "len(X_eth_train_ohe.columns)"
   ]
  },
  {
   "cell_type": "markdown",
   "id": "forbidden-sponsorship",
   "metadata": {},
   "source": [
    "Without VIF:"
   ]
  },
  {
   "cell_type": "code",
   "execution_count": 122,
   "id": "sustained-donna",
   "metadata": {},
   "outputs": [],
   "source": [
    "X_eth_train_no_vif_ohe = eth_prep.one_hot_encoding_fit_transform(X_eth_train)\n",
    "X_eth_test_no_vif_ohe = eth_prep.one_hot_encoding_transform(X_eth_test)"
   ]
  },
  {
   "cell_type": "code",
   "execution_count": 99,
   "id": "maritime-processing",
   "metadata": {},
   "outputs": [
    {
     "data": {
      "text/plain": [
       "702"
      ]
     },
     "execution_count": 99,
     "metadata": {},
     "output_type": "execute_result"
    }
   ],
   "source": [
    "len(X_eth_train_no_vif.columns)"
   ]
  },
  {
   "cell_type": "markdown",
   "id": "7a2dc2e8",
   "metadata": {},
   "source": [
    "#### Results when using only numerical features\n",
    "without VIF reduction"
   ]
  },
  {
   "cell_type": "code",
   "execution_count": 154,
   "id": "137b6b86",
   "metadata": {},
   "outputs": [
    {
     "name": "stdout",
     "output_type": "stream",
     "text": [
      "47\n"
     ]
    },
    {
     "data": {
      "text/plain": [
       "0.8041446566436408"
      ]
     },
     "execution_count": 154,
     "metadata": {},
     "output_type": "execute_result"
    }
   ],
   "source": [
    "model = LogisticRegression(max_iter=1e20)\n",
    "model.fit(X_eth_train.drop(columns=[' ERC20 most sent token type',' ERC20_most_rec_token_type']), y_eth_train)\n",
    "print(X_eth_train.shape[1])\n",
    "model.score(X_eth_test.drop(columns=[' ERC20 most sent token type',' ERC20_most_rec_token_type']), y_eth_test)"
   ]
  },
  {
   "cell_type": "markdown",
   "id": "7e273bab",
   "metadata": {},
   "source": [
    "with VIF reduction"
   ]
  },
  {
   "cell_type": "code",
   "execution_count": 157,
   "id": "57a2be51",
   "metadata": {
    "scrolled": false
   },
   "outputs": [
    {
     "name": "stdout",
     "output_type": "stream",
     "text": [
      "30\n"
     ]
    },
    {
     "data": {
      "text/plain": [
       "0.7785453067858594"
      ]
     },
     "execution_count": 157,
     "metadata": {},
     "output_type": "execute_result"
    }
   ],
   "source": [
    "model = LogisticRegression(max_iter=1e20)\n",
    "X_eth_train_cleaned_numeric_vif = X_eth_train_cleaned.drop(columns=[' ERC20 most sent token type',' ERC20_most_rec_token_type'])\n",
    "model.fit(X_eth_train_cleaned_numeric_vif, y_eth_train)\n",
    "print(X_eth_train_cleaned_numeric_vif.shape[1])\n",
    "model.score(X_eth_test_cleaned.drop(columns=[' ERC20 most sent token type',' ERC20_most_rec_token_type']), y_eth_test)"
   ]
  },
  {
   "cell_type": "markdown",
   "id": "fresh-sucking",
   "metadata": {},
   "source": [
    "With both VIF reduction as well as rescaling"
   ]
  },
  {
   "cell_type": "code",
   "execution_count": 156,
   "id": "responsible-series",
   "metadata": {},
   "outputs": [
    {
     "name": "stdout",
     "output_type": "stream",
     "text": [
      "30\n"
     ]
    },
    {
     "data": {
      "text/plain": [
       "0.8642828118650955"
      ]
     },
     "execution_count": 156,
     "metadata": {},
     "output_type": "execute_result"
    }
   ],
   "source": [
    "ss=StandardScaler()\n",
    "model = LogisticRegression(max_iter=1e20)\n",
    "X_eth_train_cleaned_numeric = X_eth_train_cleaned.drop(columns=[' ERC20 most sent token type',' ERC20_most_rec_token_type'])\n",
    "model.fit(ss.fit_transform(X_eth_train_cleaned_numeric), y_eth_train)\n",
    "print(X_eth_train_cleaned_numeric.shape[1])\n",
    "model.score(ss.transform(X_eth_test_cleaned.drop(columns=[' ERC20 most sent token type',' ERC20_most_rec_token_type'])), y_eth_test)"
   ]
  },
  {
   "cell_type": "markdown",
   "id": "967c1b87",
   "metadata": {},
   "source": [
    "#### Results when using both numerical and categorical features\n",
    "both using VIF feature reduction as well as rescaling"
   ]
  },
  {
   "cell_type": "code",
   "execution_count": 97,
   "id": "accepting-defendant",
   "metadata": {
    "scrolled": true
   },
   "outputs": [
    {
     "name": "stdout",
     "output_type": "stream",
     "text": [
      "687\n"
     ]
    },
    {
     "data": {
      "text/plain": [
       "0.9886225111743194"
      ]
     },
     "execution_count": 97,
     "metadata": {},
     "output_type": "execute_result"
    }
   ],
   "source": [
    "ss=StandardScaler()\n",
    "X_train_ohe_rescaled = ss.fit_transform(X_eth_train_ohe)\n",
    "X_test_ohe_rescaled = ss.transform(X_eth_test_ohe)\n",
    "\n",
    "model = LogisticRegression(max_iter=1e20)\n",
    "model.fit(X_train_ohe_rescaled, y_eth_train)\n",
    "print(X_train_ohe_rescaled.shape[1])\n",
    "model.score(X_test_ohe_rescaled, y_eth_test)"
   ]
  },
  {
   "cell_type": "code",
   "execution_count": 127,
   "id": "clear-bacon",
   "metadata": {},
   "outputs": [
    {
     "data": {
      "text/plain": [
       "0.2214546932141406"
      ]
     },
     "execution_count": 127,
     "metadata": {},
     "output_type": "execute_result"
    }
   ],
   "source": [
    "y_eth_test.mean()"
   ]
  },
  {
   "cell_type": "code",
   "execution_count": 148,
   "id": "clean-cancellation",
   "metadata": {
    "scrolled": false
   },
   "outputs": [
    {
     "name": "stdout",
     "output_type": "stream",
     "text": [
      "\n",
      "After collinearity cleaning? True. After scaling? True. After target balancing? True\n",
      "GD\n"
     ]
    },
    {
     "data": {
      "application/vnd.jupyter.widget-view+json": {
       "model_id": "8815b15c02954c8685e6b560879da8f1",
       "version_major": 2,
       "version_minor": 0
      },
      "text/plain": [
       "HBox(children=(FloatProgress(value=0.0, max=200.0), HTML(value='')))"
      ]
     },
     "metadata": {},
     "output_type": "display_data"
    },
    {
     "name": "stdout",
     "output_type": "stream",
     "text": [
      "\n",
      "Any non-zero predictions on train data? True\n",
      "Test accuracy: 0.78\n",
      "SGD\n"
     ]
    },
    {
     "data": {
      "application/vnd.jupyter.widget-view+json": {
       "model_id": "10b73e90dbb84ffdad5a2c38f400de13",
       "version_major": 2,
       "version_minor": 0
      },
      "text/plain": [
       "HBox(children=(FloatProgress(value=0.0, max=200.0), HTML(value='')))"
      ]
     },
     "metadata": {},
     "output_type": "display_data"
    },
    {
     "name": "stdout",
     "output_type": "stream",
     "text": [
      "\n",
      "Any non-zero predictions on train data? True\n",
      "Test accuracy: 0.76\n",
      "IRLS\n"
     ]
    },
    {
     "data": {
      "application/vnd.jupyter.widget-view+json": {
       "model_id": "5be3edd02f924b13a5f3acefcd430dcf",
       "version_major": 2,
       "version_minor": 0
      },
      "text/plain": [
       "HBox(children=(FloatProgress(value=0.0, max=200.0), HTML(value='')))"
      ]
     },
     "metadata": {},
     "output_type": "display_data"
    },
    {
     "name": "stdout",
     "output_type": "stream",
     "text": [
      "\n",
      "Singular matrix\n",
      "ADAM\n"
     ]
    },
    {
     "data": {
      "application/vnd.jupyter.widget-view+json": {
       "model_id": "b5b348cc5ace460eb294583155687756",
       "version_major": 2,
       "version_minor": 0
      },
      "text/plain": [
       "HBox(children=(FloatProgress(value=0.0, max=200.0), HTML(value='')))"
      ]
     },
     "metadata": {},
     "output_type": "display_data"
    },
    {
     "name": "stdout",
     "output_type": "stream",
     "text": [
      "\n",
      "Any non-zero predictions on train data? True\n",
      "Test accuracy: 0.71\n",
      "\n",
      "After collinearity cleaning? True. After scaling? False. After target balancing? True\n",
      "GD\n"
     ]
    },
    {
     "data": {
      "application/vnd.jupyter.widget-view+json": {
       "model_id": "111eedeec91340bab8b8d9707d2fd3a5",
       "version_major": 2,
       "version_minor": 0
      },
      "text/plain": [
       "HBox(children=(FloatProgress(value=0.0, max=200.0), HTML(value='')))"
      ]
     },
     "metadata": {},
     "output_type": "display_data"
    },
    {
     "name": "stdout",
     "output_type": "stream",
     "text": [
      "\n",
      "Any non-zero predictions on train data? True\n",
      "Test accuracy: 0.8\n",
      "SGD\n"
     ]
    },
    {
     "data": {
      "application/vnd.jupyter.widget-view+json": {
       "model_id": "835ded1e79044364b8b84e4c2d9eedc3",
       "version_major": 2,
       "version_minor": 0
      },
      "text/plain": [
       "HBox(children=(FloatProgress(value=0.0, max=200.0), HTML(value='')))"
      ]
     },
     "metadata": {},
     "output_type": "display_data"
    },
    {
     "name": "stdout",
     "output_type": "stream",
     "text": [
      "\n",
      "Any non-zero predictions on train data? True\n",
      "Test accuracy: 0.8\n",
      "IRLS\n"
     ]
    },
    {
     "data": {
      "application/vnd.jupyter.widget-view+json": {
       "model_id": "16761634f65d47d39eabc722973cc26b",
       "version_major": 2,
       "version_minor": 0
      },
      "text/plain": [
       "HBox(children=(FloatProgress(value=0.0, max=200.0), HTML(value='')))"
      ]
     },
     "metadata": {},
     "output_type": "display_data"
    },
    {
     "name": "stdout",
     "output_type": "stream",
     "text": [
      "\n",
      "Singular matrix\n",
      "ADAM\n"
     ]
    },
    {
     "data": {
      "application/vnd.jupyter.widget-view+json": {
       "model_id": "35306132569a4340901faf347eab8ac2",
       "version_major": 2,
       "version_minor": 0
      },
      "text/plain": [
       "HBox(children=(FloatProgress(value=0.0, max=200.0), HTML(value='')))"
      ]
     },
     "metadata": {},
     "output_type": "display_data"
    },
    {
     "name": "stdout",
     "output_type": "stream",
     "text": [
      "\n",
      "Any non-zero predictions on train data? True\n",
      "Test accuracy: 0.7\n",
      "\n",
      "After collinearity cleaning? True. After scaling? True. After target balancing? False\n",
      "GD\n"
     ]
    },
    {
     "data": {
      "application/vnd.jupyter.widget-view+json": {
       "model_id": "74c4ac8b39554bf2b3a36a0915c809b6",
       "version_major": 2,
       "version_minor": 0
      },
      "text/plain": [
       "HBox(children=(FloatProgress(value=0.0, max=200.0), HTML(value='')))"
      ]
     },
     "metadata": {},
     "output_type": "display_data"
    },
    {
     "name": "stdout",
     "output_type": "stream",
     "text": [
      "\n",
      "Any non-zero predictions on train data? True\n",
      "Test accuracy: 0.78\n",
      "SGD\n"
     ]
    },
    {
     "data": {
      "application/vnd.jupyter.widget-view+json": {
       "model_id": "4345855e0989432b98ff3f2d54cd4f8e",
       "version_major": 2,
       "version_minor": 0
      },
      "text/plain": [
       "HBox(children=(FloatProgress(value=0.0, max=200.0), HTML(value='')))"
      ]
     },
     "metadata": {},
     "output_type": "display_data"
    },
    {
     "name": "stdout",
     "output_type": "stream",
     "text": [
      "\n",
      "Any non-zero predictions on train data? True\n",
      "Test accuracy: 0.78\n",
      "IRLS\n"
     ]
    },
    {
     "data": {
      "application/vnd.jupyter.widget-view+json": {
       "model_id": "b1077ab913ed435890a53f672e64e1f1",
       "version_major": 2,
       "version_minor": 0
      },
      "text/plain": [
       "HBox(children=(FloatProgress(value=0.0, max=200.0), HTML(value='')))"
      ]
     },
     "metadata": {},
     "output_type": "display_data"
    },
    {
     "name": "stdout",
     "output_type": "stream",
     "text": [
      "\n",
      "Singular matrix\n",
      "ADAM\n"
     ]
    },
    {
     "data": {
      "application/vnd.jupyter.widget-view+json": {
       "model_id": "354c0957f2394af0afbd760449cd3635",
       "version_major": 2,
       "version_minor": 0
      },
      "text/plain": [
       "HBox(children=(FloatProgress(value=0.0, max=200.0), HTML(value='')))"
      ]
     },
     "metadata": {},
     "output_type": "display_data"
    },
    {
     "name": "stdout",
     "output_type": "stream",
     "text": [
      "\n",
      "Any non-zero predictions on train data? True\n",
      "Test accuracy: 0.97\n",
      "\n",
      "After collinearity cleaning? True. After scaling? False. After target balancing? False\n",
      "GD\n"
     ]
    },
    {
     "data": {
      "application/vnd.jupyter.widget-view+json": {
       "model_id": "354a0042f7a2405e91f4180ac995a4a7",
       "version_major": 2,
       "version_minor": 0
      },
      "text/plain": [
       "HBox(children=(FloatProgress(value=0.0, max=200.0), HTML(value='')))"
      ]
     },
     "metadata": {},
     "output_type": "display_data"
    },
    {
     "name": "stdout",
     "output_type": "stream",
     "text": [
      "\n",
      "Any non-zero predictions on train data? True\n",
      "Test accuracy: 0.78\n",
      "SGD\n"
     ]
    },
    {
     "data": {
      "application/vnd.jupyter.widget-view+json": {
       "model_id": "b57d42ffc6094c6a98a1a58031b6505f",
       "version_major": 2,
       "version_minor": 0
      },
      "text/plain": [
       "HBox(children=(FloatProgress(value=0.0, max=200.0), HTML(value='')))"
      ]
     },
     "metadata": {},
     "output_type": "display_data"
    },
    {
     "name": "stdout",
     "output_type": "stream",
     "text": [
      "\n",
      "Any non-zero predictions on train data? False\n",
      "Test accuracy: 0.78\n",
      "IRLS\n"
     ]
    },
    {
     "data": {
      "application/vnd.jupyter.widget-view+json": {
       "model_id": "f6633e85944f494d8bad6b8ebf1ed00a",
       "version_major": 2,
       "version_minor": 0
      },
      "text/plain": [
       "HBox(children=(FloatProgress(value=0.0, max=200.0), HTML(value='')))"
      ]
     },
     "metadata": {},
     "output_type": "display_data"
    },
    {
     "name": "stdout",
     "output_type": "stream",
     "text": [
      "\n",
      "Singular matrix\n",
      "ADAM\n"
     ]
    },
    {
     "data": {
      "application/vnd.jupyter.widget-view+json": {
       "model_id": "e33ad4387c7b4956ab2d46dc165590ca",
       "version_major": 2,
       "version_minor": 0
      },
      "text/plain": [
       "HBox(children=(FloatProgress(value=0.0, max=200.0), HTML(value='')))"
      ]
     },
     "metadata": {},
     "output_type": "display_data"
    },
    {
     "name": "stdout",
     "output_type": "stream",
     "text": [
      "\n",
      "Any non-zero predictions on train data? True\n",
      "Test accuracy: 0.8\n",
      "\n",
      "After collinearity cleaning? False. After scaling? True. After target balancing? True\n",
      "GD\n"
     ]
    },
    {
     "data": {
      "application/vnd.jupyter.widget-view+json": {
       "model_id": "78b5618af4224eb6ba8a8371a14acd8d",
       "version_major": 2,
       "version_minor": 0
      },
      "text/plain": [
       "HBox(children=(FloatProgress(value=0.0, max=200.0), HTML(value='')))"
      ]
     },
     "metadata": {},
     "output_type": "display_data"
    },
    {
     "name": "stdout",
     "output_type": "stream",
     "text": [
      "\n",
      "Any non-zero predictions on train data? True\n",
      "Test accuracy: 0.78\n",
      "SGD\n"
     ]
    },
    {
     "data": {
      "application/vnd.jupyter.widget-view+json": {
       "model_id": "5c5e2b6d8b0146528c3fce35ded760e3",
       "version_major": 2,
       "version_minor": 0
      },
      "text/plain": [
       "HBox(children=(FloatProgress(value=0.0, max=200.0), HTML(value='')))"
      ]
     },
     "metadata": {},
     "output_type": "display_data"
    },
    {
     "name": "stdout",
     "output_type": "stream",
     "text": [
      "\n",
      "Any non-zero predictions on train data? True\n",
      "Test accuracy: 0.76\n",
      "IRLS\n"
     ]
    },
    {
     "data": {
      "application/vnd.jupyter.widget-view+json": {
       "model_id": "e0887675d95d4f038e1f19ff00b83296",
       "version_major": 2,
       "version_minor": 0
      },
      "text/plain": [
       "HBox(children=(FloatProgress(value=0.0, max=200.0), HTML(value='')))"
      ]
     },
     "metadata": {},
     "output_type": "display_data"
    },
    {
     "name": "stdout",
     "output_type": "stream",
     "text": [
      "\n",
      "Singular matrix\n",
      "ADAM\n"
     ]
    },
    {
     "data": {
      "application/vnd.jupyter.widget-view+json": {
       "model_id": "37a3022373ab40f288289defb86d3d32",
       "version_major": 2,
       "version_minor": 0
      },
      "text/plain": [
       "HBox(children=(FloatProgress(value=0.0, max=200.0), HTML(value='')))"
      ]
     },
     "metadata": {},
     "output_type": "display_data"
    },
    {
     "name": "stdout",
     "output_type": "stream",
     "text": [
      "\n",
      "Any non-zero predictions on train data? True\n",
      "Test accuracy: 0.73\n",
      "\n",
      "After collinearity cleaning? False. After scaling? False. After target balancing? True\n",
      "GD\n"
     ]
    },
    {
     "data": {
      "application/vnd.jupyter.widget-view+json": {
       "model_id": "f450faf7d3e84c47a54f1652ef6bd3be",
       "version_major": 2,
       "version_minor": 0
      },
      "text/plain": [
       "HBox(children=(FloatProgress(value=0.0, max=200.0), HTML(value='')))"
      ]
     },
     "metadata": {},
     "output_type": "display_data"
    },
    {
     "name": "stdout",
     "output_type": "stream",
     "text": [
      "\n",
      "Any non-zero predictions on train data? True\n",
      "Test accuracy: 0.78\n",
      "SGD\n"
     ]
    },
    {
     "data": {
      "application/vnd.jupyter.widget-view+json": {
       "model_id": "8aeca29dd2784f0ba77c74c1de615b66",
       "version_major": 2,
       "version_minor": 0
      },
      "text/plain": [
       "HBox(children=(FloatProgress(value=0.0, max=200.0), HTML(value='')))"
      ]
     },
     "metadata": {},
     "output_type": "display_data"
    },
    {
     "name": "stdout",
     "output_type": "stream",
     "text": [
      "\n",
      "Any non-zero predictions on train data? True\n",
      "Test accuracy: 0.78\n",
      "IRLS\n"
     ]
    },
    {
     "data": {
      "application/vnd.jupyter.widget-view+json": {
       "model_id": "6d125176a8cc4a3eadefda8ce23af80c",
       "version_major": 2,
       "version_minor": 0
      },
      "text/plain": [
       "HBox(children=(FloatProgress(value=0.0, max=200.0), HTML(value='')))"
      ]
     },
     "metadata": {},
     "output_type": "display_data"
    },
    {
     "name": "stdout",
     "output_type": "stream",
     "text": [
      "\n",
      "Singular matrix\n",
      "ADAM\n"
     ]
    },
    {
     "data": {
      "application/vnd.jupyter.widget-view+json": {
       "model_id": "4abdb8f84a574659b64461d2f974857e",
       "version_major": 2,
       "version_minor": 0
      },
      "text/plain": [
       "HBox(children=(FloatProgress(value=0.0, max=200.0), HTML(value='')))"
      ]
     },
     "metadata": {},
     "output_type": "display_data"
    },
    {
     "name": "stdout",
     "output_type": "stream",
     "text": [
      "\n",
      "Any non-zero predictions on train data? True\n",
      "Test accuracy: 0.72\n",
      "\n",
      "After collinearity cleaning? False. After scaling? True. After target balancing? False\n",
      "GD\n"
     ]
    },
    {
     "data": {
      "application/vnd.jupyter.widget-view+json": {
       "model_id": "320f877a2dc1489d83377d2c76c1d87b",
       "version_major": 2,
       "version_minor": 0
      },
      "text/plain": [
       "HBox(children=(FloatProgress(value=0.0, max=200.0), HTML(value='')))"
      ]
     },
     "metadata": {},
     "output_type": "display_data"
    },
    {
     "name": "stdout",
     "output_type": "stream",
     "text": [
      "\n",
      "Any non-zero predictions on train data? True\n",
      "Test accuracy: 0.78\n",
      "SGD\n"
     ]
    },
    {
     "data": {
      "application/vnd.jupyter.widget-view+json": {
       "model_id": "f69bb15d866e42069b48b11885beb7c8",
       "version_major": 2,
       "version_minor": 0
      },
      "text/plain": [
       "HBox(children=(FloatProgress(value=0.0, max=200.0), HTML(value='')))"
      ]
     },
     "metadata": {},
     "output_type": "display_data"
    },
    {
     "name": "stdout",
     "output_type": "stream",
     "text": [
      "\n",
      "Any non-zero predictions on train data? True\n",
      "Test accuracy: 0.77\n",
      "IRLS\n"
     ]
    },
    {
     "data": {
      "application/vnd.jupyter.widget-view+json": {
       "model_id": "20ceae36097d4223b7779751f7fe36ff",
       "version_major": 2,
       "version_minor": 0
      },
      "text/plain": [
       "HBox(children=(FloatProgress(value=0.0, max=200.0), HTML(value='')))"
      ]
     },
     "metadata": {},
     "output_type": "display_data"
    },
    {
     "name": "stdout",
     "output_type": "stream",
     "text": [
      "\n",
      "Singular matrix\n",
      "ADAM\n"
     ]
    },
    {
     "data": {
      "application/vnd.jupyter.widget-view+json": {
       "model_id": "700f178a6ffc4522888719de2ce04c5c",
       "version_major": 2,
       "version_minor": 0
      },
      "text/plain": [
       "HBox(children=(FloatProgress(value=0.0, max=200.0), HTML(value='')))"
      ]
     },
     "metadata": {},
     "output_type": "display_data"
    },
    {
     "name": "stdout",
     "output_type": "stream",
     "text": [
      "\n",
      "Any non-zero predictions on train data? True\n",
      "Test accuracy: 0.98\n",
      "\n",
      "After collinearity cleaning? False. After scaling? False. After target balancing? False\n",
      "GD\n"
     ]
    },
    {
     "data": {
      "application/vnd.jupyter.widget-view+json": {
       "model_id": "605d278b56bc455c8805f956f061b3e6",
       "version_major": 2,
       "version_minor": 0
      },
      "text/plain": [
       "HBox(children=(FloatProgress(value=0.0, max=200.0), HTML(value='')))"
      ]
     },
     "metadata": {},
     "output_type": "display_data"
    },
    {
     "name": "stdout",
     "output_type": "stream",
     "text": [
      "\n",
      "Any non-zero predictions on train data? True\n",
      "Test accuracy: 0.78\n",
      "SGD\n"
     ]
    },
    {
     "data": {
      "application/vnd.jupyter.widget-view+json": {
       "model_id": "38f85bc96b714945b4261ede5437eb64",
       "version_major": 2,
       "version_minor": 0
      },
      "text/plain": [
       "HBox(children=(FloatProgress(value=0.0, max=200.0), HTML(value='')))"
      ]
     },
     "metadata": {},
     "output_type": "display_data"
    },
    {
     "name": "stdout",
     "output_type": "stream",
     "text": [
      "\n",
      "Any non-zero predictions on train data? True\n",
      "Test accuracy: 0.78\n",
      "IRLS\n"
     ]
    },
    {
     "data": {
      "application/vnd.jupyter.widget-view+json": {
       "model_id": "cda73467b0cc4fe99d6dcf3b666d4638",
       "version_major": 2,
       "version_minor": 0
      },
      "text/plain": [
       "HBox(children=(FloatProgress(value=0.0, max=200.0), HTML(value='')))"
      ]
     },
     "metadata": {},
     "output_type": "display_data"
    },
    {
     "name": "stdout",
     "output_type": "stream",
     "text": [
      "\n",
      "Singular matrix\n",
      "ADAM\n"
     ]
    },
    {
     "data": {
      "application/vnd.jupyter.widget-view+json": {
       "model_id": "ef29cd21b33b40ee9e3704d4b33ea7c8",
       "version_major": 2,
       "version_minor": 0
      },
      "text/plain": [
       "HBox(children=(FloatProgress(value=0.0, max=200.0), HTML(value='')))"
      ]
     },
     "metadata": {},
     "output_type": "display_data"
    },
    {
     "name": "stdout",
     "output_type": "stream",
     "text": [
      "\n",
      "Any non-zero predictions on train data? True\n",
      "Test accuracy: 0.8\n"
     ]
    }
   ],
   "source": [
    "test_model_approaches(X_eth_train_ohe, X_eth_train_no_vif_ohe, X_eth_test_ohe, X_eth_test_no_vif_ohe,\n",
    "                      y_eth_train, y_eth_test)"
   ]
  },
  {
   "cell_type": "code",
   "execution_count": 149,
   "id": "regulation-timber",
   "metadata": {},
   "outputs": [
    {
     "name": "stdout",
     "output_type": "stream",
     "text": [
      "LDA\n",
      "Test acc 0.9845591223080049\n",
      "Test F1-score 0.9646840148698885\n"
     ]
    },
    {
     "name": "stderr",
     "output_type": "stream",
     "text": [
      "/home/pawel/.local/lib/python3.6/site-packages/sklearn/discriminant_analysis.py:808: UserWarning: Variables are collinear\n",
      "  warnings.warn(\"Variables are collinear\")\n"
     ]
    },
    {
     "name": "stdout",
     "output_type": "stream",
     "text": [
      "QDA\n",
      "Test acc 0.982933766761479\n",
      "Test F1-score 0.9611829944547136\n",
      "LR\n",
      "Test acc 0.7785453067858594\n"
     ]
    },
    {
     "ename": "ZeroDivisionError",
     "evalue": "Recall can not be calculated as there are no positive predictions.",
     "output_type": "error",
     "traceback": [
      "\u001b[0;31m---------------------------------------------------------------------------\u001b[0m",
      "\u001b[0;31mZeroDivisionError\u001b[0m                         Traceback (most recent call last)",
      "\u001b[0;32m<ipython-input-149-00561d321885>\u001b[0m in \u001b[0;36m<module>\u001b[0;34m\u001b[0m\n\u001b[1;32m      3\u001b[0m     \u001b[0mprint\u001b[0m\u001b[0;34m(\u001b[0m\u001b[0mm_name\u001b[0m\u001b[0;34m)\u001b[0m\u001b[0;34m\u001b[0m\u001b[0;34m\u001b[0m\u001b[0m\n\u001b[1;32m      4\u001b[0m     \u001b[0mprint\u001b[0m\u001b[0;34m(\u001b[0m\u001b[0;34m'Test acc'\u001b[0m\u001b[0;34m,\u001b[0m \u001b[0;34m(\u001b[0m\u001b[0mmeasures\u001b[0m\u001b[0;34m.\u001b[0m\u001b[0maccuracy\u001b[0m\u001b[0;34m(\u001b[0m\u001b[0mm\u001b[0m\u001b[0;34m.\u001b[0m\u001b[0mpredict\u001b[0m\u001b[0;34m(\u001b[0m\u001b[0mX_eth_test_ohe\u001b[0m\u001b[0;34m.\u001b[0m\u001b[0mto_numpy\u001b[0m\u001b[0;34m(\u001b[0m\u001b[0;34m)\u001b[0m\u001b[0;34m)\u001b[0m\u001b[0;34m,\u001b[0m \u001b[0my_eth_test\u001b[0m\u001b[0;34m)\u001b[0m\u001b[0;34m)\u001b[0m\u001b[0;34m)\u001b[0m\u001b[0;34m\u001b[0m\u001b[0;34m\u001b[0m\u001b[0m\n\u001b[0;32m----> 5\u001b[0;31m     \u001b[0mprint\u001b[0m\u001b[0;34m(\u001b[0m\u001b[0;34m'Test F1-score'\u001b[0m\u001b[0;34m,\u001b[0m \u001b[0;34m(\u001b[0m\u001b[0mmeasures\u001b[0m\u001b[0;34m.\u001b[0m\u001b[0mf_measure\u001b[0m\u001b[0;34m(\u001b[0m\u001b[0mm\u001b[0m\u001b[0;34m.\u001b[0m\u001b[0mpredict\u001b[0m\u001b[0;34m(\u001b[0m\u001b[0mX_eth_test_ohe\u001b[0m\u001b[0;34m.\u001b[0m\u001b[0mto_numpy\u001b[0m\u001b[0;34m(\u001b[0m\u001b[0;34m)\u001b[0m\u001b[0;34m)\u001b[0m\u001b[0;34m,\u001b[0m \u001b[0my_eth_test\u001b[0m\u001b[0;34m)\u001b[0m\u001b[0;34m)\u001b[0m\u001b[0;34m)\u001b[0m\u001b[0;34m\u001b[0m\u001b[0;34m\u001b[0m\u001b[0m\n\u001b[0m",
      "\u001b[0;32m~/Studia/AML/Project/AML2022/Project1/measures.py\u001b[0m in \u001b[0;36mf_measure\u001b[0;34m(y_pred, y_test)\u001b[0m\n\u001b[1;32m     43\u001b[0m \u001b[0;34m\u001b[0m\u001b[0m\n\u001b[1;32m     44\u001b[0m \u001b[0;32mdef\u001b[0m \u001b[0mf_measure\u001b[0m\u001b[0;34m(\u001b[0m\u001b[0my_pred\u001b[0m\u001b[0;34m,\u001b[0m \u001b[0my_test\u001b[0m\u001b[0;34m)\u001b[0m\u001b[0;34m:\u001b[0m\u001b[0;34m\u001b[0m\u001b[0;34m\u001b[0m\u001b[0m\n\u001b[0;32m---> 45\u001b[0;31m     \u001b[0mr\u001b[0m \u001b[0;34m=\u001b[0m \u001b[0mrecall\u001b[0m\u001b[0;34m(\u001b[0m\u001b[0my_pred\u001b[0m\u001b[0;34m,\u001b[0m \u001b[0my_test\u001b[0m\u001b[0;34m)\u001b[0m\u001b[0;34m\u001b[0m\u001b[0;34m\u001b[0m\u001b[0m\n\u001b[0m\u001b[1;32m     46\u001b[0m     \u001b[0mp\u001b[0m \u001b[0;34m=\u001b[0m \u001b[0mprecision\u001b[0m\u001b[0;34m(\u001b[0m\u001b[0my_pred\u001b[0m\u001b[0;34m,\u001b[0m \u001b[0my_test\u001b[0m\u001b[0;34m)\u001b[0m\u001b[0;34m\u001b[0m\u001b[0;34m\u001b[0m\u001b[0m\n\u001b[1;32m     47\u001b[0m     \u001b[0;32mreturn\u001b[0m \u001b[0;36m2\u001b[0m\u001b[0;34m*\u001b[0m\u001b[0mr\u001b[0m\u001b[0;34m*\u001b[0m\u001b[0mp\u001b[0m\u001b[0;34m/\u001b[0m\u001b[0;34m(\u001b[0m\u001b[0mr\u001b[0m\u001b[0;34m+\u001b[0m\u001b[0mp\u001b[0m\u001b[0;34m)\u001b[0m\u001b[0;34m\u001b[0m\u001b[0;34m\u001b[0m\u001b[0m\n",
      "\u001b[0;32m~/Studia/AML/Project/AML2022/Project1/measures.py\u001b[0m in \u001b[0;36mrecall\u001b[0;34m(y_pred, y_test, check_cond)\u001b[0m\n\u001b[1;32m     25\u001b[0m         \u001b[0m__check_initial_conditions\u001b[0m\u001b[0;34m(\u001b[0m\u001b[0my_test\u001b[0m\u001b[0;34m,\u001b[0m \u001b[0my_pred\u001b[0m\u001b[0;34m)\u001b[0m\u001b[0;34m\u001b[0m\u001b[0;34m\u001b[0m\u001b[0m\n\u001b[1;32m     26\u001b[0m     \u001b[0;32mif\u001b[0m \u001b[0;32mnot\u001b[0m \u001b[0my_pred\u001b[0m\u001b[0;34m.\u001b[0m\u001b[0msum\u001b[0m\u001b[0;34m(\u001b[0m\u001b[0;34m)\u001b[0m\u001b[0;34m:\u001b[0m\u001b[0;34m\u001b[0m\u001b[0;34m\u001b[0m\u001b[0m\n\u001b[0;32m---> 27\u001b[0;31m         \u001b[0;32mraise\u001b[0m \u001b[0mZeroDivisionError\u001b[0m\u001b[0;34m(\u001b[0m\u001b[0;34mf'Recall can not be calculated as there are no positive predictions.'\u001b[0m\u001b[0;34m)\u001b[0m\u001b[0;34m\u001b[0m\u001b[0;34m\u001b[0m\u001b[0m\n\u001b[0m\u001b[1;32m     28\u001b[0m     \u001b[0mtp\u001b[0m \u001b[0;34m=\u001b[0m \u001b[0;34m(\u001b[0m\u001b[0;34m(\u001b[0m\u001b[0my_pred\u001b[0m\u001b[0;34m==\u001b[0m\u001b[0;36m1\u001b[0m\u001b[0;34m)\u001b[0m \u001b[0;34m&\u001b[0m \u001b[0;34m(\u001b[0m\u001b[0my_pred\u001b[0m\u001b[0;34m==\u001b[0m\u001b[0my_test\u001b[0m\u001b[0;34m)\u001b[0m\u001b[0;34m)\u001b[0m\u001b[0;34m.\u001b[0m\u001b[0msum\u001b[0m\u001b[0;34m(\u001b[0m\u001b[0;34m)\u001b[0m\u001b[0;34m\u001b[0m\u001b[0;34m\u001b[0m\u001b[0m\n\u001b[1;32m     29\u001b[0m     \u001b[0mpv\u001b[0m \u001b[0;34m=\u001b[0m \u001b[0my_test\u001b[0m\u001b[0;34m.\u001b[0m\u001b[0msum\u001b[0m\u001b[0;34m(\u001b[0m\u001b[0;34m)\u001b[0m\u001b[0;34m\u001b[0m\u001b[0;34m\u001b[0m\u001b[0m\n",
      "\u001b[0;31mZeroDivisionError\u001b[0m: Recall can not be calculated as there are no positive predictions."
     ]
    }
   ],
   "source": [
    "for m_name, m in sklearn_models.items():\n",
    "    m.fit(X_eth_train_ohe.to_numpy(), y_eth_train.to_numpy())\n",
    "    print(m_name)\n",
    "    print('Test acc', (measures.accuracy(m.predict(X_eth_test_ohe.to_numpy()), y_eth_test)))\n",
    "    print('Test F1-score', (measures.f_measure(m.predict(X_eth_test_ohe.to_numpy()), y_eth_test)))"
   ]
  }
 ],
 "metadata": {
  "kernelspec": {
   "display_name": "Python 3",
   "language": "python",
   "name": "python3"
  },
  "language_info": {
   "codemirror_mode": {
    "name": "ipython",
    "version": 3
   },
   "file_extension": ".py",
   "mimetype": "text/x-python",
   "name": "python",
   "nbconvert_exporter": "python",
   "pygments_lexer": "ipython3",
   "version": "3.8.8"
  }
 },
 "nbformat": 4,
 "nbformat_minor": 5
}
