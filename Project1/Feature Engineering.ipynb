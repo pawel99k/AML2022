{
 "cells": [
  {
   "cell_type": "code",
   "execution_count": 2,
   "id": "little-pension",
   "metadata": {},
   "outputs": [],
   "source": [
    "import pandas as pd\n",
    "import numpy as np\n",
    "import matplotlib.pyplot as plt\n",
    "import seaborn as sns\n",
    "from sklearn.preprocessing import OneHotEncoder \n",
    "from sklearn.model_selection import train_test_split \n",
    "from sklearn.linear_model import LogisticRegression\n",
    "from sklearn.base import BaseEstimator, TransformerMixin\n",
    "from sklearn.impute import SimpleImputer\n",
    "from sklearn.preprocessing import StandardScaler\n",
    "from statsmodels.stats.outliers_influence import variance_inflation_factor\n",
    "from scipy.special import expit\n",
    "\n",
    "from preprocessing import Preprocessor"
   ]
  },
  {
   "cell_type": "code",
   "execution_count": 2,
   "id": "stone-tsunami",
   "metadata": {},
   "outputs": [],
   "source": [
    "prep = Preprocessor()"
   ]
  },
  {
   "cell_type": "markdown",
   "id": "stuck-deployment",
   "metadata": {},
   "source": [
    "# 1. Bank data\n",
    "\n",
    "Missing values: Categorical with 'unknown'. Will be treated as a separate class"
   ]
  },
  {
   "cell_type": "code",
   "execution_count": 3,
   "id": "documented-limitation",
   "metadata": {
    "scrolled": true
   },
   "outputs": [
    {
     "data": {
      "text/html": [
       "<div>\n",
       "<style scoped>\n",
       "    .dataframe tbody tr th:only-of-type {\n",
       "        vertical-align: middle;\n",
       "    }\n",
       "\n",
       "    .dataframe tbody tr th {\n",
       "        vertical-align: top;\n",
       "    }\n",
       "\n",
       "    .dataframe thead th {\n",
       "        text-align: right;\n",
       "    }\n",
       "</style>\n",
       "<table border=\"1\" class=\"dataframe\">\n",
       "  <thead>\n",
       "    <tr style=\"text-align: right;\">\n",
       "      <th></th>\n",
       "      <th>age</th>\n",
       "      <th>job</th>\n",
       "      <th>marital</th>\n",
       "      <th>education</th>\n",
       "      <th>default</th>\n",
       "      <th>housing</th>\n",
       "      <th>loan</th>\n",
       "      <th>contact</th>\n",
       "      <th>month</th>\n",
       "      <th>day_of_week</th>\n",
       "      <th>duration</th>\n",
       "      <th>campaign</th>\n",
       "      <th>pdays</th>\n",
       "      <th>previous</th>\n",
       "      <th>poutcome</th>\n",
       "      <th>emp.var.rate</th>\n",
       "      <th>cons.price.idx</th>\n",
       "      <th>cons.conf.idx</th>\n",
       "      <th>euribor3m</th>\n",
       "      <th>nr.employed</th>\n",
       "    </tr>\n",
       "  </thead>\n",
       "  <tbody>\n",
       "    <tr>\n",
       "      <th>0</th>\n",
       "      <td>56</td>\n",
       "      <td>housemaid</td>\n",
       "      <td>married</td>\n",
       "      <td>basic.4y</td>\n",
       "      <td>no</td>\n",
       "      <td>no</td>\n",
       "      <td>no</td>\n",
       "      <td>telephone</td>\n",
       "      <td>may</td>\n",
       "      <td>mon</td>\n",
       "      <td>261</td>\n",
       "      <td>1</td>\n",
       "      <td>999</td>\n",
       "      <td>0</td>\n",
       "      <td>nonexistent</td>\n",
       "      <td>1.1</td>\n",
       "      <td>93.994</td>\n",
       "      <td>-36.4</td>\n",
       "      <td>4.857</td>\n",
       "      <td>5191.0</td>\n",
       "    </tr>\n",
       "    <tr>\n",
       "      <th>1</th>\n",
       "      <td>57</td>\n",
       "      <td>services</td>\n",
       "      <td>married</td>\n",
       "      <td>high.school</td>\n",
       "      <td>unknown</td>\n",
       "      <td>no</td>\n",
       "      <td>no</td>\n",
       "      <td>telephone</td>\n",
       "      <td>may</td>\n",
       "      <td>mon</td>\n",
       "      <td>149</td>\n",
       "      <td>1</td>\n",
       "      <td>999</td>\n",
       "      <td>0</td>\n",
       "      <td>nonexistent</td>\n",
       "      <td>1.1</td>\n",
       "      <td>93.994</td>\n",
       "      <td>-36.4</td>\n",
       "      <td>4.857</td>\n",
       "      <td>5191.0</td>\n",
       "    </tr>\n",
       "    <tr>\n",
       "      <th>2</th>\n",
       "      <td>37</td>\n",
       "      <td>services</td>\n",
       "      <td>married</td>\n",
       "      <td>high.school</td>\n",
       "      <td>no</td>\n",
       "      <td>yes</td>\n",
       "      <td>no</td>\n",
       "      <td>telephone</td>\n",
       "      <td>may</td>\n",
       "      <td>mon</td>\n",
       "      <td>226</td>\n",
       "      <td>1</td>\n",
       "      <td>999</td>\n",
       "      <td>0</td>\n",
       "      <td>nonexistent</td>\n",
       "      <td>1.1</td>\n",
       "      <td>93.994</td>\n",
       "      <td>-36.4</td>\n",
       "      <td>4.857</td>\n",
       "      <td>5191.0</td>\n",
       "    </tr>\n",
       "    <tr>\n",
       "      <th>3</th>\n",
       "      <td>40</td>\n",
       "      <td>admin.</td>\n",
       "      <td>married</td>\n",
       "      <td>basic.6y</td>\n",
       "      <td>no</td>\n",
       "      <td>no</td>\n",
       "      <td>no</td>\n",
       "      <td>telephone</td>\n",
       "      <td>may</td>\n",
       "      <td>mon</td>\n",
       "      <td>151</td>\n",
       "      <td>1</td>\n",
       "      <td>999</td>\n",
       "      <td>0</td>\n",
       "      <td>nonexistent</td>\n",
       "      <td>1.1</td>\n",
       "      <td>93.994</td>\n",
       "      <td>-36.4</td>\n",
       "      <td>4.857</td>\n",
       "      <td>5191.0</td>\n",
       "    </tr>\n",
       "    <tr>\n",
       "      <th>4</th>\n",
       "      <td>56</td>\n",
       "      <td>services</td>\n",
       "      <td>married</td>\n",
       "      <td>high.school</td>\n",
       "      <td>no</td>\n",
       "      <td>no</td>\n",
       "      <td>yes</td>\n",
       "      <td>telephone</td>\n",
       "      <td>may</td>\n",
       "      <td>mon</td>\n",
       "      <td>307</td>\n",
       "      <td>1</td>\n",
       "      <td>999</td>\n",
       "      <td>0</td>\n",
       "      <td>nonexistent</td>\n",
       "      <td>1.1</td>\n",
       "      <td>93.994</td>\n",
       "      <td>-36.4</td>\n",
       "      <td>4.857</td>\n",
       "      <td>5191.0</td>\n",
       "    </tr>\n",
       "  </tbody>\n",
       "</table>\n",
       "</div>"
      ],
      "text/plain": [
       "   age        job  marital    education  default housing loan    contact  \\\n",
       "0   56  housemaid  married     basic.4y       no      no   no  telephone   \n",
       "1   57   services  married  high.school  unknown      no   no  telephone   \n",
       "2   37   services  married  high.school       no     yes   no  telephone   \n",
       "3   40     admin.  married     basic.6y       no      no   no  telephone   \n",
       "4   56   services  married  high.school       no      no  yes  telephone   \n",
       "\n",
       "  month day_of_week  duration  campaign  pdays  previous     poutcome  \\\n",
       "0   may         mon       261         1    999         0  nonexistent   \n",
       "1   may         mon       149         1    999         0  nonexistent   \n",
       "2   may         mon       226         1    999         0  nonexistent   \n",
       "3   may         mon       151         1    999         0  nonexistent   \n",
       "4   may         mon       307         1    999         0  nonexistent   \n",
       "\n",
       "   emp.var.rate  cons.price.idx  cons.conf.idx  euribor3m  nr.employed  \n",
       "0           1.1          93.994          -36.4      4.857       5191.0  \n",
       "1           1.1          93.994          -36.4      4.857       5191.0  \n",
       "2           1.1          93.994          -36.4      4.857       5191.0  \n",
       "3           1.1          93.994          -36.4      4.857       5191.0  \n",
       "4           1.1          93.994          -36.4      4.857       5191.0  "
      ]
     },
     "execution_count": 3,
     "metadata": {},
     "output_type": "execute_result"
    }
   ],
   "source": [
    "bank_df = pd.read_csv('data/bank-additional-full.csv', sep=';')\n",
    "bank_target = (bank_df['y'] == 'yes').astype(int)\n",
    "bank_df = bank_df.drop('y', axis=1)\n",
    "bank_df.head()"
   ]
  },
  {
   "cell_type": "markdown",
   "id": "blessed-cache",
   "metadata": {},
   "source": [
    "#### Train test division"
   ]
  },
  {
   "cell_type": "code",
   "execution_count": 4,
   "id": "fewer-carroll",
   "metadata": {},
   "outputs": [
    {
     "name": "stdout",
     "output_type": "stream",
     "text": [
      "(30891, 20) (10297, 20)\n"
     ]
    }
   ],
   "source": [
    "bank_prep = Preprocessor()\n",
    "bank_df_train, bank_df_test, bank_y_train, bank_y_test = bank_prep.train_test_split(bank_df, bank_target)\n",
    "print(bank_df_train.shape, bank_df_test.shape)"
   ]
  },
  {
   "cell_type": "markdown",
   "id": "excess-receipt",
   "metadata": {},
   "source": [
    "#### One Hot Encoding"
   ]
  },
  {
   "cell_type": "code",
   "execution_count": 5,
   "id": "alien-holocaust",
   "metadata": {},
   "outputs": [],
   "source": [
    "bank_df_train_ohe = bank_prep.one_hot_encoding_fit_transform(bank_df_train)"
   ]
  },
  {
   "cell_type": "code",
   "execution_count": 6,
   "id": "polar-heavy",
   "metadata": {},
   "outputs": [
    {
     "data": {
      "text/html": [
       "<div>\n",
       "<style scoped>\n",
       "    .dataframe tbody tr th:only-of-type {\n",
       "        vertical-align: middle;\n",
       "    }\n",
       "\n",
       "    .dataframe tbody tr th {\n",
       "        vertical-align: top;\n",
       "    }\n",
       "\n",
       "    .dataframe thead th {\n",
       "        text-align: right;\n",
       "    }\n",
       "</style>\n",
       "<table border=\"1\" class=\"dataframe\">\n",
       "  <thead>\n",
       "    <tr style=\"text-align: right;\">\n",
       "      <th></th>\n",
       "      <th>age</th>\n",
       "      <th>duration</th>\n",
       "      <th>campaign</th>\n",
       "      <th>pdays</th>\n",
       "      <th>previous</th>\n",
       "      <th>emp.var.rate</th>\n",
       "      <th>cons.price.idx</th>\n",
       "      <th>cons.conf.idx</th>\n",
       "      <th>euribor3m</th>\n",
       "      <th>nr.employed</th>\n",
       "      <th>...</th>\n",
       "      <th>month_mar</th>\n",
       "      <th>month_oct</th>\n",
       "      <th>month_nov</th>\n",
       "      <th>month_aug</th>\n",
       "      <th>day_of_week_wed</th>\n",
       "      <th>day_of_week_mon</th>\n",
       "      <th>day_of_week_fri</th>\n",
       "      <th>day_of_week_thu</th>\n",
       "      <th>poutcome_failure</th>\n",
       "      <th>poutcome_nonexistent</th>\n",
       "    </tr>\n",
       "  </thead>\n",
       "  <tbody>\n",
       "    <tr>\n",
       "      <th>39153</th>\n",
       "      <td>21</td>\n",
       "      <td>363</td>\n",
       "      <td>1</td>\n",
       "      <td>6</td>\n",
       "      <td>1</td>\n",
       "      <td>-1.8</td>\n",
       "      <td>93.369</td>\n",
       "      <td>-34.8</td>\n",
       "      <td>0.655</td>\n",
       "      <td>5008.7</td>\n",
       "      <td>...</td>\n",
       "      <td>1</td>\n",
       "      <td>0</td>\n",
       "      <td>0</td>\n",
       "      <td>0</td>\n",
       "      <td>1</td>\n",
       "      <td>0</td>\n",
       "      <td>0</td>\n",
       "      <td>0</td>\n",
       "      <td>0</td>\n",
       "      <td>0</td>\n",
       "    </tr>\n",
       "    <tr>\n",
       "      <th>39835</th>\n",
       "      <td>28</td>\n",
       "      <td>479</td>\n",
       "      <td>2</td>\n",
       "      <td>6</td>\n",
       "      <td>2</td>\n",
       "      <td>-1.7</td>\n",
       "      <td>94.055</td>\n",
       "      <td>-39.8</td>\n",
       "      <td>0.715</td>\n",
       "      <td>4991.6</td>\n",
       "      <td>...</td>\n",
       "      <td>0</td>\n",
       "      <td>0</td>\n",
       "      <td>0</td>\n",
       "      <td>0</td>\n",
       "      <td>1</td>\n",
       "      <td>0</td>\n",
       "      <td>0</td>\n",
       "      <td>0</td>\n",
       "      <td>0</td>\n",
       "      <td>0</td>\n",
       "    </tr>\n",
       "    <tr>\n",
       "      <th>30441</th>\n",
       "      <td>39</td>\n",
       "      <td>303</td>\n",
       "      <td>3</td>\n",
       "      <td>999</td>\n",
       "      <td>0</td>\n",
       "      <td>-1.8</td>\n",
       "      <td>92.893</td>\n",
       "      <td>-46.2</td>\n",
       "      <td>1.354</td>\n",
       "      <td>5099.1</td>\n",
       "      <td>...</td>\n",
       "      <td>0</td>\n",
       "      <td>0</td>\n",
       "      <td>0</td>\n",
       "      <td>0</td>\n",
       "      <td>0</td>\n",
       "      <td>1</td>\n",
       "      <td>0</td>\n",
       "      <td>0</td>\n",
       "      <td>0</td>\n",
       "      <td>1</td>\n",
       "    </tr>\n",
       "    <tr>\n",
       "      <th>33719</th>\n",
       "      <td>55</td>\n",
       "      <td>526</td>\n",
       "      <td>4</td>\n",
       "      <td>999</td>\n",
       "      <td>1</td>\n",
       "      <td>-1.8</td>\n",
       "      <td>92.893</td>\n",
       "      <td>-46.2</td>\n",
       "      <td>1.281</td>\n",
       "      <td>5099.1</td>\n",
       "      <td>...</td>\n",
       "      <td>0</td>\n",
       "      <td>0</td>\n",
       "      <td>0</td>\n",
       "      <td>0</td>\n",
       "      <td>1</td>\n",
       "      <td>0</td>\n",
       "      <td>0</td>\n",
       "      <td>0</td>\n",
       "      <td>1</td>\n",
       "      <td>0</td>\n",
       "    </tr>\n",
       "    <tr>\n",
       "      <th>33382</th>\n",
       "      <td>48</td>\n",
       "      <td>309</td>\n",
       "      <td>1</td>\n",
       "      <td>10</td>\n",
       "      <td>1</td>\n",
       "      <td>-1.8</td>\n",
       "      <td>92.893</td>\n",
       "      <td>-46.2</td>\n",
       "      <td>1.291</td>\n",
       "      <td>5099.1</td>\n",
       "      <td>...</td>\n",
       "      <td>0</td>\n",
       "      <td>0</td>\n",
       "      <td>0</td>\n",
       "      <td>0</td>\n",
       "      <td>0</td>\n",
       "      <td>0</td>\n",
       "      <td>0</td>\n",
       "      <td>0</td>\n",
       "      <td>0</td>\n",
       "      <td>0</td>\n",
       "    </tr>\n",
       "    <tr>\n",
       "      <th>...</th>\n",
       "      <td>...</td>\n",
       "      <td>...</td>\n",
       "      <td>...</td>\n",
       "      <td>...</td>\n",
       "      <td>...</td>\n",
       "      <td>...</td>\n",
       "      <td>...</td>\n",
       "      <td>...</td>\n",
       "      <td>...</td>\n",
       "      <td>...</td>\n",
       "      <td>...</td>\n",
       "      <td>...</td>\n",
       "      <td>...</td>\n",
       "      <td>...</td>\n",
       "      <td>...</td>\n",
       "      <td>...</td>\n",
       "      <td>...</td>\n",
       "      <td>...</td>\n",
       "      <td>...</td>\n",
       "      <td>...</td>\n",
       "      <td>...</td>\n",
       "    </tr>\n",
       "    <tr>\n",
       "      <th>30447</th>\n",
       "      <td>60</td>\n",
       "      <td>364</td>\n",
       "      <td>1</td>\n",
       "      <td>999</td>\n",
       "      <td>0</td>\n",
       "      <td>-1.8</td>\n",
       "      <td>92.893</td>\n",
       "      <td>-46.2</td>\n",
       "      <td>1.354</td>\n",
       "      <td>5099.1</td>\n",
       "      <td>...</td>\n",
       "      <td>0</td>\n",
       "      <td>0</td>\n",
       "      <td>0</td>\n",
       "      <td>0</td>\n",
       "      <td>0</td>\n",
       "      <td>1</td>\n",
       "      <td>0</td>\n",
       "      <td>0</td>\n",
       "      <td>0</td>\n",
       "      <td>1</td>\n",
       "    </tr>\n",
       "    <tr>\n",
       "      <th>5355</th>\n",
       "      <td>48</td>\n",
       "      <td>34</td>\n",
       "      <td>3</td>\n",
       "      <td>999</td>\n",
       "      <td>0</td>\n",
       "      <td>1.1</td>\n",
       "      <td>93.994</td>\n",
       "      <td>-36.4</td>\n",
       "      <td>4.857</td>\n",
       "      <td>5191.0</td>\n",
       "      <td>...</td>\n",
       "      <td>0</td>\n",
       "      <td>0</td>\n",
       "      <td>0</td>\n",
       "      <td>0</td>\n",
       "      <td>0</td>\n",
       "      <td>0</td>\n",
       "      <td>1</td>\n",
       "      <td>0</td>\n",
       "      <td>0</td>\n",
       "      <td>1</td>\n",
       "    </tr>\n",
       "    <tr>\n",
       "      <th>25217</th>\n",
       "      <td>39</td>\n",
       "      <td>123</td>\n",
       "      <td>2</td>\n",
       "      <td>999</td>\n",
       "      <td>0</td>\n",
       "      <td>-0.1</td>\n",
       "      <td>93.200</td>\n",
       "      <td>-42.0</td>\n",
       "      <td>4.153</td>\n",
       "      <td>5195.8</td>\n",
       "      <td>...</td>\n",
       "      <td>0</td>\n",
       "      <td>0</td>\n",
       "      <td>1</td>\n",
       "      <td>0</td>\n",
       "      <td>0</td>\n",
       "      <td>0</td>\n",
       "      <td>0</td>\n",
       "      <td>0</td>\n",
       "      <td>0</td>\n",
       "      <td>1</td>\n",
       "    </tr>\n",
       "    <tr>\n",
       "      <th>26818</th>\n",
       "      <td>30</td>\n",
       "      <td>399</td>\n",
       "      <td>2</td>\n",
       "      <td>999</td>\n",
       "      <td>1</td>\n",
       "      <td>-0.1</td>\n",
       "      <td>93.200</td>\n",
       "      <td>-42.0</td>\n",
       "      <td>4.076</td>\n",
       "      <td>5195.8</td>\n",
       "      <td>...</td>\n",
       "      <td>0</td>\n",
       "      <td>0</td>\n",
       "      <td>1</td>\n",
       "      <td>0</td>\n",
       "      <td>0</td>\n",
       "      <td>0</td>\n",
       "      <td>0</td>\n",
       "      <td>1</td>\n",
       "      <td>1</td>\n",
       "      <td>0</td>\n",
       "    </tr>\n",
       "    <tr>\n",
       "      <th>12666</th>\n",
       "      <td>31</td>\n",
       "      <td>160</td>\n",
       "      <td>5</td>\n",
       "      <td>999</td>\n",
       "      <td>0</td>\n",
       "      <td>1.4</td>\n",
       "      <td>93.918</td>\n",
       "      <td>-42.7</td>\n",
       "      <td>4.960</td>\n",
       "      <td>5228.1</td>\n",
       "      <td>...</td>\n",
       "      <td>0</td>\n",
       "      <td>0</td>\n",
       "      <td>0</td>\n",
       "      <td>0</td>\n",
       "      <td>0</td>\n",
       "      <td>1</td>\n",
       "      <td>0</td>\n",
       "      <td>0</td>\n",
       "      <td>0</td>\n",
       "      <td>1</td>\n",
       "    </tr>\n",
       "  </tbody>\n",
       "</table>\n",
       "<p>30891 rows × 53 columns</p>\n",
       "</div>"
      ],
      "text/plain": [
       "       age  duration  campaign  pdays  previous  emp.var.rate  cons.price.idx  \\\n",
       "39153   21       363         1      6         1          -1.8          93.369   \n",
       "39835   28       479         2      6         2          -1.7          94.055   \n",
       "30441   39       303         3    999         0          -1.8          92.893   \n",
       "33719   55       526         4    999         1          -1.8          92.893   \n",
       "33382   48       309         1     10         1          -1.8          92.893   \n",
       "...    ...       ...       ...    ...       ...           ...             ...   \n",
       "30447   60       364         1    999         0          -1.8          92.893   \n",
       "5355    48        34         3    999         0           1.1          93.994   \n",
       "25217   39       123         2    999         0          -0.1          93.200   \n",
       "26818   30       399         2    999         1          -0.1          93.200   \n",
       "12666   31       160         5    999         0           1.4          93.918   \n",
       "\n",
       "       cons.conf.idx  euribor3m  nr.employed  ...  month_mar  month_oct  \\\n",
       "39153          -34.8      0.655       5008.7  ...          1          0   \n",
       "39835          -39.8      0.715       4991.6  ...          0          0   \n",
       "30441          -46.2      1.354       5099.1  ...          0          0   \n",
       "33719          -46.2      1.281       5099.1  ...          0          0   \n",
       "33382          -46.2      1.291       5099.1  ...          0          0   \n",
       "...              ...        ...          ...  ...        ...        ...   \n",
       "30447          -46.2      1.354       5099.1  ...          0          0   \n",
       "5355           -36.4      4.857       5191.0  ...          0          0   \n",
       "25217          -42.0      4.153       5195.8  ...          0          0   \n",
       "26818          -42.0      4.076       5195.8  ...          0          0   \n",
       "12666          -42.7      4.960       5228.1  ...          0          0   \n",
       "\n",
       "       month_nov  month_aug  day_of_week_wed  day_of_week_mon  \\\n",
       "39153          0          0                1                0   \n",
       "39835          0          0                1                0   \n",
       "30441          0          0                0                1   \n",
       "33719          0          0                1                0   \n",
       "33382          0          0                0                0   \n",
       "...          ...        ...              ...              ...   \n",
       "30447          0          0                0                1   \n",
       "5355           0          0                0                0   \n",
       "25217          1          0                0                0   \n",
       "26818          1          0                0                0   \n",
       "12666          0          0                0                1   \n",
       "\n",
       "       day_of_week_fri  day_of_week_thu  poutcome_failure  \\\n",
       "39153                0                0                 0   \n",
       "39835                0                0                 0   \n",
       "30441                0                0                 0   \n",
       "33719                0                0                 1   \n",
       "33382                0                0                 0   \n",
       "...                ...              ...               ...   \n",
       "30447                0                0                 0   \n",
       "5355                 1                0                 0   \n",
       "25217                0                0                 0   \n",
       "26818                0                1                 1   \n",
       "12666                0                0                 0   \n",
       "\n",
       "       poutcome_nonexistent  \n",
       "39153                     0  \n",
       "39835                     0  \n",
       "30441                     1  \n",
       "33719                     0  \n",
       "33382                     0  \n",
       "...                     ...  \n",
       "30447                     1  \n",
       "5355                      1  \n",
       "25217                     1  \n",
       "26818                     0  \n",
       "12666                     1  \n",
       "\n",
       "[30891 rows x 53 columns]"
      ]
     },
     "execution_count": 6,
     "metadata": {},
     "output_type": "execute_result"
    }
   ],
   "source": [
    "bank_df_train_ohe"
   ]
  },
  {
   "cell_type": "code",
   "execution_count": 7,
   "id": "planned-samuel",
   "metadata": {},
   "outputs": [],
   "source": [
    "bank_df_test_ohe = bank_prep.one_hot_encoding_transform(bank_df_test)"
   ]
  },
  {
   "cell_type": "markdown",
   "id": "vital-joseph",
   "metadata": {},
   "source": [
    "#### Removing almost collinear columns"
   ]
  },
  {
   "cell_type": "code",
   "execution_count": 8,
   "id": "hydraulic-albert",
   "metadata": {},
   "outputs": [
    {
     "name": "stderr",
     "output_type": "stream",
     "text": [
      "C:\\ProgramData\\Anaconda3\\lib\\site-packages\\statsmodels\\stats\\outliers_influence.py:193: RuntimeWarning: divide by zero encountered in double_scalars\n",
      "  vif = 1. / (1. - r_squared_i)\n"
     ]
    },
    {
     "name": "stdout",
     "output_type": "stream",
     "text": [
      "Dropping housing_no with vif=inf\n",
      "Dropping nr.employed with vif=80910.95507690196\n",
      "Dropping cons.price.idx with vif=1379.8848314165896\n",
      "Dropping pdays with vif=335.9170629295494\n",
      "Dropping marital_married with vif=205.06119798259036\n",
      "Dropping euribor3m with vif=121.37082936250285\n",
      "Dropping cons.conf.idx with vif=104.67351993863785\n",
      "Dropping poutcome_nonexistent with vif=52.5438483954454\n",
      "Dropping loan_no with vif=29.951637157215213\n",
      "Dropping age with vif=20.901947416753792\n",
      "Dropping job_admin. with vif=12.377528333457548\n",
      "42 numerical features left in dataset  0  categorical\n"
     ]
    }
   ],
   "source": [
    "bank_df_train_ohe_rc = bank_prep.remove_multicollinearity_fit_transform(bank_df_train_ohe)"
   ]
  },
  {
   "cell_type": "code",
   "execution_count": 9,
   "id": "personal-antibody",
   "metadata": {},
   "outputs": [],
   "source": [
    "bank_df_test_ohe_rc = bank_prep.remove_multicollinearity_transform(bank_df_test_ohe)"
   ]
  },
  {
   "cell_type": "code",
   "execution_count": 10,
   "id": "reported-shame",
   "metadata": {},
   "outputs": [
    {
     "data": {
      "text/plain": [
       "(10297, 42)"
      ]
     },
     "execution_count": 10,
     "metadata": {},
     "output_type": "execute_result"
    }
   ],
   "source": [
    "bank_df_test_ohe_rc.shape"
   ]
  },
  {
   "cell_type": "markdown",
   "id": "d094019b",
   "metadata": {},
   "source": [
    "# 2. Diabetic Retinopathy\n",
    "No missing values"
   ]
  },
  {
   "cell_type": "code",
   "execution_count": 11,
   "id": "b67eb22d",
   "metadata": {
    "scrolled": true
   },
   "outputs": [
    {
     "data": {
      "text/html": [
       "<div>\n",
       "<style scoped>\n",
       "    .dataframe tbody tr th:only-of-type {\n",
       "        vertical-align: middle;\n",
       "    }\n",
       "\n",
       "    .dataframe tbody tr th {\n",
       "        vertical-align: top;\n",
       "    }\n",
       "\n",
       "    .dataframe thead th {\n",
       "        text-align: right;\n",
       "    }\n",
       "</style>\n",
       "<table border=\"1\" class=\"dataframe\">\n",
       "  <thead>\n",
       "    <tr style=\"text-align: right;\">\n",
       "      <th></th>\n",
       "      <th>0</th>\n",
       "      <th>1</th>\n",
       "      <th>2</th>\n",
       "      <th>3</th>\n",
       "      <th>4</th>\n",
       "      <th>5</th>\n",
       "      <th>6</th>\n",
       "      <th>7</th>\n",
       "      <th>8</th>\n",
       "      <th>9</th>\n",
       "      <th>10</th>\n",
       "      <th>11</th>\n",
       "      <th>12</th>\n",
       "      <th>13</th>\n",
       "      <th>14</th>\n",
       "      <th>15</th>\n",
       "      <th>16</th>\n",
       "      <th>17</th>\n",
       "      <th>18</th>\n",
       "      <th>Class</th>\n",
       "    </tr>\n",
       "  </thead>\n",
       "  <tbody>\n",
       "    <tr>\n",
       "      <th>0</th>\n",
       "      <td>1.0</td>\n",
       "      <td>1.0</td>\n",
       "      <td>22.0</td>\n",
       "      <td>22.0</td>\n",
       "      <td>22.0</td>\n",
       "      <td>19.0</td>\n",
       "      <td>18.0</td>\n",
       "      <td>14.0</td>\n",
       "      <td>49.895756</td>\n",
       "      <td>17.775994</td>\n",
       "      <td>5.270920</td>\n",
       "      <td>0.771761</td>\n",
       "      <td>0.018632</td>\n",
       "      <td>0.006864</td>\n",
       "      <td>0.003923</td>\n",
       "      <td>0.003923</td>\n",
       "      <td>0.486903</td>\n",
       "      <td>0.100025</td>\n",
       "      <td>1.0</td>\n",
       "      <td>b'0'</td>\n",
       "    </tr>\n",
       "    <tr>\n",
       "      <th>1</th>\n",
       "      <td>1.0</td>\n",
       "      <td>1.0</td>\n",
       "      <td>24.0</td>\n",
       "      <td>24.0</td>\n",
       "      <td>22.0</td>\n",
       "      <td>18.0</td>\n",
       "      <td>16.0</td>\n",
       "      <td>13.0</td>\n",
       "      <td>57.709936</td>\n",
       "      <td>23.799994</td>\n",
       "      <td>3.325423</td>\n",
       "      <td>0.234185</td>\n",
       "      <td>0.003903</td>\n",
       "      <td>0.003903</td>\n",
       "      <td>0.003903</td>\n",
       "      <td>0.003903</td>\n",
       "      <td>0.520908</td>\n",
       "      <td>0.144414</td>\n",
       "      <td>0.0</td>\n",
       "      <td>b'0'</td>\n",
       "    </tr>\n",
       "    <tr>\n",
       "      <th>2</th>\n",
       "      <td>1.0</td>\n",
       "      <td>1.0</td>\n",
       "      <td>62.0</td>\n",
       "      <td>60.0</td>\n",
       "      <td>59.0</td>\n",
       "      <td>54.0</td>\n",
       "      <td>47.0</td>\n",
       "      <td>33.0</td>\n",
       "      <td>55.831441</td>\n",
       "      <td>27.993933</td>\n",
       "      <td>12.687485</td>\n",
       "      <td>4.852282</td>\n",
       "      <td>1.393889</td>\n",
       "      <td>0.373252</td>\n",
       "      <td>0.041817</td>\n",
       "      <td>0.007744</td>\n",
       "      <td>0.530904</td>\n",
       "      <td>0.128548</td>\n",
       "      <td>0.0</td>\n",
       "      <td>b'1'</td>\n",
       "    </tr>\n",
       "    <tr>\n",
       "      <th>3</th>\n",
       "      <td>1.0</td>\n",
       "      <td>1.0</td>\n",
       "      <td>55.0</td>\n",
       "      <td>53.0</td>\n",
       "      <td>53.0</td>\n",
       "      <td>50.0</td>\n",
       "      <td>43.0</td>\n",
       "      <td>31.0</td>\n",
       "      <td>40.467228</td>\n",
       "      <td>18.445954</td>\n",
       "      <td>9.118901</td>\n",
       "      <td>3.079428</td>\n",
       "      <td>0.840261</td>\n",
       "      <td>0.272434</td>\n",
       "      <td>0.007653</td>\n",
       "      <td>0.001531</td>\n",
       "      <td>0.483284</td>\n",
       "      <td>0.114790</td>\n",
       "      <td>0.0</td>\n",
       "      <td>b'0'</td>\n",
       "    </tr>\n",
       "    <tr>\n",
       "      <th>4</th>\n",
       "      <td>1.0</td>\n",
       "      <td>1.0</td>\n",
       "      <td>44.0</td>\n",
       "      <td>44.0</td>\n",
       "      <td>44.0</td>\n",
       "      <td>41.0</td>\n",
       "      <td>39.0</td>\n",
       "      <td>27.0</td>\n",
       "      <td>18.026254</td>\n",
       "      <td>8.570709</td>\n",
       "      <td>0.410381</td>\n",
       "      <td>0.000000</td>\n",
       "      <td>0.000000</td>\n",
       "      <td>0.000000</td>\n",
       "      <td>0.000000</td>\n",
       "      <td>0.000000</td>\n",
       "      <td>0.475935</td>\n",
       "      <td>0.123572</td>\n",
       "      <td>0.0</td>\n",
       "      <td>b'1'</td>\n",
       "    </tr>\n",
       "  </tbody>\n",
       "</table>\n",
       "</div>"
      ],
      "text/plain": [
       "     0    1     2     3     4     5     6     7          8          9  \\\n",
       "0  1.0  1.0  22.0  22.0  22.0  19.0  18.0  14.0  49.895756  17.775994   \n",
       "1  1.0  1.0  24.0  24.0  22.0  18.0  16.0  13.0  57.709936  23.799994   \n",
       "2  1.0  1.0  62.0  60.0  59.0  54.0  47.0  33.0  55.831441  27.993933   \n",
       "3  1.0  1.0  55.0  53.0  53.0  50.0  43.0  31.0  40.467228  18.445954   \n",
       "4  1.0  1.0  44.0  44.0  44.0  41.0  39.0  27.0  18.026254   8.570709   \n",
       "\n",
       "          10        11        12        13        14        15        16  \\\n",
       "0   5.270920  0.771761  0.018632  0.006864  0.003923  0.003923  0.486903   \n",
       "1   3.325423  0.234185  0.003903  0.003903  0.003903  0.003903  0.520908   \n",
       "2  12.687485  4.852282  1.393889  0.373252  0.041817  0.007744  0.530904   \n",
       "3   9.118901  3.079428  0.840261  0.272434  0.007653  0.001531  0.483284   \n",
       "4   0.410381  0.000000  0.000000  0.000000  0.000000  0.000000  0.475935   \n",
       "\n",
       "         17   18 Class  \n",
       "0  0.100025  1.0  b'0'  \n",
       "1  0.144414  0.0  b'0'  \n",
       "2  0.128548  0.0  b'1'  \n",
       "3  0.114790  0.0  b'0'  \n",
       "4  0.123572  0.0  b'1'  "
      ]
     },
     "execution_count": 11,
     "metadata": {},
     "output_type": "execute_result"
    }
   ],
   "source": [
    "from scipy.io import arff\n",
    "import pandas as pd\n",
    "data = arff.loadarff('data/messidor_features.arff')\n",
    "retinopathy_df = pd.DataFrame(data[0])\n",
    "retinopathy_df.head()"
   ]
  },
  {
   "cell_type": "code",
   "execution_count": 12,
   "id": "b16c1c60",
   "metadata": {},
   "outputs": [
    {
     "name": "stdout",
     "output_type": "stream",
     "text": [
      "<class 'pandas.core.frame.DataFrame'>\n",
      "RangeIndex: 1151 entries, 0 to 1150\n",
      "Data columns (total 20 columns):\n",
      " #   Column  Non-Null Count  Dtype  \n",
      "---  ------  --------------  -----  \n",
      " 0   0       1151 non-null   float64\n",
      " 1   1       1151 non-null   float64\n",
      " 2   2       1151 non-null   float64\n",
      " 3   3       1151 non-null   float64\n",
      " 4   4       1151 non-null   float64\n",
      " 5   5       1151 non-null   float64\n",
      " 6   6       1151 non-null   float64\n",
      " 7   7       1151 non-null   float64\n",
      " 8   8       1151 non-null   float64\n",
      " 9   9       1151 non-null   float64\n",
      " 10  10      1151 non-null   float64\n",
      " 11  11      1151 non-null   float64\n",
      " 12  12      1151 non-null   float64\n",
      " 13  13      1151 non-null   float64\n",
      " 14  14      1151 non-null   float64\n",
      " 15  15      1151 non-null   float64\n",
      " 16  16      1151 non-null   float64\n",
      " 17  17      1151 non-null   float64\n",
      " 18  18      1151 non-null   float64\n",
      " 19  Class   1151 non-null   object \n",
      "dtypes: float64(19), object(1)\n",
      "memory usage: 180.0+ KB\n"
     ]
    }
   ],
   "source": [
    "retinopathy_df.info()"
   ]
  },
  {
   "cell_type": "code",
   "execution_count": 13,
   "id": "07b94b3a",
   "metadata": {
    "scrolled": false
   },
   "outputs": [
    {
     "name": "stdout",
     "output_type": "stream",
     "text": [
      "column name:  0 number of unique values:  2 Number of nulls 0\n",
      "column name:  1 number of unique values:  2 Number of nulls 0\n",
      "column name:  2 number of unique values:  110 Number of nulls 0\n",
      "column name:  3 number of unique values:  104 Number of nulls 0\n",
      "column name:  4 number of unique values:  99 Number of nulls 0\n",
      "column name:  5 number of unique values:  91 Number of nulls 0\n",
      "column name:  6 number of unique values:  84 Number of nulls 0\n",
      "column name:  7 number of unique values:  69 Number of nulls 0\n",
      "column name:  8 number of unique values:  1141 Number of nulls 0\n",
      "column name:  9 number of unique values:  1141 Number of nulls 0\n",
      "column name:  10 number of unique values:  1130 Number of nulls 0\n",
      "column name:  11 number of unique values:  1032 Number of nulls 0\n",
      "column name:  12 number of unique values:  795 Number of nulls 0\n",
      "column name:  13 number of unique values:  579 Number of nulls 0\n",
      "column name:  14 number of unique values:  415 Number of nulls 0\n",
      "column name:  15 number of unique values:  351 Number of nulls 0\n",
      "column name:  16 number of unique values:  1132 Number of nulls 0\n",
      "column name:  17 number of unique values:  1110 Number of nulls 0\n",
      "column name:  18 number of unique values:  2 Number of nulls 0\n",
      "column name:  Class number of unique values:  2 Number of nulls 0\n"
     ]
    }
   ],
   "source": [
    "for c in retinopathy_df.columns:\n",
    "    print(\"column name: \",c,\"number of unique values: \",len(retinopathy_df[c].unique()),\"Number of nulls\",retinopathy_df.isna().sum().sum())"
   ]
  },
  {
   "cell_type": "markdown",
   "id": "5e2ad9c0",
   "metadata": {},
   "source": [
    "description of the dataset can be found [here](https://archive.ics.uci.edu/ml/datasets/Diabetic+Retinopathy+Debrecen+Data+Set#)\n",
    "\n",
    "Target: `Class`"
   ]
  },
  {
   "cell_type": "code",
   "execution_count": 14,
   "id": "aa2fb21d",
   "metadata": {},
   "outputs": [],
   "source": [
    "X_retinopathy=retinopathy_df.drop(columns='Class')\n",
    "y_retinopathy=(retinopathy_df['Class'] == b'1').astype(int)"
   ]
  },
  {
   "cell_type": "markdown",
   "id": "equal-treasury",
   "metadata": {},
   "source": [
    "There are no categorical variables.\n",
    "\n",
    "#### Train test split"
   ]
  },
  {
   "cell_type": "code",
   "execution_count": 15,
   "id": "distributed-george",
   "metadata": {},
   "outputs": [],
   "source": [
    "ret_prep = Preprocessor()\n",
    "ret_df_train, ret_df_test, ret_y_train, ret_y_test = ret_prep.train_test_split(X_retinopathy, y_retinopathy)"
   ]
  },
  {
   "cell_type": "markdown",
   "id": "fallen-pointer",
   "metadata": {},
   "source": [
    "#### Collinearity detection\n",
    "\n",
    "Pair correlations insight:"
   ]
  },
  {
   "cell_type": "code",
   "execution_count": 16,
   "id": "783bae49",
   "metadata": {
    "scrolled": false
   },
   "outputs": [
    {
     "data": {
      "image/png": "[encoded data removed]",
      "text/plain": [
       "<Figure size 1152x936 with 2 Axes>"
      ]
     },
     "metadata": {
      "needs_background": "light"
     },
     "output_type": "display_data"
    }
   ],
   "source": [
    "ret_prep.plot_corr(ret_df_train)"
   ]
  },
  {
   "cell_type": "code",
   "execution_count": 17,
   "id": "27b6a06d",
   "metadata": {
    "scrolled": false
   },
   "outputs": [
    {
     "name": "stdout",
     "output_type": "stream",
     "text": [
      "Dropping 3 with vif=1463.549529849921\n",
      "Dropping 4 with vif=939.062583777379\n",
      "Dropping 5 with vif=504.52662112905466\n",
      "Dropping 6 with vif=166.4225174846915\n",
      "Dropping 16 with vif=153.1239494020561\n",
      "Dropping 0 with vif=47.53690496400259\n",
      "Dropping 13 with vif=46.303572036980995\n",
      "Dropping 11 with vif=34.70279976568829\n",
      "Dropping 14 with vif=22.580225678536134\n",
      "Dropping 9 with vif=15.590190681167647\n",
      "Dropping 2 with vif=15.240102339791974\n",
      "Dropping 17 with vif=11.372143474686306\n",
      "7 numerical features left in dataset  0  categorical\n"
     ]
    }
   ],
   "source": [
    "ret_df_train_rc = ret_prep.remove_multicollinearity_fit_transform(ret_df_train)"
   ]
  },
  {
   "cell_type": "code",
   "execution_count": 18,
   "id": "sunrise-china",
   "metadata": {},
   "outputs": [],
   "source": [
    "ret_df_test_rc = ret_prep.remove_multicollinearity_transform(ret_df_test)"
   ]
  },
  {
   "cell_type": "code",
   "execution_count": 19,
   "id": "a9b46e75",
   "metadata": {},
   "outputs": [
    {
     "data": {
      "image/png": "[encoded data removed]",
      "text/plain": [
       "<Figure size 1152x936 with 2 Axes>"
      ]
     },
     "metadata": {
      "needs_background": "light"
     },
     "output_type": "display_data"
    }
   ],
   "source": [
    "ret_prep.plot_corr(ret_df_train_rc)"
   ]
  },
  {
   "cell_type": "markdown",
   "id": "58fb21c7",
   "metadata": {},
   "source": [
    "#### Results without VIF reduction"
   ]
  },
  {
   "cell_type": "code",
   "execution_count": 20,
   "id": "8900135b",
   "metadata": {},
   "outputs": [
    {
     "name": "stdout",
     "output_type": "stream",
     "text": [
      "(863, 19)\n",
      "Train acc 0.7566628041714948\n",
      "Test acc 0.7534722222222222\n"
     ]
    }
   ],
   "source": [
    "model = LogisticRegression(max_iter=1e20)\n",
    "model.fit(ret_df_train, ret_y_train)\n",
    "print(ret_df_train.shape)\n",
    "print('Train acc', model.score(ret_df_train, ret_y_train))\n",
    "print('Test acc', model.score(ret_df_test, ret_y_test))"
   ]
  },
  {
   "cell_type": "markdown",
   "id": "e59e0ca2",
   "metadata": {},
   "source": [
    "#### Results with VIF reduction"
   ]
  },
  {
   "cell_type": "code",
   "execution_count": 21,
   "id": "92fae9d7",
   "metadata": {},
   "outputs": [
    {
     "name": "stdout",
     "output_type": "stream",
     "text": [
      "(863, 7)\n",
      "Train acc 0.6164542294322132\n",
      "Test acc 0.6006944444444444\n"
     ]
    }
   ],
   "source": [
    "model = LogisticRegression(max_iter=1e20)\n",
    "model.fit(ret_df_train_rc, ret_y_train)\n",
    "print(ret_df_train_rc.shape)\n",
    "print('Train acc', model.score(ret_df_train_rc, ret_y_train))\n",
    "print('Test acc', model.score(ret_df_test_rc, ret_y_test))"
   ]
  },
  {
   "cell_type": "markdown",
   "id": "large-scanner",
   "metadata": {},
   "source": [
    "#### Results with VIF reduction and StandardScaler"
   ]
  },
  {
   "cell_type": "code",
   "execution_count": 22,
   "id": "automotive-monthly",
   "metadata": {},
   "outputs": [
    {
     "name": "stdout",
     "output_type": "stream",
     "text": [
      "(863, 7)\n",
      "Train acc 0.6349942062572422\n",
      "Test acc 0.5868055555555556\n"
     ]
    }
   ],
   "source": [
    "st_sc = StandardScaler()\n",
    "ret_df_train_rc_scaled = st_sc.fit_transform(ret_df_train_rc)\n",
    "\n",
    "model = LogisticRegression(max_iter=1e20)\n",
    "model.fit(ret_df_train_rc_scaled, ret_y_train)\n",
    "print(ret_df_train_rc_scaled.shape)\n",
    "print('Train acc', model.score(ret_df_train_rc_scaled, ret_y_train))\n",
    "print('Test acc', model.score(st_sc.transform(ret_df_test_rc), ret_y_test))\n"
   ]
  },
  {
   "cell_type": "markdown",
   "id": "5e1842b6",
   "metadata": {},
   "source": [
    "#### Results with feature selection based on correlation matrix"
   ]
  },
  {
   "cell_type": "code",
   "execution_count": 23,
   "id": "f31c7e54",
   "metadata": {},
   "outputs": [
    {
     "name": "stdout",
     "output_type": "stream",
     "text": [
      "(863, 8)\n",
      "Train acc 0.6326767091541136\n",
      "Test acc 0.625\n"
     ]
    }
   ],
   "source": [
    "ret_df_train_dc=ret_prep.DeleteCorrelated(ret_df_train)\n",
    "ret_df_test_dc = ret_df_test.loc[:, ret_df_train_dc.columns]\n",
    "model = LogisticRegression(max_iter=1e20)\n",
    "model.fit(ret_df_train_dc, ret_y_train)\n",
    "print(ret_df_train_dc.shape)\n",
    "print('Train acc', model.score(ret_df_train_dc, ret_y_train))\n",
    "print('Test acc', model.score(ret_df_test_dc, ret_y_test))"
   ]
  },
  {
   "cell_type": "markdown",
   "id": "722ab354",
   "metadata": {},
   "source": [
    "# 3. Breast Cancer Wisconsin\n",
    "\n",
    "No missing values. Special treatment: columns `id` and `Unnamed: 32`"
   ]
  },
  {
   "cell_type": "code",
   "execution_count": 24,
   "id": "031f151b",
   "metadata": {},
   "outputs": [
    {
     "data": {
      "text/html": [
       "<div>\n",
       "<style scoped>\n",
       "    .dataframe tbody tr th:only-of-type {\n",
       "        vertical-align: middle;\n",
       "    }\n",
       "\n",
       "    .dataframe tbody tr th {\n",
       "        vertical-align: top;\n",
       "    }\n",
       "\n",
       "    .dataframe thead th {\n",
       "        text-align: right;\n",
       "    }\n",
       "</style>\n",
       "<table border=\"1\" class=\"dataframe\">\n",
       "  <thead>\n",
       "    <tr style=\"text-align: right;\">\n",
       "      <th></th>\n",
       "      <th>id</th>\n",
       "      <th>diagnosis</th>\n",
       "      <th>radius_mean</th>\n",
       "      <th>texture_mean</th>\n",
       "      <th>perimeter_mean</th>\n",
       "      <th>area_mean</th>\n",
       "      <th>smoothness_mean</th>\n",
       "      <th>compactness_mean</th>\n",
       "      <th>concavity_mean</th>\n",
       "      <th>concave points_mean</th>\n",
       "      <th>...</th>\n",
       "      <th>texture_worst</th>\n",
       "      <th>perimeter_worst</th>\n",
       "      <th>area_worst</th>\n",
       "      <th>smoothness_worst</th>\n",
       "      <th>compactness_worst</th>\n",
       "      <th>concavity_worst</th>\n",
       "      <th>concave points_worst</th>\n",
       "      <th>symmetry_worst</th>\n",
       "      <th>fractal_dimension_worst</th>\n",
       "      <th>Unnamed: 32</th>\n",
       "    </tr>\n",
       "  </thead>\n",
       "  <tbody>\n",
       "    <tr>\n",
       "      <th>0</th>\n",
       "      <td>842302</td>\n",
       "      <td>M</td>\n",
       "      <td>17.99</td>\n",
       "      <td>10.38</td>\n",
       "      <td>122.80</td>\n",
       "      <td>1001.0</td>\n",
       "      <td>0.11840</td>\n",
       "      <td>0.27760</td>\n",
       "      <td>0.3001</td>\n",
       "      <td>0.14710</td>\n",
       "      <td>...</td>\n",
       "      <td>17.33</td>\n",
       "      <td>184.60</td>\n",
       "      <td>2019.0</td>\n",
       "      <td>0.1622</td>\n",
       "      <td>0.6656</td>\n",
       "      <td>0.7119</td>\n",
       "      <td>0.2654</td>\n",
       "      <td>0.4601</td>\n",
       "      <td>0.11890</td>\n",
       "      <td>NaN</td>\n",
       "    </tr>\n",
       "    <tr>\n",
       "      <th>1</th>\n",
       "      <td>842517</td>\n",
       "      <td>M</td>\n",
       "      <td>20.57</td>\n",
       "      <td>17.77</td>\n",
       "      <td>132.90</td>\n",
       "      <td>1326.0</td>\n",
       "      <td>0.08474</td>\n",
       "      <td>0.07864</td>\n",
       "      <td>0.0869</td>\n",
       "      <td>0.07017</td>\n",
       "      <td>...</td>\n",
       "      <td>23.41</td>\n",
       "      <td>158.80</td>\n",
       "      <td>1956.0</td>\n",
       "      <td>0.1238</td>\n",
       "      <td>0.1866</td>\n",
       "      <td>0.2416</td>\n",
       "      <td>0.1860</td>\n",
       "      <td>0.2750</td>\n",
       "      <td>0.08902</td>\n",
       "      <td>NaN</td>\n",
       "    </tr>\n",
       "    <tr>\n",
       "      <th>2</th>\n",
       "      <td>84300903</td>\n",
       "      <td>M</td>\n",
       "      <td>19.69</td>\n",
       "      <td>21.25</td>\n",
       "      <td>130.00</td>\n",
       "      <td>1203.0</td>\n",
       "      <td>0.10960</td>\n",
       "      <td>0.15990</td>\n",
       "      <td>0.1974</td>\n",
       "      <td>0.12790</td>\n",
       "      <td>...</td>\n",
       "      <td>25.53</td>\n",
       "      <td>152.50</td>\n",
       "      <td>1709.0</td>\n",
       "      <td>0.1444</td>\n",
       "      <td>0.4245</td>\n",
       "      <td>0.4504</td>\n",
       "      <td>0.2430</td>\n",
       "      <td>0.3613</td>\n",
       "      <td>0.08758</td>\n",
       "      <td>NaN</td>\n",
       "    </tr>\n",
       "    <tr>\n",
       "      <th>3</th>\n",
       "      <td>84348301</td>\n",
       "      <td>M</td>\n",
       "      <td>11.42</td>\n",
       "      <td>20.38</td>\n",
       "      <td>77.58</td>\n",
       "      <td>386.1</td>\n",
       "      <td>0.14250</td>\n",
       "      <td>0.28390</td>\n",
       "      <td>0.2414</td>\n",
       "      <td>0.10520</td>\n",
       "      <td>...</td>\n",
       "      <td>26.50</td>\n",
       "      <td>98.87</td>\n",
       "      <td>567.7</td>\n",
       "      <td>0.2098</td>\n",
       "      <td>0.8663</td>\n",
       "      <td>0.6869</td>\n",
       "      <td>0.2575</td>\n",
       "      <td>0.6638</td>\n",
       "      <td>0.17300</td>\n",
       "      <td>NaN</td>\n",
       "    </tr>\n",
       "    <tr>\n",
       "      <th>4</th>\n",
       "      <td>84358402</td>\n",
       "      <td>M</td>\n",
       "      <td>20.29</td>\n",
       "      <td>14.34</td>\n",
       "      <td>135.10</td>\n",
       "      <td>1297.0</td>\n",
       "      <td>0.10030</td>\n",
       "      <td>0.13280</td>\n",
       "      <td>0.1980</td>\n",
       "      <td>0.10430</td>\n",
       "      <td>...</td>\n",
       "      <td>16.67</td>\n",
       "      <td>152.20</td>\n",
       "      <td>1575.0</td>\n",
       "      <td>0.1374</td>\n",
       "      <td>0.2050</td>\n",
       "      <td>0.4000</td>\n",
       "      <td>0.1625</td>\n",
       "      <td>0.2364</td>\n",
       "      <td>0.07678</td>\n",
       "      <td>NaN</td>\n",
       "    </tr>\n",
       "  </tbody>\n",
       "</table>\n",
       "<p>5 rows × 33 columns</p>\n",
       "</div>"
      ],
      "text/plain": [
       "         id diagnosis  radius_mean  texture_mean  perimeter_mean  area_mean  \\\n",
       "0    842302         M        17.99         10.38          122.80     1001.0   \n",
       "1    842517         M        20.57         17.77          132.90     1326.0   \n",
       "2  84300903         M        19.69         21.25          130.00     1203.0   \n",
       "3  84348301         M        11.42         20.38           77.58      386.1   \n",
       "4  84358402         M        20.29         14.34          135.10     1297.0   \n",
       "\n",
       "   smoothness_mean  compactness_mean  concavity_mean  concave points_mean  \\\n",
       "0          0.11840           0.27760          0.3001              0.14710   \n",
       "1          0.08474           0.07864          0.0869              0.07017   \n",
       "2          0.10960           0.15990          0.1974              0.12790   \n",
       "3          0.14250           0.28390          0.2414              0.10520   \n",
       "4          0.10030           0.13280          0.1980              0.10430   \n",
       "\n",
       "   ...  texture_worst  perimeter_worst  area_worst  smoothness_worst  \\\n",
       "0  ...          17.33           184.60      2019.0            0.1622   \n",
       "1  ...          23.41           158.80      1956.0            0.1238   \n",
       "2  ...          25.53           152.50      1709.0            0.1444   \n",
       "3  ...          26.50            98.87       567.7            0.2098   \n",
       "4  ...          16.67           152.20      1575.0            0.1374   \n",
       "\n",
       "   compactness_worst  concavity_worst  concave points_worst  symmetry_worst  \\\n",
       "0             0.6656           0.7119                0.2654          0.4601   \n",
       "1             0.1866           0.2416                0.1860          0.2750   \n",
       "2             0.4245           0.4504                0.2430          0.3613   \n",
       "3             0.8663           0.6869                0.2575          0.6638   \n",
       "4             0.2050           0.4000                0.1625          0.2364   \n",
       "\n",
       "   fractal_dimension_worst  Unnamed: 32  \n",
       "0                  0.11890          NaN  \n",
       "1                  0.08902          NaN  \n",
       "2                  0.08758          NaN  \n",
       "3                  0.17300          NaN  \n",
       "4                  0.07678          NaN  \n",
       "\n",
       "[5 rows x 33 columns]"
      ]
     },
     "execution_count": 24,
     "metadata": {},
     "output_type": "execute_result"
    }
   ],
   "source": [
    "wdbc_df=pd.read_csv('data/wdbc.csv')\n",
    "\n",
    "wdbc_df.head()"
   ]
  },
  {
   "cell_type": "code",
   "execution_count": 25,
   "id": "fiscal-country",
   "metadata": {},
   "outputs": [
    {
     "data": {
      "text/plain": [
       "False"
      ]
     },
     "execution_count": 25,
     "metadata": {},
     "output_type": "execute_result"
    }
   ],
   "source": [
    "wdbc_df['Unnamed: 32'].any()"
   ]
  },
  {
   "cell_type": "code",
   "execution_count": 26,
   "id": "465aa873",
   "metadata": {
    "scrolled": false
   },
   "outputs": [
    {
     "name": "stdout",
     "output_type": "stream",
     "text": [
      "<class 'pandas.core.frame.DataFrame'>\n",
      "RangeIndex: 569 entries, 0 to 568\n",
      "Data columns (total 30 columns):\n",
      " #   Column                   Non-Null Count  Dtype  \n",
      "---  ------                   --------------  -----  \n",
      " 0   radius_mean              569 non-null    float64\n",
      " 1   texture_mean             569 non-null    float64\n",
      " 2   perimeter_mean           569 non-null    float64\n",
      " 3   area_mean                569 non-null    float64\n",
      " 4   smoothness_mean          569 non-null    float64\n",
      " 5   compactness_mean         569 non-null    float64\n",
      " 6   concavity_mean           569 non-null    float64\n",
      " 7   concave points_mean      569 non-null    float64\n",
      " 8   symmetry_mean            569 non-null    float64\n",
      " 9   fractal_dimension_mean   569 non-null    float64\n",
      " 10  radius_se                569 non-null    float64\n",
      " 11  texture_se               569 non-null    float64\n",
      " 12  perimeter_se             569 non-null    float64\n",
      " 13  area_se                  569 non-null    float64\n",
      " 14  smoothness_se            569 non-null    float64\n",
      " 15  compactness_se           569 non-null    float64\n",
      " 16  concavity_se             569 non-null    float64\n",
      " 17  concave points_se        569 non-null    float64\n",
      " 18  symmetry_se              569 non-null    float64\n",
      " 19  fractal_dimension_se     569 non-null    float64\n",
      " 20  radius_worst             569 non-null    float64\n",
      " 21  texture_worst            569 non-null    float64\n",
      " 22  perimeter_worst          569 non-null    float64\n",
      " 23  area_worst               569 non-null    float64\n",
      " 24  smoothness_worst         569 non-null    float64\n",
      " 25  compactness_worst        569 non-null    float64\n",
      " 26  concavity_worst          569 non-null    float64\n",
      " 27  concave points_worst     569 non-null    float64\n",
      " 28  symmetry_worst           569 non-null    float64\n",
      " 29  fractal_dimension_worst  569 non-null    float64\n",
      "dtypes: float64(30)\n",
      "memory usage: 133.5 KB\n"
     ]
    }
   ],
   "source": [
    "y_wdbc=wdbc_df['diagnosis']==\"M\"\n",
    "X_wdbc=wdbc_df.drop(columns=[\"id\",\"diagnosis\",\"Unnamed: 32\"])\n",
    "\n",
    "X_wdbc.info()"
   ]
  },
  {
   "cell_type": "markdown",
   "id": "e67c956f",
   "metadata": {},
   "source": [
    "As we can see all features are non-null numeric type variables. Which means that in this case one-hot-encoding won't be needed. The only things left to do is to remove collinear and multicollinear ones (maybe remove some outliers? from data) and split data into training and testing sets."
   ]
  },
  {
   "cell_type": "markdown",
   "id": "75487cb6",
   "metadata": {},
   "source": [
    "Correlation matrix showing that we should probably remove a fair number of variables"
   ]
  },
  {
   "cell_type": "code",
   "execution_count": 27,
   "id": "sensitive-sailing",
   "metadata": {},
   "outputs": [],
   "source": [
    "prep_wdbc = Preprocessor()"
   ]
  },
  {
   "cell_type": "code",
   "execution_count": 28,
   "id": "rubber-trunk",
   "metadata": {},
   "outputs": [],
   "source": [
    "wdbc_train, wdbc_test, y_wdbc_train, y_wdbc_test = prep_wdbc.train_test_split(X_wdbc, y_wdbc)"
   ]
  },
  {
   "cell_type": "markdown",
   "id": "f4ffdc56",
   "metadata": {},
   "source": [
    "Removal of variables based only on correlation"
   ]
  },
  {
   "cell_type": "code",
   "execution_count": 29,
   "id": "fbb9906c",
   "metadata": {},
   "outputs": [
    {
     "data": {
      "text/plain": [
       "Index(['radius_mean', 'texture_mean', 'smoothness_mean', 'compactness_mean',\n",
       "       'symmetry_mean', 'fractal_dimension_mean', 'radius_se', 'texture_se',\n",
       "       'smoothness_se', 'compactness_se', 'symmetry_se', 'symmetry_worst',\n",
       "       'fractal_dimension_worst'],\n",
       "      dtype='object')"
      ]
     },
     "execution_count": 29,
     "metadata": {},
     "output_type": "execute_result"
    }
   ],
   "source": [
    "X_wdbc_cleaned_corr = prep_wdbc.DeleteCorrelated(wdbc_train,0.8)\n",
    "X_wdbc_cleaned_corr.columns"
   ]
  },
  {
   "cell_type": "markdown",
   "id": "1a23d06a",
   "metadata": {},
   "source": [
    "Removal of variables using Variance Inflation Factor (VIF)"
   ]
  },
  {
   "cell_type": "code",
   "execution_count": 30,
   "id": "e03d092f",
   "metadata": {},
   "outputs": [
    {
     "name": "stdout",
     "output_type": "stream",
     "text": [
      "Dropping radius_mean with vif=60593.305206508514\n",
      "Dropping radius_worst with vif=7225.230757528973\n",
      "Dropping perimeter_mean with vif=3825.0401698216588\n",
      "Dropping perimeter_worst with vif=692.2132413064913\n",
      "Dropping fractal_dimension_mean with vif=495.2614041756954\n",
      "Dropping smoothness_worst with vif=377.9268986506846\n",
      "Dropping texture_worst with vif=307.9126636877025\n",
      "Dropping fractal_dimension_worst with vif=193.0763325434795\n",
      "Dropping symmetry_worst with vif=171.98817109937414\n",
      "Dropping concavity_mean with vif=150.93827237721513\n",
      "Dropping concave points_worst with vif=105.55467072177531\n",
      "Dropping radius_se with vif=98.64264091626333\n",
      "Dropping smoothness_mean with vif=88.48418009976501\n",
      "Dropping compactness_worst with vif=86.20659888938694\n",
      "Dropping area_mean with vif=68.92820098787222\n",
      "Dropping compactness_mean with vif=50.622596006824374\n",
      "Dropping perimeter_se with vif=42.4273518898935\n",
      "Dropping symmetry_mean with vif=37.88343515219424\n",
      "Dropping texture_mean with vif=23.95293322846434\n",
      "Dropping compactness_se with vif=23.131245759059006\n",
      "Dropping concave points_se with vif=19.88008453374903\n",
      "Dropping area_worst with vif=14.289749772045678\n",
      "Dropping concave points_mean with vif=11.17916217987913\n",
      "7 numerical features left in dataset  0  categorical\n"
     ]
    },
    {
     "data": {
      "text/html": [
       "<div>\n",
       "<style scoped>\n",
       "    .dataframe tbody tr th:only-of-type {\n",
       "        vertical-align: middle;\n",
       "    }\n",
       "\n",
       "    .dataframe tbody tr th {\n",
       "        vertical-align: top;\n",
       "    }\n",
       "\n",
       "    .dataframe thead th {\n",
       "        text-align: right;\n",
       "    }\n",
       "</style>\n",
       "<table border=\"1\" class=\"dataframe\">\n",
       "  <thead>\n",
       "    <tr style=\"text-align: right;\">\n",
       "      <th></th>\n",
       "      <th>texture_se</th>\n",
       "      <th>area_se</th>\n",
       "      <th>smoothness_se</th>\n",
       "      <th>concavity_se</th>\n",
       "      <th>symmetry_se</th>\n",
       "      <th>fractal_dimension_se</th>\n",
       "      <th>concavity_worst</th>\n",
       "    </tr>\n",
       "  </thead>\n",
       "  <tbody>\n",
       "    <tr>\n",
       "      <th>275</th>\n",
       "      <td>2.2930</td>\n",
       "      <td>48.84</td>\n",
       "      <td>0.014180</td>\n",
       "      <td>0.012670</td>\n",
       "      <td>0.02678</td>\n",
       "      <td>0.003002</td>\n",
       "      <td>0.07153</td>\n",
       "    </tr>\n",
       "    <tr>\n",
       "      <th>490</th>\n",
       "      <td>1.1390</td>\n",
       "      <td>18.04</td>\n",
       "      <td>0.005096</td>\n",
       "      <td>0.009410</td>\n",
       "      <td>0.01608</td>\n",
       "      <td>0.002399</td>\n",
       "      <td>0.12300</td>\n",
       "    </tr>\n",
       "    <tr>\n",
       "      <th>473</th>\n",
       "      <td>3.6470</td>\n",
       "      <td>35.13</td>\n",
       "      <td>0.007339</td>\n",
       "      <td>0.000000</td>\n",
       "      <td>0.03141</td>\n",
       "      <td>0.003136</td>\n",
       "      <td>0.00000</td>\n",
       "    </tr>\n",
       "    <tr>\n",
       "      <th>247</th>\n",
       "      <td>0.4402</td>\n",
       "      <td>16.35</td>\n",
       "      <td>0.005501</td>\n",
       "      <td>0.081580</td>\n",
       "      <td>0.01266</td>\n",
       "      <td>0.007555</td>\n",
       "      <td>0.77270</td>\n",
       "    </tr>\n",
       "    <tr>\n",
       "      <th>438</th>\n",
       "      <td>1.6780</td>\n",
       "      <td>29.63</td>\n",
       "      <td>0.005836</td>\n",
       "      <td>0.005812</td>\n",
       "      <td>0.02014</td>\n",
       "      <td>0.002326</td>\n",
       "      <td>0.04753</td>\n",
       "    </tr>\n",
       "  </tbody>\n",
       "</table>\n",
       "</div>"
      ],
      "text/plain": [
       "     texture_se  area_se  smoothness_se  concavity_se  symmetry_se  \\\n",
       "275      2.2930    48.84       0.014180      0.012670      0.02678   \n",
       "490      1.1390    18.04       0.005096      0.009410      0.01608   \n",
       "473      3.6470    35.13       0.007339      0.000000      0.03141   \n",
       "247      0.4402    16.35       0.005501      0.081580      0.01266   \n",
       "438      1.6780    29.63       0.005836      0.005812      0.02014   \n",
       "\n",
       "     fractal_dimension_se  concavity_worst  \n",
       "275              0.003002          0.07153  \n",
       "490              0.002399          0.12300  \n",
       "473              0.003136          0.00000  \n",
       "247              0.007555          0.77270  \n",
       "438              0.002326          0.04753  "
      ]
     },
     "execution_count": 30,
     "metadata": {},
     "output_type": "execute_result"
    }
   ],
   "source": [
    "X_wdbc_cleaned_train = prep_wdbc.remove_multicollinearity_fit_transform(wdbc_train)\n",
    "X_wdbc_cleaned_train.tail()"
   ]
  },
  {
   "cell_type": "code",
   "execution_count": 31,
   "id": "6b1f4986",
   "metadata": {},
   "outputs": [
    {
     "name": "stdout",
     "output_type": "stream",
     "text": [
      "0.9272300469483568\n"
     ]
    },
    {
     "data": {
      "text/plain": [
       "0.8531468531468531"
      ]
     },
     "execution_count": 31,
     "metadata": {},
     "output_type": "execute_result"
    }
   ],
   "source": [
    "model = LogisticRegression(max_iter=1e20)\n",
    "model.fit(X_wdbc_cleaned_train, y_wdbc_train)\n",
    "print(model.score(X_wdbc_cleaned_train, y_wdbc_train))\n",
    "model.score(prep_wdbc.remove_multicollinearity_transform(wdbc_test), y_wdbc_test)"
   ]
  },
  {
   "cell_type": "markdown",
   "id": "479426d6",
   "metadata": {},
   "source": [
    "## 4. Etherneum frauds\n",
    "\n",
    "Special treatment columns `Unnamed: 0`, `Index` and `Address`."
   ]
  },
  {
   "cell_type": "code",
   "execution_count": 3,
   "id": "5a184a0f",
   "metadata": {
    "scrolled": false
   },
   "outputs": [],
   "source": [
    "eth_prep = Preprocessor()\n",
    "etherneum_df=pd.read_csv('data/transaction_dataset.csv')\n",
    "\n",
    "#etherneum_df.head(2).T"
   ]
  },
  {
   "cell_type": "code",
   "execution_count": 4,
   "id": "bc179b7a",
   "metadata": {},
   "outputs": [],
   "source": [
    "to_drop=['Unnamed: 0','Index','Address']\n",
    "etherneum_df.drop(columns=to_drop,inplace=True)"
   ]
  },
  {
   "cell_type": "markdown",
   "id": "9f9f22db",
   "metadata": {},
   "source": [
    "### Train test split"
   ]
  },
  {
   "cell_type": "code",
   "execution_count": 5,
   "id": "a3c3a63a",
   "metadata": {},
   "outputs": [],
   "source": [
    "y_eth=etherneum_df['FLAG']\n",
    "X_eth=etherneum_df.drop(columns='FLAG')\n",
    "\n",
    "X_eth_train, X_eth_test, y_eth_train, y_eth_test = eth_prep.train_test_split(X_eth, y_eth)"
   ]
  },
  {
   "cell_type": "markdown",
   "id": "e3b57e2a",
   "metadata": {},
   "source": [
    "Columns with null values"
   ]
  },
  {
   "cell_type": "code",
   "execution_count": 6,
   "id": "d9e3bbd7",
   "metadata": {
    "scrolled": false
   },
   "outputs": [
    {
     "name": "stdout",
     "output_type": "stream",
     "text": [
      " Total ERC20 tnxs\n",
      " ERC20 total Ether received\n",
      " ERC20 total ether sent\n",
      " ERC20 total Ether sent contract\n",
      " ERC20 uniq sent addr\n",
      " ERC20 uniq rec addr\n",
      " ERC20 uniq sent addr.1\n",
      " ERC20 uniq rec contract addr\n",
      " ERC20 avg time between sent tnx\n",
      " ERC20 avg time between rec tnx\n",
      " ERC20 avg time between rec 2 tnx\n",
      " ERC20 avg time between contract tnx\n",
      " ERC20 min val rec\n",
      " ERC20 max val rec\n",
      " ERC20 avg val rec\n",
      " ERC20 min val sent\n",
      " ERC20 max val sent\n",
      " ERC20 avg val sent\n",
      " ERC20 min val sent contract\n",
      " ERC20 max val sent contract\n",
      " ERC20 avg val sent contract\n",
      " ERC20 uniq sent token name\n",
      " ERC20 uniq rec token name\n",
      " ERC20 most sent token type\n",
      " ERC20_most_rec_token_type\n"
     ]
    }
   ],
   "source": [
    "for col in X_eth_train.columns:\n",
    "    if (X_eth_train[col].isna().values.sum()):\n",
    "        print(col)"
   ]
  },
  {
   "cell_type": "markdown",
   "id": "d0e8792d",
   "metadata": {},
   "source": [
    "Columns which have less than 10 unique values"
   ]
  },
  {
   "cell_type": "code",
   "execution_count": 7,
   "id": "275090bd",
   "metadata": {
    "scrolled": false
   },
   "outputs": [
    {
     "name": "stdout",
     "output_type": "stream",
     "text": [
      "min value sent to contract [0.   0.01 0.02]\n",
      "max val sent to contract [0.   0.01 0.02]\n",
      "avg value sent to contract [0.   0.01 0.02]\n",
      "total ether sent contracts [0.   0.01 0.02]\n",
      " ERC20 uniq sent addr.1 [ 0. nan  1.  3.]\n",
      " ERC20 avg time between sent tnx [ 0. nan]\n",
      " ERC20 avg time between rec tnx [ 0. nan]\n",
      " ERC20 avg time between rec 2 tnx [ 0. nan]\n",
      " ERC20 avg time between contract tnx [ 0. nan]\n",
      " ERC20 min val sent contract [ 0. nan]\n",
      " ERC20 max val sent contract [ 0. nan]\n",
      " ERC20 avg val sent contract [ 0. nan]\n"
     ]
    }
   ],
   "source": [
    "for col in X_eth_train.columns:\n",
    "    if(len(X_eth_train[col].unique())<10):\n",
    "        print(col,X_eth_train[col].unique())"
   ]
  },
  {
   "cell_type": "markdown",
   "id": "448b59fe",
   "metadata": {},
   "source": [
    "#### Categorical columns to be One Hot Encoded later"
   ]
  },
  {
   "cell_type": "code",
   "execution_count": 8,
   "id": "49b950a6",
   "metadata": {},
   "outputs": [
    {
     "name": "stdout",
     "output_type": "stream",
     "text": [
      " ERC20 most sent token type 267\n",
      " ERC20_most_rec_token_type 399\n"
     ]
    }
   ],
   "source": [
    "for c in X_eth_train.columns:\n",
    "    if X_eth_train[c].dtype=='O':\n",
    "        print(c,len(X_eth_train[c].unique()))"
   ]
  },
  {
   "cell_type": "markdown",
   "id": "19b3b261",
   "metadata": {},
   "source": [
    "#### Dealing with missing data\n",
    "In all columns except for the ones with only 0's and NaN's we'll replace the missing values with the most frequent values in column. In the remaining ones we'll test replacing NaN's with 1 (making it a distinct class) or just dropping the column."
   ]
  },
  {
   "cell_type": "markdown",
   "id": "7a948278",
   "metadata": {},
   "source": [
    "Columns ` ERC20 avg time between sent tnx`, ` ERC20 avg time between rec tnx`, ` ERC20 avg time between rec 2 tnx`, ` ERC20 avg time between contract tnx`, ` ERC20 min val sent contract`, ` ERC20 max val sent contract` and ` ERC20 avg val sent contract` could be either dropped or could be treated as categorical where 0 and NaN are 2 distinct classes."
   ]
  },
  {
   "cell_type": "code",
   "execution_count": 9,
   "id": "2c73ca2d",
   "metadata": {},
   "outputs": [],
   "source": [
    "columns_to_binary=[' ERC20 avg time between sent tnx', ' ERC20 avg time between rec tnx',\n",
    "                 ' ERC20 avg time between rec 2 tnx', ' ERC20 avg time between contract tnx',\n",
    "                 ' ERC20 min val sent contract', ' ERC20 max val sent contract', ' ERC20 avg val sent contract']\n",
    "for col in columns_to_binary:\n",
    "    #train set\n",
    "    X_eth_train[col]=X_eth_train[col].fillna(1)\n",
    "    #test set\n",
    "    X_eth_test[col]=X_eth_test[col].fillna(1)\n",
    "#Pomimo obecności SimpleImputera w preprocessorze przy użyciu go było za dużo zabawy z dtype i faktem, że imputer \n",
    "#zwraca NumpyArray a nie DataFrame\n",
    "for col in set(X_eth_train.columns)-set(columns_to_binary):\n",
    "    #train set\n",
    "    X_eth_train[col]=X_eth_train[col].fillna(X_eth_train[col].value_counts().index[0])\n",
    "    #test set\n",
    "    X_eth_test[col]=X_eth_test[col].fillna(X_eth_train[col].value_counts().index[0])\n"
   ]
  },
  {
   "cell_type": "markdown",
   "id": "e396ee29",
   "metadata": {},
   "source": [
    "#### Collinearity detection and VIF transformation\n",
    "\n",
    "Pair correlations insight:"
   ]
  },
  {
   "cell_type": "code",
   "execution_count": 10,
   "id": "27f51df5",
   "metadata": {
    "scrolled": false
   },
   "outputs": [
    {
     "data": {
      "image/png": "[encoded data removed]",
      "text/plain": [
       "<Figure size 1152x936 with 2 Axes>"
      ]
     },
     "metadata": {
      "needs_background": "light"
     },
     "output_type": "display_data"
    }
   ],
   "source": [
    "eth_prep.plot_corr(X_eth_train)"
   ]
  },
  {
   "cell_type": "code",
   "execution_count": 11,
   "id": "39aee457",
   "metadata": {
    "scrolled": false
   },
   "outputs": [
    {
     "name": "stderr",
     "output_type": "stream",
     "text": [
      "C:\\ProgramData\\Anaconda3\\lib\\site-packages\\statsmodels\\stats\\outliers_influence.py:193: RuntimeWarning: divide by zero encountered in double_scalars\n",
      "  vif = 1. / (1. - r_squared_i)\n"
     ]
    },
    {
     "name": "stdout",
     "output_type": "stream",
     "text": [
      "Dropping total Ether sent with vif=inf\n",
      "Dropping Sent tnx with vif=inf\n",
      "Dropping  ERC20 avg time between sent tnx with vif=inf\n",
      "Dropping  ERC20 avg time between rec tnx with vif=inf\n",
      "Dropping  ERC20 avg time between rec 2 tnx with vif=inf\n",
      "Dropping  ERC20 avg time between contract tnx with vif=inf\n",
      "Dropping  ERC20 min val sent contract with vif=inf\n",
      "Dropping  ERC20 max val sent contract with vif=inf\n",
      "Dropping min value sent to contract with vif=37970491.61876109\n",
      "Dropping total ether sent contracts with vif=2404161.8719783947\n",
      "Dropping max val sent to contract with vif=9753237.193152105\n",
      "Dropping  ERC20 max val sent with vif=130551.42205825874\n",
      "Dropping  ERC20 avg val sent with vif=16199.75542045328\n",
      "Dropping  ERC20 min val sent with vif=2765.3769432509052\n",
      "Dropping  ERC20 uniq rec contract addr with vif=1985.80906667087\n",
      "Dropping  ERC20 max val rec with vif=36.77109931054973\n",
      "29 numerical features left in dataset  2  categorical\n"
     ]
    }
   ],
   "source": [
    "X_eth_train_cleaned = eth_prep.remove_multicollinearity_fit_transform(X_eth_train)"
   ]
  },
  {
   "cell_type": "code",
   "execution_count": 12,
   "id": "1937600b",
   "metadata": {},
   "outputs": [],
   "source": [
    "X_eth_test_cleaned=eth_prep.remove_multicollinearity_transform(X_eth_test)"
   ]
  },
  {
   "cell_type": "markdown",
   "id": "a3c47b36",
   "metadata": {},
   "source": [
    "#### One hot encoding\n",
    "it is simply impossible to use VIF reduction after One Hot Encoding in this particular case"
   ]
  },
  {
   "cell_type": "code",
   "execution_count": 42,
   "id": "095c1ad0",
   "metadata": {},
   "outputs": [],
   "source": [
    "X_eth_train_ohe = eth_prep.one_hot_encoding_fit_transform(X_eth_train_cleaned)"
   ]
  },
  {
   "cell_type": "code",
   "execution_count": 43,
   "id": "40cc49ad",
   "metadata": {},
   "outputs": [],
   "source": [
    "X_eth_test_ohe = eth_prep.one_hot_encoding_transform(X_eth_test_cleaned)"
   ]
  },
  {
   "cell_type": "code",
   "execution_count": 44,
   "id": "d7b80f1d",
   "metadata": {},
   "outputs": [
    {
     "data": {
      "text/plain": [
       "708"
      ]
     },
     "execution_count": 44,
     "metadata": {},
     "output_type": "execute_result"
    }
   ],
   "source": [
    "len(X_eth_train_ohe.columns)"
   ]
  },
  {
   "cell_type": "markdown",
   "id": "7a2dc2e8",
   "metadata": {},
   "source": [
    "#### Results when using only numerical features\n",
    "without VIF reduction"
   ]
  },
  {
   "cell_type": "code",
   "execution_count": 45,
   "id": "137b6b86",
   "metadata": {},
   "outputs": [
    {
     "name": "stdout",
     "output_type": "stream",
     "text": [
      "47\n"
     ]
    },
    {
     "data": {
      "text/plain": [
       "0.8350264120276311"
      ]
     },
     "execution_count": 45,
     "metadata": {},
     "output_type": "execute_result"
    }
   ],
   "source": [
    "model = LogisticRegression(max_iter=1e20)\n",
    "model.fit(X_eth_train.drop(columns=[' ERC20 most sent token type',' ERC20_most_rec_token_type']), y_eth_train)\n",
    "print(X_eth_train.shape[1])\n",
    "model.score(X_eth_test.drop(columns=[' ERC20 most sent token type',' ERC20_most_rec_token_type']), y_eth_test)"
   ]
  },
  {
   "cell_type": "markdown",
   "id": "7e273bab",
   "metadata": {},
   "source": [
    "#### Results when using only numerical features\n",
    "with VIF reduction but without rescaling"
   ]
  },
  {
   "cell_type": "code",
   "execution_count": 20,
   "id": "57a2be51",
   "metadata": {
    "scrolled": false
   },
   "outputs": [
    {
     "name": "stdout",
     "output_type": "stream",
     "text": [
      "31\n"
     ]
    },
    {
     "data": {
      "text/plain": [
       "0.7927671678179602"
      ]
     },
     "execution_count": 20,
     "metadata": {},
     "output_type": "execute_result"
    }
   ],
   "source": [
    "model = LogisticRegression(max_iter=1e20)\n",
    "model.fit(X_eth_train_cleaned.drop(columns=[' ERC20 most sent token type',' ERC20_most_rec_token_type']), y_eth_train)\n",
    "print(X_eth_train_cleaned.shape[1])\n",
    "model.score(X_eth_test_cleaned.drop(columns=[' ERC20 most sent token type',' ERC20_most_rec_token_type']), y_eth_test)"
   ]
  },
  {
   "cell_type": "markdown",
   "id": "defined-rhythm",
   "metadata": {},
   "source": [
    "With both VIF reduction as well as rescaling"
   ]
  },
  {
   "cell_type": "markdown",
   "id": "967c1b87",
   "metadata": {},
   "source": [
    "#### Results when using both numerical and categorical features\n",
    "both using VIF feature reduction as well as rescaling"
   ]
  },
  {
   "cell_type": "code",
   "execution_count": 48,
   "id": "accepting-defendant",
   "metadata": {},
   "outputs": [
    {
     "name": "stdout",
     "output_type": "stream",
     "text": [
      "708\n"
     ]
    },
    {
     "data": {
      "text/plain": [
       "0.9898415278342138"
      ]
     },
     "execution_count": 48,
     "metadata": {},
     "output_type": "execute_result"
    }
   ],
   "source": [
    "ss=StandardScaler()\n",
    "X_train_ohe_rescaled = ss.fit_transform(X_eth_train_ohe)\n",
    "X_test_ohe_rescaled = ss.transform(X_eth_test_ohe)\n",
    "\n",
    "model = LogisticRegression(max_iter=1e20)\n",
    "model.fit(X_train_ohe_rescaled, y_eth_train)\n",
    "print(X_train_ohe_rescaled.shape[1])\n",
    "model.score(X_test_ohe_rescaled, y_eth_test)"
   ]
  }
 ],
 "metadata": {
  "kernelspec": {
   "display_name": "Python 3",
   "language": "python",
   "name": "python3"
  },
  "language_info": {
   "codemirror_mode": {
    "name": "ipython",
    "version": 3
   },
   "file_extension": ".py",
   "mimetype": "text/x-python",
   "name": "python",
   "nbconvert_exporter": "python",
   "pygments_lexer": "ipython3",
   "version": "3.8.8"
  }
 },
 "nbformat": 4,
 "nbformat_minor": 5
}
