{
 "cells": [
  {
   "cell_type": "code",
   "execution_count": 1,
   "id": "948f417c",
   "metadata": {},
   "outputs": [],
   "source": [
    "%load_ext autoreload\n",
    "%autoreload 2\n",
    "import eval_models\n",
    "import pandas as pd\n",
    "import numpy as np\n",
    "from boruta import BorutaPy\n",
    "from sklearn.model_selection import train_test_split, KFold\n",
    "from sklearn.ensemble import RandomForestClassifier\n",
    "import matplotlib.pyplot as plt\n",
    "import seaborn as sns\n",
    "from tqdm import tqdm"
   ]
  },
  {
   "cell_type": "code",
   "execution_count": 2,
   "id": "5dc8e36a",
   "metadata": {},
   "outputs": [],
   "source": [
    "X_dig_train,X_dig_test,y_dig_train,y_dig_test=eval_models.get_train_test(\"digits\")"
   ]
  },
  {
   "cell_type": "markdown",
   "id": "93bf7943",
   "metadata": {},
   "source": [
    "## No standarization at all"
   ]
  },
  {
   "cell_type": "code",
   "execution_count": 3,
   "id": "5711be4a",
   "metadata": {},
   "outputs": [],
   "source": [
    "RF = RandomForestClassifier(n_jobs=-1, max_depth=6)\n",
    "feat_select = BorutaPy(RF, n_estimators='auto', verbose=0)\n",
    "feat_select.fit(X_dig_train.values,y_dig_train)\n",
    "X_dig_train_boruta=X_dig_train.iloc[:,feat_select.support_]\n",
    "X_dig_test_boruta=X_dig_test.iloc[:,feat_select.support_]"
   ]
  },
  {
   "cell_type": "code",
   "execution_count": 4,
   "id": "11378a54",
   "metadata": {},
   "outputs": [
    {
     "name": "stdout",
     "output_type": "stream",
     "text": [
      "LogisticRegression 0.9753\n",
      "RandomForestClassifier 0.9753\n",
      "AdaBoostClassifier 0.9667\n",
      "LGBMClassifier 0.9813\n",
      "XGBClassifier 0.978\n",
      "1163  features in the dataset\n"
     ]
    }
   ],
   "source": [
    "noscaling_res=eval_models.get_models_ba(X_dig_train_boruta,\n",
    "                              X_dig_test_boruta,\n",
    "                              y_dig_train,\n",
    "                              y_dig_test\n",
    "                             )"
   ]
  },
  {
   "cell_type": "code",
   "execution_count": 5,
   "id": "a4047d1f",
   "metadata": {},
   "outputs": [],
   "source": [
    "X_train_no_corr=eval_models.delete_corr(X_dig_train_boruta)#,verbose=True)"
   ]
  },
  {
   "cell_type": "code",
   "execution_count": 6,
   "id": "08cc8fd5",
   "metadata": {},
   "outputs": [
    {
     "name": "stdout",
     "output_type": "stream",
     "text": [
      "LogisticRegression 0.9747\n",
      "RandomForestClassifier 0.9793\n",
      "AdaBoostClassifier 0.9667\n",
      "LGBMClassifier 0.9813\n",
      "XGBClassifier 0.978\n",
      "1116  features in the dataset\n"
     ]
    }
   ],
   "source": [
    "noscaling_res_cor=eval_models.get_models_ba(X_train_no_corr,\n",
    "                              X_dig_test_boruta,\n",
    "                              y_dig_train,\n",
    "                              y_dig_test\n",
    "                             )"
   ]
  },
  {
   "cell_type": "markdown",
   "id": "508dba14",
   "metadata": {},
   "source": [
    "## Standarization after Boruta"
   ]
  },
  {
   "cell_type": "code",
   "execution_count": 7,
   "id": "8c2b9764",
   "metadata": {},
   "outputs": [],
   "source": [
    "X_dig_train_boruta_sc,X_dig_test_boruta_sc=eval_models.standarize(X_dig_train_boruta,X_dig_test_boruta)"
   ]
  },
  {
   "cell_type": "code",
   "execution_count": 8,
   "id": "a89cf9dd",
   "metadata": {},
   "outputs": [],
   "source": [
    "X_train_no_corr2=eval_models.delete_corr(X_dig_train_boruta_sc)"
   ]
  },
  {
   "cell_type": "code",
   "execution_count": 9,
   "id": "0ae44a96",
   "metadata": {},
   "outputs": [
    {
     "name": "stdout",
     "output_type": "stream",
     "text": [
      "LogisticRegression 0.976\n",
      "RandomForestClassifier 0.976\n",
      "AdaBoostClassifier 0.9667\n",
      "LGBMClassifier 0.9807\n",
      "XGBClassifier 0.978\n",
      "1116  features in the dataset\n"
     ]
    }
   ],
   "source": [
    "noscaling_res_cor=eval_models.get_models_ba(X_train_no_corr2,\n",
    "                              X_dig_test_boruta_sc,\n",
    "                              y_dig_train,\n",
    "                              y_dig_test\n",
    "                             )"
   ]
  },
  {
   "cell_type": "markdown",
   "id": "db06185c",
   "metadata": {},
   "source": [
    "## Standarization before Boruta"
   ]
  },
  {
   "cell_type": "code",
   "execution_count": 10,
   "id": "29074de3",
   "metadata": {},
   "outputs": [],
   "source": [
    "X_dig_train_sc,X_dig_test_sc=eval_models.standarize(X_dig_train,X_dig_test)"
   ]
  },
  {
   "cell_type": "code",
   "execution_count": 11,
   "id": "1d0dc2f5",
   "metadata": {
    "scrolled": false
   },
   "outputs": [],
   "source": [
    "### (suggested max_depth between 3 and 7) podobno\n",
    "RF = RandomForestClassifier(n_jobs=-1, max_depth=7)\n",
    "feat_select = BorutaPy(RF, n_estimators='auto', verbose=0)\n",
    "feat_select.fit(X_dig_train_sc.values,y_dig_train)\n",
    "X_dig_train_sc_boruta=X_dig_train_sc.iloc[:,feat_select.support_]\n",
    "X_dig_test_sc_boruta=X_dig_test_sc.iloc[:,feat_select.support_]"
   ]
  },
  {
   "cell_type": "code",
   "execution_count": 12,
   "id": "884cda2f",
   "metadata": {},
   "outputs": [
    {
     "name": "stdout",
     "output_type": "stream",
     "text": [
      "LogisticRegression 0.974\n",
      "RandomForestClassifier 0.9767\n",
      "AdaBoostClassifier 0.9687\n",
      "LGBMClassifier 0.9787\n",
      "XGBClassifier 0.9747\n",
      "1139  features in the dataset\n"
     ]
    }
   ],
   "source": [
    "scaled_res=eval_models.get_models_ba(X_dig_train_sc_boruta,\n",
    "                              X_dig_test_sc_boruta,\n",
    "                              y_dig_train,\n",
    "                              y_dig_test\n",
    "                             )"
   ]
  },
  {
   "cell_type": "code",
   "execution_count": 13,
   "id": "19924dd1",
   "metadata": {},
   "outputs": [],
   "source": [
    "X_dig_train_sc_no_corr=eval_models.delete_corr(X_dig_train_sc_boruta)#,verbose=True)"
   ]
  },
  {
   "cell_type": "code",
   "execution_count": 14,
   "id": "a3ebac52",
   "metadata": {
    "scrolled": true
   },
   "outputs": [
    {
     "name": "stdout",
     "output_type": "stream",
     "text": [
      "LogisticRegression 0.972\n",
      "RandomForestClassifier 0.9787\n",
      "AdaBoostClassifier 0.9687\n",
      "LGBMClassifier 0.9787\n",
      "XGBClassifier 0.9747\n",
      "1092  features in the dataset\n"
     ]
    }
   ],
   "source": [
    "scaled_res_cor=eval_models.get_models_ba(X_dig_train_sc_no_corr,\n",
    "                              X_dig_test_sc_boruta,\n",
    "                              y_dig_train,\n",
    "                              y_dig_test\n",
    "                             )"
   ]
  },
  {
   "cell_type": "markdown",
   "id": "833c903e",
   "metadata": {},
   "source": [
    "## Cross validation (with standarization before Boruta)"
   ]
  },
  {
   "cell_type": "code",
   "execution_count": null,
   "id": "cf438e04",
   "metadata": {
    "scrolled": false
   },
   "outputs": [
    {
     "name": "stderr",
     "output_type": "stream",
     "text": [
      "\r",
      "0it [00:00, ?it/s]"
     ]
    },
    {
     "name": "stdout",
     "output_type": "stream",
     "text": [
      "LogisticRegression 0.9756\n",
      "RandomForestClassifier 0.9761\n",
      "AdaBoostClassifier 0.9735\n",
      "LGBMClassifier 0.9766\n"
     ]
    },
    {
     "name": "stderr",
     "output_type": "stream",
     "text": [
      "\r",
      "1it [19:30, 1170.51s/it]"
     ]
    },
    {
     "name": "stdout",
     "output_type": "stream",
     "text": [
      "XGBClassifier 0.978\n",
      "1040  features in the dataset\n"
     ]
    }
   ],
   "source": [
    "kf = KFold(n_splits=5,shuffle=True)\n",
    "models_res=[]\n",
    "for train_idx, val_idx in tqdm(kf.split(X_dig_train)):\n",
    "    X_train=X_dig_train.iloc[train_idx,:]\n",
    "    X_val=X_dig_train.iloc[val_idx,:]\n",
    "    y_train=y_dig_train[train_idx]\n",
    "    y_val=y_dig_train[val_idx]\n",
    "    \n",
    "    X_train_sc,X_val_sc=eval_models.standarize(X_train,X_val)\n",
    "    \n",
    "    RF = RandomForestClassifier(n_jobs=-1, max_depth=6)\n",
    "    feat_select = BorutaPy(RF, n_estimators='auto', verbose=0)\n",
    "    feat_select.fit(X_train.values,y_train)\n",
    "    #zapisywać np do pliku jakie feature wybrane i zostawić tylko te najczęściej wybierane, na ten moment 3/5 zobaczmy\n",
    "    \n",
    "    X_train_sc_boruta=X_train_sc.iloc[:,feat_select.support_]\n",
    "    X_val_sc_boruta=X_val_sc.iloc[:,feat_select.support_]\n",
    "    \n",
    "    with open('../data/boruta/digits-features.csv', 'a') as f:\n",
    "        np.savetxt(f, np.where(feat_select.support_), delimiter=\",\", fmt='%i')\n",
    "    f.close()\n",
    "    \n",
    "    X_train_sc_boruta_no_corr=eval_models.delete_corr(X_train_sc_boruta)\n",
    "\n",
    "    no_of_features=X_train_sc_boruta_no_corr.shape[1]\n",
    "    tmp=eval_models.get_models_ba(X_train_sc_boruta_no_corr,X_val_sc_boruta,y_train,y_val)\n",
    "    models_res.append((tmp,no_of_features))"
   ]
  },
  {
   "cell_type": "markdown",
   "id": "36bac8fc",
   "metadata": {},
   "source": [
    "### Having run Boruta x times we will select only those variables which have been selected at least 95% of the time\n",
    "remember to specify x_times! according to the number of tests you've made"
   ]
  },
  {
   "cell_type": "code",
   "execution_count": null,
   "id": "d54d34b9",
   "metadata": {},
   "outputs": [],
   "source": [
    "x_times=5\n",
    "boruta_all_results=pd.read_csv('../data/boruta/digits-features.csv',header=None,sep=\"\\n\")\n",
    "boruta_all_results=boruta_all_results.iloc[:,0].str.split(',', expand=True)\n",
    "boruta_all_array=np.array(list(filter(None, np.array(boruta_all_results).flatten()))).astype(np.int64)\n",
    "unique, counts=np.unique(np.array(boruta_all_array).flatten(),return_counts=True)\n",
    "columns_boruta= unique[counts>=x_times*0.95]\n",
    "X_dig_train_boruta_multiple=X_dig_train.iloc[:,columns_boruta]\n",
    "X_dig_train_boruta_multiple.head()"
   ]
  },
  {
   "cell_type": "code",
   "execution_count": null,
   "id": "d962bd05",
   "metadata": {},
   "outputs": [],
   "source": [
    "eval_models.get_models_ba(X_dig_train_boruta_multiple,\n",
    "                              X_dig_test,\n",
    "                              y_dig_train,\n",
    "                              y_dig_test,\n",
    "                          n_estimators=250\n",
    "                             )"
   ]
  },
  {
   "cell_type": "markdown",
   "id": "f75def10",
   "metadata": {},
   "source": [
    "I was impossible to run VIF on digits dataset :("
   ]
  },
  {
   "cell_type": "code",
   "execution_count": null,
   "id": "3201bf9b",
   "metadata": {},
   "outputs": [],
   "source": [
    "X_dig_train_scaled,X_dig_test_scaled=eval_models.standarize(X_dig_train,X_dig_test)\n",
    "X_dig_train_scaled_boruta_multiple=X_dig_train_scaled.iloc[:,columns_boruta]\n",
    "X_dig_train_scaled_boruta_multiple_corr=eval_models.delete_corr(X_dig_train_scaled_boruta_multiple)"
   ]
  },
  {
   "cell_type": "code",
   "execution_count": null,
   "id": "149689b8",
   "metadata": {
    "scrolled": false
   },
   "outputs": [],
   "source": [
    "eval_models.get_models_ba(X_dig_train_scaled_boruta_multiple_corr,\n",
    "                              X_dig_test_scaled,\n",
    "                              y_dig_train,\n",
    "                              y_dig_test,\n",
    "                          n_estimators=250)"
   ]
  }
 ],
 "metadata": {
  "kernelspec": {
   "display_name": "Python 3",
   "language": "python",
   "name": "python3"
  },
  "language_info": {
   "codemirror_mode": {
    "name": "ipython",
    "version": 3
   },
   "file_extension": ".py",
   "mimetype": "text/x-python",
   "name": "python",
   "nbconvert_exporter": "python",
   "pygments_lexer": "ipython3",
   "version": "3.8.8"
  }
 },
 "nbformat": 4,
 "nbformat_minor": 5
}
