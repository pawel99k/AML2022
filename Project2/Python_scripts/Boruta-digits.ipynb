{
 "cells": [
  {
   "cell_type": "code",
   "execution_count": 1,
   "id": "948f417c",
   "metadata": {},
   "outputs": [],
   "source": [
    "%load_ext autoreload\n",
    "%autoreload 2\n",
    "import eval_models\n",
    "import pandas as pd\n",
    "import numpy as np\n",
    "from boruta import BorutaPy\n",
    "from sklearn.model_selection import train_test_split, KFold\n",
    "from sklearn.ensemble import RandomForestClassifier\n",
    "import matplotlib.pyplot as plt\n",
    "import seaborn as sns\n",
    "from tqdm import tqdm"
   ]
  },
  {
   "cell_type": "code",
   "execution_count": 2,
   "id": "5dc8e36a",
   "metadata": {},
   "outputs": [],
   "source": [
    "X_dig_train,X_dig_test,y_dig_train,y_dig_test=eval_models.get_train_test(\"digits\")"
   ]
  },
  {
   "cell_type": "markdown",
   "id": "93bf7943",
   "metadata": {},
   "source": [
    "## No standarization at all"
   ]
  },
  {
   "cell_type": "code",
   "execution_count": 3,
   "id": "5711be4a",
   "metadata": {},
   "outputs": [],
   "source": [
    "RF = RandomForestClassifier(n_jobs=-1, max_depth=6)\n",
    "feat_select = BorutaPy(RF, n_estimators='auto', verbose=0)\n",
    "feat_select.fit(X_dig_train.values,y_dig_train)\n",
    "X_dig_train_boruta=X_dig_train.iloc[:,feat_select.support_]\n",
    "X_dig_test_boruta=X_dig_test.iloc[:,feat_select.support_]"
   ]
  },
  {
   "cell_type": "code",
   "execution_count": 4,
   "id": "11378a54",
   "metadata": {},
   "outputs": [
    {
     "name": "stdout",
     "output_type": "stream",
     "text": [
      "LogisticRegression 0.9753\n",
      "RandomForestClassifier 0.9753\n",
      "AdaBoostClassifier 0.9667\n",
      "LGBMClassifier 0.9813\n",
      "XGBClassifier 0.978\n",
      "1163  features in the dataset\n"
     ]
    }
   ],
   "source": [
    "noscaling_res=eval_models.get_models_ba(X_dig_train_boruta,\n",
    "                              X_dig_test_boruta,\n",
    "                              y_dig_train,\n",
    "                              y_dig_test\n",
    "                             )"
   ]
  },
  {
   "cell_type": "code",
   "execution_count": 5,
   "id": "a4047d1f",
   "metadata": {},
   "outputs": [],
   "source": [
    "X_train_no_corr=eval_models.delete_corr(X_dig_train_boruta)#,verbose=True)"
   ]
  },
  {
   "cell_type": "code",
   "execution_count": 6,
   "id": "08cc8fd5",
   "metadata": {},
   "outputs": [
    {
     "name": "stdout",
     "output_type": "stream",
     "text": [
      "LogisticRegression 0.9747\n",
      "RandomForestClassifier 0.9793\n",
      "AdaBoostClassifier 0.9667\n",
      "LGBMClassifier 0.9813\n",
      "XGBClassifier 0.978\n",
      "1116  features in the dataset\n"
     ]
    }
   ],
   "source": [
    "noscaling_res_cor=eval_models.get_models_ba(X_train_no_corr,\n",
    "                              X_dig_test_boruta,\n",
    "                              y_dig_train,\n",
    "                              y_dig_test\n",
    "                             )"
   ]
  },
  {
   "cell_type": "markdown",
   "id": "508dba14",
   "metadata": {},
   "source": [
    "## Standarization after Boruta"
   ]
  },
  {
   "cell_type": "code",
   "execution_count": 7,
   "id": "8c2b9764",
   "metadata": {},
   "outputs": [],
   "source": [
    "X_dig_train_boruta_sc,X_dig_test_boruta_sc=eval_models.standarize(X_dig_train_boruta,X_dig_test_boruta)"
   ]
  },
  {
   "cell_type": "code",
   "execution_count": 8,
   "id": "a89cf9dd",
   "metadata": {},
   "outputs": [],
   "source": [
    "X_train_no_corr2=eval_models.delete_corr(X_dig_train_boruta_sc)"
   ]
  },
  {
   "cell_type": "code",
   "execution_count": 9,
   "id": "0ae44a96",
   "metadata": {},
   "outputs": [
    {
     "name": "stdout",
     "output_type": "stream",
     "text": [
      "LogisticRegression 0.976\n",
      "RandomForestClassifier 0.976\n",
      "AdaBoostClassifier 0.9667\n",
      "LGBMClassifier 0.9807\n",
      "XGBClassifier 0.978\n",
      "1116  features in the dataset\n"
     ]
    }
   ],
   "source": [
    "noscaling_res_cor=eval_models.get_models_ba(X_train_no_corr2,\n",
    "                              X_dig_test_boruta_sc,\n",
    "                              y_dig_train,\n",
    "                              y_dig_test\n",
    "                             )"
   ]
  },
  {
   "cell_type": "markdown",
   "id": "db06185c",
   "metadata": {},
   "source": [
    "## Standarization before Boruta"
   ]
  },
  {
   "cell_type": "code",
   "execution_count": 10,
   "id": "29074de3",
   "metadata": {},
   "outputs": [],
   "source": [
    "X_dig_train_sc,X_dig_test_sc=eval_models.standarize(X_dig_train,X_dig_test)"
   ]
  },
  {
   "cell_type": "code",
   "execution_count": 11,
   "id": "1d0dc2f5",
   "metadata": {
    "scrolled": false
   },
   "outputs": [],
   "source": [
    "### (suggested max_depth between 3 and 7) podobno\n",
    "RF = RandomForestClassifier(n_jobs=-1, max_depth=7)\n",
    "feat_select = BorutaPy(RF, n_estimators='auto', verbose=0)\n",
    "feat_select.fit(X_dig_train_sc.values,y_dig_train)\n",
    "X_dig_train_sc_boruta=X_dig_train_sc.iloc[:,feat_select.support_]\n",
    "X_dig_test_sc_boruta=X_dig_test_sc.iloc[:,feat_select.support_]"
   ]
  },
  {
   "cell_type": "code",
   "execution_count": 12,
   "id": "884cda2f",
   "metadata": {},
   "outputs": [
    {
     "name": "stdout",
     "output_type": "stream",
     "text": [
      "LogisticRegression 0.974\n",
      "RandomForestClassifier 0.9767\n",
      "AdaBoostClassifier 0.9687\n",
      "LGBMClassifier 0.9787\n",
      "XGBClassifier 0.9747\n",
      "1139  features in the dataset\n"
     ]
    }
   ],
   "source": [
    "scaled_res=eval_models.get_models_ba(X_dig_train_sc_boruta,\n",
    "                              X_dig_test_sc_boruta,\n",
    "                              y_dig_train,\n",
    "                              y_dig_test\n",
    "                             )"
   ]
  },
  {
   "cell_type": "code",
   "execution_count": 13,
   "id": "19924dd1",
   "metadata": {},
   "outputs": [],
   "source": [
    "X_dig_train_sc_no_corr=eval_models.delete_corr(X_dig_train_sc_boruta)#,verbose=True)"
   ]
  },
  {
   "cell_type": "code",
   "execution_count": 14,
   "id": "a3ebac52",
   "metadata": {
    "scrolled": true
   },
   "outputs": [
    {
     "name": "stdout",
     "output_type": "stream",
     "text": [
      "LogisticRegression 0.972\n",
      "RandomForestClassifier 0.9787\n",
      "AdaBoostClassifier 0.9687\n",
      "LGBMClassifier 0.9787\n",
      "XGBClassifier 0.9747\n",
      "1092  features in the dataset\n"
     ]
    }
   ],
   "source": [
    "scaled_res_cor=eval_models.get_models_ba(X_dig_train_sc_no_corr,\n",
    "                              X_dig_test_sc_boruta,\n",
    "                              y_dig_train,\n",
    "                              y_dig_test\n",
    "                             )"
   ]
  },
  {
   "cell_type": "markdown",
   "id": "833c903e",
   "metadata": {},
   "source": [
    "## Cross validation (with standarization before Boruta)"
   ]
  },
  {
   "cell_type": "code",
   "execution_count": 15,
   "id": "cf438e04",
   "metadata": {
    "scrolled": false
   },
   "outputs": [
    {
     "name": "stderr",
     "output_type": "stream",
     "text": [
      "\r",
      "0it [00:00, ?it/s]"
     ]
    },
    {
     "name": "stdout",
     "output_type": "stream",
     "text": [
      "LogisticRegression 0.9756\n",
      "RandomForestClassifier 0.9761\n",
      "AdaBoostClassifier 0.9735\n",
      "LGBMClassifier 0.9766\n"
     ]
    },
    {
     "name": "stderr",
     "output_type": "stream",
     "text": [
      "\r",
      "1it [19:30, 1170.51s/it]"
     ]
    },
    {
     "name": "stdout",
     "output_type": "stream",
     "text": [
      "XGBClassifier 0.978\n",
      "1040  features in the dataset\n",
      "LogisticRegression 0.9767\n",
      "RandomForestClassifier 0.9657\n",
      "AdaBoostClassifier 0.9722\n",
      "LGBMClassifier 0.9744\n"
     ]
    },
    {
     "name": "stderr",
     "output_type": "stream",
     "text": [
      "\r",
      "2it [36:42, 1089.23s/it]"
     ]
    },
    {
     "name": "stdout",
     "output_type": "stream",
     "text": [
      "XGBClassifier 0.9789\n",
      "1019  features in the dataset\n",
      "LogisticRegression 0.9721\n",
      "RandomForestClassifier 0.978\n",
      "AdaBoostClassifier 0.971\n",
      "LGBMClassifier 0.981\n"
     ]
    },
    {
     "name": "stderr",
     "output_type": "stream",
     "text": [
      "\r",
      "3it [56:01, 1120.87s/it]"
     ]
    },
    {
     "name": "stdout",
     "output_type": "stream",
     "text": [
      "XGBClassifier 0.9833\n",
      "1034  features in the dataset\n",
      "LogisticRegression 0.9814\n",
      "RandomForestClassifier 0.9775\n",
      "AdaBoostClassifier 0.9741\n",
      "LGBMClassifier 0.9814\n"
     ]
    },
    {
     "name": "stderr",
     "output_type": "stream",
     "text": [
      "\r",
      "4it [1:16:09, 1155.48s/it]"
     ]
    },
    {
     "name": "stdout",
     "output_type": "stream",
     "text": [
      "XGBClassifier 0.9772\n",
      "1056  features in the dataset\n",
      "LogisticRegression 0.9786\n",
      "RandomForestClassifier 0.9714\n",
      "AdaBoostClassifier 0.972\n",
      "LGBMClassifier 0.9752\n"
     ]
    },
    {
     "name": "stderr",
     "output_type": "stream",
     "text": [
      "5it [1:34:29, 1133.81s/it]"
     ]
    },
    {
     "name": "stdout",
     "output_type": "stream",
     "text": [
      "XGBClassifier 0.9775\n",
      "1042  features in the dataset\n"
     ]
    },
    {
     "name": "stderr",
     "output_type": "stream",
     "text": [
      "\n"
     ]
    }
   ],
   "source": [
    "kf = KFold(n_splits=5,shuffle=True)\n",
    "models_res=[]\n",
    "for train_idx, val_idx in tqdm(kf.split(X_dig_train)):\n",
    "    X_train=X_dig_train.iloc[train_idx,:]\n",
    "    X_val=X_dig_train.iloc[val_idx,:]\n",
    "    y_train=y_dig_train[train_idx]\n",
    "    y_val=y_dig_train[val_idx]\n",
    "    \n",
    "    X_train_sc,X_val_sc=eval_models.standarize(X_train,X_val)\n",
    "    \n",
    "    RF = RandomForestClassifier(n_jobs=-1, max_depth=6)\n",
    "    feat_select = BorutaPy(RF, n_estimators='auto', verbose=0)\n",
    "    feat_select.fit(X_train.values,y_train)\n",
    "    #zapisywać np do pliku jakie feature wybrane i zostawić tylko te najczęściej wybierane, na ten moment 3/5 zobaczmy\n",
    "    \n",
    "    X_train_sc_boruta=X_train_sc.iloc[:,feat_select.support_]\n",
    "    X_val_sc_boruta=X_val_sc.iloc[:,feat_select.support_]\n",
    "    \n",
    "    with open('../data/boruta/digits-features.csv', 'a') as f:\n",
    "        np.savetxt(f, np.where(feat_select.support_), delimiter=\",\", fmt='%i')\n",
    "    f.close()\n",
    "    \n",
    "    X_train_sc_boruta_no_corr=eval_models.delete_corr(X_train_sc_boruta)\n",
    "\n",
    "    no_of_features=X_train_sc_boruta_no_corr.shape[1]\n",
    "    tmp=eval_models.get_models_ba(X_train_sc_boruta_no_corr,X_val_sc_boruta,y_train,y_val)\n",
    "    models_res.append((tmp,no_of_features))"
   ]
  },
  {
   "cell_type": "markdown",
   "id": "36bac8fc",
   "metadata": {},
   "source": [
    "### Having run Boruta x times we will select only those variables which have been selected at least 95% of the time\n",
    "remember to specify x_times! according to the number of tests you've made"
   ]
  },
  {
   "cell_type": "code",
   "execution_count": 16,
   "id": "d54d34b9",
   "metadata": {},
   "outputs": [
    {
     "data": {
      "text/html": [
       "<div>\n",
       "<style scoped>\n",
       "    .dataframe tbody tr th:only-of-type {\n",
       "        vertical-align: middle;\n",
       "    }\n",
       "\n",
       "    .dataframe tbody tr th {\n",
       "        vertical-align: top;\n",
       "    }\n",
       "\n",
       "    .dataframe thead th {\n",
       "        text-align: right;\n",
       "    }\n",
       "</style>\n",
       "<table border=\"1\" class=\"dataframe\">\n",
       "  <thead>\n",
       "    <tr style=\"text-align: right;\">\n",
       "      <th></th>\n",
       "      <th>2</th>\n",
       "      <th>12</th>\n",
       "      <th>14</th>\n",
       "      <th>16</th>\n",
       "      <th>25</th>\n",
       "      <th>34</th>\n",
       "      <th>38</th>\n",
       "      <th>48</th>\n",
       "      <th>53</th>\n",
       "      <th>66</th>\n",
       "      <th>...</th>\n",
       "      <th>4963</th>\n",
       "      <th>4966</th>\n",
       "      <th>4967</th>\n",
       "      <th>4970</th>\n",
       "      <th>4976</th>\n",
       "      <th>4977</th>\n",
       "      <th>4979</th>\n",
       "      <th>4980</th>\n",
       "      <th>4981</th>\n",
       "      <th>4991</th>\n",
       "    </tr>\n",
       "  </thead>\n",
       "  <tbody>\n",
       "    <tr>\n",
       "      <th>2868</th>\n",
       "      <td>0</td>\n",
       "      <td>0</td>\n",
       "      <td>991</td>\n",
       "      <td>0</td>\n",
       "      <td>0</td>\n",
       "      <td>0</td>\n",
       "      <td>987</td>\n",
       "      <td>0</td>\n",
       "      <td>332</td>\n",
       "      <td>980</td>\n",
       "      <td>...</td>\n",
       "      <td>0</td>\n",
       "      <td>0</td>\n",
       "      <td>0</td>\n",
       "      <td>0</td>\n",
       "      <td>0</td>\n",
       "      <td>972</td>\n",
       "      <td>987</td>\n",
       "      <td>0</td>\n",
       "      <td>770</td>\n",
       "      <td>0</td>\n",
       "    </tr>\n",
       "    <tr>\n",
       "      <th>4630</th>\n",
       "      <td>0</td>\n",
       "      <td>645</td>\n",
       "      <td>991</td>\n",
       "      <td>0</td>\n",
       "      <td>983</td>\n",
       "      <td>0</td>\n",
       "      <td>0</td>\n",
       "      <td>0</td>\n",
       "      <td>0</td>\n",
       "      <td>983</td>\n",
       "      <td>...</td>\n",
       "      <td>991</td>\n",
       "      <td>991</td>\n",
       "      <td>0</td>\n",
       "      <td>0</td>\n",
       "      <td>0</td>\n",
       "      <td>0</td>\n",
       "      <td>662</td>\n",
       "      <td>0</td>\n",
       "      <td>0</td>\n",
       "      <td>0</td>\n",
       "    </tr>\n",
       "    <tr>\n",
       "      <th>1870</th>\n",
       "      <td>0</td>\n",
       "      <td>0</td>\n",
       "      <td>987</td>\n",
       "      <td>0</td>\n",
       "      <td>983</td>\n",
       "      <td>801</td>\n",
       "      <td>987</td>\n",
       "      <td>976</td>\n",
       "      <td>976</td>\n",
       "      <td>980</td>\n",
       "      <td>...</td>\n",
       "      <td>0</td>\n",
       "      <td>0</td>\n",
       "      <td>0</td>\n",
       "      <td>0</td>\n",
       "      <td>980</td>\n",
       "      <td>0</td>\n",
       "      <td>0</td>\n",
       "      <td>0</td>\n",
       "      <td>0</td>\n",
       "      <td>0</td>\n",
       "    </tr>\n",
       "    <tr>\n",
       "      <th>353</th>\n",
       "      <td>0</td>\n",
       "      <td>877</td>\n",
       "      <td>991</td>\n",
       "      <td>0</td>\n",
       "      <td>0</td>\n",
       "      <td>0</td>\n",
       "      <td>529</td>\n",
       "      <td>0</td>\n",
       "      <td>0</td>\n",
       "      <td>987</td>\n",
       "      <td>...</td>\n",
       "      <td>991</td>\n",
       "      <td>968</td>\n",
       "      <td>0</td>\n",
       "      <td>0</td>\n",
       "      <td>0</td>\n",
       "      <td>991</td>\n",
       "      <td>0</td>\n",
       "      <td>0</td>\n",
       "      <td>937</td>\n",
       "      <td>0</td>\n",
       "    </tr>\n",
       "    <tr>\n",
       "      <th>3582</th>\n",
       "      <td>0</td>\n",
       "      <td>0</td>\n",
       "      <td>0</td>\n",
       "      <td>0</td>\n",
       "      <td>831</td>\n",
       "      <td>0</td>\n",
       "      <td>0</td>\n",
       "      <td>0</td>\n",
       "      <td>0</td>\n",
       "      <td>570</td>\n",
       "      <td>...</td>\n",
       "      <td>991</td>\n",
       "      <td>991</td>\n",
       "      <td>0</td>\n",
       "      <td>0</td>\n",
       "      <td>0</td>\n",
       "      <td>874</td>\n",
       "      <td>0</td>\n",
       "      <td>0</td>\n",
       "      <td>0</td>\n",
       "      <td>0</td>\n",
       "    </tr>\n",
       "  </tbody>\n",
       "</table>\n",
       "<p>5 rows × 954 columns</p>\n",
       "</div>"
      ],
      "text/plain": [
       "      2     12    14    16    25    34    38    48    53    66    ...  4963  \\\n",
       "2868     0     0   991     0     0     0   987     0   332   980  ...     0   \n",
       "4630     0   645   991     0   983     0     0     0     0   983  ...   991   \n",
       "1870     0     0   987     0   983   801   987   976   976   980  ...     0   \n",
       "353      0   877   991     0     0     0   529     0     0   987  ...   991   \n",
       "3582     0     0     0     0   831     0     0     0     0   570  ...   991   \n",
       "\n",
       "      4966  4967  4970  4976  4977  4979  4980  4981  4991  \n",
       "2868     0     0     0     0   972   987     0   770     0  \n",
       "4630   991     0     0     0     0   662     0     0     0  \n",
       "1870     0     0     0   980     0     0     0     0     0  \n",
       "353    968     0     0     0   991     0     0   937     0  \n",
       "3582   991     0     0     0   874     0     0     0     0  \n",
       "\n",
       "[5 rows x 954 columns]"
      ]
     },
     "execution_count": 16,
     "metadata": {},
     "output_type": "execute_result"
    }
   ],
   "source": [
    "x_times=5\n",
    "boruta_all_results=pd.read_csv('../data/boruta/digits-features.csv',header=None,sep=\"\\n\")\n",
    "boruta_all_results=boruta_all_results.iloc[:,0].str.split(',', expand=True)\n",
    "boruta_all_array=np.array(list(filter(None, np.array(boruta_all_results).flatten()))).astype(np.int64)\n",
    "unique, counts=np.unique(np.array(boruta_all_array).flatten(),return_counts=True)\n",
    "columns_boruta= unique[counts>=x_times*0.95]\n",
    "X_dig_train_boruta_multiple=X_dig_train.iloc[:,columns_boruta]\n",
    "X_dig_train_boruta_multiple.head()"
   ]
  },
  {
   "cell_type": "code",
   "execution_count": 17,
   "id": "d962bd05",
   "metadata": {},
   "outputs": [
    {
     "name": "stdout",
     "output_type": "stream",
     "text": [
      "LogisticRegression 0.972\n",
      "RandomForestClassifier 0.972\n",
      "AdaBoostClassifier 0.9747\n",
      "LGBMClassifier 0.9813\n",
      "XGBClassifier 0.9807\n",
      "954  features in the dataset\n"
     ]
    },
    {
     "data": {
      "text/html": [
       "<div>\n",
       "<style scoped>\n",
       "    .dataframe tbody tr th:only-of-type {\n",
       "        vertical-align: middle;\n",
       "    }\n",
       "\n",
       "    .dataframe tbody tr th {\n",
       "        vertical-align: top;\n",
       "    }\n",
       "\n",
       "    .dataframe thead th {\n",
       "        text-align: right;\n",
       "    }\n",
       "</style>\n",
       "<table border=\"1\" class=\"dataframe\">\n",
       "  <thead>\n",
       "    <tr style=\"text-align: right;\">\n",
       "      <th></th>\n",
       "      <th>Classifier</th>\n",
       "      <th>BA score</th>\n",
       "    </tr>\n",
       "  </thead>\n",
       "  <tbody>\n",
       "    <tr>\n",
       "      <th>0</th>\n",
       "      <td>LogisticRegression</td>\n",
       "      <td>0.972000</td>\n",
       "    </tr>\n",
       "    <tr>\n",
       "      <th>1</th>\n",
       "      <td>RandomForestClassifier</td>\n",
       "      <td>0.972000</td>\n",
       "    </tr>\n",
       "    <tr>\n",
       "      <th>2</th>\n",
       "      <td>AdaBoostClassifier</td>\n",
       "      <td>0.974667</td>\n",
       "    </tr>\n",
       "    <tr>\n",
       "      <th>3</th>\n",
       "      <td>LGBMClassifier</td>\n",
       "      <td>0.981333</td>\n",
       "    </tr>\n",
       "    <tr>\n",
       "      <th>4</th>\n",
       "      <td>XGBClassifier</td>\n",
       "      <td>0.980667</td>\n",
       "    </tr>\n",
       "  </tbody>\n",
       "</table>\n",
       "</div>"
      ],
      "text/plain": [
       "               Classifier  BA score\n",
       "0      LogisticRegression  0.972000\n",
       "1  RandomForestClassifier  0.972000\n",
       "2      AdaBoostClassifier  0.974667\n",
       "3          LGBMClassifier  0.981333\n",
       "4           XGBClassifier  0.980667"
      ]
     },
     "execution_count": 17,
     "metadata": {},
     "output_type": "execute_result"
    }
   ],
   "source": [
    "eval_models.get_models_ba(X_dig_train_boruta_multiple,\n",
    "                              X_dig_test,\n",
    "                              y_dig_train,\n",
    "                              y_dig_test,\n",
    "                          n_estimators=250\n",
    "                             )"
   ]
  },
  {
   "cell_type": "markdown",
   "id": "f75def10",
   "metadata": {},
   "source": [
    "I was impossible to run VIF on digits dataset :("
   ]
  },
  {
   "cell_type": "code",
   "execution_count": 18,
   "id": "3201bf9b",
   "metadata": {},
   "outputs": [],
   "source": [
    "X_dig_train_scaled,X_dig_test_scaled=eval_models.standarize(X_dig_train,X_dig_test)\n",
    "X_dig_train_scaled_boruta_multiple=X_dig_train_scaled.iloc[:,columns_boruta]\n",
    "X_dig_train_scaled_boruta_multiple_corr=eval_models.delete_corr(X_dig_train_scaled_boruta_multiple)"
   ]
  },
  {
   "cell_type": "code",
   "execution_count": 19,
   "id": "149689b8",
   "metadata": {
    "scrolled": false
   },
   "outputs": [
    {
     "name": "stdout",
     "output_type": "stream",
     "text": [
      "LogisticRegression 0.9747\n",
      "RandomForestClassifier 0.9753\n",
      "AdaBoostClassifier 0.9747\n",
      "LGBMClassifier 0.9787\n",
      "XGBClassifier 0.9807\n",
      "912  features in the dataset\n"
     ]
    },
    {
     "data": {
      "text/html": [
       "<div>\n",
       "<style scoped>\n",
       "    .dataframe tbody tr th:only-of-type {\n",
       "        vertical-align: middle;\n",
       "    }\n",
       "\n",
       "    .dataframe tbody tr th {\n",
       "        vertical-align: top;\n",
       "    }\n",
       "\n",
       "    .dataframe thead th {\n",
       "        text-align: right;\n",
       "    }\n",
       "</style>\n",
       "<table border=\"1\" class=\"dataframe\">\n",
       "  <thead>\n",
       "    <tr style=\"text-align: right;\">\n",
       "      <th></th>\n",
       "      <th>Classifier</th>\n",
       "      <th>BA score</th>\n",
       "    </tr>\n",
       "  </thead>\n",
       "  <tbody>\n",
       "    <tr>\n",
       "      <th>0</th>\n",
       "      <td>LogisticRegression</td>\n",
       "      <td>0.974667</td>\n",
       "    </tr>\n",
       "    <tr>\n",
       "      <th>1</th>\n",
       "      <td>RandomForestClassifier</td>\n",
       "      <td>0.975333</td>\n",
       "    </tr>\n",
       "    <tr>\n",
       "      <th>2</th>\n",
       "      <td>AdaBoostClassifier</td>\n",
       "      <td>0.974667</td>\n",
       "    </tr>\n",
       "    <tr>\n",
       "      <th>3</th>\n",
       "      <td>LGBMClassifier</td>\n",
       "      <td>0.978667</td>\n",
       "    </tr>\n",
       "    <tr>\n",
       "      <th>4</th>\n",
       "      <td>XGBClassifier</td>\n",
       "      <td>0.980667</td>\n",
       "    </tr>\n",
       "  </tbody>\n",
       "</table>\n",
       "</div>"
      ],
      "text/plain": [
       "               Classifier  BA score\n",
       "0      LogisticRegression  0.974667\n",
       "1  RandomForestClassifier  0.975333\n",
       "2      AdaBoostClassifier  0.974667\n",
       "3          LGBMClassifier  0.978667\n",
       "4           XGBClassifier  0.980667"
      ]
     },
     "execution_count": 19,
     "metadata": {},
     "output_type": "execute_result"
    }
   ],
   "source": [
    "eval_models.get_models_ba(X_dig_train_scaled_boruta_multiple_corr,\n",
    "                              X_dig_test_scaled,\n",
    "                              y_dig_train,\n",
    "                              y_dig_test,\n",
    "                          n_estimators=250)"
   ]
  }
 ],
 "metadata": {
  "kernelspec": {
   "display_name": "Python 3",
   "language": "python",
   "name": "python3"
  },
  "language_info": {
   "codemirror_mode": {
    "name": "ipython",
    "version": 3
   },
   "file_extension": ".py",
   "mimetype": "text/x-python",
   "name": "python",
   "nbconvert_exporter": "python",
   "pygments_lexer": "ipython3",
   "version": "3.8.8"
  }
 },
 "nbformat": 4,
 "nbformat_minor": 5
}
