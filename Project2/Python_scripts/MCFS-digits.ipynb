{
 "cells": [
  {
   "cell_type": "code",
   "execution_count": 7,
   "id": "c4006f52",
   "metadata": {},
   "outputs": [
    {
     "name": "stdout",
     "output_type": "stream",
     "text": [
      "The autoreload extension is already loaded. To reload it, use:\n",
      "  %reload_ext autoreload\n"
     ]
    }
   ],
   "source": [
    "%load_ext autoreload\n",
    "%autoreload 2\n",
    "import eval_models\n",
    "import pandas as pd\n",
    "import numpy as np\n",
    "from boruta import BorutaPy\n",
    "from sklearn.model_selection import train_test_split, KFold\n",
    "from sklearn.ensemble import RandomForestClassifier\n",
    "import matplotlib.pyplot as plt\n",
    "import seaborn as sns\n",
    "from tqdm import tqdm\n",
    "plt.rcParams['figure.figsize'] = (16,9)\n",
    "plt.rcParams['font.size'] = 25"
   ]
  },
  {
   "cell_type": "markdown",
   "id": "de0297ea",
   "metadata": {},
   "source": [
    "### Lets try out mcfs on digits and its results\n",
    "Note: the output is from R so we will have to transform it a little bit. The easiest is to open file in excel and delete ,class, at the end of each row"
   ]
  },
  {
   "cell_type": "code",
   "execution_count": 8,
   "id": "e8e6fe59",
   "metadata": {},
   "outputs": [],
   "source": [
    "X_dig_train,X_dig_test,y_dig_train,y_dig_test=eval_models.get_train_test(\"digits\")"
   ]
  },
  {
   "cell_type": "code",
   "execution_count": 9,
   "id": "b0b0823e",
   "metadata": {},
   "outputs": [],
   "source": [
    "x_times_mcfs=5\n",
    "mcfs_all_results=pd.read_csv('../data/mcfs/digits-features.csv',header=None,sep=\"\\n\")\n",
    "mcfs_all_results=mcfs_all_results.iloc[:,0].str.split(',', expand=True)\n",
    "mcfs_all_array=np.array(list(filter(None,np.array(mcfs_all_results).flatten()))).astype(np.int64)"
   ]
  },
  {
   "cell_type": "code",
   "execution_count": 10,
   "id": "96a377da",
   "metadata": {},
   "outputs": [],
   "source": [
    "unique, counts=np.unique(mcfs_all_array,return_counts=True)\n",
    "columns_mcfs= unique[counts>=x_times_mcfs*0.95]"
   ]
  },
  {
   "cell_type": "code",
   "execution_count": 11,
   "id": "68ebde79",
   "metadata": {},
   "outputs": [
    {
     "data": {
      "text/html": [
       "<div>\n",
       "<style scoped>\n",
       "    .dataframe tbody tr th:only-of-type {\n",
       "        vertical-align: middle;\n",
       "    }\n",
       "\n",
       "    .dataframe tbody tr th {\n",
       "        vertical-align: top;\n",
       "    }\n",
       "\n",
       "    .dataframe thead th {\n",
       "        text-align: right;\n",
       "    }\n",
       "</style>\n",
       "<table border=\"1\" class=\"dataframe\">\n",
       "  <thead>\n",
       "    <tr style=\"text-align: right;\">\n",
       "      <th></th>\n",
       "      <th>12</th>\n",
       "      <th>34</th>\n",
       "      <th>38</th>\n",
       "      <th>53</th>\n",
       "      <th>66</th>\n",
       "      <th>139</th>\n",
       "      <th>205</th>\n",
       "      <th>214</th>\n",
       "      <th>229</th>\n",
       "      <th>295</th>\n",
       "      <th>...</th>\n",
       "      <th>4917</th>\n",
       "      <th>4925</th>\n",
       "      <th>4933</th>\n",
       "      <th>4938</th>\n",
       "      <th>4947</th>\n",
       "      <th>4963</th>\n",
       "      <th>4966</th>\n",
       "      <th>4977</th>\n",
       "      <th>4980</th>\n",
       "      <th>4981</th>\n",
       "    </tr>\n",
       "  </thead>\n",
       "  <tbody>\n",
       "    <tr>\n",
       "      <th>2868</th>\n",
       "      <td>0</td>\n",
       "      <td>0</td>\n",
       "      <td>987</td>\n",
       "      <td>332</td>\n",
       "      <td>980</td>\n",
       "      <td>0</td>\n",
       "      <td>0</td>\n",
       "      <td>658</td>\n",
       "      <td>960</td>\n",
       "      <td>0</td>\n",
       "      <td>...</td>\n",
       "      <td>0</td>\n",
       "      <td>563</td>\n",
       "      <td>987</td>\n",
       "      <td>0</td>\n",
       "      <td>740</td>\n",
       "      <td>0</td>\n",
       "      <td>0</td>\n",
       "      <td>972</td>\n",
       "      <td>0</td>\n",
       "      <td>770</td>\n",
       "    </tr>\n",
       "    <tr>\n",
       "      <th>4630</th>\n",
       "      <td>645</td>\n",
       "      <td>0</td>\n",
       "      <td>0</td>\n",
       "      <td>0</td>\n",
       "      <td>983</td>\n",
       "      <td>0</td>\n",
       "      <td>0</td>\n",
       "      <td>0</td>\n",
       "      <td>0</td>\n",
       "      <td>0</td>\n",
       "      <td>...</td>\n",
       "      <td>0</td>\n",
       "      <td>0</td>\n",
       "      <td>0</td>\n",
       "      <td>0</td>\n",
       "      <td>0</td>\n",
       "      <td>991</td>\n",
       "      <td>991</td>\n",
       "      <td>0</td>\n",
       "      <td>0</td>\n",
       "      <td>0</td>\n",
       "    </tr>\n",
       "    <tr>\n",
       "      <th>1870</th>\n",
       "      <td>0</td>\n",
       "      <td>801</td>\n",
       "      <td>987</td>\n",
       "      <td>976</td>\n",
       "      <td>980</td>\n",
       "      <td>980</td>\n",
       "      <td>980</td>\n",
       "      <td>987</td>\n",
       "      <td>0</td>\n",
       "      <td>976</td>\n",
       "      <td>...</td>\n",
       "      <td>0</td>\n",
       "      <td>976</td>\n",
       "      <td>0</td>\n",
       "      <td>976</td>\n",
       "      <td>0</td>\n",
       "      <td>0</td>\n",
       "      <td>0</td>\n",
       "      <td>0</td>\n",
       "      <td>0</td>\n",
       "      <td>0</td>\n",
       "    </tr>\n",
       "    <tr>\n",
       "      <th>353</th>\n",
       "      <td>877</td>\n",
       "      <td>0</td>\n",
       "      <td>529</td>\n",
       "      <td>0</td>\n",
       "      <td>987</td>\n",
       "      <td>886</td>\n",
       "      <td>983</td>\n",
       "      <td>693</td>\n",
       "      <td>0</td>\n",
       "      <td>987</td>\n",
       "      <td>...</td>\n",
       "      <td>983</td>\n",
       "      <td>0</td>\n",
       "      <td>999</td>\n",
       "      <td>527</td>\n",
       "      <td>779</td>\n",
       "      <td>991</td>\n",
       "      <td>968</td>\n",
       "      <td>991</td>\n",
       "      <td>0</td>\n",
       "      <td>937</td>\n",
       "    </tr>\n",
       "    <tr>\n",
       "      <th>3582</th>\n",
       "      <td>0</td>\n",
       "      <td>0</td>\n",
       "      <td>0</td>\n",
       "      <td>0</td>\n",
       "      <td>570</td>\n",
       "      <td>0</td>\n",
       "      <td>0</td>\n",
       "      <td>0</td>\n",
       "      <td>606</td>\n",
       "      <td>0</td>\n",
       "      <td>...</td>\n",
       "      <td>0</td>\n",
       "      <td>0</td>\n",
       "      <td>0</td>\n",
       "      <td>0</td>\n",
       "      <td>608</td>\n",
       "      <td>991</td>\n",
       "      <td>991</td>\n",
       "      <td>874</td>\n",
       "      <td>0</td>\n",
       "      <td>0</td>\n",
       "    </tr>\n",
       "  </tbody>\n",
       "</table>\n",
       "<p>5 rows × 262 columns</p>\n",
       "</div>"
      ],
      "text/plain": [
       "      12    34    38    53    66    139   205   214   229   295   ...  4917  \\\n",
       "2868     0     0   987   332   980     0     0   658   960     0  ...     0   \n",
       "4630   645     0     0     0   983     0     0     0     0     0  ...     0   \n",
       "1870     0   801   987   976   980   980   980   987     0   976  ...     0   \n",
       "353    877     0   529     0   987   886   983   693     0   987  ...   983   \n",
       "3582     0     0     0     0   570     0     0     0   606     0  ...     0   \n",
       "\n",
       "      4925  4933  4938  4947  4963  4966  4977  4980  4981  \n",
       "2868   563   987     0   740     0     0   972     0   770  \n",
       "4630     0     0     0     0   991   991     0     0     0  \n",
       "1870   976     0   976     0     0     0     0     0     0  \n",
       "353      0   999   527   779   991   968   991     0   937  \n",
       "3582     0     0     0   608   991   991   874     0     0  \n",
       "\n",
       "[5 rows x 262 columns]"
      ]
     },
     "execution_count": 11,
     "metadata": {},
     "output_type": "execute_result"
    }
   ],
   "source": [
    "#nie wiem czemu, ale iloc nie chciał działać\n",
    "X_dig_train_mcfs_multiple=X_dig_train.loc[:,list(columns_mcfs)]\n",
    "X_dig_train_mcfs_multiple.head()"
   ]
  },
  {
   "cell_type": "code",
   "execution_count": 12,
   "id": "265aed98",
   "metadata": {},
   "outputs": [
    {
     "name": "stdout",
     "output_type": "stream",
     "text": [
      "LogisticRegression 0.9493\n",
      "RandomForestClassifier 0.968\n",
      "AdaBoostClassifier 0.9527\n",
      "LGBMClassifier 0.978\n",
      "XGBClassifier 0.9733\n",
      "262  features in the dataset\n"
     ]
    },
    {
     "data": {
      "text/html": [
       "<div>\n",
       "<style scoped>\n",
       "    .dataframe tbody tr th:only-of-type {\n",
       "        vertical-align: middle;\n",
       "    }\n",
       "\n",
       "    .dataframe tbody tr th {\n",
       "        vertical-align: top;\n",
       "    }\n",
       "\n",
       "    .dataframe thead th {\n",
       "        text-align: right;\n",
       "    }\n",
       "</style>\n",
       "<table border=\"1\" class=\"dataframe\">\n",
       "  <thead>\n",
       "    <tr style=\"text-align: right;\">\n",
       "      <th></th>\n",
       "      <th>Classifier</th>\n",
       "      <th>BA score</th>\n",
       "    </tr>\n",
       "  </thead>\n",
       "  <tbody>\n",
       "    <tr>\n",
       "      <th>0</th>\n",
       "      <td>LogisticRegression</td>\n",
       "      <td>0.949333</td>\n",
       "    </tr>\n",
       "    <tr>\n",
       "      <th>1</th>\n",
       "      <td>RandomForestClassifier</td>\n",
       "      <td>0.968000</td>\n",
       "    </tr>\n",
       "    <tr>\n",
       "      <th>2</th>\n",
       "      <td>AdaBoostClassifier</td>\n",
       "      <td>0.952667</td>\n",
       "    </tr>\n",
       "    <tr>\n",
       "      <th>3</th>\n",
       "      <td>LGBMClassifier</td>\n",
       "      <td>0.978000</td>\n",
       "    </tr>\n",
       "    <tr>\n",
       "      <th>4</th>\n",
       "      <td>XGBClassifier</td>\n",
       "      <td>0.973333</td>\n",
       "    </tr>\n",
       "  </tbody>\n",
       "</table>\n",
       "</div>"
      ],
      "text/plain": [
       "               Classifier  BA score\n",
       "0      LogisticRegression  0.949333\n",
       "1  RandomForestClassifier  0.968000\n",
       "2      AdaBoostClassifier  0.952667\n",
       "3          LGBMClassifier  0.978000\n",
       "4           XGBClassifier  0.973333"
      ]
     },
     "execution_count": 12,
     "metadata": {},
     "output_type": "execute_result"
    }
   ],
   "source": [
    "eval_models.get_models_ba(X_dig_train_mcfs_multiple,\n",
    "                              X_dig_test,\n",
    "                              y_dig_train,\n",
    "                              y_dig_test,\n",
    "                          n_estimators=250\n",
    "                             )"
   ]
  },
  {
   "cell_type": "code",
   "execution_count": 13,
   "id": "9c2fb631",
   "metadata": {},
   "outputs": [],
   "source": [
    "X_dig_train_scaled,X_dig_test_scaled=eval_models.standarize(X_dig_train,X_dig_test)\n",
    "X_dig_train_scaled_mcfs_multiple=X_dig_train_scaled.loc[:,columns_mcfs]"
   ]
  },
  {
   "cell_type": "code",
   "execution_count": 14,
   "id": "a8b0a3f7",
   "metadata": {},
   "outputs": [
    {
     "name": "stdout",
     "output_type": "stream",
     "text": [
      "LogisticRegression 0.96\n",
      "RandomForestClassifier 0.9687\n",
      "AdaBoostClassifier 0.9527\n",
      "LGBMClassifier 0.9767\n",
      "XGBClassifier 0.9733\n",
      "262  features in the dataset\n"
     ]
    }
   ],
   "source": [
    "res_mcfs_no_corr=eval_models.get_models_ba(X_dig_train_scaled_mcfs_multiple,\n",
    "                              X_dig_test_scaled,\n",
    "                              y_dig_train,\n",
    "                              y_dig_test,\n",
    "                          n_estimators=250\n",
    "                             )\n",
    "res_mcfs_no_corr['Corr']='No'"
   ]
  },
  {
   "cell_type": "code",
   "execution_count": 15,
   "id": "69d72d5b",
   "metadata": {},
   "outputs": [],
   "source": [
    "X_dig_train_scaled_mcfs_multiple_corr=eval_models.delete_corr(X_dig_train_scaled_mcfs_multiple)"
   ]
  },
  {
   "cell_type": "code",
   "execution_count": 16,
   "id": "744eea76",
   "metadata": {},
   "outputs": [
    {
     "name": "stdout",
     "output_type": "stream",
     "text": [
      "LogisticRegression 0.9607\n",
      "RandomForestClassifier 0.9693\n",
      "AdaBoostClassifier 0.9527\n",
      "LGBMClassifier 0.9767\n",
      "XGBClassifier 0.9733\n",
      "247  features in the dataset\n"
     ]
    }
   ],
   "source": [
    "res_boruta_yes_corr=eval_models.get_models_ba(X_dig_train_scaled_mcfs_multiple_corr,\n",
    "                              X_dig_test_scaled,\n",
    "                              y_dig_train,\n",
    "                              y_dig_test,\n",
    "                          n_estimators=250)\n",
    "res_boruta_yes_corr['Corr']=\"Yes\""
   ]
  },
  {
   "cell_type": "code",
   "execution_count": 17,
   "id": "2726b60e",
   "metadata": {},
   "outputs": [
    {
     "data": {
      "text/html": [
       "<div>\n",
       "<style scoped>\n",
       "    .dataframe tbody tr th:only-of-type {\n",
       "        vertical-align: middle;\n",
       "    }\n",
       "\n",
       "    .dataframe tbody tr th {\n",
       "        vertical-align: top;\n",
       "    }\n",
       "\n",
       "    .dataframe thead th {\n",
       "        text-align: right;\n",
       "    }\n",
       "</style>\n",
       "<table border=\"1\" class=\"dataframe\">\n",
       "  <thead>\n",
       "    <tr style=\"text-align: right;\">\n",
       "      <th></th>\n",
       "      <th>Classifier</th>\n",
       "      <th>BA score</th>\n",
       "      <th>Corr</th>\n",
       "    </tr>\n",
       "  </thead>\n",
       "  <tbody>\n",
       "    <tr>\n",
       "      <th>0</th>\n",
       "      <td>LogisticRegression</td>\n",
       "      <td>0.960000</td>\n",
       "      <td>No</td>\n",
       "    </tr>\n",
       "    <tr>\n",
       "      <th>1</th>\n",
       "      <td>RandomForestClassifier</td>\n",
       "      <td>0.968667</td>\n",
       "      <td>No</td>\n",
       "    </tr>\n",
       "    <tr>\n",
       "      <th>2</th>\n",
       "      <td>AdaBoostClassifier</td>\n",
       "      <td>0.952667</td>\n",
       "      <td>No</td>\n",
       "    </tr>\n",
       "    <tr>\n",
       "      <th>3</th>\n",
       "      <td>LGBMClassifier</td>\n",
       "      <td>0.976667</td>\n",
       "      <td>No</td>\n",
       "    </tr>\n",
       "    <tr>\n",
       "      <th>4</th>\n",
       "      <td>XGBClassifier</td>\n",
       "      <td>0.973333</td>\n",
       "      <td>No</td>\n",
       "    </tr>\n",
       "    <tr>\n",
       "      <th>0</th>\n",
       "      <td>LogisticRegression</td>\n",
       "      <td>0.960667</td>\n",
       "      <td>Yes</td>\n",
       "    </tr>\n",
       "    <tr>\n",
       "      <th>1</th>\n",
       "      <td>RandomForestClassifier</td>\n",
       "      <td>0.969333</td>\n",
       "      <td>Yes</td>\n",
       "    </tr>\n",
       "    <tr>\n",
       "      <th>2</th>\n",
       "      <td>AdaBoostClassifier</td>\n",
       "      <td>0.952667</td>\n",
       "      <td>Yes</td>\n",
       "    </tr>\n",
       "    <tr>\n",
       "      <th>3</th>\n",
       "      <td>LGBMClassifier</td>\n",
       "      <td>0.976667</td>\n",
       "      <td>Yes</td>\n",
       "    </tr>\n",
       "    <tr>\n",
       "      <th>4</th>\n",
       "      <td>XGBClassifier</td>\n",
       "      <td>0.973333</td>\n",
       "      <td>Yes</td>\n",
       "    </tr>\n",
       "  </tbody>\n",
       "</table>\n",
       "</div>"
      ],
      "text/plain": [
       "               Classifier  BA score Corr\n",
       "0      LogisticRegression  0.960000   No\n",
       "1  RandomForestClassifier  0.968667   No\n",
       "2      AdaBoostClassifier  0.952667   No\n",
       "3          LGBMClassifier  0.976667   No\n",
       "4           XGBClassifier  0.973333   No\n",
       "0      LogisticRegression  0.960667  Yes\n",
       "1  RandomForestClassifier  0.969333  Yes\n",
       "2      AdaBoostClassifier  0.952667  Yes\n",
       "3          LGBMClassifier  0.976667  Yes\n",
       "4           XGBClassifier  0.973333  Yes"
      ]
     },
     "execution_count": 17,
     "metadata": {},
     "output_type": "execute_result"
    }
   ],
   "source": [
    "res_mcfs_all=pd.concat([res_mcfs_no_corr,res_boruta_yes_corr])\n",
    "res_mcfs_all"
   ]
  },
  {
   "cell_type": "code",
   "execution_count": 18,
   "id": "4b53372f",
   "metadata": {},
   "outputs": [],
   "source": [
    "res_mcfs_all.replace(to_replace=['LogisticRegression','RandomForestClassifier','AdaBoostClassifier','LGBMClassifier','XGBClassifier'],value=['Logistic Regression','Random Forest','AdaBoost','LightGBM','XGBoost'],inplace=True)"
   ]
  },
  {
   "cell_type": "code",
   "execution_count": 22,
   "id": "fd3337e3",
   "metadata": {},
   "outputs": [
    {
     "data": {
      "image/png": "[encoded data removed]",
      "text/plain": [
       "<Figure size 1152x648 with 1 Axes>"
      ]
     },
     "metadata": {
      "needs_background": "light"
     },
     "output_type": "display_data"
    }
   ],
   "source": [
    "bars = sns.barplot(x='Classifier', y='BA score', hue='Corr', data=res_mcfs_all)\n",
    "for bar in bars.patches:\n",
    "    bars.annotate(format(bar.get_height(), '.3f'),\n",
    "                   (bar.get_x() + bar.get_width() / 2,\n",
    "                    bar.get_height()-0.1), ha='center', va='center', xytext=(0, 8), rotation=90,\n",
    "                   textcoords='offset points')\n",
    "plt.ylim(0, 1)\n",
    "plt.legend(loc=4, title='Collinear features removed')\n",
    "plt.xlabel('Classifier')\n",
    "plt.ylabel('Balanced Accuracy')\n",
    "#plt.title('Digits\\nClassifiers performance after Monte Carlo feature selection')\n",
    "plt.xticks(rotation=45)\n",
    "plt.show()"
   ]
  }
 ],
 "metadata": {
  "kernelspec": {
   "display_name": "Python 3",
   "language": "python",
   "name": "python3"
  },
  "language_info": {
   "codemirror_mode": {
    "name": "ipython",
    "version": 3
   },
   "file_extension": ".py",
   "mimetype": "text/x-python",
   "name": "python",
   "nbconvert_exporter": "python",
   "pygments_lexer": "ipython3",
   "version": "3.8.8"
  }
 },
 "nbformat": 4,
 "nbformat_minor": 5
}
