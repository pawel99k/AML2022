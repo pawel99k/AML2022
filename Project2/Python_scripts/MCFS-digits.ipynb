{
 "cells": [
  {
   "cell_type": "code",
   "execution_count": null,
   "id": "c4006f52",
   "metadata": {},
   "outputs": [],
   "source": [
    "%load_ext autoreload\n",
    "%autoreload 2\n",
    "import eval_models\n",
    "import pandas as pd\n",
    "import numpy as np\n",
    "from boruta import BorutaPy\n",
    "from sklearn.model_selection import train_test_split, KFold\n",
    "from sklearn.ensemble import RandomForestClassifier\n",
    "import matplotlib.pyplot as plt\n",
    "import seaborn as sns\n",
    "from tqdm import tqdm"
   ]
  },
  {
   "cell_type": "markdown",
   "id": "de0297ea",
   "metadata": {},
   "source": [
    "### Lets try out mcfs on digits and its results\n",
    "Note: the output is from R so we will have to transform it a little bit (remove \"v\" from each string and subtract one from each column number) najszybciej jest to zrobić samemu w Excelu"
   ]
  },
  {
   "cell_type": "code",
   "execution_count": 1,
   "id": "e8e6fe59",
   "metadata": {},
   "outputs": [],
   "source": [
    "#X_dig_train,X_dig_test,y_dig_train,y_dig_test trzeba zdefiniować"
   ]
  },
  {
   "cell_type": "code",
   "execution_count": null,
   "id": "b0b0823e",
   "metadata": {},
   "outputs": [],
   "source": [
    "x_times_mcfs=5\n",
    "mcfs_all_results=pd.read_csv('../data/mcfs/digits-features.csv',header=None,sep=\"\\n\")\n",
    "mcfs_all_results=mcfs_all_results.iloc[:,0].str.split(',', expand=True)\n",
    "mcfs_to_array=np.array(list(filter(None, np.array(mcfs_all_results).flatten()))).astype(np.int64)-1\n",
    "unique, counts=np.unique(mcfs_to_array,return_counts=True)\n",
    "columns_mcfs= unique[counts>=x_times_mcfs*0.95]"
   ]
  },
  {
   "cell_type": "code",
   "execution_count": null,
   "id": "68ebde79",
   "metadata": {},
   "outputs": [],
   "source": [
    "#nie wiem czemu, ale iloc nie chciał działać\n",
    "X_dig_train_mcfs_multiple=X_dig_train.loc[:,list(columns_mcfs)]\n",
    "X_dig_train_mcfs_multiple.head()"
   ]
  },
  {
   "cell_type": "code",
   "execution_count": null,
   "id": "265aed98",
   "metadata": {},
   "outputs": [],
   "source": [
    "eval_models.get_models_ba(X_dig_train_mcfs_multiple,\n",
    "                              X_dig_test,\n",
    "                              y_dig_train,\n",
    "                              y_dig_test,\n",
    "                          n_estimators=250\n",
    "                             )"
   ]
  },
  {
   "cell_type": "code",
   "execution_count": null,
   "id": "9c2fb631",
   "metadata": {},
   "outputs": [],
   "source": [
    "X_dig_train_scaled,X_dig_test_scaled=eval_models.standarize(X_dig_train,X_dig_test)\n",
    "X_dig_train_scaled_mcfs_multiple=X_dig_train_scaled.loc[:,columns_mcfs]\n",
    "#X_dig_train_scaled_mcfs_multiple_vif=eval_models.delete_multicollinear(X_dig_train_scaled_boruta_multiple)"
   ]
  },
  {
   "cell_type": "code",
   "execution_count": null,
   "id": "69d72d5b",
   "metadata": {},
   "outputs": [],
   "source": [
    "%%time \n",
    "X_dig_train_scaled_mcfs_multiple_vif=eval_models.delete_multicollinear(X_dig_train_scaled_mcfs_multiple)"
   ]
  },
  {
   "cell_type": "code",
   "execution_count": null,
   "id": "744eea76",
   "metadata": {},
   "outputs": [],
   "source": [
    "eval_models.get_models_ba(X_dig_train_scaled_mcfs_multiple_vif,\n",
    "                              X_dig_test_scaled,\n",
    "                              y_dig_train,\n",
    "                              y_dig_test,\n",
    "                          n_estimators=250)"
   ]
  }
 ],
 "metadata": {
  "kernelspec": {
   "display_name": "Python 3",
   "language": "python",
   "name": "python3"
  },
  "language_info": {
   "codemirror_mode": {
    "name": "ipython",
    "version": 3
   },
   "file_extension": ".py",
   "mimetype": "text/x-python",
   "name": "python",
   "nbconvert_exporter": "python",
   "pygments_lexer": "ipython3",
   "version": "3.8.8"
  }
 },
 "nbformat": 4,
 "nbformat_minor": 5
}
