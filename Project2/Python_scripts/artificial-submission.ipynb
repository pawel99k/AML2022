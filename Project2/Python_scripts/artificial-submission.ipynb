{
 "cells": [
  {
   "cell_type": "code",
   "execution_count": 1,
   "id": "fa141b09",
   "metadata": {},
   "outputs": [],
   "source": [
    "%load_ext autoreload\n",
    "%autoreload 2\n",
    "import eval_models\n",
    "import pandas as pd\n",
    "import numpy as np\n",
    "from sklearn.ensemble import RandomForestClassifier\n",
    "from sklearn.metrics import balanced_accuracy_score"
   ]
  },
  {
   "cell_type": "markdown",
   "id": "43e016d5",
   "metadata": {},
   "source": [
    "Wzięte z notebooka Boruta-artificial"
   ]
  },
  {
   "cell_type": "code",
   "execution_count": 2,
   "id": "0dea469c",
   "metadata": {},
   "outputs": [],
   "source": [
    "selected_features=np.array([64,281,378,451,453])"
   ]
  },
  {
   "cell_type": "markdown",
   "id": "7fcbe265",
   "metadata": {},
   "source": [
    "## 1. Verification if selected subset is correct\n",
    "(checking if results will be similat to the ones as on the plots)"
   ]
  },
  {
   "cell_type": "code",
   "execution_count": 3,
   "id": "36beda40",
   "metadata": {},
   "outputs": [],
   "source": [
    "X_art_train,X_art_test,y_art_train,y_art_test=eval_models.get_train_test(\"artificial\")"
   ]
  },
  {
   "cell_type": "code",
   "execution_count": 4,
   "id": "f3a57609",
   "metadata": {},
   "outputs": [],
   "source": [
    "X_art_train=X_art_train.iloc[:,selected_features]\n",
    "X_art_test=X_art_test.iloc[:,selected_features]\n",
    "X_art_train_st,X_art_test_st=eval_models.standarize(X_train=X_art_train,X_test=X_art_test)"
   ]
  },
  {
   "cell_type": "code",
   "execution_count": 5,
   "id": "794a8ea8",
   "metadata": {},
   "outputs": [
    {
     "data": {
      "text/plain": [
       "0.878"
      ]
     },
     "execution_count": 5,
     "metadata": {},
     "output_type": "execute_result"
    }
   ],
   "source": [
    "rf_clasif=RandomForestClassifier()\n",
    "rf_clasif.fit(X_art_train_st, y_art_train)\n",
    "balanced_accuracy_score(y_true=y_art_test,y_pred=rf_clasif.predict(X_art_test_st))"
   ]
  },
  {
   "cell_type": "markdown",
   "id": "69b8eb27",
   "metadata": {},
   "source": [
    "## 2. Training classifier on whole dataset"
   ]
  },
  {
   "cell_type": "code",
   "execution_count": 6,
   "id": "1d317e42",
   "metadata": {},
   "outputs": [],
   "source": [
    "X_artificial, y_artificial, X_digits, y_digits=eval_models.get_data()"
   ]
  },
  {
   "cell_type": "code",
   "execution_count": 7,
   "id": "fb56cfa0",
   "metadata": {},
   "outputs": [],
   "source": [
    "X_art_validation=pd.read_csv(\"../data/artificial/artificial_valid.data\", header=None, delim_whitespace=True)"
   ]
  },
  {
   "cell_type": "code",
   "execution_count": 8,
   "id": "342287a5",
   "metadata": {},
   "outputs": [],
   "source": [
    "X_artificial=X_artificial.iloc[:,selected_features]\n",
    "X_art_validation=X_art_validation.iloc[:,selected_features]\n",
    "X_artificial,X_art_validation=eval_models.standarize(X_train=X_artificial,X_test=X_art_validation)"
   ]
  },
  {
   "cell_type": "code",
   "execution_count": 9,
   "id": "0de8ee9c",
   "metadata": {},
   "outputs": [],
   "source": [
    "rf_clasif=RandomForestClassifier()\n",
    "rf_clasif.fit(X_artificial, y_artificial)\n",
    "predictions=rf_clasif.predict_proba(X_art_validation)"
   ]
  },
  {
   "cell_type": "code",
   "execution_count": 10,
   "id": "ca9269d0",
   "metadata": {},
   "outputs": [],
   "source": [
    "np.savetxt(fname=\"../data/artificial/SZYHRY_artificial_prediction.txt\",X=predictions[:,0],fmt='%f')"
   ]
  },
  {
   "cell_type": "markdown",
   "id": "b1802033",
   "metadata": {},
   "source": [
    "**UWAGA TRZEBA PAMIĘTAĆ O DODANIU 1 DO TYCH NUMERÓW BO MA BYĆ TO NUMERACJA \"R-owa\"**"
   ]
  },
  {
   "cell_type": "code",
   "execution_count": 11,
   "id": "c3bd35f9",
   "metadata": {},
   "outputs": [],
   "source": [
    "np.savetxt(fname=\"../data/artificial/SZYHRY_artificial_features.txt\",X=selected_features+1,fmt='%i')"
   ]
  },
  {
   "cell_type": "markdown",
   "id": "147bc8dd",
   "metadata": {},
   "source": [
    "**Należy jeszcze dodać jedną linijkę \"SZYHRY\" na samej górze**"
   ]
  }
 ],
 "metadata": {
  "kernelspec": {
   "display_name": "Python 3",
   "language": "python",
   "name": "python3"
  },
  "language_info": {
   "codemirror_mode": {
    "name": "ipython",
    "version": 3
   },
   "file_extension": ".py",
   "mimetype": "text/x-python",
   "name": "python",
   "nbconvert_exporter": "python",
   "pygments_lexer": "ipython3",
   "version": "3.8.8"
  }
 },
 "nbformat": 4,
 "nbformat_minor": 5
}
