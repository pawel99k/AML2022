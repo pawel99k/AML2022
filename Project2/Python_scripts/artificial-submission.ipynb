{
 "cells": [
  {
   "cell_type": "code",
   "execution_count": null,
   "id": "9b4601e4",
   "metadata": {},
   "outputs": [],
   "source": [
    "%load_ext autoreload\n",
    "%autoreload 2\n",
    "import eval_models\n",
    "import pandas as pd\n",
    "import numpy as np\n",
    "from sklearn.ensemble import RandomForestClassifier\n",
    "from sklearn.metrics import balanced_accuracy_score"
   ]
  },
  {
   "cell_type": "markdown",
   "id": "92de2e33",
   "metadata": {},
   "source": [
    "Wzięte z notebooka Boruta-artificial"
   ]
  },
  {
   "cell_type": "code",
   "execution_count": null,
   "id": "17c37970",
   "metadata": {},
   "outputs": [],
   "source": [
    "selected_features=np.array([64,281,378,451,453])"
   ]
  },
  {
   "cell_type": "markdown",
   "id": "06ca83a9",
   "metadata": {},
   "source": [
    "## 1. Verification if selected subset is correct\n",
    "(checking if results will be similat to the ones as on the plots)"
   ]
  },
  {
   "cell_type": "code",
   "execution_count": null,
   "id": "33511e3d",
   "metadata": {},
   "outputs": [],
   "source": [
    "X_art_train,X_art_test,y_art_train,y_art_test=eval_models.get_train_test(\"artificial\")"
   ]
  },
  {
   "cell_type": "code",
   "execution_count": null,
   "id": "aa8818b7",
   "metadata": {},
   "outputs": [],
   "source": [
    "X_art_train=X_art_train.iloc[:,selected_features]\n",
    "X_art_test=X_art_test.iloc[:,selected_features]\n",
    "X_art_train_st,X_art_test_st=eval_models.standarize(X_train=X_art_train,X_test=X_art_test)"
   ]
  },
  {
   "cell_type": "code",
   "execution_count": null,
   "id": "1788349b",
   "metadata": {},
   "outputs": [],
   "source": [
    "rf_clasif=RandomForestClassifier()\n",
    "rf_clasif.fit(X_art_train_st, y_art_train)\n",
    "balanced_accuracy_score(y_true=y_art_test,y_pred=rf_clasif.predict(X_art_test_st))"
   ]
  },
  {
   "cell_type": "markdown",
   "id": "f66251ce",
   "metadata": {},
   "source": [
    "## 2. Training classifier on whole dataset"
   ]
  },
  {
   "cell_type": "code",
   "execution_count": null,
   "id": "2d138b6b",
   "metadata": {},
   "outputs": [],
   "source": [
    "X_artificial, y_artificial, X_digits, y_digits=eval_models.get_data()"
   ]
  },
  {
   "cell_type": "code",
   "execution_count": null,
   "id": "a40b66d4",
   "metadata": {},
   "outputs": [],
   "source": [
    "X_art_validation=pd.read_csv(\"../data/artificial/artificial_valid.data\", header=None, delim_whitespace=True)"
   ]
  },
  {
   "cell_type": "code",
   "execution_count": null,
   "id": "d8256b9e",
   "metadata": {},
   "outputs": [],
   "source": [
    "X_artificial=X_artificial.iloc[:,selected_features]\n",
    "X_art_validation=X_art_validation.iloc[:,selected_features]\n",
    "X_artificial,X_art_validation=eval_models.standarize(X_train=X_artificial,X_test=X_art_validation)"
   ]
  },
  {
   "cell_type": "code",
   "execution_count": null,
   "id": "32d75f32",
   "metadata": {},
   "outputs": [],
   "source": [
    "rf_clasif=RandomForestClassifier()\n",
    "rf_clasif.fit(X_artificial, y_artificial)\n",
    "predictions=rf_clasif.predict_proba(X_art_validation)"
   ]
  },
  {
   "cell_type": "code",
   "execution_count": null,
   "id": "a9d7496f",
   "metadata": {},
   "outputs": [],
   "source": [
    "np.savetxt(fname=\"../data/submission/SZYHRY_artificial_prediction.txt\",X=predictions[:,0],fmt='%f')"
   ]
  },
  {
   "cell_type": "markdown",
   "id": "6c4c0f94",
   "metadata": {},
   "source": [
    "**UWAGA TRZEBA PAMIĘTAĆ O DODANIU 1 DO TYCH NUMERÓW BO MA BYĆ TO NUMERACJA \"R-owa\"**"
   ]
  },
  {
   "cell_type": "code",
   "execution_count": null,
   "id": "c51356fc",
   "metadata": {},
   "outputs": [],
   "source": [
    "np.savetxt(fname=\"../data/submission/SZYHRY_artificial_features.txt\",X=selected_features+1,fmt='%i')"
   ]
  },
  {
   "cell_type": "markdown",
   "id": "df42088f",
   "metadata": {},
   "source": [
    "**Należy jeszcze dodać jedną linijkę \"SZYHRY\" na samej górze**"
   ]
  }
 ],
 "metadata": {
  "kernelspec": {
   "display_name": "Python 3",
   "language": "python",
   "name": "python3"
  },
  "language_info": {
   "codemirror_mode": {
    "name": "ipython",
    "version": 3
   },
   "file_extension": ".py",
   "mimetype": "text/x-python",
   "name": "python",
   "nbconvert_exporter": "python",
   "pygments_lexer": "ipython3",
   "version": "3.8.8"
  }
 },
 "nbformat": 4,
 "nbformat_minor": 5
}
