{
 "cells": [
  {
   "cell_type": "code",
   "execution_count": 3,
   "id": "ca717284",
   "metadata": {},
   "outputs": [],
   "source": [
    "import numpy as np\n",
    "import pandas as pd\n",
    "from sklearn.feature_selection import VarianceThreshold\n",
    "from sklearn.preprocessing import StandardScaler\n",
    "from sklearn.pipeline import Pipeline\n",
    "from sklearn.model_selection import train_test_split, cross_val_score\n",
    "from sklearn.linear_model import LogisticRegression\n",
    "from sklearn.ensemble import RandomForestClassifier, AdaBoostClassifier\n",
    "from xgboost import XGBClassifier\n",
    "from sklearn.model_selection import cross_val_score\n",
    "import xgboost\n",
    "import lightgbm\n",
    "from sklearn.metrics import balanced_accuracy_score as b_a_c\n",
    "import eval_models"
   ]
  },
  {
   "cell_type": "code",
   "execution_count": 14,
   "id": "bb665df5",
   "metadata": {},
   "outputs": [],
   "source": [
    "X_dig_train,X_dig_test,y_dig_train,y_dig_test=eval_models.get_train_test(\"digits\")"
   ]
  },
  {
   "cell_type": "code",
   "execution_count": 15,
   "id": "e37e8f15",
   "metadata": {},
   "outputs": [],
   "source": [
    "X_dig_train_sc,X_dig_test_sc=eval_models.standarize(X_dig_train,X_dig_test)"
   ]
  },
  {
   "cell_type": "code",
   "execution_count": 6,
   "id": "f7cef4b1",
   "metadata": {},
   "outputs": [
    {
     "data": {
      "text/plain": [
       "(0.9726666666666667, 172)"
      ]
     },
     "execution_count": 6,
     "metadata": {},
     "output_type": "execute_result"
    }
   ],
   "source": [
    "adaboost_model=AdaBoostClassifier(n_estimators=200)\n",
    "adaboost_model.fit(X_dig_train_sc,y_dig_train)\n",
    "b_a_c(y_dig_test,adaboost_model.predict(X_dig_test_sc)),sum(adaboost_model.feature_importances_>0)"
   ]
  },
  {
   "cell_type": "code",
   "execution_count": 19,
   "id": "efff002a",
   "metadata": {},
   "outputs": [],
   "source": [
    "adaboost_columns=np.where(adaboost_model.feature_importances_>0)[0]"
   ]
  },
  {
   "cell_type": "code",
   "execution_count": 20,
   "id": "ca031bc7",
   "metadata": {
    "scrolled": true
   },
   "outputs": [],
   "source": [
    "X_dig_train_sc_adaboost=X_dig_train_sc.iloc[:,adaboost_columns]"
   ]
  },
  {
   "cell_type": "code",
   "execution_count": 22,
   "id": "d6221748",
   "metadata": {},
   "outputs": [],
   "source": [
    "X_dig_train_sc_adaboost_corr=eval_models.delete_corr(X_dig_train_sc_adaboost)"
   ]
  },
  {
   "cell_type": "code",
   "execution_count": 23,
   "id": "7510f8df",
   "metadata": {
    "scrolled": false
   },
   "outputs": [
    {
     "name": "stdout",
     "output_type": "stream",
     "text": [
      "LogisticRegression 0.9733\n",
      "RandomForestClassifier 0.9713\n",
      "AdaBoostClassifier 0.968\n",
      "LGBMClassifier 0.9773\n",
      "XGBClassifier 0.972\n",
      "171  features in the dataset\n"
     ]
    },
    {
     "data": {
      "text/html": [
       "<div>\n",
       "<style scoped>\n",
       "    .dataframe tbody tr th:only-of-type {\n",
       "        vertical-align: middle;\n",
       "    }\n",
       "\n",
       "    .dataframe tbody tr th {\n",
       "        vertical-align: top;\n",
       "    }\n",
       "\n",
       "    .dataframe thead th {\n",
       "        text-align: right;\n",
       "    }\n",
       "</style>\n",
       "<table border=\"1\" class=\"dataframe\">\n",
       "  <thead>\n",
       "    <tr style=\"text-align: right;\">\n",
       "      <th></th>\n",
       "      <th>Classifier</th>\n",
       "      <th>BA score</th>\n",
       "    </tr>\n",
       "  </thead>\n",
       "  <tbody>\n",
       "    <tr>\n",
       "      <th>0</th>\n",
       "      <td>LogisticRegression</td>\n",
       "      <td>0.973333</td>\n",
       "    </tr>\n",
       "    <tr>\n",
       "      <th>1</th>\n",
       "      <td>RandomForestClassifier</td>\n",
       "      <td>0.971333</td>\n",
       "    </tr>\n",
       "    <tr>\n",
       "      <th>2</th>\n",
       "      <td>AdaBoostClassifier</td>\n",
       "      <td>0.968000</td>\n",
       "    </tr>\n",
       "    <tr>\n",
       "      <th>3</th>\n",
       "      <td>LGBMClassifier</td>\n",
       "      <td>0.977333</td>\n",
       "    </tr>\n",
       "    <tr>\n",
       "      <th>4</th>\n",
       "      <td>XGBClassifier</td>\n",
       "      <td>0.972000</td>\n",
       "    </tr>\n",
       "  </tbody>\n",
       "</table>\n",
       "</div>"
      ],
      "text/plain": [
       "               Classifier  BA score\n",
       "0      LogisticRegression  0.973333\n",
       "1  RandomForestClassifier  0.971333\n",
       "2      AdaBoostClassifier  0.968000\n",
       "3          LGBMClassifier  0.977333\n",
       "4           XGBClassifier  0.972000"
      ]
     },
     "execution_count": 23,
     "metadata": {},
     "output_type": "execute_result"
    }
   ],
   "source": [
    "eval_models.get_models_ba(X_train=X_dig_train_sc_adaboost_corr,X_test=X_dig_test_sc,y_train=y_dig_train,y_test=y_dig_test,n_estimators=250,max_iter=1000)"
   ]
  },
  {
   "cell_type": "code",
   "execution_count": 24,
   "id": "0e9819b0",
   "metadata": {
    "scrolled": false
   },
   "outputs": [
    {
     "name": "stdout",
     "output_type": "stream",
     "text": [
      "0.954 49\n",
      "LogisticRegression 0.9613\n",
      "RandomForestClassifier 0.964\n",
      "AdaBoostClassifier 0.9593\n",
      "LGBMClassifier 0.9687\n",
      "XGBClassifier 0.9673\n",
      "49  features in the dataset\n",
      "0.9606666666666667 95\n",
      "LogisticRegression 0.966\n",
      "RandomForestClassifier 0.9673\n",
      "AdaBoostClassifier 0.9667\n",
      "LGBMClassifier 0.974\n",
      "XGBClassifier 0.9733\n",
      "95  features in the dataset\n",
      "0.9693333333333334 138\n",
      "LogisticRegression 0.9693\n",
      "RandomForestClassifier 0.9673\n",
      "AdaBoostClassifier 0.97\n",
      "LGBMClassifier 0.976\n",
      "XGBClassifier 0.9713\n",
      "137  features in the dataset\n",
      "0.9726666666666667 172\n",
      "LogisticRegression 0.9733\n",
      "RandomForestClassifier 0.9687\n",
      "AdaBoostClassifier 0.968\n",
      "LGBMClassifier 0.9773\n",
      "XGBClassifier 0.972\n",
      "171  features in the dataset\n",
      "0.9666666666666667 201\n",
      "LogisticRegression 0.9707\n",
      "RandomForestClassifier 0.9753\n",
      "AdaBoostClassifier 0.9667\n",
      "LGBMClassifier 0.976\n",
      "XGBClassifier 0.974\n",
      "201  features in the dataset\n"
     ]
    }
   ],
   "source": [
    "test_adaboost=[50,100,150,200,250]\n",
    "for n_estim_ada in test_adaboost:\n",
    "    adaboost_model=AdaBoostClassifier(n_estimators=n_estim_ada)\n",
    "    adaboost_model.fit(X_dig_train_sc,y_dig_train)\n",
    "    adaboost_columns=np.where(adaboost_model.feature_importances_>0)[0]\n",
    "    X_dig_train_sc_adaboost=X_dig_train_sc.iloc[:,adaboost_columns]\n",
    "    X_dig_train_sc_adaboost_corr=eval_models.delete_corr(X_dig_train_sc_adaboost)\n",
    "    eval_models.get_models_ba(X_train=X_dig_train_sc_adaboost_corr,X_test=X_dig_test_sc,y_train=y_dig_train,y_test=y_dig_test,n_estimators=250,max_iter=1000)"
   ]
  },
  {
   "cell_type": "code",
   "execution_count": 25,
   "id": "c8516bc6",
   "metadata": {
    "scrolled": false
   },
   "outputs": [
    {
     "name": "stdout",
     "output_type": "stream",
     "text": [
      "LogisticRegression 0.9713\n",
      "RandomForestClassifier 0.9667\n",
      "AdaBoostClassifier 0.9647\n",
      "LGBMClassifier 0.9787\n",
      "XGBClassifier 0.9767\n",
      "3263  features in the dataset\n",
      "LogisticRegression 0.9747\n",
      "RandomForestClassifier 0.97\n",
      "AdaBoostClassifier 0.9687\n",
      "LGBMClassifier 0.9793\n",
      "XGBClassifier 0.9767\n",
      "3831  features in the dataset\n",
      "LogisticRegression 0.974\n",
      "RandomForestClassifier 0.9687\n",
      "AdaBoostClassifier 0.9667\n",
      "LGBMClassifier 0.978\n",
      "XGBClassifier 0.978\n",
      "4061  features in the dataset\n",
      "LogisticRegression 0.9733\n",
      "RandomForestClassifier 0.9707\n",
      "AdaBoostClassifier 0.9667\n",
      "LGBMClassifier 0.9773\n",
      "XGBClassifier 0.9753\n",
      "4178  features in the dataset\n",
      "LogisticRegression 0.974\n",
      "RandomForestClassifier 0.9727\n",
      "AdaBoostClassifier 0.9667\n",
      "LGBMClassifier 0.9793\n",
      "XGBClassifier 0.9753\n",
      "4247  features in the dataset\n"
     ]
    }
   ],
   "source": [
    "test_randomforest=[50,100,150,200,250]\n",
    "for n_estim_rf in test_adaboost:\n",
    "    rf_model=RandomForestClassifier(n_estimators=n_estim_rf)\n",
    "    rf_model.fit(X_dig_train_sc,y_dig_train)\n",
    "    rf_columns=np.where(rf_model.feature_importances_>0)[0]\n",
    "    X_dig_train_sc_rf=X_dig_train_sc.iloc[:,rf_columns]\n",
    "    X_dig_train_sc_rf_corr=eval_models.delete_corr(X_dig_train_sc_rf)\n",
    "    eval_models.get_models_ba(X_train=X_dig_train_sc_rf_corr,X_test=X_dig_test_sc,y_train=y_dig_train,y_test=y_dig_test,n_estimators=250,max_iter=1000)"
   ]
  },
  {
   "cell_type": "markdown",
   "id": "379ff1df",
   "metadata": {},
   "source": [
    "#### Random Forest dał tragiczne wyniki ale AdaBoost daje całkiem fajne wyniki, trzeba by potestować to, nwm może to samo tylko wewnątrz jakiejś cross-validacji?"
   ]
  }
 ],
 "metadata": {
  "kernelspec": {
   "display_name": "Python 3",
   "language": "python",
   "name": "python3"
  },
  "language_info": {
   "codemirror_mode": {
    "name": "ipython",
    "version": 3
   },
   "file_extension": ".py",
   "mimetype": "text/x-python",
   "name": "python",
   "nbconvert_exporter": "python",
   "pygments_lexer": "ipython3",
   "version": "3.8.8"
  }
 },
 "nbformat": 4,
 "nbformat_minor": 5
}
