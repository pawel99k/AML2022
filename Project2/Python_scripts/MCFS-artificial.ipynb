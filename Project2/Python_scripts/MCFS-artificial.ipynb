{
 "cells": [
  {
   "cell_type": "code",
   "execution_count": 1,
   "id": "c4006f52",
   "metadata": {},
   "outputs": [],
   "source": [
    "%load_ext autoreload\n",
    "%autoreload 2\n",
    "import eval_models\n",
    "import pandas as pd\n",
    "import numpy as np\n",
    "from boruta import BorutaPy\n",
    "from sklearn.model_selection import train_test_split, KFold\n",
    "from sklearn.ensemble import RandomForestClassifier\n",
    "import matplotlib.pyplot as plt\n",
    "import seaborn as sns\n",
    "from tqdm import tqdm\n",
    "plt.rcParams['figure.figsize'] = (16,9)\n",
    "plt.rcParams['font.size'] = 25"
   ]
  },
  {
   "cell_type": "markdown",
   "id": "de0297ea",
   "metadata": {},
   "source": [
    "### Lets try out mcfs on artificial and its results\n",
    "Note: the output is from R so we will have to transform it a little bit. The easiest is to open file in excel and delete ,class, at the end of each row"
   ]
  },
  {
   "cell_type": "code",
   "execution_count": 2,
   "id": "e8e6fe59",
   "metadata": {},
   "outputs": [],
   "source": [
    "X_art_train,X_art_test,y_art_train,y_art_test=eval_models.get_train_test(\"artificial\")"
   ]
  },
  {
   "cell_type": "code",
   "execution_count": 3,
   "id": "b0b0823e",
   "metadata": {},
   "outputs": [],
   "source": [
    "x_times_mcfs=5\n",
    "mcfs_all_results=pd.read_csv('../data/mcfs/artificial-features.csv',header=None,sep=\"\\n\")\n",
    "mcfs_all_results=mcfs_all_results.iloc[:,0].str.split(',', expand=True)\n",
    "mcfs_all_array=np.array(list(filter(None,np.array(mcfs_all_results).flatten()))).astype(np.int64)"
   ]
  },
  {
   "cell_type": "code",
   "execution_count": 4,
   "id": "96a377da",
   "metadata": {},
   "outputs": [],
   "source": [
    "unique, counts=np.unique(mcfs_all_array,return_counts=True)\n",
    "columns_mcfs= unique[counts>=x_times_mcfs*0.95]"
   ]
  },
  {
   "cell_type": "code",
   "execution_count": 5,
   "id": "68ebde79",
   "metadata": {},
   "outputs": [
    {
     "data": {
      "text/html": [
       "<div>\n",
       "<style scoped>\n",
       "    .dataframe tbody tr th:only-of-type {\n",
       "        vertical-align: middle;\n",
       "    }\n",
       "\n",
       "    .dataframe tbody tr th {\n",
       "        vertical-align: top;\n",
       "    }\n",
       "\n",
       "    .dataframe thead th {\n",
       "        text-align: right;\n",
       "    }\n",
       "</style>\n",
       "<table border=\"1\" class=\"dataframe\">\n",
       "  <thead>\n",
       "    <tr style=\"text-align: right;\">\n",
       "      <th></th>\n",
       "      <th>64</th>\n",
       "      <th>105</th>\n",
       "      <th>128</th>\n",
       "      <th>241</th>\n",
       "      <th>281</th>\n",
       "      <th>318</th>\n",
       "      <th>336</th>\n",
       "      <th>338</th>\n",
       "      <th>433</th>\n",
       "      <th>442</th>\n",
       "      <th>451</th>\n",
       "      <th>472</th>\n",
       "      <th>475</th>\n",
       "      <th>493</th>\n",
       "    </tr>\n",
       "  </thead>\n",
       "  <tbody>\n",
       "    <tr>\n",
       "      <th>508</th>\n",
       "      <td>588</td>\n",
       "      <td>484</td>\n",
       "      <td>478</td>\n",
       "      <td>425</td>\n",
       "      <td>487</td>\n",
       "      <td>443</td>\n",
       "      <td>602</td>\n",
       "      <td>573</td>\n",
       "      <td>509</td>\n",
       "      <td>613</td>\n",
       "      <td>469</td>\n",
       "      <td>533</td>\n",
       "      <td>377</td>\n",
       "      <td>636</td>\n",
       "    </tr>\n",
       "    <tr>\n",
       "      <th>242</th>\n",
       "      <td>468</td>\n",
       "      <td>554</td>\n",
       "      <td>484</td>\n",
       "      <td>534</td>\n",
       "      <td>563</td>\n",
       "      <td>530</td>\n",
       "      <td>451</td>\n",
       "      <td>343</td>\n",
       "      <td>625</td>\n",
       "      <td>377</td>\n",
       "      <td>488</td>\n",
       "      <td>415</td>\n",
       "      <td>529</td>\n",
       "      <td>546</td>\n",
       "    </tr>\n",
       "    <tr>\n",
       "      <th>1024</th>\n",
       "      <td>301</td>\n",
       "      <td>755</td>\n",
       "      <td>500</td>\n",
       "      <td>578</td>\n",
       "      <td>448</td>\n",
       "      <td>529</td>\n",
       "      <td>278</td>\n",
       "      <td>389</td>\n",
       "      <td>451</td>\n",
       "      <td>440</td>\n",
       "      <td>485</td>\n",
       "      <td>458</td>\n",
       "      <td>612</td>\n",
       "      <td>464</td>\n",
       "    </tr>\n",
       "    <tr>\n",
       "      <th>782</th>\n",
       "      <td>367</td>\n",
       "      <td>612</td>\n",
       "      <td>490</td>\n",
       "      <td>527</td>\n",
       "      <td>452</td>\n",
       "      <td>555</td>\n",
       "      <td>327</td>\n",
       "      <td>441</td>\n",
       "      <td>459</td>\n",
       "      <td>471</td>\n",
       "      <td>491</td>\n",
       "      <td>470</td>\n",
       "      <td>521</td>\n",
       "      <td>473</td>\n",
       "    </tr>\n",
       "    <tr>\n",
       "      <th>677</th>\n",
       "      <td>586</td>\n",
       "      <td>454</td>\n",
       "      <td>475</td>\n",
       "      <td>489</td>\n",
       "      <td>533</td>\n",
       "      <td>482</td>\n",
       "      <td>584</td>\n",
       "      <td>472</td>\n",
       "      <td>576</td>\n",
       "      <td>434</td>\n",
       "      <td>477</td>\n",
       "      <td>447</td>\n",
       "      <td>475</td>\n",
       "      <td>506</td>\n",
       "    </tr>\n",
       "  </tbody>\n",
       "</table>\n",
       "</div>"
      ],
      "text/plain": [
       "      64   105  128  241  281  318  336  338  433  442  451  472  475  493\n",
       "508   588  484  478  425  487  443  602  573  509  613  469  533  377  636\n",
       "242   468  554  484  534  563  530  451  343  625  377  488  415  529  546\n",
       "1024  301  755  500  578  448  529  278  389  451  440  485  458  612  464\n",
       "782   367  612  490  527  452  555  327  441  459  471  491  470  521  473\n",
       "677   586  454  475  489  533  482  584  472  576  434  477  447  475  506"
      ]
     },
     "execution_count": 5,
     "metadata": {},
     "output_type": "execute_result"
    }
   ],
   "source": [
    "#nie wiem czemu, ale iloc nie chciał działać\n",
    "X_art_train_mcfs_multiple=X_art_train.loc[:,list(columns_mcfs)]\n",
    "X_art_train_mcfs_multiple.head()"
   ]
  },
  {
   "cell_type": "code",
   "execution_count": 6,
   "id": "265aed98",
   "metadata": {
    "scrolled": true
   },
   "outputs": [
    {
     "name": "stdout",
     "output_type": "stream",
     "text": [
      "LogisticRegression 0.632\n",
      "RandomForestClassifier 0.848\n",
      "AdaBoostClassifier 0.624\n",
      "LGBMClassifier 0.86\n",
      "XGBClassifier 0.85\n",
      "14  features in the dataset\n"
     ]
    },
    {
     "data": {
      "text/html": [
       "<div>\n",
       "<style scoped>\n",
       "    .dataframe tbody tr th:only-of-type {\n",
       "        vertical-align: middle;\n",
       "    }\n",
       "\n",
       "    .dataframe tbody tr th {\n",
       "        vertical-align: top;\n",
       "    }\n",
       "\n",
       "    .dataframe thead th {\n",
       "        text-align: right;\n",
       "    }\n",
       "</style>\n",
       "<table border=\"1\" class=\"dataframe\">\n",
       "  <thead>\n",
       "    <tr style=\"text-align: right;\">\n",
       "      <th></th>\n",
       "      <th>Classifier</th>\n",
       "      <th>BA score</th>\n",
       "    </tr>\n",
       "  </thead>\n",
       "  <tbody>\n",
       "    <tr>\n",
       "      <th>0</th>\n",
       "      <td>LogisticRegression</td>\n",
       "      <td>0.632</td>\n",
       "    </tr>\n",
       "    <tr>\n",
       "      <th>1</th>\n",
       "      <td>RandomForestClassifier</td>\n",
       "      <td>0.848</td>\n",
       "    </tr>\n",
       "    <tr>\n",
       "      <th>2</th>\n",
       "      <td>AdaBoostClassifier</td>\n",
       "      <td>0.624</td>\n",
       "    </tr>\n",
       "    <tr>\n",
       "      <th>3</th>\n",
       "      <td>LGBMClassifier</td>\n",
       "      <td>0.860</td>\n",
       "    </tr>\n",
       "    <tr>\n",
       "      <th>4</th>\n",
       "      <td>XGBClassifier</td>\n",
       "      <td>0.850</td>\n",
       "    </tr>\n",
       "  </tbody>\n",
       "</table>\n",
       "</div>"
      ],
      "text/plain": [
       "               Classifier  BA score\n",
       "0      LogisticRegression     0.632\n",
       "1  RandomForestClassifier     0.848\n",
       "2      AdaBoostClassifier     0.624\n",
       "3          LGBMClassifier     0.860\n",
       "4           XGBClassifier     0.850"
      ]
     },
     "execution_count": 6,
     "metadata": {},
     "output_type": "execute_result"
    }
   ],
   "source": [
    "eval_models.get_models_ba(X_art_train_mcfs_multiple,\n",
    "                              X_art_test,\n",
    "                              y_art_train,\n",
    "                              y_art_test,\n",
    "                          n_estimators=250\n",
    "                             )"
   ]
  },
  {
   "cell_type": "code",
   "execution_count": 7,
   "id": "9c2fb631",
   "metadata": {},
   "outputs": [],
   "source": [
    "X_art_train_scaled,X_art_test_scaled=eval_models.standarize(X_art_train,X_art_test)\n",
    "X_art_train_scaled_mcfs_multiple=X_art_train_scaled.loc[:,columns_mcfs]"
   ]
  },
  {
   "cell_type": "code",
   "execution_count": 8,
   "id": "620138ae",
   "metadata": {},
   "outputs": [
    {
     "name": "stdout",
     "output_type": "stream",
     "text": [
      "LogisticRegression 0.626\n",
      "RandomForestClassifier 0.856\n",
      "AdaBoostClassifier 0.622\n",
      "LGBMClassifier 0.864\n",
      "XGBClassifier 0.85\n",
      "14  features in the dataset\n"
     ]
    }
   ],
   "source": [
    "res_mcfs_no_vif=eval_models.get_models_ba(X_art_train_scaled_mcfs_multiple,\n",
    "                              X_art_test_scaled,\n",
    "                              y_art_train,\n",
    "                              y_art_test,\n",
    "                          n_estimators=250\n",
    "                             )\n",
    "res_mcfs_no_vif['VIF']='No'"
   ]
  },
  {
   "cell_type": "code",
   "execution_count": 9,
   "id": "69d72d5b",
   "metadata": {
    "scrolled": true
   },
   "outputs": [
    {
     "name": "stdout",
     "output_type": "stream",
     "text": [
      "13\n",
      "12\n",
      "11\n",
      "10\n",
      "9\n",
      "8\n",
      "7\n",
      "6\n",
      "5\n",
      "5 features left\n"
     ]
    }
   ],
   "source": [
    "X_art_train_scaled_mcfs_multiple_vif=eval_models.delete_multicollinear(X_art_train_scaled_mcfs_multiple)"
   ]
  },
  {
   "cell_type": "code",
   "execution_count": 10,
   "id": "744eea76",
   "metadata": {
    "scrolled": true
   },
   "outputs": [
    {
     "name": "stdout",
     "output_type": "stream",
     "text": [
      "LogisticRegression 0.636\n",
      "RandomForestClassifier 0.84\n",
      "AdaBoostClassifier 0.638\n",
      "LGBMClassifier 0.834\n",
      "XGBClassifier 0.826\n",
      "5  features in the dataset\n"
     ]
    }
   ],
   "source": [
    "res_mcfs_yes_vif=eval_models.get_models_ba(X_art_train_scaled_mcfs_multiple_vif,\n",
    "                              X_art_test_scaled,\n",
    "                              y_art_train,\n",
    "                              y_art_test,\n",
    "                          n_estimators=250)\n",
    "res_mcfs_yes_vif['VIF']='Yes'"
   ]
  },
  {
   "cell_type": "code",
   "execution_count": 11,
   "id": "2234ded2",
   "metadata": {},
   "outputs": [
    {
     "data": {
      "text/html": [
       "<div>\n",
       "<style scoped>\n",
       "    .dataframe tbody tr th:only-of-type {\n",
       "        vertical-align: middle;\n",
       "    }\n",
       "\n",
       "    .dataframe tbody tr th {\n",
       "        vertical-align: top;\n",
       "    }\n",
       "\n",
       "    .dataframe thead th {\n",
       "        text-align: right;\n",
       "    }\n",
       "</style>\n",
       "<table border=\"1\" class=\"dataframe\">\n",
       "  <thead>\n",
       "    <tr style=\"text-align: right;\">\n",
       "      <th></th>\n",
       "      <th>Classifier</th>\n",
       "      <th>BA score</th>\n",
       "      <th>VIF</th>\n",
       "    </tr>\n",
       "  </thead>\n",
       "  <tbody>\n",
       "    <tr>\n",
       "      <th>0</th>\n",
       "      <td>LogisticRegression</td>\n",
       "      <td>0.626</td>\n",
       "      <td>No</td>\n",
       "    </tr>\n",
       "    <tr>\n",
       "      <th>1</th>\n",
       "      <td>RandomForestClassifier</td>\n",
       "      <td>0.856</td>\n",
       "      <td>No</td>\n",
       "    </tr>\n",
       "    <tr>\n",
       "      <th>2</th>\n",
       "      <td>AdaBoostClassifier</td>\n",
       "      <td>0.622</td>\n",
       "      <td>No</td>\n",
       "    </tr>\n",
       "    <tr>\n",
       "      <th>3</th>\n",
       "      <td>LGBMClassifier</td>\n",
       "      <td>0.864</td>\n",
       "      <td>No</td>\n",
       "    </tr>\n",
       "    <tr>\n",
       "      <th>4</th>\n",
       "      <td>XGBClassifier</td>\n",
       "      <td>0.850</td>\n",
       "      <td>No</td>\n",
       "    </tr>\n",
       "    <tr>\n",
       "      <th>0</th>\n",
       "      <td>LogisticRegression</td>\n",
       "      <td>0.636</td>\n",
       "      <td>Yes</td>\n",
       "    </tr>\n",
       "    <tr>\n",
       "      <th>1</th>\n",
       "      <td>RandomForestClassifier</td>\n",
       "      <td>0.840</td>\n",
       "      <td>Yes</td>\n",
       "    </tr>\n",
       "    <tr>\n",
       "      <th>2</th>\n",
       "      <td>AdaBoostClassifier</td>\n",
       "      <td>0.638</td>\n",
       "      <td>Yes</td>\n",
       "    </tr>\n",
       "    <tr>\n",
       "      <th>3</th>\n",
       "      <td>LGBMClassifier</td>\n",
       "      <td>0.834</td>\n",
       "      <td>Yes</td>\n",
       "    </tr>\n",
       "    <tr>\n",
       "      <th>4</th>\n",
       "      <td>XGBClassifier</td>\n",
       "      <td>0.826</td>\n",
       "      <td>Yes</td>\n",
       "    </tr>\n",
       "  </tbody>\n",
       "</table>\n",
       "</div>"
      ],
      "text/plain": [
       "               Classifier  BA score  VIF\n",
       "0      LogisticRegression     0.626   No\n",
       "1  RandomForestClassifier     0.856   No\n",
       "2      AdaBoostClassifier     0.622   No\n",
       "3          LGBMClassifier     0.864   No\n",
       "4           XGBClassifier     0.850   No\n",
       "0      LogisticRegression     0.636  Yes\n",
       "1  RandomForestClassifier     0.840  Yes\n",
       "2      AdaBoostClassifier     0.638  Yes\n",
       "3          LGBMClassifier     0.834  Yes\n",
       "4           XGBClassifier     0.826  Yes"
      ]
     },
     "execution_count": 11,
     "metadata": {},
     "output_type": "execute_result"
    }
   ],
   "source": [
    "res_mcfs_all=pd.concat([res_mcfs_no_vif,res_mcfs_yes_vif])\n",
    "res_mcfs_all"
   ]
  },
  {
   "cell_type": "code",
   "execution_count": 16,
   "id": "545669c9",
   "metadata": {},
   "outputs": [],
   "source": [
    "res_mcfs_all.replace(to_replace=['LogisticRegression','RandomForestClassifier','AdaBoostClassifier','LGBMClassifier','XGBClassifier'],value=['Logistic Regression','Random Forest','AdaBoost','LightGBM','XGBoost'],inplace=True)"
   ]
  },
  {
   "cell_type": "code",
   "execution_count": 24,
   "id": "5b5dfe85",
   "metadata": {},
   "outputs": [
    {
     "data": {
      "image/png": "[encoded data removed]",
      "text/plain": [
       "<Figure size 1152x648 with 1 Axes>"
      ]
     },
     "metadata": {
      "needs_background": "light"
     },
     "output_type": "display_data"
    }
   ],
   "source": [
    "bars = sns.barplot(x='Classifier', y='BA score', hue='VIF', data=res_mcfs_all)\n",
    "for bar in bars.patches:\n",
    "    bars.annotate(format(bar.get_height(), '.3f'),\n",
    "                   (bar.get_x() + bar.get_width() / 2,\n",
    "                    bar.get_height()-0.1), ha='center', va='center', xytext=(0, 8), rotation=90,\n",
    "                   textcoords='offset points')\n",
    "plt.ylim(0, 1)\n",
    "plt.legend(loc=4, title='Collinear features removed')\n",
    "plt.xlabel('Classifier')\n",
    "plt.ylabel('Balanced Accuracy')\n",
    "#plt.title('Artificial\\nClassifiers performance after Monte Carlo feature selection')\n",
    "plt.xticks(rotation=45)\n",
    "plt.show()"
   ]
  }
 ],
 "metadata": {
  "kernelspec": {
   "display_name": "Python 3",
   "language": "python",
   "name": "python3"
  },
  "language_info": {
   "codemirror_mode": {
    "name": "ipython",
    "version": 3
   },
   "file_extension": ".py",
   "mimetype": "text/x-python",
   "name": "python",
   "nbconvert_exporter": "python",
   "pygments_lexer": "ipython3",
   "version": "3.8.8"
  }
 },
 "nbformat": 4,
 "nbformat_minor": 5
}
