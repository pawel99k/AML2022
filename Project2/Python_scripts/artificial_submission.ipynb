{
 "cells": [
  {
   "cell_type": "code",
   "execution_count": 1,
   "id": "9825d868",
   "metadata": {},
   "outputs": [],
   "source": [
    "%load_ext autoreload\n",
    "%autoreload 2\n",
    "import eval_models\n",
    "import pandas as pd\n",
    "import numpy as np\n",
    "from sklearn.ensemble import RandomForestClassifier\n",
    "from sklearn.metrics import balanced_accuracy_score"
   ]
  },
  {
   "cell_type": "markdown",
   "id": "e733ad8e",
   "metadata": {},
   "source": [
    "Wzięte z notebooka Boruta-artificial"
   ]
  },
  {
   "cell_type": "code",
   "execution_count": 2,
   "id": "75b38334",
   "metadata": {},
   "outputs": [],
   "source": [
    "selected_features=np.array([64,281,378,451,453])"
   ]
  },
  {
   "cell_type": "markdown",
   "id": "7797e235",
   "metadata": {},
   "source": [
    "## 1. Verification if selected subset is correct\n",
    "(checking if results will be similat to the ones as on the plots)"
   ]
  },
  {
   "cell_type": "code",
   "execution_count": 3,
   "id": "d5dde41d",
   "metadata": {},
   "outputs": [],
   "source": [
    "X_art_train,X_art_test,y_art_train,y_art_test=eval_models.get_train_test(\"artificial\")"
   ]
  },
  {
   "cell_type": "code",
   "execution_count": 4,
   "id": "d009c993",
   "metadata": {},
   "outputs": [],
   "source": [
    "X_art_train=X_art_train.iloc[:,selected_features]\n",
    "X_art_test=X_art_test.iloc[:,selected_features]\n",
    "X_art_train_st,X_art_test_st=eval_models.standarize(X_train=X_art_train,X_test=X_art_test)"
   ]
  },
  {
   "cell_type": "code",
   "execution_count": 5,
   "id": "8cddcf9a",
   "metadata": {},
   "outputs": [
    {
     "data": {
      "text/plain": [
       "0.876"
      ]
     },
     "execution_count": 5,
     "metadata": {},
     "output_type": "execute_result"
    }
   ],
   "source": [
    "rf_clasif=RandomForestClassifier(n_estimators=150)\n",
    "rf_clasif.fit(X_art_train_st, y_art_train)\n",
    "balanced_accuracy_score(y_true=y_art_test,y_pred=rf_clasif.predict(X_art_test_st))"
   ]
  },
  {
   "cell_type": "markdown",
   "id": "f2eb7ac3",
   "metadata": {},
   "source": [
    "## 2. Training classifier on whole dataset"
   ]
  },
  {
   "cell_type": "code",
   "execution_count": 6,
   "id": "4064fc4c",
   "metadata": {},
   "outputs": [],
   "source": [
    "X_artificial, y_artificial, X_digits, y_digits=eval_models.get_data()"
   ]
  },
  {
   "cell_type": "code",
   "execution_count": 7,
   "id": "4a5f2453",
   "metadata": {},
   "outputs": [],
   "source": [
    "X_art_validation=pd.read_csv(\"../data/artificial/artificial_valid.data\", header=None, delim_whitespace=True)"
   ]
  },
  {
   "cell_type": "code",
   "execution_count": 8,
   "id": "2bd82dac",
   "metadata": {},
   "outputs": [],
   "source": [
    "X_artificial=X_artificial.iloc[:,selected_features]\n",
    "X_art_validation=X_art_validation.iloc[:,selected_features]\n",
    "X_artificial,X_art_validation=eval_models.standarize(X_train=X_artificial,X_test=X_art_validation)"
   ]
  },
  {
   "cell_type": "code",
   "execution_count": 9,
   "id": "a77e9737",
   "metadata": {},
   "outputs": [],
   "source": [
    "rf_clasif=RandomForestClassifier(n_estimators=150)\n",
    "rf_clasif.fit(X_artificial, y_artificial)\n",
    "predictions=rf_clasif.predict_proba(X_art_validation)"
   ]
  },
  {
   "cell_type": "code",
   "execution_count": 10,
   "id": "38ac7f23",
   "metadata": {},
   "outputs": [],
   "source": [
    "predictions_class1=predictions[:,1]"
   ]
  },
  {
   "cell_type": "code",
   "execution_count": 11,
   "id": "e0464f22",
   "metadata": {},
   "outputs": [],
   "source": [
    "with open('../data/submission/SZYHRY_artificial_prediction.txt', 'w') as f:\n",
    "    f.write('\"SZYHRY\"\\n')\n",
    "    for c in predictions_class1:\n",
    "        f.write(str(c))\n",
    "        f.write('\\n')\n",
    "    f.close()"
   ]
  },
  {
   "cell_type": "markdown",
   "id": "e488924d",
   "metadata": {},
   "source": [
    "**UWAGA TRZEBA PAMIĘTAĆ O DODANIU 1 DO TYCH NUMERÓW BO MA BYĆ TO NUMERACJA \"R-owa\"**"
   ]
  },
  {
   "cell_type": "code",
   "execution_count": 12,
   "id": "3a61bdab",
   "metadata": {},
   "outputs": [],
   "source": [
    "selected_features_R=selected_features+1"
   ]
  },
  {
   "cell_type": "code",
   "execution_count": 14,
   "id": "4aa2bb50",
   "metadata": {},
   "outputs": [],
   "source": [
    "with open('../data/submission/SZYHRY_artificial_features.txt', 'w') as f:\n",
    "    f.write('\"SZYHRY\"\\n')\n",
    "    for v in selected_features_R:\n",
    "        f.write(str(v))\n",
    "        f.write('\\n')\n",
    "    f.close()"
   ]
  }
 ],
 "metadata": {
  "kernelspec": {
   "display_name": "Python 3",
   "language": "python",
   "name": "python3"
  },
  "language_info": {
   "codemirror_mode": {
    "name": "ipython",
    "version": 3
   },
   "file_extension": ".py",
   "mimetype": "text/x-python",
   "name": "python",
   "nbconvert_exporter": "python",
   "pygments_lexer": "ipython3",
   "version": "3.8.8"
  }
 },
 "nbformat": 4,
 "nbformat_minor": 5
}
