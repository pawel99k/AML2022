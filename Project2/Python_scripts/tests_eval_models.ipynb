{
 "cells": [
  {
   "cell_type": "code",
   "execution_count": 2,
   "id": "b3d88f16",
   "metadata": {},
   "outputs": [],
   "source": [
    "%load_ext autoreload\n",
    "%autoreload 2\n",
    "import eval_models\n",
    "import pandas as pd\n",
    "from sklearn.feature_selection import VarianceThreshold\n",
    "from sklearn.model_selection import train_test_split\n",
    "from sklearn.preprocessing import StandardScaler"
   ]
  },
  {
   "cell_type": "code",
   "execution_count": 3,
   "id": "7b3d03f5",
   "metadata": {},
   "outputs": [
    {
     "name": "stdout",
     "output_type": "stream",
     "text": [
      "(6000, 4955) (2000, 500)\n"
     ]
    }
   ],
   "source": [
    "X_art,y_art,X_digits,y_digits= eval_models.get_data()\n",
    "print(X_digits.shape,X_art.shape)"
   ]
  },
  {
   "cell_type": "code",
   "execution_count": 4,
   "id": "c130dc94",
   "metadata": {
    "scrolled": false
   },
   "outputs": [],
   "source": [
    "X_art_train,X_art_test,y_art_train,y_art_test=train_test_split(X_art,y_art,stratify=y_art,test_size=0.25)"
   ]
  },
  {
   "cell_type": "code",
   "execution_count": 5,
   "id": "a050352c",
   "metadata": {
    "scrolled": false
   },
   "outputs": [
    {
     "name": "stdout",
     "output_type": "stream",
     "text": [
      "LogisticRegression 0.542\n",
      "RandomForestClassifier 0.654\n",
      "AdaBoostClassifier 0.61\n",
      "LGBMClassifier 0.804\n",
      "XGBClassifier 0.786\n"
     ]
    }
   ],
   "source": [
    "basic_res=eval_models.get_models_ba(X_art_train,\n",
    "                              X_art_test,\n",
    "                              y_art_train,\n",
    "                              y_art_test,\n",
    "                              logistic_args={\"max_iter\":6000}\n",
    "                             )\n",
    "#dopiero przy 6k to coś nie wywala warninga, że za mała liczba iteracji"
   ]
  },
  {
   "cell_type": "code",
   "execution_count": 6,
   "id": "7c262086",
   "metadata": {},
   "outputs": [],
   "source": [
    "ss=StandardScaler()\n",
    "X_art_train_scaled=pd.DataFrame(ss.fit_transform(X_art_train), index=X_art_train.index, columns=X_art_train.columns)\n",
    "X_art_test_scaled=pd.DataFrame(ss.transform(X_art_test), index=X_art_test.index, columns=X_art_test.columns)"
   ]
  },
  {
   "cell_type": "code",
   "execution_count": 7,
   "id": "d76671b9",
   "metadata": {},
   "outputs": [
    {
     "name": "stdout",
     "output_type": "stream",
     "text": [
      "LogisticRegression 0.538\n",
      "RandomForestClassifier 0.648\n",
      "AdaBoostClassifier 0.61\n",
      "LGBMClassifier 0.818\n",
      "XGBClassifier 0.786\n"
     ]
    }
   ],
   "source": [
    "scaled_res=eval_models.get_models_ba(X_art_train_scaled,\n",
    "                              X_art_test_scaled,\n",
    "                              y_art_train,\n",
    "                              y_art_test,\n",
    "                              logistic_args={\"max_iter\":100}\n",
    "                             )\n",
    "#tutaj reg logistyczna dużo szybciej osiąga zbieżność"
   ]
  }
 ],
 "metadata": {
  "kernelspec": {
   "display_name": "Python 3",
   "language": "python",
   "name": "python3"
  },
  "language_info": {
   "codemirror_mode": {
    "name": "ipython",
    "version": 3
   },
   "file_extension": ".py",
   "mimetype": "text/x-python",
   "name": "python",
   "nbconvert_exporter": "python",
   "pygments_lexer": "ipython3",
   "version": "3.8.8"
  }
 },
 "nbformat": 4,
 "nbformat_minor": 5
}
