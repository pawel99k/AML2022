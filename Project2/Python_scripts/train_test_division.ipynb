{
 "cells": [
  {
   "cell_type": "code",
   "execution_count": 1,
   "id": "4817273b",
   "metadata": {},
   "outputs": [],
   "source": [
    "%load_ext autoreload\n",
    "%autoreload 2\n",
    "import eval_models\n",
    "from sklearn.model_selection import train_test_split\n",
    "import numpy as np"
   ]
  },
  {
   "cell_type": "code",
   "execution_count": 2,
   "id": "d0636b4d",
   "metadata": {},
   "outputs": [],
   "source": [
    "X_art,y_art,X_dig,y_dig= eval_models.get_data()"
   ]
  },
  {
   "cell_type": "code",
   "execution_count": 3,
   "id": "c9cd073c",
   "metadata": {},
   "outputs": [],
   "source": [
    "X_art_train,X_art_test,y_art_train,y_art_test=train_test_split(X_art,y_art,stratify=y_art,test_size=0.25,random_state=123)"
   ]
  },
  {
   "cell_type": "code",
   "execution_count": 4,
   "id": "efe5e600",
   "metadata": {},
   "outputs": [],
   "source": [
    "X_art_train.to_csv(path_or_buf=\"../data/artificial/X_train.csv\")\n",
    "X_art_test.to_csv(path_or_buf=\"../data/artificial/X_test.csv\")\n",
    "np.savetxt(\"../data/artificial/y_train.csv\", y_art_train)\n",
    "np.savetxt(\"../data/artificial/y_test.csv\", y_art_test)"
   ]
  },
  {
   "cell_type": "code",
   "execution_count": 5,
   "id": "632de684",
   "metadata": {},
   "outputs": [],
   "source": [
    "X_dig_train,X_dig_test,y_dig_train,y_dig_test=train_test_split(X_dig,y_dig,stratify=y_dig,test_size=0.25,random_state=123)"
   ]
  },
  {
   "cell_type": "code",
   "execution_count": 6,
   "id": "cdb77581",
   "metadata": {},
   "outputs": [],
   "source": [
    "X_dig_train.to_csv(path_or_buf=\"../data/digits/X_train.csv\")\n",
    "X_dig_test.to_csv(path_or_buf=\"../data/digits/X_test.csv\")\n",
    "np.savetxt(\"../data/digits/y_train.csv\", y_dig_train)\n",
    "np.savetxt(\"../data/digits/y_test.csv\", y_dig_test)"
   ]
  },
  {
   "cell_type": "code",
   "execution_count": 7,
   "id": "a4ff69e2",
   "metadata": {},
   "outputs": [],
   "source": [
    "X_art_train2,X_art_test2,y_art_train2,y_art_test2=eval_models.get_train_test(\"artificial\")\n",
    "X_dig_train2,X_dig_test2,y_dig_train2,y_dig_test2=eval_models.get_train_test(\"digits\")"
   ]
  },
  {
   "cell_type": "code",
   "execution_count": 8,
   "id": "2eac343c",
   "metadata": {
    "scrolled": true
   },
   "outputs": [
    {
     "data": {
      "text/plain": [
       "(True, True, True, True)"
      ]
     },
     "execution_count": 8,
     "metadata": {},
     "output_type": "execute_result"
    }
   ],
   "source": [
    "np.all(y_art_train2==y_art_train),np.all(y_art_test2==y_art_test),np.all(X_art_train2==X_art_train),np.all(X_art_test==X_art_test)"
   ]
  },
  {
   "cell_type": "code",
   "execution_count": 9,
   "id": "e93d4ab4",
   "metadata": {},
   "outputs": [
    {
     "data": {
      "text/plain": [
       "(True, True, True, True)"
      ]
     },
     "execution_count": 9,
     "metadata": {},
     "output_type": "execute_result"
    }
   ],
   "source": [
    "np.all(y_dig_train2==y_dig_train),np.all(y_dig_test2==y_dig_test),np.all(X_dig_train2==X_dig_train),np.all(X_dig_test2==X_dig_test)"
   ]
  }
 ],
 "metadata": {
  "kernelspec": {
   "display_name": "Python 3",
   "language": "python",
   "name": "python3"
  },
  "language_info": {
   "codemirror_mode": {
    "name": "ipython",
    "version": 3
   },
   "file_extension": ".py",
   "mimetype": "text/x-python",
   "name": "python",
   "nbconvert_exporter": "python",
   "pygments_lexer": "ipython3",
   "version": "3.8.8"
  }
 },
 "nbformat": 4,
 "nbformat_minor": 5
}
