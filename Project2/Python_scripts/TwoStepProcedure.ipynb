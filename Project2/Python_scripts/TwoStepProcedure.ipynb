{
 "cells": [
  {
   "cell_type": "code",
   "execution_count": 111,
   "id": "undefined-possible",
   "metadata": {},
   "outputs": [
    {
     "name": "stdout",
     "output_type": "stream",
     "text": [
      "The autoreload extension is already loaded. To reload it, use:\n",
      "  %reload_ext autoreload\n"
     ]
    }
   ],
   "source": [
    "%load_ext autoreload\n",
    "%autoreload 2\n",
    "import eval_models\n",
    "import pandas as pd\n",
    "import numpy as np\n",
    "from sklearn.model_selection import train_test_split\n",
    "from sklearn.linear_model import Lasso, LassoLarsIC, LogisticRegression\n",
    "from sklearn.neighbors import NearestCentroid\n",
    "from sklearn.ensemble import RandomForestClassifier\n",
    "from sklearn.preprocessing import StandardScaler\n",
    "from sklearn.metrics import log_loss\n",
    "import matplotlib.pyplot as plt\n",
    "import seaborn as sns"
   ]
  },
  {
   "cell_type": "code",
   "execution_count": 11,
   "id": "authorized-drama",
   "metadata": {},
   "outputs": [],
   "source": [
    "X_art,y_art,X_dig,y_dig= eval_models.get_data()\n",
    "X_dig_train,X_dig_test,y_dig_train,y_dig_test=train_test_split(X_dig,y_dig,stratify=y_dig,test_size=0.25)\n",
    "X_art_train,X_art_test,y_art_train,y_art_test=train_test_split(X_art,y_art,stratify=y_art,test_size=0.25)"
   ]
  },
  {
   "cell_type": "code",
   "execution_count": 19,
   "id": "entire-queue",
   "metadata": {},
   "outputs": [],
   "source": [
    "X_art_train_ss, X_art_test_ss = eval_models.standarize(X_art_train, X_art_test)"
   ]
  },
  {
   "cell_type": "code",
   "execution_count": 20,
   "id": "noted-friend",
   "metadata": {},
   "outputs": [],
   "source": [
    "X_dig_train_ss, X_dig_test_ss = eval_models.standarize(X_dig_train, X_dig_test)"
   ]
  },
  {
   "cell_type": "markdown",
   "id": "static-christopher",
   "metadata": {},
   "source": [
    "## 1. step - Lasso"
   ]
  },
  {
   "cell_type": "code",
   "execution_count": 123,
   "id": "obvious-sheriff",
   "metadata": {},
   "outputs": [],
   "source": [
    "def fit_lasso(X, y, **kwargs):\n",
    "    lasso = LogisticRegression(**kwargs, )\n",
    "    lasso.fit(X, y)\n",
    "    return lasso"
   ]
  },
  {
   "cell_type": "code",
   "execution_count": 124,
   "id": "pharmaceutical-equipment",
   "metadata": {},
   "outputs": [],
   "source": [
    "l = fit_lasso(X_art_train_ss, y_art_train, penalty='l1', solver='liblinear', C=0.05)"
   ]
  },
  {
   "cell_type": "code",
   "execution_count": 125,
   "id": "pursuant-identification",
   "metadata": {},
   "outputs": [
    {
     "data": {
      "text/plain": [
       "70"
      ]
     },
     "execution_count": 125,
     "metadata": {},
     "output_type": "execute_result"
    }
   ],
   "source": [
    "(l.coef_>0).sum()"
   ]
  },
  {
   "cell_type": "markdown",
   "id": "sporting-stream",
   "metadata": {},
   "source": [
    "## 2. step - nested families & BIC criterion"
   ]
  },
  {
   "cell_type": "code",
   "execution_count": 157,
   "id": "overall-attempt",
   "metadata": {},
   "outputs": [],
   "source": [
    "def calc_bic(y_true, y_pred, n_obs, n_col):\n",
    "    return 100 * log_loss(y_true, y_pred) + np.log(n_obs) * n_col\n",
    "\n",
    "def calc_aic(y_true, y_pred, n_obs, n_col):\n",
    "    return 2 * log_loss(y_true, y_pred) + 2 * n_col"
   ]
  },
  {
   "cell_type": "code",
   "execution_count": 158,
   "id": "rising-terrorism",
   "metadata": {},
   "outputs": [
    {
     "name": "stdout",
     "output_type": "stream",
     "text": [
      "1.090311932067758\n",
      "   step  train_scaled_bic  test_scaled_bic  train_bic   test_bic\n",
      "0     0         63.082203       116.344414  63.092416  98.174564\n",
      "0.8023455526540324\n",
      "   step  train_scaled_bic  test_scaled_bic  train_bic    test_bic\n",
      "0     1         34.152225        94.860996  34.103055  101.354548\n",
      "0.7510882578145475\n",
      "   step  train_scaled_bic  test_scaled_bic  train_bic   test_bic\n",
      "0     2         41.238386        97.048487  40.823555  98.178725\n",
      "0.7172684399212629\n",
      "   step  train_scaled_bic  test_scaled_bic  train_bic    test_bic\n",
      "0     3         48.205802       100.979726  48.023309  101.949605\n",
      "0.7037608698405845\n",
      "   step  train_scaled_bic  test_scaled_bic  train_bic    test_bic\n",
      "0     4         55.279481       106.942189  55.415006  106.767579\n",
      "0.7026465291225227\n",
      "   step  train_scaled_bic  test_scaled_bic  train_bic    test_bic\n",
      "0     5         62.399519       114.143975  62.458858  113.152904\n",
      "0.6968512016134801\n",
      "   step  train_scaled_bic  test_scaled_bic  train_bic    test_bic\n",
      "0     6         70.052249       120.877663  70.191649  121.104274\n",
      "0.6907152652326015\n",
      "   step  train_scaled_bic  test_scaled_bic  train_bic    test_bic\n",
      "0     7         77.415782        127.57729  77.164297  126.548779\n",
      "0.6861108904537034\n",
      "   step  train_scaled_bic  test_scaled_bic  train_bic    test_bic\n",
      "0     8         84.646228       134.430073  84.752607  134.177659\n",
      "0.6756708877038097\n",
      "   step  train_scaled_bic  test_scaled_bic  train_bic    test_bic\n",
      "0     9         92.045494       140.699293  92.107831  140.514945\n",
      "0.6846689445253283\n",
      "   step  train_scaled_bic  test_scaled_bic  train_bic    test_bic\n",
      "0    10         99.273337       148.912319    99.2428  147.985678\n",
      "0.6886913323553338\n",
      "   step  train_scaled_bic  test_scaled_bic   train_bic    test_bic\n",
      "0    11        106.654664       156.627778  106.525334  155.817263\n",
      "0.6732467755329901\n",
      "   step  train_scaled_bic  test_scaled_bic   train_bic    test_bic\n",
      "0    12        113.948888       162.396543  113.965339  162.056298\n",
      "0.6945182958484811\n",
      "   step  train_scaled_bic  test_scaled_bic   train_bic    test_bic\n",
      "0    13         121.22167       171.836915  121.346521  169.424379\n",
      "0.6797251887026943\n",
      "   step  train_scaled_bic  test_scaled_bic   train_bic    test_bic\n",
      "0    14        128.722677       177.670825  128.641765  177.483698\n",
      "0.6827675160552217\n",
      "   step  train_scaled_bic  test_scaled_bic  train_bic    test_bic\n",
      "0    15         135.87887       185.288278  136.01119  185.372572\n",
      "0.6747883273781893\n",
      "   step  train_scaled_bic  test_scaled_bic  train_bic   test_bic\n",
      "0    16        143.056034       191.803579  143.20379  191.75338\n",
      "0.6749983512556258\n",
      "   step  train_scaled_bic  test_scaled_bic   train_bic    test_bic\n",
      "0    17        150.534205       199.137802  150.460801  199.299543\n",
      "0.6747700187456969\n",
      "   step  train_scaled_bic  test_scaled_bic   train_bic    test_bic\n",
      "0    18        157.793393       206.428189  157.613204  206.260138\n",
      "0.6675067732187131\n",
      "   step  train_scaled_bic  test_scaled_bic   train_bic    test_bic\n",
      "0    19        165.295377       213.015085  165.166433  213.763087\n",
      "0.6784229602048424\n",
      "   step  train_scaled_bic  test_scaled_bic   train_bic    test_bic\n",
      "0    20        172.540533       221.419924  172.368104  220.771321\n",
      "0.6762877219100241\n",
      "   step  train_scaled_bic  test_scaled_bic  train_bic    test_bic\n",
      "0    21        179.775976       228.519621  179.70082  228.574864\n",
      "0.6710472988001195\n",
      "   step  train_scaled_bic  test_scaled_bic   train_bic    test_bic\n",
      "0    22        187.251169       235.308799  187.046935  236.321871\n",
      "0.6820754025513497\n",
      "   step  train_scaled_bic  test_scaled_bic   train_bic    test_bic\n",
      "0    23        194.418756        243.72483  194.491984  242.862963\n",
      "0.6779651277649618\n",
      "   step  train_scaled_bic  test_scaled_bic   train_bic    test_bic\n",
      "0    24        201.791414       250.627022  201.905833  250.213239\n",
      "0.6754786797939009\n",
      "   step  train_scaled_bic  test_scaled_bic   train_bic    test_bic\n",
      "0    25        209.205923       257.691598  209.028786  257.582873\n",
      "0.6783372427759368\n",
      "   step  train_scaled_bic  test_scaled_bic   train_bic    test_bic\n",
      "0    26        216.606075       265.290675  216.402781  265.192126\n",
      "0.6826788613406086\n",
      "   step  train_scaled_bic  test_scaled_bic   train_bic    test_bic\n",
      "0    27        223.832992       273.038057  223.750655  272.158304\n",
      "0.6726547735627578\n",
      "   step  train_scaled_bic  test_scaled_bic   train_bic    test_bic\n",
      "0    28        230.898691       279.348869  231.084077  279.359625\n",
      "0.6743816197248116\n",
      "   step  train_scaled_bic  test_scaled_bic   train_bic    test_bic\n",
      "0    29         238.43779       286.834774  238.352993  286.741176\n",
      "0.6831223249428254\n",
      "   step  train_scaled_bic  test_scaled_bic   train_bic    test_bic\n",
      "0    30        245.767968       295.022064  245.790906  295.280032\n",
      "0.6762747269575302\n",
      "   step  train_scaled_bic  test_scaled_bic   train_bic    test_bic\n",
      "0    31        253.144771       301.650525  253.054858  301.783925\n",
      "0.6838427231926161\n",
      "   step  train_scaled_bic  test_scaled_bic   train_bic    test_bic\n",
      "0    32        260.423143       309.720545  260.328071  308.886762\n",
      "0.6786231281469088\n",
      "   step  train_scaled_bic  test_scaled_bic   train_bic    test_bic\n",
      "0    33        267.454487       316.511806  267.655203  316.825916\n",
      "0.6792801670151607\n",
      "   step  train_scaled_bic  test_scaled_bic   train_bic    test_bic\n",
      "0    34        275.000014        323.89073  275.037812  323.788221\n",
      "0.6805099957443481\n",
      "   step  train_scaled_bic  test_scaled_bic   train_bic    test_bic\n",
      "0    35        282.390866       331.326934  282.356355  330.703265\n",
      "0.6801516233749298\n",
      "   step  train_scaled_bic  test_scaled_bic   train_bic    test_bic\n",
      "0    36         289.61662       338.604317  289.461373  338.109515\n",
      "0.674213409812115\n",
      "   step  train_scaled_bic  test_scaled_bic   train_bic    test_bic\n",
      "0    37        296.855739       345.323716  296.903837  346.017598\n",
      "0.6727786956821397\n",
      "   step  train_scaled_bic  test_scaled_bic   train_bic    test_bic\n",
      "0    38        304.430243       352.493465  304.172266  352.878246\n",
      "0.6676709044135514\n",
      "   step  train_scaled_bic  test_scaled_bic   train_bic    test_bic\n",
      "0    39        311.581269       359.295906  311.670296  360.686633\n",
      "0.6760627430340838\n",
      "   step  train_scaled_bic  test_scaled_bic  train_bic    test_bic\n",
      "0    40        318.937256        367.44831  319.09611  368.244908\n",
      "0.6882139691237082\n",
      "   step  train_scaled_bic  test_scaled_bic   train_bic    test_bic\n",
      "0    41        326.374692       375.976653  326.400079  374.859716\n",
      "0.6856563243830762\n",
      "   step  train_scaled_bic  test_scaled_bic   train_bic    test_bic\n",
      "0    42        333.821854       383.034109  333.521065  382.567861\n",
      "0.6876633900106576\n",
      "   step  train_scaled_bic  test_scaled_bic   train_bic    test_bic\n",
      "0    43        340.885791       390.548036  340.905635  389.983445\n",
      "0.6780282962727802\n",
      "   step  train_scaled_bic  test_scaled_bic   train_bic    test_bic\n",
      "0    44         348.25556       396.897747  348.418406  396.845859\n",
      "0.6786855610171224\n",
      "   step  train_scaled_bic  test_scaled_bic   train_bic    test_bic\n",
      "0    45         355.67299       404.276694  355.425193  403.990415\n",
      "0.6866767690734671\n",
      "   step  train_scaled_bic  test_scaled_bic   train_bic   test_bic\n",
      "0    46        363.029406       412.389035  362.991857  411.79009\n",
      "0.6734736453245298\n",
      "   step  train_scaled_bic  test_scaled_bic   train_bic    test_bic\n",
      "0    47        370.398116       418.381943  370.257216  419.311201\n",
      "0.684733168784622\n",
      "   step  train_scaled_bic  test_scaled_bic   train_bic    test_bic\n",
      "0    48        377.482437       426.821116  377.435694  426.534105\n",
      "0.6769685754874464\n",
      "   step  train_scaled_bic  test_scaled_bic   train_bic    test_bic\n",
      "0    49         384.69684       433.357877  384.839276  433.395701\n",
      "0.6691792191466351\n",
      "   step  train_scaled_bic  test_scaled_bic   train_bic    test_bic\n",
      "0    50        392.279611       439.892162  392.026645  440.763086\n",
      "0.6736153489841147\n",
      "   step  train_scaled_bic  test_scaled_bic   train_bic    test_bic\n",
      "0    51        399.590076       447.648995  399.520286  447.200869\n",
      "0.6795978469832487\n",
      "   step  train_scaled_bic  test_scaled_bic   train_bic    test_bic\n",
      "0    52        407.109862       455.560465  406.751568  455.730982\n",
      "0.6905019340619317\n",
      "   step  train_scaled_bic  test_scaled_bic   train_bic    test_bic\n",
      "0    53         414.30491       463.964094  414.018766  462.645479\n"
     ]
    },
    {
     "name": "stdout",
     "output_type": "stream",
     "text": [
      "0.6722705263273702\n",
      "   step  train_scaled_bic  test_scaled_bic   train_bic    test_bic\n",
      "0    54         421.52723       469.454174  421.446984  470.609546\n",
      "0.6763440158616022\n",
      "   step  train_scaled_bic  test_scaled_bic   train_bic    test_bic\n",
      "0    55        428.833376       477.174743  428.743823  476.663489\n",
      "0.6818787099500875\n",
      "   step  train_scaled_bic  test_scaled_bic  train_bic    test_bic\n",
      "0    56        436.329589       485.041433  435.96636  484.639569\n",
      "0.666477449172811\n",
      "   step  train_scaled_bic  test_scaled_bic   train_bic    test_bic\n",
      "0    57        443.511971       490.814527  443.484059  491.306793\n",
      "0.6760279163506628\n",
      "   step  train_scaled_bic  test_scaled_bic   train_bic    test_bic\n",
      "0    58        450.945433       499.082794  450.753715  498.551478\n",
      "0.6821811290000026\n",
      "   step  train_scaled_bic  test_scaled_bic   train_bic    test_bic\n",
      "0    59        458.247196       507.011336  458.202411  506.271176\n",
      "0.6839913603326049\n",
      "   step  train_scaled_bic  test_scaled_bic   train_bic    test_bic\n",
      "0    60        465.472338        514.50558  465.417265  514.491145\n",
      "0.6762735690242455\n",
      "   step  train_scaled_bic  test_scaled_bic   train_bic    test_bic\n",
      "0    61        472.535726       521.047021  472.780484  521.777981\n",
      "0.682755121750481\n",
      "   step  train_scaled_bic  test_scaled_bic   train_bic    test_bic\n",
      "0    62        480.146338       529.008397  480.171634  529.257826\n",
      "0.6829511269284341\n",
      "   step  train_scaled_bic  test_scaled_bic   train_bic   test_bic\n",
      "0    63        487.514037       536.341217  487.585845  534.94199\n",
      "0.6757500246076324\n",
      "   step  train_scaled_bic  test_scaled_bic   train_bic    test_bic\n",
      "0    64         494.35585       542.934328  494.710355  543.347655\n",
      "0.6785744023107679\n",
      "   step  train_scaled_bic  test_scaled_bic   train_bic    test_bic\n",
      "0    65        501.916682       550.529986  501.934704  549.997903\n",
      "0.6735209548826012\n",
      "   step  train_scaled_bic  test_scaled_bic   train_bic    test_bic\n",
      "0    66        509.292579       557.337861  509.379913  556.838742\n",
      "0.6754152951152076\n",
      "   step  train_scaled_bic  test_scaled_bic   train_bic    test_bic\n",
      "0    67        516.590349       564.840516  516.705922  564.601895\n",
      "0.6780285945630926\n",
      "   step  train_scaled_bic  test_scaled_bic   train_bic    test_bic\n",
      "0    68        524.130207       572.415066  523.794641  572.538477\n",
      "0.6781978323617409\n",
      "   step  train_scaled_bic  test_scaled_bic   train_bic    test_bic\n",
      "0    69        531.437773        579.74521  531.177474  579.609386\n"
     ]
    }
   ],
   "source": [
    "variables = []\n",
    "rf = RandomForestClassifier()\n",
    "results = pd.DataFrame(columns = ['step', 'train_scaled_bic', 'test_scaled_bic', 'train_bic', 'test_bic'])\n",
    "n = len(X_art_train)\n",
    "for step, v in enumerate(reversed(pd.Series(l.coef_.flatten())[l.coef_.flatten()>0].sort_values().index)):\n",
    "    variables += [v]\n",
    "    rf.fit(X_art_train_ss.loc[:, variables], y_art_train)\n",
    "    y_pred_train_ss = rf.predict_proba(X_art_train_ss.iloc[:, variables])[:, 1]\n",
    "    y_pred_test_ss = rf.predict_proba(X_art_test_ss.iloc[:, variables])[:, 1]\n",
    "    \n",
    "    rf.fit(X_art_train.loc[:, variables], y_art_train)\n",
    "    y_pred_train = rf.predict_proba(X_art_train.iloc[:, variables])[:, 1]\n",
    "    y_pred_test = rf.predict_proba(X_art_test.iloc[:, variables])[:, 1]\n",
    "    \n",
    "    new_results = pd.DataFrame([[step, \n",
    "                                 calc_bic(y_art_train, y_pred_train_ss, n, len(variables)),\n",
    "                                 calc_bic(y_art_test, y_pred_test_ss, n, len(variables)),\n",
    "                                 calc_bic(y_art_train, y_pred_train, n, len(variables)),\n",
    "                                 calc_bic(y_art_test, y_pred_test, n, len(variables))]], columns=results.columns)\n",
    "    print(log_loss(y_art_test, y_pred_test_ss))\n",
    "    print(new_results)\n",
    "    results = pd.concat((results, new_results))"
   ]
  },
  {
   "cell_type": "code",
   "execution_count": null,
   "id": "female-exposure",
   "metadata": {},
   "outputs": [],
   "source": []
  },
  {
   "cell_type": "code",
   "execution_count": 162,
   "id": "transsexual-mobile",
   "metadata": {},
   "outputs": [],
   "source": [
    "for step, v in enumerate(reversed(pd.Series(l.coef_.flatten())[l.coef_.flatten()>0].sort_values().index[-2:])):\n",
    "    variables += [v]\n",
    "    rf.fit(X_art_train_ss.loc[:, variables], y_art_train)\n",
    "    y_pred_train_ss = rf.predict_proba(X_art_train_ss.iloc[:, variables])[:, 1]\n",
    "    y_pred_test_ss = rf.predict_proba(X_art_test_ss.iloc[:, variables])[:, 1]"
   ]
  },
  {
   "cell_type": "code",
   "execution_count": null,
   "id": "distinct-vessel",
   "metadata": {},
   "outputs": [],
   "source": []
  },
  {
   "cell_type": "code",
   "execution_count": 161,
   "id": "artificial-peoples",
   "metadata": {},
   "outputs": [
    {
     "data": {
      "text/plain": [
       "[<matplotlib.lines.Line2D at 0x7f07405a49e8>]"
      ]
     },
     "execution_count": 161,
     "metadata": {},
     "output_type": "execute_result"
    },
    {
     "data": {
      "image/png": "[encoded data removed]",
      "text/plain": [
       "<Figure size 432x288 with 1 Axes>"
      ]
     },
     "metadata": {
      "needs_background": "light"
     },
     "output_type": "display_data"
    }
   ],
   "source": [
    "plt.plot(results['step'], results['train_scaled_bic'])"
   ]
  },
  {
   "cell_type": "markdown",
   "id": "cheap-index",
   "metadata": {},
   "source": []
  },
  {
   "cell_type": "code",
   "execution_count": 139,
   "id": "civilian-adapter",
   "metadata": {},
   "outputs": [],
   "source": [
    "ex = X_dig.loc[0, :]"
   ]
  },
  {
   "cell_type": "code",
   "execution_count": 149,
   "id": "private-composite",
   "metadata": {},
   "outputs": [
    {
     "data": {
      "text/plain": [
       "69.67783004657937"
      ]
     },
     "execution_count": 149,
     "metadata": {},
     "output_type": "execute_result"
    }
   ],
   "source": [
    "np.sqrt(4855)"
   ]
  }
 ],
 "metadata": {
  "kernelspec": {
   "display_name": "Python 3",
   "language": "python",
   "name": "python3"
  },
  "language_info": {
   "codemirror_mode": {
    "name": "ipython",
    "version": 3
   },
   "file_extension": ".py",
   "mimetype": "text/x-python",
   "name": "python",
   "nbconvert_exporter": "python",
   "pygments_lexer": "ipython3",
   "version": "3.6.9"
  }
 },
 "nbformat": 4,
 "nbformat_minor": 5
}
