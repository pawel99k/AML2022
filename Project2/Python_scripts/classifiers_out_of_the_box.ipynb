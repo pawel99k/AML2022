{
 "cells": [
  {
   "cell_type": "code",
   "execution_count": 1,
   "id": "a8409e7d",
   "metadata": {},
   "outputs": [],
   "source": [
    "import numpy as np\n",
    "import pandas as pd\n",
    "from sklearn.feature_selection import VarianceThreshold\n",
    "from sklearn.preprocessing import StandardScaler\n",
    "from sklearn.pipeline import Pipeline\n",
    "from sklearn.model_selection import train_test_split, cross_val_score\n",
    "from sklearn.linear_model import LogisticRegression\n",
    "from sklearn.ensemble import RandomForestClassifier, AdaBoostClassifier\n",
    "from xgboost import XGBClassifier\n",
    "from sklearn.model_selection import cross_val_score\n",
    "import xgboost\n",
    "import lightgbm\n",
    "from sklearn.metrics import balanced_accuracy_score as b_a_c"
   ]
  },
  {
   "cell_type": "code",
   "execution_count": 2,
   "id": "031d5fcf",
   "metadata": {},
   "outputs": [
    {
     "name": "stdout",
     "output_type": "stream",
     "text": [
      "(6000, 4955) (2000, 500)\n"
     ]
    }
   ],
   "source": [
    "X_artificial=pd.read_csv(\"../data/artificial/artificial_train.data\",sep=\" \",header=None)\n",
    "y_artificial=pd.read_csv(\"../data/artificial/artificial_train.labels\",sep=\" \",header=None)\n",
    "X_digits=pd.read_csv(\"../data/digits/digits_train.data\",sep=\" \",header=None)\n",
    "y_digits=pd.read_csv(\"../data/digits/digits_train.labels\",sep=\" \",header=None)\n",
    "\n",
    "X_artificial.drop(columns=500,inplace=True)\n",
    "X_digits.drop(columns=5000,inplace=True)\n",
    "\n",
    "VT_art = VarianceThreshold(threshold = 0)\n",
    "VT_art.fit(X_artificial)\n",
    "X_artificial=X_artificial.iloc[:,VT_art.get_support(indices=True).tolist()]\n",
    "\n",
    "VT_dig = VarianceThreshold(threshold = 0)\n",
    "VT_dig.fit(X_digits)\n",
    "X_digits=X_digits.iloc[:,VT_dig.get_support(indices=True).tolist()]\n",
    "print(X_digits.shape,X_artificial.shape)\n",
    "\n"
   ]
  },
  {
   "cell_type": "code",
   "execution_count": 3,
   "id": "51a7cc6e",
   "metadata": {
    "scrolled": true
   },
   "outputs": [],
   "source": [
    "X_digits_train,X_digits_test,y_digits_train,y_digits_test=train_test_split(X_digits,y_digits,stratify=y_digits,test_size=0.25)\n",
    "\n",
    "y_digits_train=y_digits_train.to_numpy().ravel()\n",
    "\n",
    "y_digits_test=y_digits_test.to_numpy().ravel()"
   ]
  },
  {
   "cell_type": "markdown",
   "id": "15c0429f",
   "metadata": {},
   "source": [
    "### no feature rescaling, no feature selection"
   ]
  },
  {
   "cell_type": "code",
   "execution_count": 4,
   "id": "9fbc3e10",
   "metadata": {},
   "outputs": [
    {
     "data": {
      "text/plain": [
       "0.9706666666666667"
      ]
     },
     "execution_count": 4,
     "metadata": {},
     "output_type": "execute_result"
    }
   ],
   "source": [
    "logistic_model=LogisticRegression(penalty=\"l2\",tol=1e-5,max_iter=10000)\n",
    "logistic_model.fit(X_digits_train,y_digits_train)\n",
    "b_a_c(y_digits_test,logistic_model.predict(X_digits_test))"
   ]
  },
  {
   "cell_type": "code",
   "execution_count": 5,
   "id": "b92bd99e",
   "metadata": {},
   "outputs": [
    {
     "data": {
      "text/plain": [
       "0.974"
      ]
     },
     "execution_count": 5,
     "metadata": {},
     "output_type": "execute_result"
    }
   ],
   "source": [
    "random_forest_model=RandomForestClassifier(n_jobs=-1) #do sprawdzenia parametry\n",
    "random_forest_model.fit(X_digits_train,y_digits_train)\n",
    "b_a_c(y_digits_test,random_forest_model.predict(X_digits_test))"
   ]
  },
  {
   "cell_type": "code",
   "execution_count": 6,
   "id": "09f8fb61",
   "metadata": {
    "scrolled": true
   },
   "outputs": [
    {
     "data": {
      "text/plain": [
       "(0.9793333333333334, 698)"
      ]
     },
     "execution_count": 6,
     "metadata": {},
     "output_type": "execute_result"
    }
   ],
   "source": [
    "xgb_model = xgboost.XGBClassifier() #do sprawdzenia parametry\n",
    "xgb_model.fit(X_digits_train,(y_digits_train+1)/2)\n",
    "b_a_c((y_digits_test+1)/2,xgb_model.predict(X_digits_test)),sum(xgb_model.feature_importances_>0)"
   ]
  },
  {
   "cell_type": "code",
   "execution_count": 7,
   "id": "7e3f6f0b",
   "metadata": {},
   "outputs": [
    {
     "data": {
      "text/plain": [
       "(0.964, 93)"
      ]
     },
     "execution_count": 7,
     "metadata": {},
     "output_type": "execute_result"
    }
   ],
   "source": [
    "adaboost_model=AdaBoostClassifier(n_estimators=100)\n",
    "adaboost_model.fit(X_digits_train,y_digits_train)\n",
    "b_a_c(y_digits_test,adaboost_model.predict(X_digits_test)),sum(adaboost_model.feature_importances_>0)"
   ]
  },
  {
   "cell_type": "code",
   "execution_count": 8,
   "id": "bd74f69f",
   "metadata": {},
   "outputs": [
    {
     "data": {
      "text/plain": [
       "(0.9793333333333334, 993)"
      ]
     },
     "execution_count": 8,
     "metadata": {},
     "output_type": "execute_result"
    }
   ],
   "source": [
    "lgm_model=lightgbm.LGBMClassifier()\n",
    "lgm_model.fit(X_digits_train,y_digits_train)\n",
    "b_a_c(y_digits_test,lgm_model.predict(X_digits_test)),sum(lgm_model.feature_importances_>0)"
   ]
  },
  {
   "cell_type": "markdown",
   "id": "90432d8d",
   "metadata": {},
   "source": [
    "### feature rescaling, no feature selection"
   ]
  },
  {
   "cell_type": "code",
   "execution_count": 9,
   "id": "63b208d4",
   "metadata": {},
   "outputs": [],
   "source": [
    "ss=StandardScaler()\n",
    "ss.fit(X_digits_train)\n",
    "X_digits_train_sc=ss.transform(X_digits_train)\n",
    "X_digits_test_sc=ss.transform(X_digits_test)"
   ]
  },
  {
   "cell_type": "code",
   "execution_count": 10,
   "id": "98c06a0c",
   "metadata": {},
   "outputs": [
    {
     "data": {
      "text/plain": [
       "0.9753333333333334"
      ]
     },
     "execution_count": 10,
     "metadata": {},
     "output_type": "execute_result"
    }
   ],
   "source": [
    "logistic_model=LogisticRegression(penalty=\"l2\",tol=1e-5,max_iter=1000)\n",
    "logistic_model.fit(X_digits_train_sc,y_digits_train)\n",
    "b_a_c(y_digits_test,logistic_model.predict(X_digits_test_sc))"
   ]
  },
  {
   "cell_type": "code",
   "execution_count": 11,
   "id": "53fd0b73",
   "metadata": {},
   "outputs": [
    {
     "data": {
      "text/plain": [
       "(0.9766666666666667, 285)"
      ]
     },
     "execution_count": 11,
     "metadata": {},
     "output_type": "execute_result"
    }
   ],
   "source": [
    "logistic_model=LogisticRegression(penalty=\"l1\",tol=1e-5,max_iter=1000,solver='liblinear')\n",
    "logistic_model.fit(X_digits_train_sc,y_digits_train)\n",
    "b_a_c(y_digits_test,logistic_model.predict(X_digits_test_sc)),(logistic_model.coef_>0).sum()"
   ]
  },
  {
   "cell_type": "code",
   "execution_count": 12,
   "id": "ccb9792e",
   "metadata": {
    "scrolled": false
   },
   "outputs": [
    {
     "data": {
      "text/plain": [
       "0.9726666666666666"
      ]
     },
     "execution_count": 12,
     "metadata": {},
     "output_type": "execute_result"
    }
   ],
   "source": [
    "random_forest_model=RandomForestClassifier(n_jobs=-1) #do sprawdzenia parametry\n",
    "random_forest_model.fit(X_digits_train_sc,y_digits_train)\n",
    "b_a_c(y_digits_test,random_forest_model.predict(X_digits_test_sc))"
   ]
  },
  {
   "cell_type": "code",
   "execution_count": 16,
   "id": "900bc6db",
   "metadata": {},
   "outputs": [
    {
     "data": {
      "text/plain": [
       "(0.9793333333333334, 698)"
      ]
     },
     "execution_count": 16,
     "metadata": {},
     "output_type": "execute_result"
    }
   ],
   "source": [
    "xgb_model = xgboost.XGBClassifier() #do sprawdzenia parametry\n",
    "xgb_model.fit(X_digits_train_sc,(y_digits_train+1)/2)\n",
    "b_a_c((y_digits_test+1)/2,xgb_model.predict(X_digits_test_sc)),sum(xgb_model.feature_importances_>0)"
   ]
  },
  {
   "cell_type": "code",
   "execution_count": 14,
   "id": "6b99b043",
   "metadata": {},
   "outputs": [
    {
     "data": {
      "text/plain": [
       "(0.964, 93)"
      ]
     },
     "execution_count": 14,
     "metadata": {},
     "output_type": "execute_result"
    }
   ],
   "source": [
    "adaboost_model=AdaBoostClassifier(n_estimators=100)\n",
    "adaboost_model.fit(X_digits_train_sc,y_digits_train)\n",
    "b_a_c(y_digits_test,adaboost_model.predict(X_digits_test_sc)),sum(adaboost_model.feature_importances_>0)"
   ]
  },
  {
   "cell_type": "code",
   "execution_count": 15,
   "id": "56ca78c2",
   "metadata": {},
   "outputs": [
    {
     "data": {
      "text/plain": [
       "(0.98, 982)"
      ]
     },
     "execution_count": 15,
     "metadata": {},
     "output_type": "execute_result"
    }
   ],
   "source": [
    "lgm_model=lightgbm.LGBMClassifier()\n",
    "lgm_model.fit(X_digits_train_sc,y_digits_train)\n",
    "b_a_c(y_digits_test,lgm_model.predict(X_digits_test_sc)),sum(lgm_model.feature_importances_>0)"
   ]
  }
 ],
 "metadata": {
  "kernelspec": {
   "display_name": "Python 3",
   "language": "python",
   "name": "python3"
  },
  "language_info": {
   "codemirror_mode": {
    "name": "ipython",
    "version": 3
   },
   "file_extension": ".py",
   "mimetype": "text/x-python",
   "name": "python",
   "nbconvert_exporter": "python",
   "pygments_lexer": "ipython3",
   "version": "3.8.8"
  }
 },
 "nbformat": 4,
 "nbformat_minor": 5
}
